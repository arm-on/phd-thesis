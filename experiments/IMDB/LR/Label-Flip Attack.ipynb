{
 "cells": [
  {
   "cell_type": "code",
   "execution_count": 1,
   "metadata": {
    "colab": {
     "base_uri": "https://localhost:8080/"
    },
    "executionInfo": {
     "elapsed": 29463,
     "status": "ok",
     "timestamp": 1667225879138,
     "user": {
      "displayName": "Arman Malekzadeh",
      "userId": "04598358352447415958"
     },
     "user_tz": -210
    },
    "id": "o8SHJpX5WLTk",
    "outputId": "c74d4dee-aa84-44b3-87b3-fc5fd3c3fec8"
   },
   "outputs": [
    {
     "name": "stdout",
     "output_type": "stream",
     "text": [
      "Looking in indexes: https://pypi.org/simple, https://us-python.pkg.dev/colab-wheels/public/simple/\n",
      "Collecting datasets\n",
      "  Downloading datasets-2.6.1-py3-none-any.whl (441 kB)\n",
      "\u001b[K     |████████████████████████████████| 441 kB 8.1 MB/s \n",
      "\u001b[?25hCollecting responses<0.19\n",
      "  Downloading responses-0.18.0-py3-none-any.whl (38 kB)\n",
      "Collecting multiprocess\n",
      "  Downloading multiprocess-0.70.14-py37-none-any.whl (115 kB)\n",
      "\u001b[K     |████████████████████████████████| 115 kB 52.8 MB/s \n",
      "\u001b[?25hRequirement already satisfied: pyyaml>=5.1 in /usr/local/lib/python3.7/dist-packages (from datasets) (6.0)\n",
      "Collecting xxhash\n",
      "  Downloading xxhash-3.1.0-cp37-cp37m-manylinux_2_17_x86_64.manylinux2014_x86_64.whl (212 kB)\n",
      "\u001b[K     |████████████████████████████████| 212 kB 43.6 MB/s \n",
      "\u001b[?25hRequirement already satisfied: packaging in /usr/local/lib/python3.7/dist-packages (from datasets) (21.3)\n",
      "Requirement already satisfied: numpy>=1.17 in /usr/local/lib/python3.7/dist-packages (from datasets) (1.21.6)\n",
      "Requirement already satisfied: dill<0.3.6 in /usr/local/lib/python3.7/dist-packages (from datasets) (0.3.5.1)\n",
      "Collecting huggingface-hub<1.0.0,>=0.2.0\n",
      "  Downloading huggingface_hub-0.10.1-py3-none-any.whl (163 kB)\n",
      "\u001b[K     |████████████████████████████████| 163 kB 54.0 MB/s \n",
      "\u001b[?25hRequirement already satisfied: fsspec[http]>=2021.11.1 in /usr/local/lib/python3.7/dist-packages (from datasets) (2022.10.0)\n",
      "Requirement already satisfied: pyarrow>=6.0.0 in /usr/local/lib/python3.7/dist-packages (from datasets) (6.0.1)\n",
      "Requirement already satisfied: aiohttp in /usr/local/lib/python3.7/dist-packages (from datasets) (3.8.3)\n",
      "Requirement already satisfied: importlib-metadata in /usr/local/lib/python3.7/dist-packages (from datasets) (4.13.0)\n",
      "Requirement already satisfied: tqdm>=4.62.1 in /usr/local/lib/python3.7/dist-packages (from datasets) (4.64.1)\n",
      "Requirement already satisfied: requests>=2.19.0 in /usr/local/lib/python3.7/dist-packages (from datasets) (2.23.0)\n",
      "Requirement already satisfied: pandas in /usr/local/lib/python3.7/dist-packages (from datasets) (1.3.5)\n",
      "Requirement already satisfied: attrs>=17.3.0 in /usr/local/lib/python3.7/dist-packages (from aiohttp->datasets) (22.1.0)\n",
      "Requirement already satisfied: typing-extensions>=3.7.4 in /usr/local/lib/python3.7/dist-packages (from aiohttp->datasets) (4.1.1)\n",
      "Requirement already satisfied: asynctest==0.13.0 in /usr/local/lib/python3.7/dist-packages (from aiohttp->datasets) (0.13.0)\n",
      "Requirement already satisfied: async-timeout<5.0,>=4.0.0a3 in /usr/local/lib/python3.7/dist-packages (from aiohttp->datasets) (4.0.2)\n",
      "Requirement already satisfied: frozenlist>=1.1.1 in /usr/local/lib/python3.7/dist-packages (from aiohttp->datasets) (1.3.1)\n",
      "Requirement already satisfied: multidict<7.0,>=4.5 in /usr/local/lib/python3.7/dist-packages (from aiohttp->datasets) (6.0.2)\n",
      "Requirement already satisfied: yarl<2.0,>=1.0 in /usr/local/lib/python3.7/dist-packages (from aiohttp->datasets) (1.8.1)\n",
      "Requirement already satisfied: aiosignal>=1.1.2 in /usr/local/lib/python3.7/dist-packages (from aiohttp->datasets) (1.2.0)\n",
      "Requirement already satisfied: charset-normalizer<3.0,>=2.0 in /usr/local/lib/python3.7/dist-packages (from aiohttp->datasets) (2.1.1)\n",
      "Requirement already satisfied: filelock in /usr/local/lib/python3.7/dist-packages (from huggingface-hub<1.0.0,>=0.2.0->datasets) (3.8.0)\n",
      "Requirement already satisfied: pyparsing!=3.0.5,>=2.0.2 in /usr/local/lib/python3.7/dist-packages (from packaging->datasets) (3.0.9)\n",
      "Requirement already satisfied: idna<3,>=2.5 in /usr/local/lib/python3.7/dist-packages (from requests>=2.19.0->datasets) (2.10)\n",
      "Requirement already satisfied: urllib3!=1.25.0,!=1.25.1,<1.26,>=1.21.1 in /usr/local/lib/python3.7/dist-packages (from requests>=2.19.0->datasets) (1.24.3)\n",
      "Requirement already satisfied: certifi>=2017.4.17 in /usr/local/lib/python3.7/dist-packages (from requests>=2.19.0->datasets) (2022.9.24)\n",
      "Requirement already satisfied: chardet<4,>=3.0.2 in /usr/local/lib/python3.7/dist-packages (from requests>=2.19.0->datasets) (3.0.4)\n",
      "Collecting urllib3!=1.25.0,!=1.25.1,<1.26,>=1.21.1\n",
      "  Downloading urllib3-1.25.11-py2.py3-none-any.whl (127 kB)\n",
      "\u001b[K     |████████████████████████████████| 127 kB 63.2 MB/s \n",
      "\u001b[?25hRequirement already satisfied: zipp>=0.5 in /usr/local/lib/python3.7/dist-packages (from importlib-metadata->datasets) (3.9.0)\n",
      "Collecting multiprocess\n",
      "  Downloading multiprocess-0.70.13-py37-none-any.whl (115 kB)\n",
      "\u001b[K     |████████████████████████████████| 115 kB 60.2 MB/s \n",
      "\u001b[?25hRequirement already satisfied: python-dateutil>=2.7.3 in /usr/local/lib/python3.7/dist-packages (from pandas->datasets) (2.8.2)\n",
      "Requirement already satisfied: pytz>=2017.3 in /usr/local/lib/python3.7/dist-packages (from pandas->datasets) (2022.5)\n",
      "Requirement already satisfied: six>=1.5 in /usr/local/lib/python3.7/dist-packages (from python-dateutil>=2.7.3->pandas->datasets) (1.15.0)\n",
      "Installing collected packages: urllib3, xxhash, responses, multiprocess, huggingface-hub, datasets\n",
      "  Attempting uninstall: urllib3\n",
      "    Found existing installation: urllib3 1.24.3\n",
      "    Uninstalling urllib3-1.24.3:\n",
      "      Successfully uninstalled urllib3-1.24.3\n",
      "Successfully installed datasets-2.6.1 huggingface-hub-0.10.1 multiprocess-0.70.13 responses-0.18.0 urllib3-1.25.11 xxhash-3.1.0\n",
      "Looking in indexes: https://pypi.org/simple, https://us-python.pkg.dev/colab-wheels/public/simple/\n",
      "Collecting torchmetrics\n",
      "  Downloading torchmetrics-0.10.1-py3-none-any.whl (529 kB)\n",
      "\u001b[K     |████████████████████████████████| 529 kB 8.0 MB/s \n",
      "\u001b[?25hRequirement already satisfied: packaging in /usr/local/lib/python3.7/dist-packages (from torchmetrics) (21.3)\n",
      "Requirement already satisfied: numpy>=1.17.2 in /usr/local/lib/python3.7/dist-packages (from torchmetrics) (1.21.6)\n",
      "Requirement already satisfied: typing-extensions in /usr/local/lib/python3.7/dist-packages (from torchmetrics) (4.1.1)\n",
      "Requirement already satisfied: torch>=1.3.1 in /usr/local/lib/python3.7/dist-packages (from torchmetrics) (1.12.1+cu113)\n",
      "Requirement already satisfied: pyparsing!=3.0.5,>=2.0.2 in /usr/local/lib/python3.7/dist-packages (from packaging->torchmetrics) (3.0.9)\n",
      "Installing collected packages: torchmetrics\n",
      "Successfully installed torchmetrics-0.10.1\n",
      "Looking in indexes: https://pypi.org/simple, https://us-python.pkg.dev/colab-wheels/public/simple/\n",
      "Requirement already satisfied: pytz in /usr/local/lib/python3.7/dist-packages (2022.5)\n",
      "Looking in indexes: https://pypi.org/simple, https://us-python.pkg.dev/colab-wheels/public/simple/\n",
      "Collecting persiantools\n",
      "  Downloading persiantools-3.0.1-py3-none-any.whl (15 kB)\n",
      "Installing collected packages: persiantools\n",
      "Successfully installed persiantools-3.0.1\n",
      "Looking in indexes: https://pypi.org/simple, https://us-python.pkg.dev/colab-wheels/public/simple/\n",
      "Collecting adversarial-robustness-toolbox\n",
      "  Downloading adversarial_robustness_toolbox-1.12.1-py3-none-any.whl (1.4 MB)\n",
      "\u001b[K     |████████████████████████████████| 1.4 MB 8.1 MB/s \n",
      "\u001b[?25hRequirement already satisfied: numba>=0.53.1 in /usr/local/lib/python3.7/dist-packages (from adversarial-robustness-toolbox) (0.56.3)\n",
      "Requirement already satisfied: scikit-learn<1.1.0,>=0.22.2 in /usr/local/lib/python3.7/dist-packages (from adversarial-robustness-toolbox) (1.0.2)\n",
      "Requirement already satisfied: six in /usr/local/lib/python3.7/dist-packages (from adversarial-robustness-toolbox) (1.15.0)\n",
      "Requirement already satisfied: setuptools in /usr/local/lib/python3.7/dist-packages (from adversarial-robustness-toolbox) (57.4.0)\n",
      "Requirement already satisfied: numpy>=1.18.0 in /usr/local/lib/python3.7/dist-packages (from adversarial-robustness-toolbox) (1.21.6)\n",
      "Requirement already satisfied: tqdm in /usr/local/lib/python3.7/dist-packages (from adversarial-robustness-toolbox) (4.64.1)\n",
      "Requirement already satisfied: scipy>=1.4.1 in /usr/local/lib/python3.7/dist-packages (from adversarial-robustness-toolbox) (1.7.3)\n",
      "Requirement already satisfied: importlib-metadata in /usr/local/lib/python3.7/dist-packages (from numba>=0.53.1->adversarial-robustness-toolbox) (4.13.0)\n",
      "Requirement already satisfied: llvmlite<0.40,>=0.39.0dev0 in /usr/local/lib/python3.7/dist-packages (from numba>=0.53.1->adversarial-robustness-toolbox) (0.39.1)\n",
      "Requirement already satisfied: threadpoolctl>=2.0.0 in /usr/local/lib/python3.7/dist-packages (from scikit-learn<1.1.0,>=0.22.2->adversarial-robustness-toolbox) (3.1.0)\n",
      "Requirement already satisfied: joblib>=0.11 in /usr/local/lib/python3.7/dist-packages (from scikit-learn<1.1.0,>=0.22.2->adversarial-robustness-toolbox) (1.2.0)\n",
      "Requirement already satisfied: zipp>=0.5 in /usr/local/lib/python3.7/dist-packages (from importlib-metadata->numba>=0.53.1->adversarial-robustness-toolbox) (3.9.0)\n",
      "Requirement already satisfied: typing-extensions>=3.6.4 in /usr/local/lib/python3.7/dist-packages (from importlib-metadata->numba>=0.53.1->adversarial-robustness-toolbox) (4.1.1)\n",
      "Installing collected packages: adversarial-robustness-toolbox\n",
      "Successfully installed adversarial-robustness-toolbox-1.12.1\n"
     ]
    }
   ],
   "source": [
    "# !pip install datasets\n",
    "# !pip install torchmetrics\n",
    "# !pip install pytz\n",
    "# !pip install persiantools\n",
    "# !pip install adversarial-robustness-toolbox"
   ]
  },
  {
   "cell_type": "markdown",
   "metadata": {
    "id": "s4pFNCaeo4T1"
   },
   "source": [
    "# Mount Google Drive"
   ]
  },
  {
   "cell_type": "code",
   "execution_count": 2,
   "metadata": {
    "colab": {
     "base_uri": "https://localhost:8080/"
    },
    "executionInfo": {
     "elapsed": 84893,
     "status": "ok",
     "timestamp": 1667225964027,
     "user": {
      "displayName": "Arman Malekzadeh",
      "userId": "04598358352447415958"
     },
     "user_tz": -210
    },
    "id": "8D8BYQHpoWqf",
    "outputId": "794a52c2-d004-44b7-81bb-7e6973cbe2f0"
   },
   "outputs": [
    {
     "name": "stdout",
     "output_type": "stream",
     "text": [
      "Mounted at /content/drive\n"
     ]
    }
   ],
   "source": [
    "# from google.colab import drive\n",
    "# drive.mount('/content/drive')"
   ]
  },
  {
   "cell_type": "code",
   "execution_count": 3,
   "metadata": {
    "colab": {
     "base_uri": "https://localhost:8080/"
    },
    "executionInfo": {
     "elapsed": 13,
     "status": "ok",
     "timestamp": 1667225964027,
     "user": {
      "displayName": "Arman Malekzadeh",
      "userId": "04598358352447415958"
     },
     "user_tz": -210
    },
    "id": "8Q0i0uh2ouQN",
    "outputId": "5310e2ff-f661-469a-b5df-86aa58c0d279"
   },
   "outputs": [
    {
     "name": "stdout",
     "output_type": "stream",
     "text": [
      "/content/drive/MyDrive\n"
     ]
    }
   ],
   "source": [
    "# %cd /content/drive/MyDrive"
   ]
  },
  {
   "cell_type": "markdown",
   "metadata": {
    "id": "6AnpOkamrk6V"
   },
   "source": [
    "# Configuration"
   ]
  },
  {
   "cell_type": "code",
   "execution_count": 4,
   "metadata": {
    "executionInfo": {
     "elapsed": 11,
     "status": "ok",
     "timestamp": 1667225964027,
     "user": {
      "displayName": "Arman Malekzadeh",
      "userId": "04598358352447415958"
     },
     "user_tz": -210
    },
    "id": "H0G5mWy4A4g0"
   },
   "outputs": [],
   "source": [
    "config = {}\n",
    "config['root_path'] = '/home/user01/'\n",
    "config['series_ID'] = 103\n",
    "config['series_desc'] = '''\n",
    "targeted backdoor attack labels changed - LR influence attack manually implemented (without the help of jax)\n",
    "'''\n",
    "config['log_path'] = config['root_path']+'experiments/IMDB/LR/'\n",
    "config['log'] = {}"
   ]
  },
  {
   "cell_type": "code",
   "execution_count": 5,
   "metadata": {
    "executionInfo": {
     "elapsed": 11,
     "status": "ok",
     "timestamp": 1667225964028,
     "user": {
      "displayName": "Arman Malekzadeh",
      "userId": "04598358352447415958"
     },
     "user_tz": -210
    },
    "id": "BAOW8s9cZXbj"
   },
   "outputs": [],
   "source": [
    "config['poisoning_rate'] = 0.0\n",
    "# config['num_clean_examples'] = 200\n",
    "config['learning_rate'] = 0.01\n",
    "config['batch_size'] = 32\n",
    "config['num_epochs'] = 5"
   ]
  },
  {
   "cell_type": "code",
   "execution_count": 6,
   "metadata": {
    "executionInfo": {
     "elapsed": 11,
     "status": "ok",
     "timestamp": 1667225964028,
     "user": {
      "displayName": "Arman Malekzadeh",
      "userId": "04598358352447415958"
     },
     "user_tz": -210
    },
    "id": "OK99HTxqdza0"
   },
   "outputs": [],
   "source": [
    "config['log']['model'] = 'LR'\n",
    "config['log']['dataset'] = 'IMDB'\n",
    "config['log']['task'] = 'binary classification'\n",
    "config['log']['pytorch_seed'] = 50\n",
    "config['log']['numpy_seed'] = 50\n",
    "config['log']['feature_extraction'] = 'wordcount'\n",
    "config['log']['attack'] = 'label-flip'\n",
    "config['log']['method'] = 'modify'"
   ]
  },
  {
   "cell_type": "code",
   "execution_count": 7,
   "metadata": {
    "executionInfo": {
     "elapsed": 11,
     "status": "ok",
     "timestamp": 1667225964028,
     "user": {
      "displayName": "Arman Malekzadeh",
      "userId": "04598358352447415958"
     },
     "user_tz": -210
    },
    "id": "4hPJMQRvSv6s"
   },
   "outputs": [],
   "source": [
    "config['log_path'] += (str(config['series_ID']) + '-' + config['log']['attack'] + '-' + config['log']['dataset'] + '-' + str(int(config['poisoning_rate']*100)) + '-' + config['log']['method'] + '-' + config['log']['feature_extraction'] + '.json').lower().replace(' ', '')"
   ]
  },
  {
   "cell_type": "code",
   "execution_count": 8,
   "metadata": {
    "colab": {
     "base_uri": "https://localhost:8080/",
     "height": 35
    },
    "executionInfo": {
     "elapsed": 11,
     "status": "ok",
     "timestamp": 1667225964028,
     "user": {
      "displayName": "Arman Malekzadeh",
      "userId": "04598358352447415958"
     },
     "user_tz": -210
    },
    "id": "m1kB8zdES1ag",
    "outputId": "8d8b0ff0-90cf-4204-8887-8922f33213a5"
   },
   "outputs": [
    {
     "data": {
      "application/vnd.google.colaboratory.intrinsic+json": {
       "type": "string"
      },
      "text/plain": [
       "'/content/drive/MyDrive/experiments/IMDB/LR/103-label-flip-imdb-0-modify-wordcount.json'"
      ]
     },
     "execution_count": 8,
     "metadata": {},
     "output_type": "execute_result"
    }
   ],
   "source": [
    "config['log_path']"
   ]
  },
  {
   "cell_type": "code",
   "execution_count": 9,
   "metadata": {
    "executionInfo": {
     "elapsed": 10,
     "status": "ok",
     "timestamp": 1667225964028,
     "user": {
      "displayName": "Arman Malekzadeh",
      "userId": "04598358352447415958"
     },
     "user_tz": -210
    },
    "id": "LnFCylB4lSh0"
   },
   "outputs": [],
   "source": [
    "### WE NEED THIS TO IMPORT THE NECESSARY LIBRARIES ###\n",
    "import sys\n",
    "sys.path.append(config['root_path'])"
   ]
  },
  {
   "cell_type": "code",
   "execution_count": 10,
   "metadata": {
    "executionInfo": {
     "elapsed": 17374,
     "status": "ok",
     "timestamp": 1667225981392,
     "user": {
      "displayName": "Arman Malekzadeh",
      "userId": "04598358352447415958"
     },
     "user_tz": -210
    },
    "id": "YnyIFAVYTdr9"
   },
   "outputs": [],
   "source": [
    "import datascience, poisoning, report\n",
    "from datascience.data import CIFAR10, MNIST, IMDB, BOSTON\n",
    "from datascience.general import train_dev_test_split, join_np_arrays, describe_dataset\n",
    "from poisoning.process import attacker, defender, label_flip_attacker\n",
    "from poisoning.eval import attack_success_rate, benign_accuracy, test_accuracy\n",
    "from report.log import JSONLogger, TextLogger, tehran_datetime\n",
    "from temporary.functions import _reload\n",
    "import numpy as np\n",
    "import torch\n",
    "from torchmetrics import HingeLoss\n",
    "from torch.utils.data import Dataset\n",
    "from torch.utils.data import DataLoader\n",
    "from torch.autograd.functional import hessian, jacobian\n",
    "from torch.autograd import grad\n",
    "from torch.nn.utils import _stateless\n",
    "from datetime import datetime\n",
    "import pytz\n",
    "from persiantools.jdatetime import JalaliDate"
   ]
  },
  {
   "cell_type": "code",
   "execution_count": null,
   "metadata": {},
   "outputs": [],
   "source": [
    "device = 'cuda' if torch.cuda.is_available() else 'cpu'\n",
    "device"
   ]
  },
  {
   "cell_type": "code",
   "execution_count": 11,
   "metadata": {
    "executionInfo": {
     "elapsed": 19,
     "status": "ok",
     "timestamp": 1667225981393,
     "user": {
      "displayName": "Arman Malekzadeh",
      "userId": "04598358352447415958"
     },
     "user_tz": -210
    },
    "id": "_P8MfaXKWWBX"
   },
   "outputs": [],
   "source": [
    "# _reload(poisoning.process)\n",
    "# _reload(poisoning.eval)\n",
    "# _reload(datascience.data)\n",
    "# _reload(datascience.general)\n",
    "# _reload(report.log)"
   ]
  },
  {
   "cell_type": "code",
   "execution_count": 12,
   "metadata": {
    "colab": {
     "base_uri": "https://localhost:8080/"
    },
    "executionInfo": {
     "elapsed": 18,
     "status": "ok",
     "timestamp": 1667225981393,
     "user": {
      "displayName": "Arman Malekzadeh",
      "userId": "04598358352447415958"
     },
     "user_tz": -210
    },
    "id": "pIDVaGyYi7dU",
    "outputId": "50ab3daf-bee8-4266-9a3a-dff9a7285dc7"
   },
   "outputs": [
    {
     "data": {
      "text/plain": [
       "<torch._C.Generator at 0x7f368d71d0b0>"
      ]
     },
     "execution_count": 12,
     "metadata": {},
     "output_type": "execute_result"
    }
   ],
   "source": [
    "torch.manual_seed(config['log']['pytorch_seed'])"
   ]
  },
  {
   "cell_type": "markdown",
   "metadata": {
    "id": "1Xd4fx8XpN3Z"
   },
   "source": [
    "# Loading a Dataset"
   ]
  },
  {
   "cell_type": "code",
   "execution_count": 41,
   "metadata": {
    "executionInfo": {
     "elapsed": 1118,
     "status": "ok",
     "timestamp": 1667226075115,
     "user": {
      "displayName": "Arman Malekzadeh",
      "userId": "04598358352447415958"
     },
     "user_tz": -210
    },
    "id": "tH11gD3oD9T9"
   },
   "outputs": [],
   "source": [
    "dataset = MNIST()\n",
    "dataset.select_labels([0,1], phase='train')\n",
    "dataset.select_labels([0,1], phase='test')\n",
    "dataset.flatten()"
   ]
  },
  {
   "cell_type": "code",
   "execution_count": 14,
   "metadata": {
    "executionInfo": {
     "elapsed": 4,
     "status": "ok",
     "timestamp": 1667225982013,
     "user": {
      "displayName": "Arman Malekzadeh",
      "userId": "04598358352447415958"
     },
     "user_tz": -210
    },
    "id": "TpmO2y9slv7f"
   },
   "outputs": [],
   "source": [
    "# dataset.change_labels({0:-1})"
   ]
  },
  {
   "cell_type": "markdown",
   "metadata": {
    "id": "Jw03ns8FLHf-"
   },
   "source": [
    "# Attack"
   ]
  },
  {
   "cell_type": "code",
   "execution_count": 15,
   "metadata": {
    "executionInfo": {
     "elapsed": 3,
     "status": "ok",
     "timestamp": 1667225982013,
     "user": {
      "displayName": "Arman Malekzadeh",
      "userId": "04598358352447415958"
     },
     "user_tz": -210
    },
    "id": "-emHqmgILJND"
   },
   "outputs": [],
   "source": [
    "att = label_flip_attacker(dataset.x_train, dataset.y_train, {0:1, 1:0}, config['poisoning_rate'], config['log']['method'], config['log']['numpy_seed'])"
   ]
  },
  {
   "cell_type": "code",
   "execution_count": 16,
   "metadata": {
    "executionInfo": {
     "elapsed": 3,
     "status": "ok",
     "timestamp": 1667225982013,
     "user": {
      "displayName": "Arman Malekzadeh",
      "userId": "04598358352447415958"
     },
     "user_tz": -210
    },
    "id": "ZhvjuGCyOl61"
   },
   "outputs": [],
   "source": [
    "att.attack()"
   ]
  },
  {
   "cell_type": "code",
   "execution_count": 17,
   "metadata": {
    "executionInfo": {
     "elapsed": 3,
     "status": "ok",
     "timestamp": 1667225982013,
     "user": {
      "displayName": "Arman Malekzadeh",
      "userId": "04598358352447415958"
     },
     "user_tz": -210
    },
    "id": "CUJlYStUHBzq"
   },
   "outputs": [],
   "source": [
    "# result['x_train'].shape"
   ]
  },
  {
   "cell_type": "code",
   "execution_count": 18,
   "metadata": {
    "executionInfo": {
     "elapsed": 3,
     "status": "ok",
     "timestamp": 1667225982013,
     "user": {
      "displayName": "Arman Malekzadeh",
      "userId": "04598358352447415958"
     },
     "user_tz": -210
    },
    "id": "u1vBVjO7HE_k"
   },
   "outputs": [],
   "source": [
    "# from matplotlib import pyplot as plt\n",
    "# plt.imshow(result['x_train'][0].reshape((28,28)))"
   ]
  },
  {
   "cell_type": "code",
   "execution_count": 19,
   "metadata": {
    "executionInfo": {
     "elapsed": 3,
     "status": "ok",
     "timestamp": 1667225982013,
     "user": {
      "displayName": "Arman Malekzadeh",
      "userId": "04598358352447415958"
     },
     "user_tz": -210
    },
    "id": "tEfULZ6AHJqg"
   },
   "outputs": [],
   "source": [
    "# result['y_train'][0]"
   ]
  },
  {
   "cell_type": "code",
   "execution_count": 20,
   "metadata": {
    "executionInfo": {
     "elapsed": 3,
     "status": "ok",
     "timestamp": 1667225982013,
     "user": {
      "displayName": "Arman Malekzadeh",
      "userId": "04598358352447415958"
     },
     "user_tz": -210
    },
    "id": "z02Glp9MCmQM"
   },
   "outputs": [],
   "source": [
    "result = att.return_aggregated_result()"
   ]
  },
  {
   "cell_type": "code",
   "execution_count": 21,
   "metadata": {
    "executionInfo": {
     "elapsed": 487,
     "status": "ok",
     "timestamp": 1667225982497,
     "user": {
      "displayName": "Arman Malekzadeh",
      "userId": "04598358352447415958"
     },
     "user_tz": -210
    },
    "id": "erII30KGS5Jd"
   },
   "outputs": [],
   "source": [
    "config['data-train'] = describe_dataset(result['x_train'], result['y_train'], 'training dataset')"
   ]
  },
  {
   "cell_type": "code",
   "execution_count": 22,
   "metadata": {
    "executionInfo": {
     "elapsed": 4,
     "status": "ok",
     "timestamp": 1667225982497,
     "user": {
      "displayName": "Arman Malekzadeh",
      "userId": "04598358352447415958"
     },
     "user_tz": -210
    },
    "id": "ikGmGA85VN-r"
   },
   "outputs": [],
   "source": [
    "config['data-test'] = describe_dataset(dataset.x_test, dataset.y_test, 'testing dataset')"
   ]
  },
  {
   "cell_type": "markdown",
   "metadata": {
    "id": "QdBVWI7eXmm-"
   },
   "source": [
    "# Prepare the Data"
   ]
  },
  {
   "cell_type": "code",
   "execution_count": 23,
   "metadata": {
    "executionInfo": {
     "elapsed": 4,
     "status": "ok",
     "timestamp": 1667225982498,
     "user": {
      "displayName": "Arman Malekzadeh",
      "userId": "04598358352447415958"
     },
     "user_tz": -210
    },
    "id": "Bzau-0FrWZOS"
   },
   "outputs": [],
   "source": [
    "class MyVectorDataset(Dataset):\n",
    "    def __init__(self, features, labels):\n",
    "        self.features = features\n",
    "        self.labels = np.array(labels).reshape(-1, 1)\n",
    "    def __len__(self):\n",
    "        return self.features.shape[0]\n",
    "    def __getitem__(self, idx):\n",
    "        return torch.Tensor(self.features[idx]).to(device), torch.Tensor(self.labels[idx]).to(device)"
   ]
  },
  {
   "cell_type": "code",
   "execution_count": 42,
   "metadata": {
    "executionInfo": {
     "elapsed": 379,
     "status": "ok",
     "timestamp": 1667226079523,
     "user": {
      "displayName": "Arman Malekzadeh",
      "userId": "04598358352447415958"
     },
     "user_tz": -210
    },
    "id": "pYDMRGv2XvCz"
   },
   "outputs": [],
   "source": [
    "# train_dataset = MyVectorDataset(result['x_train'], result['y_train'])\n",
    "train_dataset = MyVectorDataset(dataset.x_train, dataset.y_train)\n",
    "test_dataset = MyVectorDataset(dataset.x_test, dataset.y_test)\n",
    "# clean_dataset = MyVectorDataset(dataset.x_train_clean, dataset.y_train_clean)"
   ]
  },
  {
   "cell_type": "code",
   "execution_count": 43,
   "metadata": {
    "executionInfo": {
     "elapsed": 1,
     "status": "ok",
     "timestamp": 1667226080038,
     "user": {
      "displayName": "Arman Malekzadeh",
      "userId": "04598358352447415958"
     },
     "user_tz": -210
    },
    "id": "wGJs6c6uXzlr"
   },
   "outputs": [],
   "source": [
    "train_dataloader = DataLoader(train_dataset, batch_size=config['batch_size'], shuffle=True)\n",
    "test_dataloader = DataLoader(test_dataset, batch_size=config['batch_size'], shuffle=True)\n",
    "# clean_dataloader = DataLoader(clean_dataset, batch_size=config['batch_size'], shuffle=True)"
   ]
  },
  {
   "cell_type": "markdown",
   "metadata": {
    "id": "hrYWXRXRYtE3"
   },
   "source": [
    "# Train a Model"
   ]
  },
  {
   "cell_type": "code",
   "execution_count": 26,
   "metadata": {
    "executionInfo": {
     "elapsed": 4,
     "status": "ok",
     "timestamp": 1667225982498,
     "user": {
      "displayName": "Arman Malekzadeh",
      "userId": "04598358352447415958"
     },
     "user_tz": -210
    },
    "id": "fnEaduMNYt2n"
   },
   "outputs": [],
   "source": [
    "class LogisticRegression(torch.nn.Module):\n",
    "    def __init__(self, input_dim, output_dim):\n",
    "        super(LogisticRegression, self).__init__()\n",
    "        self.linear = torch.nn.Linear(input_dim, output_dim)\n",
    "    def forward(self, x):\n",
    "        outputs = torch.sigmoid(self.linear(x))\n",
    "        return outputs"
   ]
  },
  {
   "cell_type": "code",
   "execution_count": 27,
   "metadata": {
    "executionInfo": {
     "elapsed": 5,
     "status": "ok",
     "timestamp": 1667225982499,
     "user": {
      "displayName": "Arman Malekzadeh",
      "userId": "04598358352447415958"
     },
     "user_tz": -210
    },
    "id": "fTt67qS9Y2bk"
   },
   "outputs": [],
   "source": [
    "def output_to_label(out):\n",
    "    if out >= 0.5:\n",
    "      return 1\n",
    "    else:\n",
    "      return 0"
   ]
  },
  {
   "cell_type": "code",
   "execution_count": 28,
   "metadata": {
    "executionInfo": {
     "elapsed": 5,
     "status": "ok",
     "timestamp": 1667225982499,
     "user": {
      "displayName": "Arman Malekzadeh",
      "userId": "04598358352447415958"
     },
     "user_tz": -210
    },
    "id": "c-FbswPlt1t-"
   },
   "outputs": [],
   "source": [
    "def make_prediction(model, x_arr):\n",
    "  outs = list(model(torch.Tensor(x_arr)).squeeze().detach().numpy())\n",
    "  labels = [output_to_label(out) for out in outs]\n",
    "  return np.array(labels)"
   ]
  },
  {
   "cell_type": "code",
   "execution_count": 44,
   "metadata": {
    "executionInfo": {
     "elapsed": 1,
     "status": "ok",
     "timestamp": 1667226082363,
     "user": {
      "displayName": "Arman Malekzadeh",
      "userId": "04598358352447415958"
     },
     "user_tz": -210
    },
    "id": "HAgyHS15Yvq_"
   },
   "outputs": [],
   "source": [
    "model = LogisticRegression(784,1)\n",
    "model = model.to(device)\n",
    "loss_fn = torch.nn.BCELoss()\n",
    "optimizer = torch.optim.SGD(model.parameters(), lr=config['learning_rate'], weight_decay=1e-5)"
   ]
  },
  {
   "cell_type": "code",
   "execution_count": 30,
   "metadata": {
    "executionInfo": {
     "elapsed": 4,
     "status": "ok",
     "timestamp": 1667225982499,
     "user": {
      "displayName": "Arman Malekzadeh",
      "userId": "04598358352447415958"
     },
     "user_tz": -210
    },
    "id": "5J2hkNnYGoSm"
   },
   "outputs": [],
   "source": [
    "# make_prediction(model, dataset.x_train[:3])"
   ]
  },
  {
   "cell_type": "code",
   "execution_count": 31,
   "metadata": {
    "executionInfo": {
     "elapsed": 4,
     "status": "ok",
     "timestamp": 1667225982499,
     "user": {
      "displayName": "Arman Malekzadeh",
      "userId": "04598358352447415958"
     },
     "user_tz": -210
    },
    "id": "Rqqo59u4ZgDN"
   },
   "outputs": [],
   "source": [
    "def train_loop(dataloader, model, loss_fn, optimizer, epoch_num):\n",
    "    num_points = len(dataloader.dataset)\n",
    "    for batch, (features, labels) in enumerate(dataloader):        \n",
    "        # Compute prediction and loss\n",
    "        pred = model(features)\n",
    "        loss = loss_fn(pred, labels)\n",
    "        \n",
    "        # Backpropagation\n",
    "        optimizer.zero_grad() # sets gradients of all model parameters to zero\n",
    "        loss.backward() # calculate the gradients again\n",
    "        optimizer.step() # w = w - learning_rate * grad(loss)_with_respect_to_w\n",
    "\n",
    "        if batch % 100 == 0:\n",
    "            loss, current = loss.item(), batch * len(features)\n",
    "            print(f\"\\r Epoch {epoch_num} - loss: {loss:>7f}  [{current:>5d}/{num_points:>5d}]\", end=\" \")"
   ]
  },
  {
   "cell_type": "code",
   "execution_count": 32,
   "metadata": {
    "executionInfo": {
     "elapsed": 4,
     "status": "ok",
     "timestamp": 1667225982499,
     "user": {
      "displayName": "Arman Malekzadeh",
      "userId": "04598358352447415958"
     },
     "user_tz": -210
    },
    "id": "CHBqO-s_ZiKL"
   },
   "outputs": [],
   "source": [
    "def test_loop(dataloader, model, loss_fn, epoch_num, name):\n",
    "    num_points = len(dataloader.dataset)\n",
    "    sum_test_loss, correct = 0, 0\n",
    "\n",
    "    with torch.no_grad():\n",
    "        for batch, (features, labels) in enumerate(dataloader):\n",
    "            pred = model(features)\n",
    "            sum_test_loss += loss_fn(pred, labels).item() # add the current loss to the sum of the losses\n",
    "            # convert the outputs of the model on the current batch to a numpy array\n",
    "            pred_lst = list(pred.cpu().numpy().squeeze())\n",
    "            pred_lst = [output_to_label(item) for item in pred_lst]\n",
    "            # convert the original labels corresponding to the current batch to a numpy array\n",
    "            output_lst = list(labels.cpu().numpy().squeeze()) \n",
    "            # determine the points for which the model is correctly predicting the label (add a 1 for each)\n",
    "            match_lst = [1 if p==o else 0 for (p, o) in zip(pred_lst, output_lst)] \n",
    "            # count how many points are labeled correctly in this batch and add the number to the overall count of the correct labeled points\n",
    "            correct += sum(match_lst) \n",
    "            \n",
    "    sum_test_loss /= num_points\n",
    "    correct /= num_points\n",
    "    config['log']['accuracy_'+name] = (100*correct)\n",
    "    config['log']['loss_'+name] = sum_test_loss\n",
    "    print(f\"\\r Epoch {epoch_num} - {name} Error: Accuracy: {(100*correct):>0.1f}%, Avg loss: {sum_test_loss:>8f}\", end=\" \")"
   ]
  },
  {
   "cell_type": "code",
   "execution_count": 46,
   "metadata": {
    "colab": {
     "base_uri": "https://localhost:8080/"
    },
    "executionInfo": {
     "elapsed": 2465,
     "status": "ok",
     "timestamp": 1667226094576,
     "user": {
      "displayName": "Arman Malekzadeh",
      "userId": "04598358352447415958"
     },
     "user_tz": -210
    },
    "id": "RmFavtrVZlCz",
    "outputId": "904975a5-3c1d-454c-8c25-6b56dd0dca56"
   },
   "outputs": [
    {
     "name": "stdout",
     "output_type": "stream",
     "text": [
      " Epoch 5 - loss: 53.125000  [ 9600/12665] "
     ]
    }
   ],
   "source": [
    "for epoch_num in range(1, config['num_epochs']+1):\n",
    "    train_loop(train_dataloader, model, loss_fn, optimizer, epoch_num)"
   ]
  },
  {
   "cell_type": "code",
   "execution_count": 34,
   "metadata": {
    "colab": {
     "base_uri": "https://localhost:8080/"
    },
    "executionInfo": {
     "elapsed": 12,
     "status": "ok",
     "timestamp": 1667225985587,
     "user": {
      "displayName": "Arman Malekzadeh",
      "userId": "04598358352447415958"
     },
     "user_tz": -210
    },
    "id": "mJAb_4ey5WXp",
    "outputId": "3bf1b858-0d93-40f4-9943-5a1856b78156"
   },
   "outputs": [
    {
     "name": "stdout",
     "output_type": "stream",
     "text": [
      "\r",
      " Epoch 5 - Train Error: Accuracy: 53.2%, Avg loss: 1.462219 "
     ]
    }
   ],
   "source": [
    "test_loop(train_dataloader, model, loss_fn, config['num_epochs'], 'Train')"
   ]
  },
  {
   "cell_type": "code",
   "execution_count": 35,
   "metadata": {
    "colab": {
     "base_uri": "https://localhost:8080/"
    },
    "executionInfo": {
     "elapsed": 10,
     "status": "ok",
     "timestamp": 1667225985587,
     "user": {
      "displayName": "Arman Malekzadeh",
      "userId": "04598358352447415958"
     },
     "user_tz": -210
    },
    "id": "YzY6AKTBZsHZ",
    "outputId": "b67e80cb-9847-46a3-9a15-74776a90e62f"
   },
   "outputs": [
    {
     "name": "stdout",
     "output_type": "stream",
     "text": [
      "\r",
      " Epoch 5 - Test Error: Accuracy: 53.7%, Avg loss: 1.476556 "
     ]
    }
   ],
   "source": [
    "test_loop(test_dataloader, model, loss_fn, config['num_epochs'], 'Test')"
   ]
  },
  {
   "cell_type": "code",
   "execution_count": 36,
   "metadata": {
    "executionInfo": {
     "elapsed": 662,
     "status": "ok",
     "timestamp": 1667225986240,
     "user": {
      "displayName": "Arman Malekzadeh",
      "userId": "04598358352447415958"
     },
     "user_tz": -210
    },
    "id": "NGA6ckD1DA0M"
   },
   "outputs": [],
   "source": [
    "y_train_pred = make_prediction(model, result['x_train'])\n",
    "y_test_pred = make_prediction(model, dataset.x_test)"
   ]
  },
  {
   "cell_type": "code",
   "execution_count": 37,
   "metadata": {
    "executionInfo": {
     "elapsed": 6,
     "status": "ok",
     "timestamp": 1667225986240,
     "user": {
      "displayName": "Arman Malekzadeh",
      "userId": "04598358352447415958"
     },
     "user_tz": -210
    },
    "id": "eqs46QSEDECr"
   },
   "outputs": [],
   "source": [
    "config['log']['benign_accuracy'] = benign_accuracy(result['y_train'], y_train_pred, result['is_poison'])\n",
    "config['log']['attack_success_rate'] = attack_success_rate(result['y_train'], y_train_pred, result['is_poison'])"
   ]
  },
  {
   "cell_type": "code",
   "execution_count": 38,
   "metadata": {
    "executionInfo": {
     "elapsed": 5,
     "status": "ok",
     "timestamp": 1667225986240,
     "user": {
      "displayName": "Arman Malekzadeh",
      "userId": "04598358352447415958"
     },
     "user_tz": -210
    },
    "id": "AYghCJpZK1HZ"
   },
   "outputs": [],
   "source": [
    "config['datetime'] = tehran_datetime()"
   ]
  },
  {
   "cell_type": "code",
   "execution_count": 39,
   "metadata": {
    "colab": {
     "base_uri": "https://localhost:8080/"
    },
    "executionInfo": {
     "elapsed": 5,
     "status": "ok",
     "timestamp": 1667225986240,
     "user": {
      "displayName": "Arman Malekzadeh",
      "userId": "04598358352447415958"
     },
     "user_tz": -210
    },
    "id": "HKd5CFupCcW7",
    "outputId": "0af74bc8-5798-4a81-9420-28f1e6efb41f"
   },
   "outputs": [
    {
     "data": {
      "text/plain": [
       "{'series_ID': 103,\n",
       " 'series_desc': '\\ntargeted backdoor attack labels changed - LR influence attack manually implemented (without the help of jax)\\n',\n",
       " 'log_path': '/content/drive/MyDrive/experiments/IMDB/LR/103-label-flip-imdb-0-modify-wordcount.json',\n",
       " 'log': {'model': 'LR',\n",
       "  'dataset': 'IMDB',\n",
       "  'task': 'binary classification',\n",
       "  'pytorch_seed': 50,\n",
       "  'numpy_seed': 50,\n",
       "  'feature_extraction': 'wordcount',\n",
       "  'attack': 'label-flip',\n",
       "  'method': 'modify',\n",
       "  'accuracy_Train': 53.233320173707064,\n",
       "  'loss_Train': 1.462218712988551,\n",
       "  'accuracy_Test': 53.664302600472816,\n",
       "  'loss_Test': 1.476556342375194,\n",
       "  'benign_accuracy': 0.5323332017370707,\n",
       "  'attack_success_rate': 0.0},\n",
       " 'poisoning_rate': 0.0,\n",
       " 'learning_rate': 0.01,\n",
       " 'batch_size': 32,\n",
       " 'num_epochs': 5,\n",
       " 'data-train': {'name': 'training dataset',\n",
       "  'num_samples': 12665,\n",
       "  'num_features': (784,),\n",
       "  'class_count': {0: 5923, 1: 6742}},\n",
       " 'data-test': {'name': 'testing dataset',\n",
       "  'num_samples': 2115,\n",
       "  'num_features': (784,),\n",
       "  'class_count': {0: 980, 1: 1135}},\n",
       " 'datetime': '1401-08-09 17:49'}"
      ]
     },
     "execution_count": 39,
     "metadata": {},
     "output_type": "execute_result"
    }
   ],
   "source": [
    "config"
   ]
  },
  {
   "cell_type": "code",
   "execution_count": 40,
   "metadata": {
    "colab": {
     "base_uri": "https://localhost:8080/"
    },
    "executionInfo": {
     "elapsed": 75641,
     "status": "ok",
     "timestamp": 1667226061876,
     "user": {
      "displayName": "Arman Malekzadeh",
      "userId": "04598358352447415958"
     },
     "user_tz": -210
    },
    "id": "zAIGh8n7__Ge",
    "outputId": "2ac2edbd-919a-4c48-f75b-c39387f0eb8c"
   },
   "outputs": [
    {
     "name": "stdout",
     "output_type": "stream",
     "text": [
      "The log file already exists! Do you want to rewrite it?(y/n)n\n"
     ]
    }
   ],
   "source": [
    "logger = JSONLogger(config['log_path'], config)\n",
    "logger.log()"
   ]
  }
 ],
 "metadata": {
  "colab": {
   "authorship_tag": "ABX9TyPSluxf/MmvfH8AbOImdFnI",
   "collapsed_sections": [],
   "provenance": []
  },
  "kernelspec": {
   "display_name": "Python 3 (ipykernel)",
   "language": "python",
   "name": "python3"
  },
  "language_info": {
   "codemirror_mode": {
    "name": "ipython",
    "version": 3
   },
   "file_extension": ".py",
   "mimetype": "text/x-python",
   "name": "python",
   "nbconvert_exporter": "python",
   "pygments_lexer": "ipython3",
   "version": "3.9.13"
  }
 },
 "nbformat": 4,
 "nbformat_minor": 1
}
