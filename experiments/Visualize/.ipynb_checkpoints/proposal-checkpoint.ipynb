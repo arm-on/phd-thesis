{
 "cells": [
  {
   "cell_type": "code",
   "execution_count": 1,
   "id": "af40874c",
   "metadata": {},
   "outputs": [],
   "source": [
    "import pandas as pd"
   ]
  },
  {
   "cell_type": "code",
   "execution_count": 2,
   "id": "2e25ffd9",
   "metadata": {},
   "outputs": [],
   "source": [
    "import json\n",
    "def read_json(path):\n",
    "  with open(path, 'r', encoding='utf-8') as file:\n",
    "    data = json.load(file)\n",
    "  return data"
   ]
  },
  {
   "cell_type": "code",
   "execution_count": 3,
   "id": "4e62e964",
   "metadata": {},
   "outputs": [],
   "source": [
    "path_lst = [\n",
    "    '/home/user01/experiments/reports/',\n",
    "]"
   ]
  },
  {
   "cell_type": "code",
   "execution_count": 4,
   "id": "57010a3f",
   "metadata": {},
   "outputs": [],
   "source": [
    "exp_prefix = '106-svm-backdoor-idea1-mixup-0.5-cifar(0-6)'"
   ]
  },
  {
   "cell_type": "code",
   "execution_count": 5,
   "id": "acebec5e",
   "metadata": {},
   "outputs": [
    {
     "name": "stdout",
     "output_type": "stream",
     "text": [
      "/home/user01/experiments/reports/106-svm-backdoor-idea1-mixup-0.5-cifar(0-6)-80-modify.json\n",
      "/home/user01/experiments/reports/106-svm-backdoor-idea1-mixup-0.5-cifar(0-6)-40-modify.json\n",
      "/home/user01/experiments/reports/106-svm-backdoor-idea1-mixup-0.5-cifar(0-6)-60-modify.json\n",
      "/home/user01/experiments/reports/106-svm-backdoor-idea1-mixup-0.5-cifar(0-6)-20-modify.json\n",
      "/home/user01/experiments/reports/106-svm-backdoor-idea1-mixup-0.5-cifar(0-6)-0-modify.json\n"
     ]
    }
   ],
   "source": [
    "import os\n",
    "\n",
    "all_files = []\n",
    "for folder in path_lst:\n",
    "  files_inside_folder = os.listdir(folder)\n",
    "  desired_files = [folder+item for item in files_inside_folder if item.startswith(exp_prefix)]\n",
    "  all_files.extend(desired_files)\n",
    "\n",
    "for file in all_files:\n",
    "    print(file)"
   ]
  },
  {
   "cell_type": "code",
   "execution_count": 6,
   "id": "4875b66e",
   "metadata": {},
   "outputs": [],
   "source": [
    "contents = [read_json(file_path) for file_path in all_files]"
   ]
  },
  {
   "cell_type": "code",
   "execution_count": 7,
   "id": "7bd5bfd9",
   "metadata": {},
   "outputs": [],
   "source": [
    "def extract_info(json_dict):\n",
    "  log = json_dict['log']\n",
    "  base = json_dict\n",
    "  return {\n",
    "      'poisoning_rate':base['poisoning_rate']*100,\n",
    "      'attack_success_rate_bd':log['attack_success_rate_test_before_defense']*100,\n",
    "      'attack_success_rate_ad':log['attack_success_rate_test']*100,\n",
    "      'benign_accuracy_bd':log['accuracy_Test_before_defense']*100,\n",
    "      'benign_accuracy_ad':log['accuracy_Test']*100,\n",
    "#       'asr_bd':log['attack_success_rate_before_defense']*100,\n",
    "#       'asr':log['attack_success_rate']*100,\n",
    "#       'asr_test_bd':log['attack_success_rate_test_before_defense']*100,\n",
    "#       'asr_test':log['attack_success_rate_test']*100,\n",
    "#       'acc_train_bd':log['accuracy_Train_before_defense']*100,\n",
    "#       'acc_train':log['accuracy_Train']*100,\n",
    "#       'acc_test_bd':log['accuracy_Test_before_defense']*100,\n",
    "#       'acc_test':log['accuracy_Test']*100,\n",
    "#       'ba_bd':log['benign_accuracy_before_defense']*100,\n",
    "#       'ba':log['benign_accuracy']*100,\n",
    "#       'defense_true_positive':log['defense_true_positive']*100,\n",
    "#       'defense_poison_removal':log['defense_poison_removal']*100\n",
    "  }"
   ]
  },
  {
   "cell_type": "code",
   "execution_count": 8,
   "id": "35bd8883",
   "metadata": {},
   "outputs": [],
   "source": [
    "contents = [extract_info(item) for item in contents]"
   ]
  },
  {
   "cell_type": "code",
   "execution_count": 9,
   "id": "f4a6e2e5",
   "metadata": {},
   "outputs": [
    {
     "data": {
      "text/html": [
       "<div>\n",
       "<style scoped>\n",
       "    .dataframe tbody tr th:only-of-type {\n",
       "        vertical-align: middle;\n",
       "    }\n",
       "\n",
       "    .dataframe tbody tr th {\n",
       "        vertical-align: top;\n",
       "    }\n",
       "\n",
       "    .dataframe thead th {\n",
       "        text-align: right;\n",
       "    }\n",
       "</style>\n",
       "<table border=\"1\" class=\"dataframe\">\n",
       "  <thead>\n",
       "    <tr style=\"text-align: right;\">\n",
       "      <th></th>\n",
       "      <th>poisoning_rate</th>\n",
       "      <th>attack_success_rate_bd</th>\n",
       "      <th>attack_success_rate_ad</th>\n",
       "      <th>benign_accuracy_bd</th>\n",
       "      <th>benign_accuracy_ad</th>\n",
       "    </tr>\n",
       "  </thead>\n",
       "  <tbody>\n",
       "    <tr>\n",
       "      <th>4</th>\n",
       "      <td>0.0</td>\n",
       "      <td>54.5</td>\n",
       "      <td>54.5</td>\n",
       "      <td>85.90</td>\n",
       "      <td>81.00</td>\n",
       "    </tr>\n",
       "    <tr>\n",
       "      <th>3</th>\n",
       "      <td>20.0</td>\n",
       "      <td>100.0</td>\n",
       "      <td>50.0</td>\n",
       "      <td>78.90</td>\n",
       "      <td>87.25</td>\n",
       "    </tr>\n",
       "    <tr>\n",
       "      <th>1</th>\n",
       "      <td>40.0</td>\n",
       "      <td>100.0</td>\n",
       "      <td>44.5</td>\n",
       "      <td>86.15</td>\n",
       "      <td>72.30</td>\n",
       "    </tr>\n",
       "    <tr>\n",
       "      <th>2</th>\n",
       "      <td>60.0</td>\n",
       "      <td>100.0</td>\n",
       "      <td>43.0</td>\n",
       "      <td>74.00</td>\n",
       "      <td>80.65</td>\n",
       "    </tr>\n",
       "    <tr>\n",
       "      <th>0</th>\n",
       "      <td>80.0</td>\n",
       "      <td>100.0</td>\n",
       "      <td>50.0</td>\n",
       "      <td>81.20</td>\n",
       "      <td>78.35</td>\n",
       "    </tr>\n",
       "  </tbody>\n",
       "</table>\n",
       "</div>"
      ],
      "text/plain": [
       "   poisoning_rate  attack_success_rate_bd  attack_success_rate_ad  \\\n",
       "4             0.0                    54.5                    54.5   \n",
       "3            20.0                   100.0                    50.0   \n",
       "1            40.0                   100.0                    44.5   \n",
       "2            60.0                   100.0                    43.0   \n",
       "0            80.0                   100.0                    50.0   \n",
       "\n",
       "   benign_accuracy_bd  benign_accuracy_ad  \n",
       "4               85.90               81.00  \n",
       "3               78.90               87.25  \n",
       "1               86.15               72.30  \n",
       "2               74.00               80.65  \n",
       "0               81.20               78.35  "
      ]
     },
     "execution_count": 9,
     "metadata": {},
     "output_type": "execute_result"
    }
   ],
   "source": [
    "import pandas as pd\n",
    "df = pd.DataFrame(contents).sort_values('poisoning_rate')\n",
    "df.head(11)"
   ]
  },
  {
   "cell_type": "code",
   "execution_count": 10,
   "id": "2c6221e8",
   "metadata": {},
   "outputs": [],
   "source": [
    "df.columns = ['poisoning rate','attack success rate (bd)','attack success rate (ad)','benign accuracy (bd)','benign accuracy (ad)']"
   ]
  },
  {
   "cell_type": "code",
   "execution_count": 11,
   "id": "b18e46d0",
   "metadata": {},
   "outputs": [],
   "source": [
    "df = df.loc[df['poisoning rate'].isin({0,20,40,60,80,100})]"
   ]
  },
  {
   "cell_type": "code",
   "execution_count": 12,
   "id": "57151931",
   "metadata": {},
   "outputs": [
    {
     "data": {
      "text/plain": [
       "<matplotlib.legend.Legend at 0x7f0262ae9370>"
      ]
     },
     "execution_count": 12,
     "metadata": {},
     "output_type": "execute_result"
    },
    {
     "data": {
      "image/png": "[encoded data removed]",
      "text/plain": [
       "<Figure size 2000x500 with 1 Axes>"
      ]
     },
     "metadata": {},
     "output_type": "display_data"
    }
   ],
   "source": [
    "import matplotlib.pyplot as plt\n",
    "title='Mixup - CIFAR'\n",
    "plt.rcParams[\"figure.figsize\"] = [20, 5]\n",
    "ax = df.plot(kind='bar', x='poisoning rate', y=['attack success rate (bd)','attack success rate (ad)','benign accuracy (bd)','benign accuracy (ad)'],\n",
    "                 title=title, color=['coral','red','lime','green'],width=1.0, align='edge') # ,'lightblue','blue','lavender','purple','yellow','gold'\n",
    "for container in ax.containers:\n",
    "    ax.bar_label(container)\n",
    "for tick in ax.get_xticklabels():\n",
    "    tick.set_rotation(0)\n",
    "plt.legend(loc = 5)\n",
    "#plt.set_xticks([0,20,40,60,80,100],['RATE: 0','RATE: 0','RATE: 0','RATE: 0','RATE: 0','RATE: 0'])\n",
    "#plt.savefig(root_path+'experiments/Visualize/'+exp_id+'/'+title+'.jpg', dpi=300)"
   ]
  }
 ],
 "metadata": {
  "kernelspec": {
   "display_name": "Python 3 (ipykernel)",
   "language": "python",
   "name": "python3"
  },
  "language_info": {
   "codemirror_mode": {
    "name": "ipython",
    "version": 3
   },
   "file_extension": ".py",
   "mimetype": "text/x-python",
   "name": "python",
   "nbconvert_exporter": "python",
   "pygments_lexer": "ipython3",
   "version": "3.9.13"
  }
 },
 "nbformat": 4,
 "nbformat_minor": 5
}
