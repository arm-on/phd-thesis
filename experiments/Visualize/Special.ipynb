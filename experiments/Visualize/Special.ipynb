{
 "cells": [
  {
   "cell_type": "markdown",
   "metadata": {
    "id": "s4pFNCaeo4T1"
   },
   "source": [
    "# Mount Google Drive"
   ]
  },
  {
   "cell_type": "code",
   "execution_count": null,
   "metadata": {
    "colab": {
     "base_uri": "https://localhost:8080/"
    },
    "executionInfo": {
     "elapsed": 4316,
     "status": "ok",
     "timestamp": 1667286319834,
     "user": {
      "displayName": "Arman Malekzadeh",
      "userId": "04598358352447415958"
     },
     "user_tz": -210
    },
    "id": "8D8BYQHpoWqf",
    "outputId": "3075065a-2080-4e78-df24-d167e270249d"
   },
   "outputs": [],
   "source": [
    "# from google.colab import drive\n",
    "# drive.mount('/content/drive')"
   ]
  },
  {
   "cell_type": "code",
   "execution_count": null,
   "metadata": {
    "colab": {
     "base_uri": "https://localhost:8080/"
    },
    "executionInfo": {
     "elapsed": 8,
     "status": "ok",
     "timestamp": 1667286319834,
     "user": {
      "displayName": "Arman Malekzadeh",
      "userId": "04598358352447415958"
     },
     "user_tz": -210
    },
    "id": "8Q0i0uh2ouQN",
    "outputId": "4e799634-67b7-43e8-8b78-8ddf29f4df42"
   },
   "outputs": [],
   "source": [
    "# %cd /content/drive/MyDrive"
   ]
  },
  {
   "cell_type": "markdown",
   "metadata": {
    "id": "2PKEGBRcC3cw"
   },
   "source": [
    "# Configuration"
   ]
  },
  {
   "cell_type": "code",
   "execution_count": null,
   "metadata": {},
   "outputs": [],
   "source": [
    "root_path = '/home/user01/'"
   ]
  },
  {
   "cell_type": "code",
   "execution_count": null,
   "metadata": {
    "executionInfo": {
     "elapsed": 7,
     "status": "ok",
     "timestamp": 1667286319834,
     "user": {
      "displayName": "Arman Malekzadeh",
      "userId": "04598358352447415958"
     },
     "user_tz": -210
    },
    "id": "2U5IWws6AqfC"
   },
   "outputs": [],
   "source": [
    "path_lst = [\n",
    "    '/home/user01/experiments/reports/',\n",
    "]"
   ]
  },
  {
   "cell_type": "markdown",
   "metadata": {
    "id": "kKq_GSpJ_q2-"
   },
   "source": [
    "# Load JSON Files"
   ]
  },
  {
   "cell_type": "code",
   "execution_count": null,
   "metadata": {
    "executionInfo": {
     "elapsed": 8,
     "status": "ok",
     "timestamp": 1667286319835,
     "user": {
      "displayName": "Arman Malekzadeh",
      "userId": "04598358352447415958"
     },
     "user_tz": -210
    },
    "id": "CZ7jGOD3_sZo"
   },
   "outputs": [],
   "source": [
    "import json\n",
    "def read_json(path):\n",
    "  with open(path, 'r', encoding='utf-8') as file:\n",
    "    data = json.load(file)\n",
    "  return data"
   ]
  },
  {
   "cell_type": "code",
   "execution_count": null,
   "metadata": {
    "executionInfo": {
     "elapsed": 8,
     "status": "ok",
     "timestamp": 1667286319835,
     "user": {
      "displayName": "Arman Malekzadeh",
      "userId": "04598358352447415958"
     },
     "user_tz": -210
    },
    "id": "9ZdGdC1dBazU"
   },
   "outputs": [],
   "source": [
    "exp_id = '106'"
   ]
  },
  {
   "cell_type": "code",
   "execution_count": null,
   "metadata": {
    "colab": {
     "base_uri": "https://localhost:8080/"
    },
    "executionInfo": {
     "elapsed": 8,
     "status": "ok",
     "timestamp": 1667286319835,
     "user": {
      "displayName": "Arman Malekzadeh",
      "userId": "04598358352447415958"
     },
     "user_tz": -210
    },
    "id": "iAVVytk0Bdqn",
    "outputId": "3e0a195c-3123-4164-f762-042a0e729ac7"
   },
   "outputs": [],
   "source": [
    "import os\n",
    "\n",
    "all_files = []\n",
    "for folder in path_lst:\n",
    "  files_inside_folder = os.listdir(folder)\n",
    "  desired_files = [folder+item for item in files_inside_folder if item.startswith(exp_id)]\n",
    "  all_files.extend(desired_files)\n",
    "\n",
    "print(all_files)"
   ]
  },
  {
   "cell_type": "code",
   "execution_count": null,
   "metadata": {
    "executionInfo": {
     "elapsed": 709,
     "status": "ok",
     "timestamp": 1667286320538,
     "user": {
      "displayName": "Arman Malekzadeh",
      "userId": "04598358352447415958"
     },
     "user_tz": -210
    },
    "id": "2vQfm7F4Cmu4"
   },
   "outputs": [],
   "source": [
    "contents = [read_json(file_path) for file_path in all_files]"
   ]
  },
  {
   "cell_type": "code",
   "execution_count": null,
   "metadata": {
    "executionInfo": {
     "elapsed": 4,
     "status": "ok",
     "timestamp": 1667286321239,
     "user": {
      "displayName": "Arman Malekzadeh",
      "userId": "04598358352447415958"
     },
     "user_tz": -210
    },
    "id": "CEA1Q_QODGSt"
   },
   "outputs": [],
   "source": [
    "# def extract_info(json_dict):\n",
    "#   attack = json_dict['log']['attack']\n",
    "#   train_acc = json_dict['log']['accuracy_Train']\n",
    "#   test_acc = json_dict['log']['accuracy_Test']\n",
    "#   ba = json_dict['log']['benign_accuracy'] if 'benign_accuracy' in json_dict['log'] else 0.0\n",
    "#   asr = json_dict['log']['attack_success_rate'] if 'attack_success_rate' in json_dict['log'] else 0.0\n",
    "#   poisoning_rate = json_dict['poisoning_rate']\n",
    "#   dataset = json_dict['log']['dataset']\n",
    "#   model = json_dict['log']['model']\n",
    "#   method = json_dict['log']['method']\n",
    "#   return {\n",
    "#       'attack':attack,\n",
    "#       'train_acc':train_acc,\n",
    "#       'test_acc':test_acc,\n",
    "#       'ba':ba,\n",
    "#       'asr':asr,\n",
    "#       'poisoning_rate':poisoning_rate,\n",
    "#       'dataset':dataset,\n",
    "#       'model':model,\n",
    "#       'method':method\n",
    "#   }"
   ]
  },
  {
   "cell_type": "code",
   "execution_count": null,
   "metadata": {},
   "outputs": [],
   "source": [
    "def extract_info(json_dict):\n",
    "  attack = json_dict['log']['attack']\n",
    "  train_acc = json_dict['log']['accuracy_Train']\n",
    "  test_acc = json_dict['log']['accuracy_Test']\n",
    "  ba = json_dict['log']['benign_accuracy'] if 'benign_accuracy' in json_dict['log'] else 0.0\n",
    "  asr = json_dict['log']['attack_success_rate'] if 'attack_success_rate' in json_dict['log'] else 0.0\n",
    "  poisoning_rate = json_dict['poisoning_rate']\n",
    "  dataset = json_dict['log']['dataset']\n",
    "  model = json_dict['log']['model']\n",
    "  method = json_dict['log']['method']\n",
    "  defense = json_dict['log']['defense'] if 'defense' in json_dict['log'] else ''\n",
    "  return {\n",
    "      'attack':attack,\n",
    "      'train_acc':train_acc,\n",
    "      'test_acc':test_acc,\n",
    "      'ba':ba,\n",
    "      'asr':asr,\n",
    "      'poisoning_rate':poisoning_rate,\n",
    "      'dataset':dataset,\n",
    "      'model':model,\n",
    "      'method':method,\n",
    "      'defense':defense,\n",
    "  }"
   ]
  },
  {
   "cell_type": "code",
   "execution_count": null,
   "metadata": {
    "executionInfo": {
     "elapsed": 4,
     "status": "ok",
     "timestamp": 1667286321240,
     "user": {
      "displayName": "Arman Malekzadeh",
      "userId": "04598358352447415958"
     },
     "user_tz": -210
    },
    "id": "oltZpYZ8CyBr"
   },
   "outputs": [],
   "source": [
    "contents = [extract_info(item) for item in contents]"
   ]
  },
  {
   "cell_type": "markdown",
   "metadata": {
    "id": "_Xn2xpYYERqd"
   },
   "source": [
    "# Make a Dataframe"
   ]
  },
  {
   "cell_type": "code",
   "execution_count": null,
   "metadata": {
    "executionInfo": {
     "elapsed": 707,
     "status": "ok",
     "timestamp": 1667286322575,
     "user": {
      "displayName": "Arman Malekzadeh",
      "userId": "04598358352447415958"
     },
     "user_tz": -210
    },
    "id": "zXaAc-tBESrR"
   },
   "outputs": [],
   "source": [
    "import pandas as pd"
   ]
  },
  {
   "cell_type": "code",
   "execution_count": null,
   "metadata": {
    "colab": {
     "base_uri": "https://localhost:8080/",
     "height": 206
    },
    "executionInfo": {
     "elapsed": 14,
     "status": "ok",
     "timestamp": 1667286322579,
     "user": {
      "displayName": "Arman Malekzadeh",
      "userId": "04598358352447415958"
     },
     "user_tz": -210
    },
    "id": "vWoDhScsET9O",
    "outputId": "6b6b75bc-b8b4-4eb8-8186-ef7a5e6c7d0c"
   },
   "outputs": [],
   "source": [
    "df = pd.DataFrame(contents)\n",
    "df.head()"
   ]
  },
  {
   "cell_type": "code",
   "execution_count": null,
   "metadata": {
    "executionInfo": {
     "elapsed": 4,
     "status": "ok",
     "timestamp": 1667286326115,
     "user": {
      "displayName": "Arman Malekzadeh",
      "userId": "04598358352447415958"
     },
     "user_tz": -210
    },
    "id": "IkHhSDs6FZAZ"
   },
   "outputs": [],
   "source": [
    "# def extract_special(attack, dataset, model, method):\n",
    "#   return df.groupby(['attack']).get_group(attack).groupby(['model']).get_group(model).groupby(['dataset']).get_group(dataset).groupby(['method']).get_group(method)"
   ]
  },
  {
   "cell_type": "code",
   "execution_count": null,
   "metadata": {},
   "outputs": [],
   "source": [
    "def extract_special(attack, dataset, model, attack_method, defense_method):\n",
    "  return df.groupby(['attack']).get_group(attack).groupby(['model']).get_group(model).groupby(['dataset']).get_group(dataset).groupby(['method']).get_group(attack_method).groupby(['defense']).get_group(defense_method)"
   ]
  },
  {
   "cell_type": "code",
   "execution_count": null,
   "metadata": {},
   "outputs": [],
   "source": [
    "# extract_special(attack, dataset, model, attack_method, defense_method).sort_values('poisoning_rate')"
   ]
  },
  {
   "cell_type": "code",
   "execution_count": null,
   "metadata": {},
   "outputs": [],
   "source": [
    "import matplotlib.pyplot as plt\n",
    "plt.rcParams[\"figure.figsize\"] = [10, 5]\n",
    "attack = 'backdoor'\n",
    "dataset = 'CIFAR (0-6)'\n",
    "model = 'SVM'\n",
    "attack_method = 'modify'\n",
    "defense = 'DPA'\n",
    "tmp_df = extract_special(attack, dataset, model, attack_method, defense).sort_values('poisoning_rate')\n",
    "tmp_df['asr'] = tmp_df['asr']*100\n",
    "tmp_df['ba'] = tmp_df['ba']*100\n",
    "tmp_df['test_acc'] = tmp_df['test_acc']*100\n",
    "tmp_df['train_acc'] = tmp_df['train_acc']*100\n",
    "title = ' - '.join((attack, dataset, model, defense))\n",
    "tmp_df.plot(kind='bar', x='poisoning_rate', y=['train_acc','test_acc','asr','ba'], title=title)\n",
    "#plt.savefig(root_path+'experiments/Visualize/'+exp_id+'/'+title+'.jpg', dpi=300)"
   ]
  },
  {
   "cell_type": "code",
   "execution_count": null,
   "metadata": {
    "colab": {
     "base_uri": "https://localhost:8080/",
     "height": 356
    },
    "executionInfo": {
     "elapsed": 1277,
     "status": "ok",
     "timestamp": 1667286329832,
     "user": {
      "displayName": "Arman Malekzadeh",
      "userId": "04598358352447415958"
     },
     "user_tz": -210
    },
    "id": "5gGZ1Xy8F09F",
    "outputId": "b65cb89b-d5ae-4c0e-c7bb-bd42a5e9a846"
   },
   "outputs": [],
   "source": [
    "# import matplotlib.pyplot as plt\n",
    "# plt.rcParams[\"figure.figsize\"] = [10, 5]\n",
    "# attack = 'backdoor'\n",
    "# dataset = 'MNIST (1-7)'\n",
    "# model = 'SVM'\n",
    "# method = 'modify'\n",
    "# defense = ''\n",
    "# tmp_df = extract_special(attack, dataset, model, method).sort_values('poisoning_rate')\n",
    "# tmp_df['asr'] = tmp_df['asr']*100\n",
    "# tmp_df['ba'] = tmp_df['ba']*100\n",
    "# title = ' - '.join((attack, dataset, model))\n",
    "# tmp_df.plot(kind='bar', x='poisoning_rate', y=['train_acc','test_acc','asr','ba'], title=title)\n",
    "# #plt.savefig(root_path+'experiments/Visualize/'+exp_id+'/'+title+'.jpg', dpi=300)"
   ]
  },
  {
   "cell_type": "code",
   "execution_count": null,
   "metadata": {
    "colab": {
     "base_uri": "https://localhost:8080/",
     "height": 238
    },
    "executionInfo": {
     "elapsed": 11,
     "status": "ok",
     "timestamp": 1666533137242,
     "user": {
      "displayName": "Arman Malekzadeh",
      "userId": "04598358352447415958"
     },
     "user_tz": -210
    },
    "id": "olZ-XK9vGXsE",
    "outputId": "71dcf01f-62bb-4be4-9630-98b289372876"
   },
   "outputs": [],
   "source": [
    "tmp_df.sort_values('poisoning_rate')"
   ]
  }
 ],
 "metadata": {
  "colab": {
   "authorship_tag": "ABX9TyN1dGAaBKQ7HX9fSEb2Zais",
   "collapsed_sections": [],
   "provenance": []
  },
  "kernelspec": {
   "display_name": "Python 3 (ipykernel)",
   "language": "python",
   "name": "python3"
  },
  "language_info": {
   "codemirror_mode": {
    "name": "ipython",
    "version": 3
   },
   "file_extension": ".py",
   "mimetype": "text/x-python",
   "name": "python",
   "nbconvert_exporter": "python",
   "pygments_lexer": "ipython3",
   "version": "3.9.13"
  }
 },
 "nbformat": 4,
 "nbformat_minor": 1
}
