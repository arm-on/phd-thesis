{
 "cells": [
  {
   "cell_type": "markdown",
   "id": "cb9a5e2a",
   "metadata": {},
   "source": [
    "# Install Preliminaries"
   ]
  },
  {
   "cell_type": "code",
   "execution_count": 1,
   "id": "97b96fc3",
   "metadata": {},
   "outputs": [],
   "source": [
    "# !pip install datasets\n",
    "# !pip install torchmetrics\n",
    "# !pip install pytz\n",
    "# !pip install persiantools\n",
    "# !pip install adversarial-robustness-toolbox"
   ]
  },
  {
   "cell_type": "markdown",
   "id": "6b62e286",
   "metadata": {},
   "source": [
    "# Google Drive Authentication"
   ]
  },
  {
   "cell_type": "code",
   "execution_count": 2,
   "id": "8244ca8e",
   "metadata": {},
   "outputs": [],
   "source": [
    "# from google.colab import drive\n",
    "# drive.mount('/content/drive')"
   ]
  },
  {
   "cell_type": "code",
   "execution_count": 3,
   "id": "222ed25b",
   "metadata": {},
   "outputs": [],
   "source": [
    "# %cd /content/drive/MyDrive"
   ]
  },
  {
   "cell_type": "markdown",
   "id": "e7a88fc6",
   "metadata": {},
   "source": [
    "# Configuration"
   ]
  },
  {
   "cell_type": "code",
   "execution_count": 4,
   "id": "e2a51f27",
   "metadata": {},
   "outputs": [],
   "source": [
    "config = {}\n",
    "config['root_path'] = '/home/user01/' # this is where the experiments folder exists\n",
    "config['series_ID'] = 106\n",
    "config['series_desc'] = '''\n",
    "first ideas to defend against attacks, having a trusted dataset\n",
    "'''\n",
    "config['log_path'] = config['root_path']+'experiments/reports/'\n",
    "config['log'] = {}"
   ]
  },
  {
   "cell_type": "code",
   "execution_count": 5,
   "id": "243ea694",
   "metadata": {},
   "outputs": [],
   "source": [
    "config['poisoning_rate'] = 0.2\n",
    "config['log']['attack'] = 'backdoor'\n",
    "config['num_clean_examples'] = 200\n",
    "config['learning_rate'] = 0.01\n",
    "config['batch_size'] = 32\n",
    "config['num_epochs'] = 2"
   ]
  },
  {
   "cell_type": "code",
   "execution_count": 6,
   "id": "94ee5c39",
   "metadata": {},
   "outputs": [],
   "source": [
    "attack_type = config['log']['attack']\n",
    "if attack_type == 'backdoor':\n",
    "    pass\n",
    "elif attack_type == 'influence':\n",
    "    config['num_iters'] = 100\n",
    "    config['attack_step_size'] = 0.5\n",
    "elif attack_type == 'kkt':\n",
    "    config['log']['bad_loss_percentage'] = 30\n",
    "    config['log']['num_repeats'] = 5\n",
    "elif attack_type == 'label-flip':\n",
    "    pass"
   ]
  },
  {
   "cell_type": "code",
   "execution_count": 61,
   "id": "59edca42",
   "metadata": {},
   "outputs": [],
   "source": [
    "config['log']['model'] = 'SVM'\n",
    "config['log']['dataset'] = 'MNIST (1-7)'\n",
    "config['log']['task'] = 'binary classification'\n",
    "config['log']['pytorch_seed'] = 50\n",
    "config['log']['numpy_seed'] = 50\n",
    "config['log']['defense'] = 'idea1'\n",
    "config['log']['defense_combination_method'] = 'cutmix'\n",
    "config['log']['defense_combination_samples'] = 50\n",
    "config['log']['defense_remove_based_on'] = 'threshold' # percentage or threshold\n",
    "if config['log']['defense_remove_based_on'] == 'percentage':\n",
    "    config['log']['defense_percentage'] = 40\n",
    "elif config['log']['defense_remove_based_on'] == 'threshold':\n",
    "    config['log']['defense_threshold'] = 0.62\n",
    "config['log']['num_backdoor_samples'] = 200\n",
    "config['log']['method'] = 'modify'\n",
    "config['log']['space_dimension'] = 784\n",
    "config['log']['img_width'] = 28\n",
    "config['log']['img_height'] = 28"
   ]
  },
  {
   "cell_type": "code",
   "execution_count": 8,
   "id": "36802396",
   "metadata": {},
   "outputs": [],
   "source": [
    "config['log_path'] += (str(config['series_ID']) + '-' +config['log']['model'] + '-' + config['log']['attack'] +\n",
    "                       '-' + config['log']['defense'] + '-' + config['log']['defense_combination_method'] + '-' + (str(config['log']['defense_percentage']) if config['log']['defense_remove_based_on']=='percentage' else str(config['log']['defense_threshold'])) +\n",
    "                       '-' + config['log']['dataset'] + '-' + str(int(config['poisoning_rate']*100)) +\n",
    "                       '-' + config['log']['method'] + '.json').lower().replace(' ', '')"
   ]
  },
  {
   "cell_type": "code",
   "execution_count": 9,
   "id": "85cffa86",
   "metadata": {},
   "outputs": [
    {
     "data": {
      "text/plain": [
       "'/home/user01/experiments/reports/106-svm-backdoor-idea1-cutmix-0.65-mnist(1-7)-20-modify.json'"
      ]
     },
     "execution_count": 9,
     "metadata": {},
     "output_type": "execute_result"
    }
   ],
   "source": [
    "config['log_path']"
   ]
  },
  {
   "cell_type": "code",
   "execution_count": 10,
   "id": "a532f573",
   "metadata": {},
   "outputs": [],
   "source": [
    "### WE NEED THIS TO IMPORT THE NECESSARY LIBRARIES ###\n",
    "import sys\n",
    "sys.path.append(config['root_path'])"
   ]
  },
  {
   "cell_type": "code",
   "execution_count": 11,
   "id": "d98a7634",
   "metadata": {},
   "outputs": [
    {
     "name": "stderr",
     "output_type": "stream",
     "text": [
      "2023-02-03 18:37:53.029927: I tensorflow/core/platform/cpu_feature_guard.cc:193] This TensorFlow binary is optimized with oneAPI Deep Neural Network Library (oneDNN) to use the following CPU instructions in performance-critical operations:  AVX2 FMA\n",
      "To enable them in other operations, rebuild TensorFlow with the appropriate compiler flags.\n",
      "2023-02-03 18:37:53.218596: E tensorflow/stream_executor/cuda/cuda_blas.cc:2981] Unable to register cuBLAS factory: Attempting to register factory for plugin cuBLAS when one has already been registered\n",
      "2023-02-03 18:37:54.344651: W tensorflow/stream_executor/platform/default/dso_loader.cc:64] Could not load dynamic library 'libnvinfer.so.7'; dlerror: libnvinfer.so.7: cannot open shared object file: No such file or directory; LD_LIBRARY_PATH: usr/local/cuda-11.8/lib64\n",
      "2023-02-03 18:37:54.345292: W tensorflow/stream_executor/platform/default/dso_loader.cc:64] Could not load dynamic library 'libnvinfer_plugin.so.7'; dlerror: libnvinfer_plugin.so.7: cannot open shared object file: No such file or directory; LD_LIBRARY_PATH: usr/local/cuda-11.8/lib64\n",
      "2023-02-03 18:37:54.345332: W tensorflow/compiler/tf2tensorrt/utils/py_utils.cc:38] TF-TRT Warning: Cannot dlopen some TensorRT libraries. If you would like to use Nvidia GPU with TensorRT, please make sure the missing libraries mentioned above are installed properly.\n"
     ]
    }
   ],
   "source": [
    "import datascience, poisoning, report\n",
    "from datascience.data import CIFAR10, MNIST, IMDB, BOSTON\n",
    "from datascience.general import train_dev_test_split, join_np_arrays, describe_dataset, read_img, read_img_as_rgb, read_img_as_gray, resize_img, inverse_img, combine_single_channel_images, img_mixup, img_cutmix\n",
    "from poisoning.process import attacker, defender, SVM_KKT_attacker, targeted_backdoor_attacker_img, targeted_backdoor_attacker_txt, LR_influence_attacker, SVM_influence_attacker, label_flip_attacker, DPA_SVM, SVM_STRIP_defense, SVM_multiple_defense, SVM_OUR_defense\n",
    "from poisoning.eval import attack_success_rate, benign_accuracy, test_accuracy\n",
    "from report.log import JSONLogger, TextLogger, tehran_datetime\n",
    "from temporary.functions import _reload\n",
    "import numpy as np\n",
    "import torch\n",
    "from torchmetrics import HingeLoss\n",
    "from torch.utils.data import Dataset\n",
    "from torch.utils.data import DataLoader\n",
    "from torch.autograd.functional import hessian, jacobian\n",
    "from torch.autograd import grad\n",
    "from torch.nn.utils import _stateless\n",
    "from datetime import datetime\n",
    "import pytz\n",
    "from persiantools.jdatetime import JalaliDate\n",
    "from matplotlib import pyplot as plt"
   ]
  },
  {
   "cell_type": "code",
   "execution_count": 12,
   "id": "2dd2bda1",
   "metadata": {},
   "outputs": [
    {
     "data": {
      "text/plain": [
       "'cuda'"
      ]
     },
     "execution_count": 12,
     "metadata": {},
     "output_type": "execute_result"
    }
   ],
   "source": [
    "device = 'cuda' if torch.cuda.is_available() else 'cpu'\n",
    "device"
   ]
  },
  {
   "cell_type": "code",
   "execution_count": 13,
   "id": "8a5a19ff",
   "metadata": {},
   "outputs": [
    {
     "data": {
      "text/plain": [
       "<module 'report.log' from '/home/user01/report/log.py'>"
      ]
     },
     "execution_count": 13,
     "metadata": {},
     "output_type": "execute_result"
    }
   ],
   "source": [
    "_reload(poisoning.process)\n",
    "_reload(poisoning.eval)\n",
    "_reload(datascience.data)\n",
    "_reload(datascience.general)\n",
    "_reload(report.log)"
   ]
  },
  {
   "cell_type": "code",
   "execution_count": 14,
   "id": "211e1840",
   "metadata": {},
   "outputs": [
    {
     "data": {
      "text/plain": [
       "<torch._C.Generator at 0x7f16906590d0>"
      ]
     },
     "execution_count": 14,
     "metadata": {},
     "output_type": "execute_result"
    }
   ],
   "source": [
    "torch.manual_seed(config['log']['pytorch_seed'])"
   ]
  },
  {
   "cell_type": "markdown",
   "id": "8684641a",
   "metadata": {},
   "source": [
    "# Loading a Dataset"
   ]
  },
  {
   "cell_type": "code",
   "execution_count": 15,
   "id": "20c077a3",
   "metadata": {},
   "outputs": [],
   "source": [
    "dataset = MNIST()\n",
    "dataset.select_labels([1,7], phase='train')\n",
    "dataset.select_labels([1,7], phase='test')\n",
    "dataset.rescale()\n",
    "dataset.change_labels({7:-1})\n",
    "dataset.separate_examples(config['num_clean_examples'], config['log']['numpy_seed'])"
   ]
  },
  {
   "cell_type": "code",
   "execution_count": 16,
   "id": "203ef6d6",
   "metadata": {},
   "outputs": [],
   "source": [
    "attack_type = config['log']['attack']\n",
    "if attack_type == 'backdoor':\n",
    "    if config['log']['img_width']!=28 or config['log']['img_height']!=28:\n",
    "        dataset.resize(config['log']['img_width'],config['log']['img_width'])\n",
    "elif attack_type == 'influence':\n",
    "    dataset.resize(config['log']['img_width'],config['log']['img_width'])\n",
    "    dataset.flatten()\n",
    "    dataset.random_sample(2000, 'train')\n",
    "    dataset.random_sample(200, 'test')\n",
    "elif attack_type == 'kkt':\n",
    "    dataset.resize(config['log']['img_width'],config['log']['img_width'])\n",
    "    dataset.flatten()\n",
    "    dataset.random_sample(2000, 'train')\n",
    "    dataset.random_sample(200, 'test')\n",
    "elif attack_type == 'label-flip':\n",
    "    dataset.flatten()"
   ]
  },
  {
   "cell_type": "markdown",
   "id": "719e0b2a",
   "metadata": {},
   "source": [
    "# Attacks"
   ]
  },
  {
   "cell_type": "code",
   "execution_count": 17,
   "id": "c11a4a14",
   "metadata": {},
   "outputs": [],
   "source": [
    "# def mfn(x, y): # for 10x10\n",
    "#   tmp_x = x.copy()\n",
    "#   if y == 1:\n",
    "#     tmp_x[3,4] = 1.0\n",
    "#     tmp_x[4,4] = 1.0\n",
    "#     tmp_x[4,4] = 1.0\n",
    "#     tmp_x[5,4] = 1.0\n",
    "#     tmp_x[6,4] = 1.0\n",
    "#     tmp_x[7,4] = 1.0\n",
    "#     tmp_x[2,3] = 1.0\n",
    "#     tmp_x[2,2] = 1.0\n",
    "#     tmp_x[2,1] = 1.0\n",
    "#     tmp_x[3,1] = 1.0\n",
    "#     tmp_x[4,1] = 1.0\n",
    "#     tmp_x[5,1] = 1.0\n",
    "#     tmp_x[6,1] = 1.0\n",
    "#     tmp_x[7,1] = 1.0\n",
    "#     tmp_x[7,2] = 1.0\n",
    "#     tmp_x[7,3] = 1.0\n",
    "#   elif y == 0:\n",
    "#     tmp_x[2,4] = 1.0\n",
    "#     tmp_x[3,4] = 1.0\n",
    "#     tmp_x[4,4] = 1.0\n",
    "#     tmp_x[5,4] = 1.0\n",
    "#     tmp_x[6,4] = 1.0\n",
    "#     tmp_x[7,4] = 1.0\n",
    "#     tmp_x[3,3] = 1.0\n",
    "#   return tmp_x, 1-y"
   ]
  },
  {
   "cell_type": "code",
   "execution_count": 18,
   "id": "0c8865d1",
   "metadata": {},
   "outputs": [],
   "source": [
    "# def mfn(x, y): # for 15x15\n",
    "#   tmp_x = x.copy()\n",
    "#   if y == 1:\n",
    "#     tmp_x[9,11] = 1.0\n",
    "#     tmp_x[10,11] = 1.0\n",
    "#     tmp_x[11,11] = 1.0\n",
    "#     tmp_x[12,11] = 1.0\n",
    "#     tmp_x[13,11] = 1.0\n",
    "#     tmp_x[14,11] = 1.0\n",
    "#     tmp_x[9,10] = 1.0\n",
    "#     tmp_x[9,9] = 1.0\n",
    "#     tmp_x[9,8] = 1.0\n",
    "#     tmp_x[10,8] = 1.0\n",
    "#     tmp_x[11,8] = 1.0\n",
    "#     tmp_x[12,8] = 1.0\n",
    "#     tmp_x[13,8] = 1.0\n",
    "#     tmp_x[14,8] = 1.0\n",
    "#     tmp_x[14,9] = 1.0\n",
    "#     tmp_x[14,10] = 1.0\n",
    "#   elif y == 0:\n",
    "#     tmp_x[9,11] = 1.0\n",
    "#     tmp_x[10,11] = 1.0\n",
    "#     tmp_x[11,11] = 1.0\n",
    "#     tmp_x[12,11] = 1.0\n",
    "#     tmp_x[13,11] = 1.0\n",
    "#     tmp_x[14,11] = 1.0\n",
    "#     tmp_x[10,10] = 1.0\n",
    "#   return tmp_x, 1-y"
   ]
  },
  {
   "cell_type": "code",
   "execution_count": 19,
   "id": "db64ec02",
   "metadata": {},
   "outputs": [],
   "source": [
    "def mfn(x, y):\n",
    "  tmp_x = x.copy()\n",
    "  if y == 1:\n",
    "    tmp_x[20,21] = 1.0\n",
    "    tmp_x[21,21] = 1.0\n",
    "    tmp_x[22,21] = 1.0\n",
    "    tmp_x[23,21] = 1.0\n",
    "    tmp_x[24,21] = 1.0\n",
    "    tmp_x[25,21] = 1.0\n",
    "    tmp_x[20,20] = 1.0\n",
    "    tmp_x[20,19] = 1.0\n",
    "    tmp_x[20,18] = 1.0\n",
    "    tmp_x[21,18] = 1.0\n",
    "    tmp_x[22,18] = 1.0\n",
    "    tmp_x[23,18] = 1.0\n",
    "    tmp_x[24,18] = 1.0\n",
    "    tmp_x[25,18] = 1.0\n",
    "    tmp_x[25,19] = 1.0\n",
    "    tmp_x[25,20] = 1.0\n",
    "  elif y == -1:\n",
    "    tmp_x[20,21] = 1.0\n",
    "    tmp_x[21,21] = 1.0\n",
    "    tmp_x[22,21] = 1.0\n",
    "    tmp_x[23,21] = 1.0\n",
    "    tmp_x[24,21] = 1.0\n",
    "    tmp_x[25,21] = 1.0\n",
    "    tmp_x[20,20] = 1.0\n",
    "  return tmp_x, -y"
   ]
  },
  {
   "cell_type": "code",
   "execution_count": 20,
   "id": "ff3cf969",
   "metadata": {},
   "outputs": [
    {
     "name": "stdout",
     "output_type": "stream",
     "text": [
      "CPU times: user 148 ms, sys: 108 ms, total: 256 ms\n",
      "Wall time: 254 ms\n"
     ]
    }
   ],
   "source": [
    "%%time\n",
    "attack_type = config['log']['attack']\n",
    "if attack_type == 'backdoor':\n",
    "    att = targeted_backdoor_attacker_img(dataset.x_train, dataset.y_train, config['poisoning_rate'], mfn,\n",
    "                                     config['log']['method'], config['log']['numpy_seed'])\n",
    "    att.attack()\n",
    "    result = att.return_aggregated_result()\n",
    "    result['x_train'] = result['x_train'].reshape((-1, config['log']['img_width']*config['log']['img_height']))\n",
    "    dataset.flatten()\n",
    "elif attack_type == 'influence':\n",
    "    att = SVM_influence_attacker(dataset.x_train, dataset.y_train, dataset.x_test, dataset.y_test,\n",
    "                             config['poisoning_rate'], config['attack_step_size'], config['log']['method'],\n",
    "                                config['log']['pytorch_seed'], config['batch_size'], config['learning_rate'],\n",
    "                                config['num_epochs'])\n",
    "    att.attack(num_iters=config['num_iters'])\n",
    "    result = att.return_aggregated_result()\n",
    "#     result['y_train'] = np.array([1 if _y==1 else 0 for _y in result['y_train']])\n",
    "elif attack_type == 'kkt':\n",
    "    att = SVM_KKT_attacker(dataset.x_train, dataset.y_train, dataset.x_test, dataset.y_test,\n",
    "                       config['poisoning_rate'], config['log']['method'], config['log']['numpy_seed'])\n",
    "    att.find_decoy_params(config['log']['bad_loss_percentage'], config['log']['num_repeats'])\n",
    "    att.attack()\n",
    "    result = att.return_aggregated_result()\n",
    "elif attack_type == 'label-flip':\n",
    "    att = label_flip_attacker(dataset.x_train, dataset.y_train, {-1:1,1:-1}, config['poisoning_rate'],\n",
    "                          config['log']['method'], config['log']['numpy_seed'])\n",
    "    att.attack()\n",
    "    result = att.return_aggregated_result()"
   ]
  },
  {
   "cell_type": "code",
   "execution_count": 21,
   "id": "4670f7be",
   "metadata": {},
   "outputs": [],
   "source": [
    "config['data-train'] = describe_dataset(result['x_train'], result['y_train'], 'training dataset')\n",
    "config['data-test'] = describe_dataset(dataset.x_test, dataset.y_test, 'testing dataset')"
   ]
  },
  {
   "cell_type": "code",
   "execution_count": 22,
   "id": "b55c8770",
   "metadata": {},
   "outputs": [
    {
     "data": {
      "text/plain": [
       "array([-1,  1])"
      ]
     },
     "execution_count": 22,
     "metadata": {},
     "output_type": "execute_result"
    }
   ],
   "source": [
    "np.unique(result['y_train'])"
   ]
  },
  {
   "cell_type": "code",
   "execution_count": 23,
   "id": "9b556f43",
   "metadata": {},
   "outputs": [
    {
     "data": {
      "text/plain": [
       "array([-1,  1])"
      ]
     },
     "execution_count": 23,
     "metadata": {},
     "output_type": "execute_result"
    }
   ],
   "source": [
    "np.unique(dataset.y_test)"
   ]
  },
  {
   "cell_type": "markdown",
   "id": "4e9b8c64",
   "metadata": {},
   "source": [
    "# Showcase"
   ]
  },
  {
   "cell_type": "code",
   "execution_count": 24,
   "id": "fee496b8",
   "metadata": {
    "scrolled": true
   },
   "outputs": [
    {
     "data": {
      "image/png": "[encoded data removed]",
      "text/plain": [
       "<Figure size 1000x1000 with 16 Axes>"
      ]
     },
     "metadata": {},
     "output_type": "display_data"
    }
   ],
   "source": [
    "fig_title = str(config['series_ID'])+'-'+config['log']['model']+'-'+config['log']['dataset']+'-'+str(config['poisoning_rate']*100)+'%-'+config['log']['attack']+'-'+config['log']['method']\n",
    "if config['poisoning_rate'] > 0.0:\n",
    "    rand_ints = np.random.randint(0, att.x_poison.shape[0], 16)\n",
    "    w = 20\n",
    "    h = 20\n",
    "    fig = plt.figure(figsize=(10, 10))\n",
    "    fig.suptitle(fig_title, fontsize=10)\n",
    "    columns = 4\n",
    "    rows = 4\n",
    "    for i in range(1, columns*rows +1):\n",
    "        img = att.x_poison[rand_ints[i-1]].reshape(config['log']['img_width'],config['log']['img_width'])\n",
    "        fig.add_subplot(rows, columns, i).title.set_text(att.y_poison[rand_ints[i-1]])\n",
    "        tmp = plt.imshow(img, cmap='gray')\n",
    "        tmp.axes.get_xaxis().set_visible(False)\n",
    "        tmp.axes.get_yaxis().set_visible(False)\n",
    "    plt.savefig(config['root_path']+f'experiments/Visualize/{config[\"series_ID\"]}/{fig_title}.png')\n",
    "    plt.show()"
   ]
  },
  {
   "cell_type": "markdown",
   "id": "4bbe9bc3",
   "metadata": {},
   "source": [
    "# Prepare the Data"
   ]
  },
  {
   "cell_type": "code",
   "execution_count": 25,
   "id": "7019407a",
   "metadata": {},
   "outputs": [],
   "source": [
    "class MyVectorDataset(Dataset):\n",
    "    def __init__(self, features, labels):\n",
    "        self.features = features\n",
    "        self.labels = np.array(labels).reshape(-1, 1)\n",
    "    def __len__(self):\n",
    "        return self.features.shape[0]\n",
    "    def __getitem__(self, idx):\n",
    "        return torch.Tensor(self.features[idx]).to(device), torch.Tensor(self.labels[idx]).to(device)"
   ]
  },
  {
   "cell_type": "code",
   "execution_count": 26,
   "id": "a4f2aa1a",
   "metadata": {},
   "outputs": [],
   "source": [
    "# train_dataset = MyVectorDataset(dataset.x_train, dataset.y_train)\n",
    "train_dataset = MyVectorDataset(result['x_train'], result['y_train'])\n",
    "test_dataset = MyVectorDataset(dataset.x_test, dataset.y_test)"
   ]
  },
  {
   "cell_type": "code",
   "execution_count": 27,
   "id": "83c65a07",
   "metadata": {},
   "outputs": [],
   "source": [
    "train_dataloader = DataLoader(train_dataset, batch_size=config['batch_size'], shuffle=True)\n",
    "test_dataloader = DataLoader(test_dataset, batch_size=config['batch_size'], shuffle=True)\n",
    "# clean_dataloader = DataLoader(clean_dataset, batch_size=config['batch_size'], shuffle=True)"
   ]
  },
  {
   "cell_type": "markdown",
   "id": "8fc938e5",
   "metadata": {},
   "source": [
    "# Train a Model"
   ]
  },
  {
   "cell_type": "code",
   "execution_count": 28,
   "id": "83e70154",
   "metadata": {},
   "outputs": [],
   "source": [
    "class SVM(torch.nn.Module):\n",
    "    def __init__(self):\n",
    "        super(SVM, self).__init__() \n",
    "        self.linear = torch.nn.Linear(in_features=config['log']['space_dimension'], out_features=1, bias=True)\n",
    "    def forward(self, x):\n",
    "        output = self.linear(x)\n",
    "        return output"
   ]
  },
  {
   "cell_type": "code",
   "execution_count": 29,
   "id": "64f6a435",
   "metadata": {},
   "outputs": [],
   "source": [
    "def output_to_label(out):\n",
    "    if out >= 0:\n",
    "      return 1\n",
    "    else:\n",
    "      return -1"
   ]
  },
  {
   "cell_type": "code",
   "execution_count": 30,
   "id": "3d1f38ff",
   "metadata": {},
   "outputs": [],
   "source": [
    "def make_prediction(model, x_arr):\n",
    "  outs = list(model(torch.Tensor(x_arr)).squeeze().detach().numpy())\n",
    "  labels = [output_to_label(out) for out in outs]\n",
    "  return np.array(labels)"
   ]
  },
  {
   "cell_type": "code",
   "execution_count": 31,
   "id": "49694b2d",
   "metadata": {},
   "outputs": [],
   "source": [
    "def my_loss_fn(preds, targets):\n",
    "    initial_value = 1-targets*preds\n",
    "    hinge_value = torch.mean(torch.clamp(initial_value, min=0))\n",
    "    return hinge_value"
   ]
  },
  {
   "cell_type": "code",
   "execution_count": 32,
   "id": "f6d9852b",
   "metadata": {},
   "outputs": [],
   "source": [
    "model = SVM()\n",
    "model = model.to(device)\n",
    "# loss_fn = HingeLoss()\n",
    "loss_fn = my_loss_fn\n",
    "optimizer = torch.optim.SGD(model.parameters(), lr=config['learning_rate']) #, weight_decay=1e-5"
   ]
  },
  {
   "cell_type": "code",
   "execution_count": 33,
   "id": "7a49684e",
   "metadata": {},
   "outputs": [],
   "source": [
    "def train_loop(dataloader, model, loss_fn, optimizer, epoch_num):\n",
    "    num_points = len(dataloader.dataset)\n",
    "    for batch, (features, labels) in enumerate(dataloader):        \n",
    "        # Compute prediction and loss\n",
    "        pred = model(features)\n",
    "        loss = loss_fn(pred, labels) + 0.5*(torch.norm(model.linear.weight.squeeze())**2 + torch.norm(model.linear.bias.squeeze())**2)\n",
    "        # Backpropagation\n",
    "        optimizer.zero_grad() # sets gradients of all model parameters to zero\n",
    "        loss.backward() # calculate the gradients again\n",
    "        optimizer.step() # w = w - learning_rate * grad(loss)_with_respect_to_w\n",
    "\n",
    "        if batch % 100 == 0:\n",
    "            loss, current = loss.item(), batch * len(features)\n",
    "            print(f\"\\r Epoch {epoch_num} - loss: {loss:>7f}  [{current:>5d}/{num_points:>5d}]\", end=\" \")"
   ]
  },
  {
   "cell_type": "code",
   "execution_count": 34,
   "id": "05ee2555",
   "metadata": {},
   "outputs": [],
   "source": [
    "def test_loop(dataloader, model, loss_fn, epoch_num, name):\n",
    "    num_points = len(dataloader.dataset)\n",
    "    sum_test_loss, correct = 0, 0\n",
    "\n",
    "    with torch.no_grad():\n",
    "        for batch, (features, labels) in enumerate(dataloader):\n",
    "            pred = model(features)\n",
    "            curr_loss = loss_fn(pred, labels) + 0.5*(torch.norm(model.linear.weight.squeeze())**2 + torch.norm(model.linear.bias.squeeze())**2)\n",
    "            sum_test_loss += curr_loss.item() # add the current loss to the sum of the losses\n",
    "            # convert the outputs of the model on the current batch to a numpy array\n",
    "            pred_lst = list(pred.cpu().numpy().squeeze())\n",
    "            pred_lst = [output_to_label(item) for item in pred_lst]\n",
    "            # convert the original labels corresponding to the current batch to a numpy array\n",
    "            output_lst = list(labels.cpu().numpy().squeeze()) \n",
    "            # determine the points for which the model is correctly predicting the label (add a 1 for each)\n",
    "            match_lst = [1 if p==o else 0 for (p, o) in zip(pred_lst, output_lst)] \n",
    "            # count how many points are labeled correctly in this batch and add the number to the overall count of the correct labeled points\n",
    "            correct += sum(match_lst) \n",
    "            \n",
    "    sum_test_loss /= num_points\n",
    "    correct /= num_points\n",
    "    config['log']['accuracy_'+name] = (100*correct)\n",
    "    config['log']['loss_'+name] = sum_test_loss\n",
    "    print(f\"\\r Epoch {epoch_num} - {name} Error: Accuracy: {(100*correct):>0.1f}%, Avg loss: {sum_test_loss:>8f}\", end=\" \")"
   ]
  },
  {
   "cell_type": "code",
   "execution_count": 35,
   "id": "c791b772",
   "metadata": {},
   "outputs": [
    {
     "name": "stdout",
     "output_type": "stream",
     "text": [
      " Epoch 2 - loss: 0.569176  [ 2800/12807] "
     ]
    }
   ],
   "source": [
    "for epoch_num in range(1, config['num_epochs']+1):\n",
    "    train_loop(train_dataloader, model, loss_fn, optimizer, epoch_num)"
   ]
  },
  {
   "cell_type": "code",
   "execution_count": 36,
   "id": "047a8d05",
   "metadata": {},
   "outputs": [
    {
     "data": {
      "text/plain": [
       "array([-1,  1])"
      ]
     },
     "execution_count": 36,
     "metadata": {},
     "output_type": "execute_result"
    }
   ],
   "source": [
    "np.unique(dataset.y_train)"
   ]
  },
  {
   "cell_type": "markdown",
   "id": "80574e5b",
   "metadata": {},
   "source": [
    "# Evaluation"
   ]
  },
  {
   "cell_type": "code",
   "execution_count": 37,
   "id": "a0488af5",
   "metadata": {},
   "outputs": [],
   "source": [
    "y_train_pred = make_prediction(model.to('cpu'), result['x_train'])\n",
    "y_test_pred = make_prediction(model.to('cpu'), dataset.x_test)\n",
    "config['log']['accuracy_Test_before_defense'] = test_accuracy(dataset.y_test, y_test_pred)\n",
    "config['log']['accuracy_Train_before_defense'] = test_accuracy(result['y_train'], y_train_pred)"
   ]
  },
  {
   "cell_type": "code",
   "execution_count": 38,
   "id": "e1c2ca02",
   "metadata": {},
   "outputs": [],
   "source": [
    "def make_backdoor_dataset(x, y, transformer_fn, num_backdoor_samples):\n",
    "    num_samples = x.shape[0]\n",
    "    assert num_backdoor_samples <= num_samples, 'The number of backdoor samples should not exceed the number of samples in the original dataset'\n",
    "    chosen_indices = np.random.choice([i for i in range(num_samples)], num_backdoor_samples, replace=False)\n",
    "    x_chosen = x[chosen_indices].copy()\n",
    "    y_chosen = y[chosen_indices].copy()\n",
    "    x_backdoor = []\n",
    "    y_backdoor = []\n",
    "    for (_x, _y) in zip(x_chosen, y_chosen):\n",
    "        new_x, new_y = transformer_fn(_x.reshape(config['log']['img_width'],config['log']['img_height']), _y)\n",
    "        x_backdoor.append(new_x)\n",
    "        y_backdoor.append(new_y)\n",
    "    x_backdoor = np.array(x_backdoor).reshape(-1,config['log']['img_width']*config['log']['img_height'])\n",
    "    y_backdoor = np.array(y_backdoor)\n",
    "    return x_backdoor, y_backdoor"
   ]
  },
  {
   "cell_type": "code",
   "execution_count": 39,
   "id": "c4770646",
   "metadata": {},
   "outputs": [],
   "source": [
    "attack_type = config['log']['attack']\n",
    "if attack_type == 'backdoor':\n",
    "    x_backdoor, y_backdoor = make_backdoor_dataset(dataset.x_test, dataset.y_test, mfn, config['log']['num_backdoor_samples'])\n",
    "    y_backdoor_pred = make_prediction(model.to('cpu'), x_backdoor)\n",
    "    config['log']['attack_success_rate_test_before_defense'] = test_accuracy(y_backdoor, y_backdoor_pred)"
   ]
  },
  {
   "cell_type": "code",
   "execution_count": 40,
   "id": "138afd3f",
   "metadata": {},
   "outputs": [],
   "source": [
    "config['log']['benign_accuracy_before_defense'] = benign_accuracy(result['y_train'], y_train_pred, result['is_poison'])\n",
    "config['log']['attack_success_rate_before_defense'] = attack_success_rate(result['y_train'], y_train_pred, result['is_poison'])"
   ]
  },
  {
   "cell_type": "code",
   "execution_count": 41,
   "id": "28b8f5cf",
   "metadata": {},
   "outputs": [
    {
     "data": {
      "text/plain": [
       "{'root_path': '/home/user01/',\n",
       " 'series_ID': 106,\n",
       " 'series_desc': '\\nfirst ideas to defend against attacks, having a trusted dataset\\n',\n",
       " 'log_path': '/home/user01/experiments/reports/106-svm-backdoor-idea1-cutmix-0.65-mnist(1-7)-20-modify.json',\n",
       " 'log': {'attack': 'backdoor',\n",
       "  'model': 'SVM',\n",
       "  'dataset': 'MNIST (1-7)',\n",
       "  'task': 'binary classification',\n",
       "  'pytorch_seed': 50,\n",
       "  'numpy_seed': 50,\n",
       "  'defense': 'idea1',\n",
       "  'defense_combination_method': 'cutmix',\n",
       "  'defense_combination_samples': 50,\n",
       "  'defense_remove_based_on': 'threshold',\n",
       "  'defense_threshold': 0.65,\n",
       "  'num_backdoor_samples': 200,\n",
       "  'method': 'modify',\n",
       "  'space_dimension': 784,\n",
       "  'img_width': 28,\n",
       "  'img_height': 28,\n",
       "  'accuracy_Test_before_defense': 0.9741100323624595,\n",
       "  'accuracy_Train_before_defense': 0.857577887092996,\n",
       "  'attack_success_rate_test_before_defense': 0.355,\n",
       "  'benign_accuracy_before_defense': 0.9777474136248292,\n",
       "  'attack_success_rate_before_defense': 0.3768059351815697},\n",
       " 'poisoning_rate': 0.2,\n",
       " 'num_clean_examples': 200,\n",
       " 'learning_rate': 0.01,\n",
       " 'batch_size': 32,\n",
       " 'num_epochs': 2,\n",
       " 'data-train': {'name': 'training dataset',\n",
       "  'num_samples': 12807,\n",
       "  'num_features': (784,),\n",
       "  'class_count': {1: 6538, -1: 6269}},\n",
       " 'data-test': {'name': 'testing dataset',\n",
       "  'num_samples': 2163,\n",
       "  'num_features': (784,),\n",
       "  'class_count': {1: 1135, -1: 1028}}}"
      ]
     },
     "execution_count": 41,
     "metadata": {},
     "output_type": "execute_result"
    }
   ],
   "source": [
    "config"
   ]
  },
  {
   "cell_type": "markdown",
   "id": "b36d00d0",
   "metadata": {},
   "source": [
    "# Defense"
   ]
  },
  {
   "cell_type": "code",
   "execution_count": 42,
   "id": "16135a3a",
   "metadata": {},
   "outputs": [],
   "source": [
    "def get_model_probs(x_arr):\n",
    "  outs = list(model(torch.Tensor(x_arr)).squeeze().detach().numpy())\n",
    "  labels = [output_to_label(out) for out in outs]\n",
    "  probs = [1/(1+np.exp(-abs(out))) for out in outs]\n",
    "  probs = [(1-p,p) if o>0.0 else (p,1-p) for (o, p) in zip(outs, probs)]\n",
    "  return probs"
   ]
  },
  {
   "cell_type": "code",
   "execution_count": 43,
   "id": "a88801cf",
   "metadata": {},
   "outputs": [],
   "source": [
    "# defense = SVM_STRIP_defense(result['x_train'].reshape(-1,config['log']['img_width'],config['log']['img_height']), result['y_train'], dataset.x_train_clean.reshape(-1,28,28), dataset.y_train_clean, get_model_probs, config['log']['defense_combination_method'], config['log']['defense_combination_samples'])"
   ]
  },
  {
   "cell_type": "code",
   "execution_count": 44,
   "id": "a09c3ca7",
   "metadata": {},
   "outputs": [
    {
     "name": "stdout",
     "output_type": "stream",
     "text": [
      "CPU times: user 3h 58min 42s, sys: 3h 6min 13s, total: 7h 4min 55s\n",
      "Wall time: 1h 16min 25s\n"
     ]
    }
   ],
   "source": [
    "%%time\n",
    "defense = SVM_OUR_defense(result['x_train'].reshape(-1,config['log']['img_width'],config['log']['img_height']), result['y_train'], dataset.x_train_clean.reshape(-1,28,28), dataset.y_train_clean, get_model_probs, config['log']['defense_combination_method'], config['log']['defense_combination_samples'])"
   ]
  },
  {
   "cell_type": "code",
   "execution_count": null,
   "id": "789f0b48",
   "metadata": {},
   "outputs": [],
   "source": [
    "a,b = defense.plot_histogram_clean(result['is_poison'])"
   ]
  },
  {
   "cell_type": "code",
   "execution_count": 46,
   "id": "c6514cbb",
   "metadata": {},
   "outputs": [
    {
     "data": {
      "text/plain": [
       "[[0.6400032154661248, 0.6186584835209255],\n",
       " [0.6439997658150567, 0.6244824514588665],\n",
       " [0.6440865846071366, 0.615028174845425],\n",
       " [0.6396627211281848, 0.6187315204729013],\n",
       " [0.6451779932960563, 0.6229607007416265],\n",
       " [0.6502034483854168, 0.6309523484121535],\n",
       " [0.6464348196170963, 0.6215318477399827],\n",
       " [0.6413756107742703, 0.621353885047239],\n",
       " [0.6483987285462525, 0.6271115311543842],\n",
       " [0.6371390524463573, 0.6098167237339688]]"
      ]
     },
     "execution_count": 46,
     "metadata": {},
     "output_type": "execute_result"
    }
   ],
   "source": [
    "defense.avg_entropies[:10]"
   ]
  },
  {
   "cell_type": "code",
   "execution_count": 60,
   "id": "b217b748",
   "metadata": {},
   "outputs": [
    {
     "data": {
      "text/plain": [
       "(array([1.000e+00, 1.200e+01, 1.240e+02, 6.810e+02, 3.105e+03, 5.968e+03,\n",
       "        2.873e+03, 2.373e+03, 8.483e+03, 1.994e+03]),\n",
       " array([0.5804835 , 0.58776353, 0.59504355, 0.60232358, 0.6096036 ,\n",
       "        0.61688363, 0.62416366, 0.63144368, 0.63872371, 0.64600373,\n",
       "        0.65328376]),\n",
       " <BarContainer object of 10 artists>)"
      ]
     },
     "execution_count": 60,
     "metadata": {},
     "output_type": "execute_result"
    },
    {
     "data": {
      "image/png": "[encoded data removed]",
      "text/plain": [
       "<Figure size 640x480 with 1 Axes>"
      ]
     },
     "metadata": {},
     "output_type": "display_data"
    }
   ],
   "source": [
    "plt.hist(list(np.array(defense.avg_entropies).flatten()))"
   ]
  },
  {
   "cell_type": "code",
   "execution_count": 56,
   "id": "706ab9ea",
   "metadata": {},
   "outputs": [
    {
     "data": {
      "text/plain": [
       "(array([10246, 10247, 10248, ..., 12804, 12805, 12806]),)"
      ]
     },
     "execution_count": 56,
     "metadata": {},
     "output_type": "execute_result"
    }
   ],
   "source": [
    "np.where(np.array(result['is_poison'])==True)"
   ]
  },
  {
   "cell_type": "code",
   "execution_count": 66,
   "id": "02234532",
   "metadata": {},
   "outputs": [
    {
     "data": {
      "text/plain": [
       "(array([1.000e+00, 0.000e+00, 1.800e+01, 1.480e+02, 6.160e+02, 1.178e+03,\n",
       "        5.860e+02, 2.610e+02, 1.633e+03, 6.810e+02]),\n",
       " array([0.5804835 , 0.58766167, 0.59483983, 0.60201799, 0.60919615,\n",
       "        0.61637432, 0.62355248, 0.63073064, 0.6379088 , 0.64508697,\n",
       "        0.65226513]),\n",
       " <BarContainer object of 10 artists>)"
      ]
     },
     "execution_count": 66,
     "metadata": {},
     "output_type": "execute_result"
    },
    {
     "data": {
      "image/png": "[encoded data removed]",
      "text/plain": [
       "<Figure size 640x480 with 1 Axes>"
      ]
     },
     "metadata": {},
     "output_type": "display_data"
    }
   ],
   "source": [
    "plt.hist(np.array(defense.avg_entropies)[np.where(np.array(result['is_poison'])==True)].flatten())"
   ]
  },
  {
   "cell_type": "code",
   "execution_count": 67,
   "id": "488e667e",
   "metadata": {},
   "outputs": [
    {
     "data": {
      "text/plain": [
       "(array([  16.,   92.,  378., 1672., 3864., 3459., 1019., 3160., 5812.,\n",
       "        1020.]),\n",
       " array([0.58946428, 0.59584623, 0.60222818, 0.60861013, 0.61499207,\n",
       "        0.62137402, 0.62775597, 0.63413792, 0.64051986, 0.64690181,\n",
       "        0.65328376]),\n",
       " <BarContainer object of 10 artists>)"
      ]
     },
     "execution_count": 67,
     "metadata": {},
     "output_type": "execute_result"
    },
    {
     "data": {
      "image/png": "[encoded data removed]",
      "text/plain": [
       "<Figure size 640x480 with 1 Axes>"
      ]
     },
     "metadata": {},
     "output_type": "display_data"
    }
   ],
   "source": [
    "plt.hist(np.array(defense.avg_entropies)[np.where(np.array(result['is_poison'])==False)].flatten())"
   ]
  },
  {
   "cell_type": "code",
   "execution_count": 59,
   "id": "e0eeb857",
   "metadata": {},
   "outputs": [
    {
     "data": {
      "text/plain": [
       "(10246, 2)"
      ]
     },
     "execution_count": 59,
     "metadata": {},
     "output_type": "execute_result"
    }
   ],
   "source": [
    "np.array(defense.avg_entropies)[np.where(np.array(result['is_poison'])==False)].shape"
   ]
  },
  {
   "cell_type": "code",
   "execution_count": null,
   "id": "da5a779d",
   "metadata": {},
   "outputs": [],
   "source": [
    "# defense.plot_histogram_poison(result['is_poison'])"
   ]
  },
  {
   "cell_type": "code",
   "execution_count": null,
   "id": "a1f6e747",
   "metadata": {},
   "outputs": [],
   "source": [
    "# defense.plot_histogram()"
   ]
  },
  {
   "cell_type": "code",
   "execution_count": 62,
   "id": "90f73612",
   "metadata": {},
   "outputs": [],
   "source": [
    "if config['log']['defense_remove_based_on'] == 'percentage' and config['log']['defense_percentage']>0.0:\n",
    "    defense.identify_outliers_percentage(config['log']['defense_percentage']) \n",
    "    my_poison = defense.outliers if config['log']['defense_percentage'] > 0.0 else []\n",
    "elif config['log']['defense_remove_based_on'] == 'threshold':\n",
    "    defense.identify_outliers_threshold(config['log']['defense_threshold'])\n",
    "    my_poison = defense.outliers\n",
    "real_poison = set(np.where(np.array(result['is_poison'])==True)[0])\n",
    "num_true_positive = len([i for i in my_poison if i in real_poison])\n",
    "config['log']['defense_true_positive'] = num_true_positive/len(my_poison) if len(my_poison) > 0 else 0.0\n",
    "config['log']['defense_poison_removal'] = num_true_positive/len(real_poison) if len(real_poison) > 0 else 0.0"
   ]
  },
  {
   "cell_type": "code",
   "execution_count": null,
   "id": "4be4aa62",
   "metadata": {},
   "outputs": [],
   "source": [
    "config"
   ]
  },
  {
   "cell_type": "markdown",
   "id": "5fb75eee",
   "metadata": {},
   "source": [
    "# Train another model"
   ]
  },
  {
   "cell_type": "code",
   "execution_count": null,
   "id": "bd089737",
   "metadata": {},
   "outputs": [],
   "source": [
    "# type(defense.combinations)"
   ]
  },
  {
   "cell_type": "code",
   "execution_count": null,
   "id": "11fd37d1",
   "metadata": {},
   "outputs": [],
   "source": [
    "# comb_keys = list(defense.combinations.keys())"
   ]
  },
  {
   "cell_type": "code",
   "execution_count": null,
   "id": "9cc313c9",
   "metadata": {
    "scrolled": true
   },
   "outputs": [],
   "source": [
    "# orig_idx = comb_keys[0]\n",
    "# avg_ent = round(defense.combinations[orig_idx]['avg_entropy'],2)\n",
    "# fig_title = 'AVG Entropy: ' + str(avg_ent)\n",
    "# w = 20\n",
    "# h = 20\n",
    "# fig = plt.figure(figsize=(10, 10))\n",
    "# fig.suptitle(fig_title, fontsize=10)\n",
    "# columns = 4\n",
    "# rows = 4\n",
    "# pics = defense.combinations[orig_idx]['made'][:15]\n",
    "# pics = np.concatenate((defense.combinations[orig_idx]['original'].reshape(-1,28,28),pics))\n",
    "# for i in range(1, columns*rows +1):\n",
    "#     img = pics[i-1]\n",
    "#     if i == 1:\n",
    "#         orig_probs = get_model_probs(pics[:2].reshape(-1,784))[0]\n",
    "#         orig_conf = round(np.max(orig_probs),2)\n",
    "#         orig_label = 1 if np.argmax(orig_probs)==1 else 7\n",
    "#         fig.add_subplot(rows, columns, i).title.set_text(f'o-Label:{orig_label}:{orig_conf}')\n",
    "#     else:\n",
    "#         curr_entropy = round(defense.combinations[orig_idx]['entropies'][i-2],2)\n",
    "#         curr_label = 1 if np.argmax(defense.combinations[orig_idx]['probs'][i-2])==1 else 7\n",
    "#         curr_prob = round(np.max(defense.combinations[orig_idx]['probs'][i-2]),2)\n",
    "#         fig.add_subplot(rows, columns, i).title.set_text(str(curr_entropy)+'- Label:'+str(curr_label)+'-'+str(curr_prob))\n",
    "#     tmp = plt.imshow(img, cmap='gray')\n",
    "#     tmp.axes.get_xaxis().set_visible(False)\n",
    "#     tmp.axes.get_yaxis().set_visible(False)\n",
    "# # plt.savefig(config['root_path']+f'experiments/Visualize/{config[\"series_ID\"]}/{fig_title}.png')\n",
    "# plt.show()"
   ]
  },
  {
   "cell_type": "code",
   "execution_count": 63,
   "id": "fdf6c7b8",
   "metadata": {},
   "outputs": [
    {
     "name": "stdout",
     "output_type": "stream",
     "text": [
      " Epoch 2 - loss: 0.344638  [ 2800/12807] "
     ]
    }
   ],
   "source": [
    "outliers = set(defense.outliers) if ((config['log']['defense_remove_based_on']=='percentage' and config['log']['defense_percentage'] > 0.0) or (config['log']['defense_remove_based_on']=='threshold')) else []\n",
    "x_sanitized = []\n",
    "y_sanitized = []\n",
    "sanitized_is_poison = []\n",
    "for idx, (_x, _y, is_poison) in enumerate(zip(result['x_train'], result['y_train'], result['is_poison'])):\n",
    "    if idx not in outliers:\n",
    "        x_sanitized.append(_x)\n",
    "        y_sanitized.append(_y)\n",
    "        if is_poison:\n",
    "            sanitized_is_poison.append(True)\n",
    "        else:\n",
    "            sanitized_is_poison.append(False)\n",
    "x_sanitized = np.array(x_sanitized)\n",
    "y_sanitized = np.array(y_sanitized)\n",
    "sanitized_dataset = MyVectorDataset(x_sanitized, y_sanitized)\n",
    "sanitized_dataloader = DataLoader(sanitized_dataset, batch_size=config['batch_size'], shuffle=True)\n",
    "model_sanitized = SVM()\n",
    "model_sanitized = model_sanitized.to(device)\n",
    "loss_fn = my_loss_fn\n",
    "optimizer = torch.optim.SGD(model_sanitized.parameters(), lr=config['learning_rate']) #, weight_decay=1e-5\n",
    "for epoch_num in range(1, config['num_epochs']+1):\n",
    "    train_loop(sanitized_dataloader, model_sanitized, loss_fn, optimizer, epoch_num)\n",
    "train_pred = make_prediction(model_sanitized.to('cpu'), x_sanitized)\n",
    "test_pred = make_prediction(model_sanitized.to('cpu'), dataset.x_test)\n",
    "config['log']['accuracy_Test'] = test_accuracy(dataset.y_test, test_pred)\n",
    "config['log']['accuracy_Train'] = test_accuracy(y_sanitized, train_pred)\n",
    "y_sanitized_pred = make_prediction(model_sanitized.to('cpu'), x_sanitized)\n",
    "y_test_pred = make_prediction(model_sanitized.to('cpu'), dataset.x_test)\n",
    "attack_type = config['log']['attack']\n",
    "if attack_type == 'backdoor':\n",
    "    y_backdoor_pred = make_prediction(model_sanitized.to('cpu'), x_backdoor)\n",
    "    config['log']['attack_success_rate_test'] = test_accuracy(y_backdoor, y_backdoor_pred)\n",
    "config['log']['benign_accuracy'] = benign_accuracy(y_sanitized, y_sanitized_pred, sanitized_is_poison)\n",
    "config['log']['attack_success_rate'] = attack_success_rate(y_sanitized, y_sanitized_pred, sanitized_is_poison)"
   ]
  },
  {
   "cell_type": "code",
   "execution_count": 64,
   "id": "c145ee50",
   "metadata": {},
   "outputs": [],
   "source": [
    "config['datetime'] = tehran_datetime()"
   ]
  },
  {
   "cell_type": "code",
   "execution_count": 65,
   "id": "05ee27bf",
   "metadata": {},
   "outputs": [
    {
     "data": {
      "text/plain": [
       "{'root_path': '/home/user01/',\n",
       " 'series_ID': 106,\n",
       " 'series_desc': '\\nfirst ideas to defend against attacks, having a trusted dataset\\n',\n",
       " 'log_path': '/home/user01/experiments/reports/106-svm-backdoor-idea1-cutmix-0.65-mnist(1-7)-20-modify.json',\n",
       " 'log': {'attack': 'backdoor',\n",
       "  'model': 'SVM',\n",
       "  'dataset': 'MNIST (1-7)',\n",
       "  'task': 'binary classification',\n",
       "  'pytorch_seed': 50,\n",
       "  'numpy_seed': 50,\n",
       "  'defense': 'idea1',\n",
       "  'defense_combination_method': 'cutmix',\n",
       "  'defense_combination_samples': 50,\n",
       "  'defense_remove_based_on': 'threshold',\n",
       "  'defense_threshold': 0.62,\n",
       "  'num_backdoor_samples': 200,\n",
       "  'method': 'modify',\n",
       "  'space_dimension': 784,\n",
       "  'img_width': 28,\n",
       "  'img_height': 28,\n",
       "  'accuracy_Test_before_defense': 0.9741100323624595,\n",
       "  'accuracy_Train_before_defense': 0.857577887092996,\n",
       "  'attack_success_rate_test_before_defense': 0.355,\n",
       "  'benign_accuracy_before_defense': 0.9777474136248292,\n",
       "  'attack_success_rate_before_defense': 0.3768059351815697,\n",
       "  'defense_true_positive': 0.0,\n",
       "  'defense_poison_removal': 0.0,\n",
       "  'accuracy_Test': 0.9667128987517337,\n",
       "  'accuracy_Train': 0.8240024986335598,\n",
       "  'attack_success_rate_test': 0.245,\n",
       "  'benign_accuracy': 0.9742338473550654,\n",
       "  'attack_success_rate': 0.22295978133541586},\n",
       " 'poisoning_rate': 0.2,\n",
       " 'num_clean_examples': 200,\n",
       " 'learning_rate': 0.01,\n",
       " 'batch_size': 32,\n",
       " 'num_epochs': 2,\n",
       " 'data-train': {'name': 'training dataset',\n",
       "  'num_samples': 12807,\n",
       "  'num_features': (784,),\n",
       "  'class_count': {1: 6538, -1: 6269}},\n",
       " 'data-test': {'name': 'testing dataset',\n",
       "  'num_samples': 2163,\n",
       "  'num_features': (784,),\n",
       "  'class_count': {1: 1135, -1: 1028}},\n",
       " 'datetime': '1401-11-14 00:35'}"
      ]
     },
     "execution_count": 65,
     "metadata": {},
     "output_type": "execute_result"
    }
   ],
   "source": [
    "config"
   ]
  },
  {
   "cell_type": "code",
   "execution_count": null,
   "id": "44bfda7f",
   "metadata": {},
   "outputs": [],
   "source": [
    "# logger = JSONLogger(config['log_path'], config)\n",
    "# logger.log()"
   ]
  },
  {
   "cell_type": "code",
   "execution_count": null,
   "id": "0d07d327",
   "metadata": {},
   "outputs": [],
   "source": []
  }
 ],
 "metadata": {
  "kernelspec": {
   "display_name": "Python 3 (ipykernel)",
   "language": "python",
   "name": "python3"
  },
  "language_info": {
   "codemirror_mode": {
    "name": "ipython",
    "version": 3
   },
   "file_extension": ".py",
   "mimetype": "text/x-python",
   "name": "python",
   "nbconvert_exporter": "python",
   "pygments_lexer": "ipython3",
   "version": "3.9.13"
  }
 },
 "nbformat": 4,
 "nbformat_minor": 5
}
