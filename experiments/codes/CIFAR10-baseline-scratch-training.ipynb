{
 "cells": [
  {
   "cell_type": "code",
   "execution_count": 1,
   "id": "62b5b906",
   "metadata": {},
   "outputs": [
    {
     "name": "stderr",
     "output_type": "stream",
     "text": [
      "2023-05-09 20:04:30.832264: I tensorflow/core/platform/cpu_feature_guard.cc:193] This TensorFlow binary is optimized with oneAPI Deep Neural Network Library (oneDNN) to use the following CPU instructions in performance-critical operations:  AVX2 FMA\n",
      "To enable them in other operations, rebuild TensorFlow with the appropriate compiler flags.\n",
      "2023-05-09 20:04:31.116757: E tensorflow/stream_executor/cuda/cuda_blas.cc:2981] Unable to register cuBLAS factory: Attempting to register factory for plugin cuBLAS when one has already been registered\n",
      "2023-05-09 20:04:31.806628: W tensorflow/stream_executor/platform/default/dso_loader.cc:64] Could not load dynamic library 'libnvinfer.so.7'; dlerror: libnvinfer.so.7: cannot open shared object file: No such file or directory; LD_LIBRARY_PATH: usr/local/cuda-11.8/lib64\n",
      "2023-05-09 20:04:31.806799: W tensorflow/stream_executor/platform/default/dso_loader.cc:64] Could not load dynamic library 'libnvinfer_plugin.so.7'; dlerror: libnvinfer_plugin.so.7: cannot open shared object file: No such file or directory; LD_LIBRARY_PATH: usr/local/cuda-11.8/lib64\n",
      "2023-05-09 20:04:31.806811: W tensorflow/compiler/tf2tensorrt/utils/py_utils.cc:38] TF-TRT Warning: Cannot dlopen some TensorRT libraries. If you would like to use Nvidia GPU with TensorRT, please make sure the missing libraries mentioned above are installed properly.\n"
     ]
    }
   ],
   "source": [
    "import torchvision.datasets as datasets\n",
    "import torchvision.models as models\n",
    "import torch\n",
    "from torchvision import transforms\n",
    "from keras.utils import to_categorical\n",
    "from torch.utils.data import Dataset\n",
    "from torch.utils.data import DataLoader\n",
    "import torch.nn.functional as F\n",
    "import numpy as np\n",
    "from PIL import Image\n",
    "from torchvision.models.feature_extraction import create_feature_extractor, get_graph_node_names"
   ]
  },
  {
   "cell_type": "markdown",
   "id": "7ac9911c",
   "metadata": {},
   "source": [
    "Config"
   ]
  },
  {
   "cell_type": "code",
   "execution_count": 2,
   "id": "9943fa28",
   "metadata": {},
   "outputs": [],
   "source": [
    "config = {\n",
    "    'batch_size':64,\n",
    "    'learning_rate':0.1,\n",
    "    'num_epochs':200\n",
    "}"
   ]
  },
  {
   "cell_type": "markdown",
   "id": "c3644bfa",
   "metadata": {},
   "source": [
    "Load Datasets"
   ]
  },
  {
   "cell_type": "code",
   "execution_count": 3,
   "id": "ddaeb5ac",
   "metadata": {},
   "outputs": [],
   "source": [
    "transform_train = transforms.Compose([\n",
    "    transforms.RandomCrop(32, padding=4),\n",
    "    transforms.RandomHorizontalFlip(),\n",
    "    transforms.ToTensor(),\n",
    "    transforms.Normalize((0.4914, 0.4822, 0.4465), (0.2023, 0.1994, 0.2010)),\n",
    "])\n",
    "transform_test = transforms.Compose([\n",
    "    transforms.ToTensor(),\n",
    "    transforms.Normalize((0.4914, 0.4822, 0.4465), (0.2023, 0.1994, 0.2010)),\n",
    "])"
   ]
  },
  {
   "cell_type": "code",
   "execution_count": 4,
   "id": "69bbe064",
   "metadata": {},
   "outputs": [],
   "source": [
    "cifar10_trainset = datasets.CIFAR10(root='/home/user01/cifar10/train/', train=True,\n",
    "                                    download=False, transform=transform_train)\n",
    "trainloader = torch.utils.data.DataLoader(\n",
    "    cifar10_trainset, batch_size=config['batch_size'], shuffle=True, num_workers=7)"
   ]
  },
  {
   "cell_type": "code",
   "execution_count": 5,
   "id": "cb1c0e22",
   "metadata": {},
   "outputs": [],
   "source": [
    "cifar10_testset = datasets.CIFAR10(root='/home/user01/cifar10/test/', train=False,\n",
    "                                   download=False, transform=transform_test)\n",
    "testloader = torch.utils.data.DataLoader(\n",
    "    cifar10_testset, batch_size=config['batch_size'], shuffle=False, num_workers=7)"
   ]
  },
  {
   "cell_type": "markdown",
   "id": "12f901ee",
   "metadata": {},
   "source": [
    "Model Definition"
   ]
  },
  {
   "cell_type": "code",
   "execution_count": 8,
   "id": "c9f55f8f",
   "metadata": {},
   "outputs": [],
   "source": [
    "# get_graph_node_names(model)"
   ]
  },
  {
   "cell_type": "code",
   "execution_count": 9,
   "id": "0996f129",
   "metadata": {},
   "outputs": [],
   "source": [
    "class Model(torch.nn.Module):\n",
    "    def __init__(self):\n",
    "        super().__init__()\n",
    "        self.conv1 = torch.nn.Conv2d(3, 6, 5)\n",
    "        self.pool = torch.nn.MaxPool2d(2, 2)\n",
    "        self.conv2 = torch.nn.Conv2d(6, 16, 5)\n",
    "        self.fc1 = torch.nn.Linear(16 * 5 * 5, 120)\n",
    "        self.fc2 = torch.nn.Linear(120, 84)\n",
    "        self.fc3 = torch.nn.Linear(84, 10)\n",
    "\n",
    "    def forward(self, x):\n",
    "        x = self.pool(F.relu(self.conv1(x)))\n",
    "        x = self.pool(F.relu(self.conv2(x)))\n",
    "        x = torch.flatten(x, 1) # flatten all dimensions except batch\n",
    "        x = F.relu(self.fc1(x))\n",
    "        x = F.relu(self.fc2(x))\n",
    "        x = self.fc3(x)\n",
    "        return x"
   ]
  },
  {
   "cell_type": "code",
   "execution_count": 10,
   "id": "3590efaa",
   "metadata": {},
   "outputs": [],
   "source": [
    "new_model = Model()"
   ]
  },
  {
   "cell_type": "code",
   "execution_count": 11,
   "id": "81bc5cba",
   "metadata": {},
   "outputs": [],
   "source": [
    "for param in new_model.parameters():\n",
    "    param.requires_grad = True"
   ]
  },
  {
   "cell_type": "code",
   "execution_count": 15,
   "id": "978aecc3",
   "metadata": {},
   "outputs": [
    {
     "data": {
      "text/plain": [
       "tensor([[ 0.1072,  0.0693, -0.0757, -0.0374, -0.0001,  0.0455, -0.0534, -0.0023,\n",
       "         -0.0551, -0.0662],\n",
       "        [ 0.1043,  0.0643, -0.0680, -0.0442, -0.0055,  0.0439, -0.0515, -0.0048,\n",
       "         -0.0549, -0.0650]], grad_fn=<AddmmBackward0>)"
      ]
     },
     "execution_count": 15,
     "metadata": {},
     "output_type": "execute_result"
    }
   ],
   "source": [
    "inp = np.random.rand(2,3,32,32)\n",
    "new_model(torch.Tensor(inp[:2]))"
   ]
  },
  {
   "cell_type": "markdown",
   "id": "0a599dab",
   "metadata": {},
   "source": [
    "# Finetuning with CIFAR10"
   ]
  },
  {
   "cell_type": "code",
   "execution_count": 16,
   "id": "30cef50e",
   "metadata": {},
   "outputs": [],
   "source": [
    "def label_to_out(label):\n",
    "    out = np.zeros(10)\n",
    "    out[label] = 1\n",
    "    return out"
   ]
  },
  {
   "cell_type": "code",
   "execution_count": 17,
   "id": "d84d661a",
   "metadata": {},
   "outputs": [
    {
     "data": {
      "text/plain": [
       "'cuda'"
      ]
     },
     "execution_count": 17,
     "metadata": {},
     "output_type": "execute_result"
    }
   ],
   "source": [
    "device = 'cuda' if torch.cuda.is_available() else 'cpu'\n",
    "device"
   ]
  },
  {
   "cell_type": "code",
   "execution_count": 18,
   "id": "af46e242",
   "metadata": {},
   "outputs": [],
   "source": [
    "new_model = new_model.to(device)"
   ]
  },
  {
   "cell_type": "code",
   "execution_count": 19,
   "id": "50eb53ba",
   "metadata": {},
   "outputs": [],
   "source": [
    "loss_fn = torch.nn.CrossEntropyLoss()"
   ]
  },
  {
   "cell_type": "code",
   "execution_count": 22,
   "id": "3fa98052",
   "metadata": {},
   "outputs": [],
   "source": [
    "# optimizer = torch.optim.SGD(new_model.parameters(), lr=config['learning_rate'],\n",
    "#                       momentum=0.9, weight_decay=5e-4)\n",
    "optimizer = torch.optim.SGD(new_model.parameters(), lr=0.001, momentum=0.9)\n",
    "# optimizer = torch.optim.AdamW(new_model.parameters())\n",
    "#optimizer = torch.optim.Adam(new_model.parameters(), lr=config['learning_rate'])\n",
    "#scheduler = torch.optim.lr_scheduler.CosineAnnealingLR(optimizer, T_max=200)"
   ]
  },
  {
   "cell_type": "code",
   "execution_count": 23,
   "id": "e004d570",
   "metadata": {},
   "outputs": [],
   "source": [
    "def output_to_label(out):\n",
    "    return out.argmax()"
   ]
  },
  {
   "cell_type": "code",
   "execution_count": 24,
   "id": "f8da4ca2",
   "metadata": {},
   "outputs": [
    {
     "data": {
      "text/plain": [
       "array([0, 0])"
      ]
     },
     "execution_count": 24,
     "metadata": {},
     "output_type": "execute_result"
    }
   ],
   "source": [
    "new_model(torch.Tensor(inp[:2]).cuda()).argmax(axis=1).cpu().numpy()"
   ]
  },
  {
   "cell_type": "code",
   "execution_count": 27,
   "id": "2c3385f5",
   "metadata": {},
   "outputs": [],
   "source": [
    "def train_loop(dataloader, model, loss_fn, optimizer, epoch_num):\n",
    "    num_points = len(dataloader.dataset)\n",
    "    for batch, (features, labels) in enumerate(dataloader):        \n",
    "        # Compute prediction and loss\n",
    "        features, labels = features.to(device), labels.to(device)\n",
    "        pred = model(features)\n",
    "        loss = loss_fn(pred, labels)\n",
    "        \n",
    "        # Backpropagation\n",
    "        optimizer.zero_grad() # sets gradients of all model parameters to zero\n",
    "        loss.backward() # calculate the gradients again\n",
    "        optimizer.step() # w = w - learning_rate * grad(loss)_with_respect_to_w\n",
    "\n",
    "        if batch % 100 == 0:\n",
    "            loss, current = loss.item(), batch * len(features)\n",
    "            print(f\"Epoch {epoch_num} - loss: {loss:>7f}  [{current:>5d}/{num_points:>5d}]\\n\")\n",
    "\n",
    "\n",
    "def test_loop(dataloader, model, loss_fn, epoch_num, name):\n",
    "    num_points = len(dataloader.dataset)\n",
    "    sum_test_loss, correct = 0, 0\n",
    "\n",
    "    with torch.no_grad():\n",
    "        for batch, (features, labels) in enumerate(dataloader):\n",
    "            features, labels = features.to(device), labels.to(device)\n",
    "            pred = model(features)\n",
    "            if batch == 0:\n",
    "                global tmp_features\n",
    "                global tmp_labels\n",
    "                global tmp_pred\n",
    "                tmp_features = features\n",
    "                tmp_labels = labels\n",
    "                tmp_pred = pred\n",
    "            sum_test_loss += loss_fn(pred, labels).item() # add the current loss to the sum of the losses\n",
    "            # convert the outputs of the model on the current batch to a numpy array\n",
    "            pred_lst = list(pred.argmax(axis=1).cpu().numpy())\n",
    "            # convert the original labels corresponding to the current batch to a numpy array\n",
    "            true_lst = labels\n",
    "            # determine the points for which the model is correctly predicting the label (add a 1 for each)\n",
    "            match_lst = [1 if p==t else 0 for (p, t) in zip(pred_lst, true_lst)] \n",
    "            # count how many points are labeled correctly in this batch and add the number to the overall count of the correct labeled points\n",
    "            correct += sum(match_lst) \n",
    "            \n",
    "    sum_test_loss /= num_points\n",
    "    correct /= num_points\n",
    "    print(f\"Epoch {epoch_num} - {name} Accuracy: {correct*100}%, Avg loss: {sum_test_loss}\\n\")"
   ]
  },
  {
   "cell_type": "code",
   "execution_count": null,
   "id": "3d539702",
   "metadata": {},
   "outputs": [],
   "source": [
    "for epoch_num in range(1, config['num_epochs']+1):\n",
    "    train_loop(trainloader, new_model, loss_fn, optimizer, epoch_num)\n",
    "    test_loop(testloader, new_model, loss_fn, epoch_num, 'Test')"
   ]
  },
  {
   "cell_type": "code",
   "execution_count": 29,
   "id": "bf002987",
   "metadata": {},
   "outputs": [
    {
     "name": "stdout",
     "output_type": "stream",
     "text": [
      "Epoch 200 - Test Accuracy: 73.07000000000001%, Avg loss: 0.012353103795647621\n",
      "\n"
     ]
    }
   ],
   "source": [
    "test_loop(testloader, new_model, loss_fn, epoch_num, 'Test')"
   ]
  }
 ],
 "metadata": {
  "kernelspec": {
   "display_name": "Python 3 (ipykernel)",
   "language": "python",
   "name": "python3"
  },
  "language_info": {
   "codemirror_mode": {
    "name": "ipython",
    "version": 3
   },
   "file_extension": ".py",
   "mimetype": "text/x-python",
   "name": "python",
   "nbconvert_exporter": "python",
   "pygments_lexer": "ipython3",
   "version": "3.9.13"
  }
 },
 "nbformat": 4,
 "nbformat_minor": 5
}
