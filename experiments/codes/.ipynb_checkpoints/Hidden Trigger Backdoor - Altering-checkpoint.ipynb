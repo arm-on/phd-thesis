{
 "cells": [
  {
   "cell_type": "markdown",
   "metadata": {},
   "source": [
    "# Libraries"
   ]
  },
  {
   "cell_type": "code",
   "execution_count": 1,
   "metadata": {},
   "outputs": [
    {
     "name": "stderr",
     "output_type": "stream",
     "text": [
      "2023-04-26 21:57:41.423585: I tensorflow/core/platform/cpu_feature_guard.cc:193] This TensorFlow binary is optimized with oneAPI Deep Neural Network Library (oneDNN) to use the following CPU instructions in performance-critical operations:  AVX2 FMA\n",
      "To enable them in other operations, rebuild TensorFlow with the appropriate compiler flags.\n",
      "2023-04-26 21:57:41.642390: E tensorflow/stream_executor/cuda/cuda_blas.cc:2981] Unable to register cuBLAS factory: Attempting to register factory for plugin cuBLAS when one has already been registered\n",
      "2023-04-26 21:57:42.339539: W tensorflow/stream_executor/platform/default/dso_loader.cc:64] Could not load dynamic library 'libnvinfer.so.7'; dlerror: libnvinfer.so.7: cannot open shared object file: No such file or directory; LD_LIBRARY_PATH: usr/local/cuda-11.8/lib64\n",
      "2023-04-26 21:57:42.339762: W tensorflow/stream_executor/platform/default/dso_loader.cc:64] Could not load dynamic library 'libnvinfer_plugin.so.7'; dlerror: libnvinfer_plugin.so.7: cannot open shared object file: No such file or directory; LD_LIBRARY_PATH: usr/local/cuda-11.8/lib64\n",
      "2023-04-26 21:57:42.339791: W tensorflow/compiler/tf2tensorrt/utils/py_utils.cc:38] TF-TRT Warning: Cannot dlopen some TensorRT libraries. If you would like to use Nvidia GPU with TensorRT, please make sure the missing libraries mentioned above are installed properly.\n"
     ]
    }
   ],
   "source": [
    "import os, sys\n",
    "from os.path import abspath\n",
    "import numpy as np\n",
    "from art.utils import load_dataset\n",
    "from art.estimators.classification import PyTorchClassifier\n",
    "import torch\n",
    "import torch.nn as nn\n",
    "import torch.optim as optim\n",
    "from torch.optim.lr_scheduler import ReduceLROnPlateau\n",
    "from art.attacks.poisoning.backdoor_attack import PoisoningAttackBackdoor\n",
    "from art.attacks.poisoning import perturbations\n",
    "from art.attacks.poisoning import HiddenTriggerBackdoor\n",
    "from torchvision import models\n",
    "import pickle\n",
    "from tensorflow.keras.utils import to_categorical"
   ]
  },
  {
   "cell_type": "markdown",
   "metadata": {},
   "source": [
    "# Config"
   ]
  },
  {
   "cell_type": "code",
   "execution_count": 2,
   "metadata": {},
   "outputs": [
    {
     "data": {
      "text/plain": [
       "<torch._C.Generator at 0x7f20c614f290>"
      ]
     },
     "execution_count": 2,
     "metadata": {},
     "output_type": "execute_result"
    }
   ],
   "source": [
    "config = {\n",
    "    'learning_rate':0.01,\n",
    "    'momentum':0.9,\n",
    "    'weight_decay':2e-4,\n",
    "    'min_':0.0,\n",
    "    'max_':1.0,\n",
    "    'num_classes':10,\n",
    "    'batch_size':128,\n",
    "    'ft_batch_size':25,\n",
    "    'ft_learning_rate':0.5,\n",
    "    'poison_percent':.01,\n",
    "    'epsilon':16/255,\n",
    "    'model_path':'model-traffic.pth',\n",
    "    'backdoor_pic_path':'/home/user01/htbd-new.png',\n",
    "    'ft_dataset_size':2500,\n",
    "    'feature_layer':19 # 37 for vgg16, 19 for alexnet\n",
    "}\n",
    "np.random.seed(20)\n",
    "torch.random.manual_seed(20)"
   ]
  },
  {
   "cell_type": "markdown",
   "metadata": {},
   "source": [
    "# Dataset"
   ]
  },
  {
   "cell_type": "code",
   "execution_count": 3,
   "metadata": {},
   "outputs": [],
   "source": [
    "with open('/home/user01/tsign/data0.pickle', 'rb') as f:\n",
    "    data = pickle.load(f)\n",
    "mean = (0.29014438, 0.2551004, 0.2595679) \n",
    "std = (0.2551004, 0.23698236, 0.23829155)\n",
    "x_train = data['x_train'].astype(np.float32)\n",
    "y_train = data['y_train'].astype(np.float32)\n",
    "x_test = data['x_test']\n",
    "y_test = data['y_test']\n",
    "chosen_tr_ids = [idx for idx, (_x, _y) in enumerate(zip(x_train, y_train)) if _y in set([i for i in range(10)])]\n",
    "chosen_te_ids = [idx for idx, (_x, _y) in enumerate(zip(x_test, y_test)) if _y in set([i for i in range(10)])]\n",
    "x_train = x_train[chosen_tr_ids]/255\n",
    "y_train = y_train[chosen_tr_ids]\n",
    "x_test = x_test[chosen_te_ids]/255\n",
    "y_test = y_test[chosen_te_ids]\n",
    "y_train = to_categorical(y_train)\n",
    "y_test = to_categorical(y_test)"
   ]
  },
  {
   "cell_type": "code",
   "execution_count": 4,
   "metadata": {},
   "outputs": [],
   "source": [
    "# (x_train, y_train), (x_test, y_test), min_, max_ = load_dataset('cifar10')\n",
    "# # Step 1a: Swap axes to PyTorch's NCHW format\n",
    "\n",
    "# x_train = np.transpose(x_train, (0, 3, 1, 2)).astype(np.float32)\n",
    "# x_test = np.transpose(x_test, (0, 3, 1, 2)).astype(np.float32)\n",
    "# mean = (0.4914, 0.4822, 0.4465) \n",
    "# std = (0.2023, 0.1994, 0.201)"
   ]
  },
  {
   "cell_type": "code",
   "execution_count": 5,
   "metadata": {},
   "outputs": [
    {
     "data": {
      "text/plain": [
       "(20230, 3, 32, 32)"
      ]
     },
     "execution_count": 5,
     "metadata": {},
     "output_type": "execute_result"
    }
   ],
   "source": [
    "x_train.shape"
   ]
  },
  {
   "cell_type": "code",
   "execution_count": 6,
   "metadata": {},
   "outputs": [
    {
     "data": {
      "text/plain": [
       "0.29014438"
      ]
     },
     "execution_count": 6,
     "metadata": {},
     "output_type": "execute_result"
    }
   ],
   "source": [
    "x_train[:,0,:,:].mean()"
   ]
  },
  {
   "cell_type": "code",
   "execution_count": 7,
   "metadata": {},
   "outputs": [
    {
     "data": {
      "text/plain": [
       "0.2551004"
      ]
     },
     "execution_count": 7,
     "metadata": {},
     "output_type": "execute_result"
    }
   ],
   "source": [
    "x_train[:,0,:,:].std()"
   ]
  },
  {
   "cell_type": "code",
   "execution_count": 8,
   "metadata": {},
   "outputs": [
    {
     "data": {
      "text/plain": [
       "0.25733584"
      ]
     },
     "execution_count": 8,
     "metadata": {},
     "output_type": "execute_result"
    }
   ],
   "source": [
    "x_train[:,1,:,:].mean()"
   ]
  },
  {
   "cell_type": "code",
   "execution_count": 9,
   "metadata": {},
   "outputs": [
    {
     "data": {
      "text/plain": [
       "0.23698236"
      ]
     },
     "execution_count": 9,
     "metadata": {},
     "output_type": "execute_result"
    }
   ],
   "source": [
    "x_train[:,1,:,:].std()"
   ]
  },
  {
   "cell_type": "code",
   "execution_count": 10,
   "metadata": {},
   "outputs": [
    {
     "data": {
      "text/plain": [
       "0.2595679"
      ]
     },
     "execution_count": 10,
     "metadata": {},
     "output_type": "execute_result"
    }
   ],
   "source": [
    "x_train[:,2,:,:].mean()"
   ]
  },
  {
   "cell_type": "code",
   "execution_count": 11,
   "metadata": {},
   "outputs": [
    {
     "data": {
      "text/plain": [
       "0.23829155"
      ]
     },
     "execution_count": 11,
     "metadata": {},
     "output_type": "execute_result"
    }
   ],
   "source": [
    "x_train[:,2,:,:].std()"
   ]
  },
  {
   "cell_type": "code",
   "execution_count": 12,
   "metadata": {},
   "outputs": [
    {
     "data": {
      "text/plain": [
       "(4800, 10)"
      ]
     },
     "execution_count": 12,
     "metadata": {},
     "output_type": "execute_result"
    }
   ],
   "source": [
    "y_test.shape"
   ]
  },
  {
   "cell_type": "markdown",
   "metadata": {},
   "source": [
    "# Model Definition"
   ]
  },
  {
   "cell_type": "code",
   "execution_count": 13,
   "metadata": {},
   "outputs": [],
   "source": [
    "# alexnet for 3*32*32\n",
    "class Flatten(torch.nn.Module):\n",
    "    def forward(self, x):\n",
    "        batch_size = x.shape[0]\n",
    "        return x.view(batch_size, 256*2*2)"
   ]
  },
  {
   "cell_type": "code",
   "execution_count": 14,
   "metadata": {},
   "outputs": [],
   "source": [
    "# alexnet for 3*32*32\n",
    "model = nn.Sequential(\n",
    "        nn.Conv2d(3, 64, kernel_size=3, stride=2, padding=1),\n",
    "        nn.ReLU(inplace=True),\n",
    "        nn.MaxPool2d(kernel_size=2),\n",
    "        nn.Conv2d(64, 192, kernel_size=3, padding=1),\n",
    "        nn.ReLU(inplace=True),\n",
    "        nn.MaxPool2d(kernel_size=2),\n",
    "        nn.Conv2d(192, 384, kernel_size=3, padding=1),\n",
    "        nn.ReLU(inplace=True),\n",
    "        nn.Conv2d(384, 256, kernel_size=3, padding=1),\n",
    "        nn.ReLU(inplace=True),\n",
    "        nn.Conv2d(256, 256, kernel_size=3, padding=1),\n",
    "        nn.ReLU(inplace=True),\n",
    "        nn.MaxPool2d(kernel_size=2),\n",
    "        Flatten(),\n",
    "        nn.Dropout(p=0.5),\n",
    "        nn.Linear(256 * 2 * 2, 4096),\n",
    "        nn.ReLU(inplace=True),\n",
    "        nn.Dropout(p=0.5),\n",
    "        nn.Linear(4096, 4096),\n",
    "        nn.ReLU(inplace=True),\n",
    "        nn.Linear(4096, config['num_classes']),\n",
    "        )"
   ]
  },
  {
   "cell_type": "code",
   "execution_count": 15,
   "metadata": {},
   "outputs": [],
   "source": [
    "# # vgg16\n",
    "# class Flatten(torch.nn.Module):\n",
    "#     def forward(self, x):\n",
    "#         batch_size = x.shape[0]\n",
    "#         return x.view(batch_size, 25088)"
   ]
  },
  {
   "cell_type": "code",
   "execution_count": 16,
   "metadata": {},
   "outputs": [],
   "source": [
    "# # vgg16\n",
    "# model = nn.Sequential(\n",
    "#     nn.Conv2d(3, 64, kernel_size=(3, 3), stride=(1, 1), padding=(1, 1)),\n",
    "#     nn.ReLU(inplace=True),\n",
    "#     nn.Conv2d(64, 64, kernel_size=(3, 3), stride=(1, 1), padding=(1, 1)),\n",
    "#     nn.ReLU(inplace=True),\n",
    "#     nn.MaxPool2d(kernel_size=2, stride=2, padding=0, dilation=1, ceil_mode=False),\n",
    "#     nn.Conv2d(64, 128, kernel_size=(3, 3), stride=(1, 1), padding=(1, 1)),\n",
    "#     nn.ReLU(inplace=True),\n",
    "#     nn.Conv2d(128, 128, kernel_size=(3, 3), stride=(1, 1), padding=(1, 1)),\n",
    "#     nn.ReLU(inplace=True),\n",
    "#     nn.MaxPool2d(kernel_size=2, stride=2, padding=0, dilation=1, ceil_mode=False),\n",
    "#     nn.Conv2d(128, 256, kernel_size=(3, 3), stride=(1, 1), padding=(1, 1)),\n",
    "#     nn.ReLU(inplace=True),\n",
    "#     nn.Conv2d(256, 256, kernel_size=(3, 3), stride=(1, 1), padding=(1, 1)),\n",
    "#     nn.ReLU(inplace=True),\n",
    "#     nn.Conv2d(256, 256, kernel_size=(3, 3), stride=(1, 1), padding=(1, 1)),\n",
    "#     nn.ReLU(inplace=True),\n",
    "#     nn.MaxPool2d(kernel_size=2, stride=2, padding=0, dilation=1, ceil_mode=False),\n",
    "#     nn.Conv2d(256, 512, kernel_size=(3, 3), stride=(1, 1), padding=(1, 1)),\n",
    "#     nn.ReLU(inplace=True),\n",
    "#     nn.Conv2d(512, 512, kernel_size=(3, 3), stride=(1, 1), padding=(1, 1)),\n",
    "#     nn.ReLU(inplace=True),\n",
    "#     nn.Conv2d(512, 512, kernel_size=(3, 3), stride=(1, 1), padding=(1, 1)),\n",
    "#     nn.ReLU(inplace=True),\n",
    "#     nn.MaxPool2d(kernel_size=2, stride=2, padding=0, dilation=1, ceil_mode=False),\n",
    "#     nn.Conv2d(512, 512, kernel_size=(3, 3), stride=(1, 1), padding=(1, 1)),\n",
    "#     nn.ReLU(inplace=True),\n",
    "#     nn.Conv2d(512, 512, kernel_size=(3, 3), stride=(1, 1), padding=(1, 1)),\n",
    "#     nn.ReLU(inplace=True),\n",
    "#     nn.Conv2d(512, 512, kernel_size=(3, 3), stride=(1, 1), padding=(1, 1)),\n",
    "#     nn.ReLU(inplace=True),\n",
    "#     nn.MaxPool2d(kernel_size=2, stride=2, padding=0, dilation=1, ceil_mode=False),\n",
    "#     nn.AdaptiveAvgPool2d(output_size=(7, 7)),\n",
    "#     Flatten(),\n",
    "#     nn.Linear(in_features=25088, out_features=4096, bias=True),\n",
    "#     nn.ReLU(inplace=True),\n",
    "#     nn.Dropout(p=0.5, inplace=False),\n",
    "#     nn.Linear(in_features=4096, out_features=4096, bias=True),\n",
    "#     nn.ReLU(inplace=True),\n",
    "#     nn.Dropout(p=0.5, inplace=False),\n",
    "#     nn.Linear(in_features=4096, out_features=config['num_classes'], bias=True)\n",
    "# )"
   ]
  },
  {
   "cell_type": "code",
   "execution_count": 17,
   "metadata": {},
   "outputs": [
    {
     "data": {
      "text/plain": [
       "torch.Size([2, 10])"
      ]
     },
     "execution_count": 17,
     "metadata": {},
     "output_type": "execute_result"
    }
   ],
   "source": [
    "model(torch.Tensor(x_train[:2])).shape"
   ]
  },
  {
   "cell_type": "markdown",
   "metadata": {},
   "source": [
    "# Model Training"
   ]
  },
  {
   "cell_type": "code",
   "execution_count": 18,
   "metadata": {},
   "outputs": [],
   "source": [
    "\n",
    "# Define the ART Estimator\n",
    "criterion = nn.CrossEntropyLoss()\n",
    "optimizer = optim.SGD(model.parameters(), lr=config['learning_rate'],\n",
    "                      momentum=config['momentum'])\n",
    "scheduler = ReduceLROnPlateau(optimizer, 'min')\n",
    "classifier = PyTorchClassifier(\n",
    "    model=model,\n",
    "    clip_values=(config['min_'], config['max_']),\n",
    "    loss=criterion,\n",
    "    optimizer=optimizer,\n",
    "    input_shape=(3, 32, 32),\n",
    "    nb_classes=config['num_classes'],\n",
    "    preprocessing=(mean, std)\n",
    ")"
   ]
  },
  {
   "cell_type": "code",
   "execution_count": 19,
   "metadata": {},
   "outputs": [
    {
     "name": "stdout",
     "output_type": "stream",
     "text": [
      "0.001\n"
     ]
    }
   ],
   "source": [
    "# Train the model \n",
    "# (100 epochs with lr=0.01, then 50 with 0.001)\n",
    "# (then 50 with 0.0001)\n",
    "# (then save the model)\n",
    "classifier.fit(x_train, y_train, nb_epochs=100, batch_size=config['batch_size'], verbose=True)\n",
    "for param_group in classifier.optimizer.param_groups:\n",
    "    print(param_group[\"lr\"])\n",
    "    param_group[\"lr\"] *= 0.1\n",
    "classifier.fit(x_train, y_train, nb_epochs=50, batch_size=config['batch_size'], verbose=True)\n",
    "for param_group in classifier.optimizer.param_groups:\n",
    "    print(param_group[\"lr\"])\n",
    "    param_group[\"lr\"] *= 0.1\n",
    "classifier.fit(x_train, y_train, nb_epochs=50, batch_size=config['batch_size'], verbose=True)\n",
    "torch.save(model.state_dict(), config['model_path']) # Write the checkpoint to a temporary directory"
   ]
  },
  {
   "cell_type": "markdown",
   "metadata": {},
   "source": [
    "# Evaluation (Benign Test Accuracy)"
   ]
  },
  {
   "cell_type": "code",
   "execution_count": 20,
   "metadata": {},
   "outputs": [
    {
     "name": "stdout",
     "output_type": "stream",
     "text": [
      "Accuracy on benign test examples: 91.75%\n"
     ]
    }
   ],
   "source": [
    "predictions = classifier.predict(x_test)\n",
    "accuracy = np.sum(np.argmax(predictions, axis=1) == np.argmax(y_test, axis=1)) / len(y_test)\n",
    "print(\"Accuracy on benign test examples: {}%\".format(accuracy * 100))"
   ]
  },
  {
   "cell_type": "markdown",
   "metadata": {},
   "source": [
    "# Hidden Backdoor Attack"
   ]
  },
  {
   "cell_type": "code",
   "execution_count": 21,
   "metadata": {},
   "outputs": [],
   "source": [
    "# Backdoor Trigger Parameters\n",
    "patch_size = 4\n",
    "x_shift = 32 - patch_size - 5\n",
    "y_shift = 32 - patch_size - 5"
   ]
  },
  {
   "cell_type": "code",
   "execution_count": 22,
   "metadata": {},
   "outputs": [],
   "source": [
    "# Define the backdoor poisoning object. Calling backdoor.poison(x) will insert the trigger into x.\n",
    "\n",
    "def mod(x):\n",
    "    original_dtype = x.dtype\n",
    "    x = perturbations.insert_image(x, backdoor_path=config['backdoor_pic_path'],\n",
    "                                   channels_first=True, random=False, x_shift=x_shift, y_shift=y_shift,\n",
    "                                   size=(patch_size,patch_size), mode='RGB', blend=1)\n",
    "    return x.astype(original_dtype)\n",
    "backdoor = PoisoningAttackBackdoor(mod)"
   ]
  },
  {
   "cell_type": "markdown",
   "metadata": {},
   "source": [
    "Generating the poisons"
   ]
  },
  {
   "cell_type": "code",
   "execution_count": 23,
   "metadata": {},
   "outputs": [],
   "source": [
    "with open('/home/user01/tsign/data0.pickle', 'rb') as f:\n",
    "    data = pickle.load(f)\n",
    "mean = (0.29014438, 0.2551004, 0.2595679) \n",
    "std = (0.2551004, 0.23698236, 0.23829155)\n",
    "x_train = data['x_train'].astype(np.float32)\n",
    "y_train = data['y_train'].astype(np.float32)\n",
    "x_test = data['x_test']\n",
    "y_test = data['y_test']\n",
    "chosen_tr_ids = [idx for idx, (_x, _y) in enumerate(zip(x_train, y_train)) if _y in set([i for i in range(10)])]\n",
    "chosen_te_ids = [idx for idx, (_x, _y) in enumerate(zip(x_test, y_test)) if _y in set([i for i in range(10)])]\n",
    "x_train = x_train[chosen_tr_ids]/255\n",
    "y_train = y_train[chosen_tr_ids]\n",
    "x_test = x_test[chosen_te_ids]/255\n",
    "y_test = y_test[chosen_te_ids]\n",
    "y_train = to_categorical(y_train)\n",
    "y_test = to_categorical(y_test)"
   ]
  },
  {
   "cell_type": "code",
   "execution_count": 24,
   "metadata": {},
   "outputs": [
    {
     "data": {
      "application/vnd.jupyter.widget-view+json": {
       "model_id": "263d32452c5c42c4adefb1d2b4338e36",
       "version_major": 2,
       "version_minor": 0
      },
      "text/plain": [
       "Hidden Trigger:   0%|          | 0/1 [00:00<?, ?it/s]"
      ]
     },
     "metadata": {},
     "output_type": "display_data"
    },
    {
     "name": "stdout",
     "output_type": "stream",
     "text": [
      "Batch: 0 | i:     0 |                         LR: 0.00100 |                         Loss Val: 90507.969 | Loss Avg: 90507.969\n",
      "Batch: 0 | i:   100 |                         LR: 0.00100 |                         Loss Val: 23421.113 | Loss Avg: 29627.976\n",
      "Batch: 0 | i:   200 |                         LR: 0.00100 |                         Loss Val: 27566.082 | Loss Avg: 28465.646\n",
      "Batch: 0 | i:   300 |                         LR: 0.00100 |                         Loss Val: 33512.992 | Loss Avg: 27921.943\n",
      "Batch: 0 | i:   400 |                         LR: 0.00100 |                         Loss Val: 25931.480 | Loss Avg: 27353.085\n",
      "Batch: 0 | i:   500 |                         LR: 0.00100 |                         Loss Val: 31991.752 | Loss Avg: 27090.045\n",
      "Batch: 0 | i:   600 |                         LR: 0.00100 |                         Loss Val: 17981.928 | Loss Avg: 26924.217\n",
      "Batch: 0 | i:   700 |                         LR: 0.00100 |                         Loss Val: 20217.697 | Loss Avg: 26821.272\n",
      "Batch: 0 | i:   800 |                         LR: 0.00100 |                         Loss Val: 28605.264 | Loss Avg: 26760.640\n",
      "Batch: 0 | i:   900 |                         LR: 0.00100 |                         Loss Val: 17968.998 | Loss Avg: 26795.863\n",
      "Batch: 0 | i:  1000 |                         LR: 0.00100 |                         Loss Val: 22976.455 | Loss Avg: 26800.395\n",
      "Batch: 0 | i:  1100 |                         LR: 0.00100 |                         Loss Val: 30676.312 | Loss Avg: 26748.442\n",
      "Batch: 0 | i:  1200 |                         LR: 0.00100 |                         Loss Val: 32823.645 | Loss Avg: 26657.179\n",
      "Batch: 0 | i:  1300 |                         LR: 0.00100 |                         Loss Val: 27001.145 | Loss Avg: 26585.851\n",
      "Batch: 0 | i:  1400 |                         LR: 0.00100 |                         Loss Val: 31508.027 | Loss Avg: 26492.532\n",
      "Batch: 0 | i:  1500 |                         LR: 0.00100 |                         Loss Val: 18958.475 | Loss Avg: 26471.399\n",
      "Batch: 0 | i:  1600 |                         LR: 0.00100 |                         Loss Val: 29535.084 | Loss Avg: 26415.910\n",
      "Batch: 0 | i:  1700 |                         LR: 0.00100 |                         Loss Val: 24923.186 | Loss Avg: 26354.347\n",
      "Batch: 0 | i:  1800 |                         LR: 0.00100 |                         Loss Val: 25176.852 | Loss Avg: 26344.696\n",
      "Batch: 0 | i:  1900 |                         LR: 0.00100 |                         Loss Val: 21706.623 | Loss Avg: 26311.191\n",
      "Batch: 0 | i:  2000 |                         LR: 0.00095 |                         Loss Val: 33514.602 | Loss Avg: 26272.993\n",
      "Batch: 0 | i:  2100 |                         LR: 0.00095 |                         Loss Val: 26875.053 | Loss Avg: 26195.647\n",
      "Batch: 0 | i:  2200 |                         LR: 0.00095 |                         Loss Val: 20947.223 | Loss Avg: 26066.108\n",
      "Batch: 0 | i:  2300 |                         LR: 0.00095 |                         Loss Val: 26110.641 | Loss Avg: 25955.360\n",
      "Batch: 0 | i:  2400 |                         LR: 0.00095 |                         Loss Val: 18298.090 | Loss Avg: 25878.253\n",
      "Batch: 0 | i:  2500 |                         LR: 0.00095 |                         Loss Val: 25568.955 | Loss Avg: 25823.365\n",
      "Batch: 0 | i:  2600 |                         LR: 0.00095 |                         Loss Val: 38134.785 | Loss Avg: 25772.226\n",
      "Batch: 0 | i:  2700 |                         LR: 0.00095 |                         Loss Val: 26914.736 | Loss Avg: 25705.790\n",
      "Batch: 0 | i:  2800 |                         LR: 0.00095 |                         Loss Val: 21305.838 | Loss Avg: 25631.526\n",
      "Batch: 0 | i:  2900 |                         LR: 0.00095 |                         Loss Val: 23037.316 | Loss Avg: 25597.040\n",
      "Batch: 0 | i:  3000 |                         LR: 0.00095 |                         Loss Val: 25786.967 | Loss Avg: 25547.843\n",
      "Batch: 0 | i:  3100 |                         LR: 0.00095 |                         Loss Val: 29228.461 | Loss Avg: 25517.016\n",
      "Batch: 0 | i:  3200 |                         LR: 0.00095 |                         Loss Val: 22315.822 | Loss Avg: 25492.366\n",
      "Batch: 0 | i:  3300 |                         LR: 0.00095 |                         Loss Val: 33984.688 | Loss Avg: 25476.543\n",
      "Batch: 0 | i:  3400 |                         LR: 0.00095 |                         Loss Val: 23687.162 | Loss Avg: 25465.484\n",
      "Batch: 0 | i:  3500 |                         LR: 0.00095 |                         Loss Val: 26224.707 | Loss Avg: 25458.133\n",
      "Batch: 0 | i:  3600 |                         LR: 0.00095 |                         Loss Val: 23193.102 | Loss Avg: 25397.466\n",
      "Batch: 0 | i:  3700 |                         LR: 0.00095 |                         Loss Val: 23889.570 | Loss Avg: 25377.516\n",
      "Batch: 0 | i:  3800 |                         LR: 0.00095 |                         Loss Val: 32996.711 | Loss Avg: 25361.466\n",
      "Batch: 0 | i:  3900 |                         LR: 0.00095 |                         Loss Val: 20574.102 | Loss Avg: 25348.109\n",
      "Batch: 0 | i:  4000 |                         LR: 0.00090 |                         Loss Val: 27454.846 | Loss Avg: 25326.235\n",
      "Batch: 0 | i:  4100 |                         LR: 0.00090 |                         Loss Val: 26245.469 | Loss Avg: 25296.278\n",
      "Batch: 0 | i:  4200 |                         LR: 0.00090 |                         Loss Val: 25218.521 | Loss Avg: 25233.891\n",
      "Batch: 0 | i:  4300 |                         LR: 0.00090 |                         Loss Val: 19120.924 | Loss Avg: 25170.959\n",
      "Batch: 0 | i:  4400 |                         LR: 0.00090 |                         Loss Val: 21170.596 | Loss Avg: 25096.697\n",
      "Batch: 0 | i:  4500 |                         LR: 0.00090 |                         Loss Val: 26444.891 | Loss Avg: 25076.141\n",
      "Batch: 0 | i:  4600 |                         LR: 0.00090 |                         Loss Val: 19575.625 | Loss Avg: 24995.668\n",
      "Batch: 0 | i:  4700 |                         LR: 0.00090 |                         Loss Val: 30225.840 | Loss Avg: 24955.116\n",
      "Batch: 0 | i:  4800 |                         LR: 0.00090 |                         Loss Val: 21443.762 | Loss Avg: 24926.553\n",
      "Batch: 0 | i:  4900 |                         LR: 0.00090 |                         Loss Val: 23742.463 | Loss Avg: 24873.285\n",
      "Max_Loss: 23560.296875\n",
      "Number of poison samples generated: 21\n"
     ]
    }
   ],
   "source": [
    "target = np.array([0,0,0,0,1,0,0,0,0,0])\n",
    "source = np.array([0,0,0,1,0,0,0,0,0,0])\n",
    "\n",
    "poison_attack = HiddenTriggerBackdoor(classifier, eps=config['epsilon'], target=target, source=source, feature_layer=config['feature_layer'], backdoor=backdoor, decay_coeff = .95, decay_iter = 2000, max_iter=5000, batch_size=config['ft_batch_size'], poison_percent=config['poison_percent'])\n",
    "poison_data, poison_indices = poison_attack.poison(x_train, y_train)\n",
    "print(\"Number of poison samples generated:\", len(poison_data))"
   ]
  },
  {
   "cell_type": "code",
   "execution_count": 25,
   "metadata": {},
   "outputs": [
    {
     "data": {
      "text/plain": [
       "(21, 3, 32, 32)"
      ]
     },
     "execution_count": 25,
     "metadata": {},
     "output_type": "execute_result"
    }
   ],
   "source": [
    "poison_data.shape"
   ]
  },
  {
   "cell_type": "code",
   "execution_count": 26,
   "metadata": {},
   "outputs": [
    {
     "data": {
      "text/plain": [
       "(21,)"
      ]
     },
     "execution_count": 26,
     "metadata": {},
     "output_type": "execute_result"
    }
   ],
   "source": [
    "poison_indices.shape"
   ]
  },
  {
   "cell_type": "code",
   "execution_count": 27,
   "metadata": {},
   "outputs": [
    {
     "data": {
      "text/plain": [
       "array([ 1782, 11411, 16112, 10689,  9323, 17419,  1588, 17019,  1308,\n",
       "       13227, 13367, 14327,  5483, 15816,  4038, 12379, 14463, 20107,\n",
       "       17098,  8734, 14614])"
      ]
     },
     "execution_count": 27,
     "metadata": {},
     "output_type": "execute_result"
    }
   ],
   "source": [
    "# the set of training samples used to generate poisons\n",
    "# the poisons look like these samples in the pixel space\n",
    "poison_indices"
   ]
  },
  {
   "cell_type": "markdown",
   "metadata": {},
   "source": [
    "# Fine-tuning"
   ]
  },
  {
   "cell_type": "markdown",
   "metadata": {},
   "source": [
    "## Prepare the fine-tuning dataset"
   ]
  },
  {
   "cell_type": "code",
   "execution_count": 28,
   "metadata": {},
   "outputs": [],
   "source": [
    "# Create finetuning dataset\n",
    "dataset_size = config['ft_dataset_size']\n",
    "num_classes = config['num_classes']\n",
    "num_per_class = dataset_size/num_classes\n",
    "\n",
    "poison_dataset_inds = []"
   ]
  },
  {
   "cell_type": "code",
   "execution_count": 29,
   "metadata": {},
   "outputs": [],
   "source": [
    "# we combine the poisons with some benign samples from all of the classes\n",
    "for i in range(num_classes): # for each class\n",
    "    class_inds = np.where(np.argmax(y_train,axis=1) == i)[0] # find class indices\n",
    "    num_select = int(num_per_class) # number of samples to select from the class\n",
    "    if np.argmax(target) == i: # if current_class == target_class\n",
    "        num_select = int(num_select - len(poison_data)) # for this class, select the remaining\n",
    "        poison_dataset_inds.append(poison_indices) # add the poisons' indices to the final indices we have to choose from\n",
    "    poison_dataset_inds.append(np.random.choice(class_inds, num_select, replace=False))\n",
    "    \n",
    "poison_dataset_inds = np.concatenate(poison_dataset_inds)"
   ]
  },
  {
   "cell_type": "code",
   "execution_count": 30,
   "metadata": {},
   "outputs": [],
   "source": [
    "# make the poisoned fine-tuning dataset\n",
    "poison_x = np.copy(x_train)\n",
    "\n",
    "# replace samples having 'poison_indices' with their poisoned versions\n",
    "poison_x[poison_indices] = poison_data \n",
    "\n",
    "# from the whole `x_train`, choose the ones we selected in the above cell for fine-tuning\n",
    "poison_x = poison_x[poison_dataset_inds] \n",
    "\n",
    "# from the whole 'y_train', choose the ones we selected in the above cell for fine-tuning\n",
    "poison_y = np.copy(y_train)[poison_dataset_inds] "
   ]
  },
  {
   "cell_type": "markdown",
   "metadata": {},
   "source": [
    "## Loading the Model Again"
   ]
  },
  {
   "cell_type": "code",
   "execution_count": 31,
   "metadata": {},
   "outputs": [
    {
     "data": {
      "text/plain": [
       "<All keys matched successfully>"
      ]
     },
     "execution_count": 31,
     "metadata": {},
     "output_type": "execute_result"
    }
   ],
   "source": [
    "# Load model again\n",
    "num_classes=config['num_classes']\n",
    "feature_size=4096\n",
    "# alexnet for 3*32*32\n",
    "model = nn.Sequential(\n",
    "        nn.Conv2d(3, 64, kernel_size=3, stride=2, padding=1),\n",
    "        nn.ReLU(inplace=True),\n",
    "        nn.MaxPool2d(kernel_size=2),\n",
    "        nn.Conv2d(64, 192, kernel_size=3, padding=1),\n",
    "        nn.ReLU(inplace=True),\n",
    "        nn.MaxPool2d(kernel_size=2),\n",
    "        nn.Conv2d(192, 384, kernel_size=3, padding=1),\n",
    "        nn.ReLU(inplace=True),\n",
    "        nn.Conv2d(384, 256, kernel_size=3, padding=1),\n",
    "        nn.ReLU(inplace=True),\n",
    "        nn.Conv2d(256, 256, kernel_size=3, padding=1),\n",
    "        nn.ReLU(inplace=True),\n",
    "        nn.MaxPool2d(kernel_size=2),\n",
    "        Flatten(),\n",
    "        nn.Dropout(p=0.5),\n",
    "        nn.Linear(256 * 2 * 2, 4096),\n",
    "        nn.ReLU(inplace=True),\n",
    "        nn.Dropout(p=0.5),\n",
    "        nn.Linear(4096, 4096),\n",
    "        nn.ReLU(inplace=True),\n",
    "        nn.Linear(4096, config['num_classes']),\n",
    "        )\n",
    "# vgg16\n",
    "# model = nn.Sequential(\n",
    "#     nn.Conv2d(3, 64, kernel_size=(3, 3), stride=(1, 1), padding=(1, 1)),\n",
    "#     nn.ReLU(inplace=True),\n",
    "#     nn.Conv2d(64, 64, kernel_size=(3, 3), stride=(1, 1), padding=(1, 1)),\n",
    "#     nn.ReLU(inplace=True),\n",
    "#     nn.MaxPool2d(kernel_size=2, stride=2, padding=0, dilation=1, ceil_mode=False),\n",
    "#     nn.Conv2d(64, 128, kernel_size=(3, 3), stride=(1, 1), padding=(1, 1)),\n",
    "#     nn.ReLU(inplace=True),\n",
    "#     nn.Conv2d(128, 128, kernel_size=(3, 3), stride=(1, 1), padding=(1, 1)),\n",
    "#     nn.ReLU(inplace=True),\n",
    "#     nn.MaxPool2d(kernel_size=2, stride=2, padding=0, dilation=1, ceil_mode=False),\n",
    "#     nn.Conv2d(128, 256, kernel_size=(3, 3), stride=(1, 1), padding=(1, 1)),\n",
    "#     nn.ReLU(inplace=True),\n",
    "#     nn.Conv2d(256, 256, kernel_size=(3, 3), stride=(1, 1), padding=(1, 1)),\n",
    "#     nn.ReLU(inplace=True),\n",
    "#     nn.Conv2d(256, 256, kernel_size=(3, 3), stride=(1, 1), padding=(1, 1)),\n",
    "#     nn.ReLU(inplace=True),\n",
    "#     nn.MaxPool2d(kernel_size=2, stride=2, padding=0, dilation=1, ceil_mode=False),\n",
    "#     nn.Conv2d(256, 512, kernel_size=(3, 3), stride=(1, 1), padding=(1, 1)),\n",
    "#     nn.ReLU(inplace=True),\n",
    "#     nn.Conv2d(512, 512, kernel_size=(3, 3), stride=(1, 1), padding=(1, 1)),\n",
    "#     nn.ReLU(inplace=True),\n",
    "#     nn.Conv2d(512, 512, kernel_size=(3, 3), stride=(1, 1), padding=(1, 1)),\n",
    "#     nn.ReLU(inplace=True),\n",
    "#     nn.MaxPool2d(kernel_size=2, stride=2, padding=0, dilation=1, ceil_mode=False),\n",
    "#     nn.Conv2d(512, 512, kernel_size=(3, 3), stride=(1, 1), padding=(1, 1)),\n",
    "#     nn.ReLU(inplace=True),\n",
    "#     nn.Conv2d(512, 512, kernel_size=(3, 3), stride=(1, 1), padding=(1, 1)),\n",
    "#     nn.ReLU(inplace=True),\n",
    "#     nn.Conv2d(512, 512, kernel_size=(3, 3), stride=(1, 1), padding=(1, 1)),\n",
    "#     nn.ReLU(inplace=True),\n",
    "#     nn.MaxPool2d(kernel_size=2, stride=2, padding=0, dilation=1, ceil_mode=False),\n",
    "#     nn.AdaptiveAvgPool2d(output_size=(7, 7)),\n",
    "#     Flatten(),\n",
    "#     nn.Linear(in_features=25088, out_features=4096, bias=True),\n",
    "#     nn.ReLU(inplace=True),\n",
    "#     nn.Dropout(p=0.5, inplace=False),\n",
    "#     nn.Linear(in_features=4096, out_features=4096, bias=True),\n",
    "#     nn.ReLU(inplace=True),\n",
    "#     nn.Dropout(p=0.5, inplace=False),\n",
    "#     nn.Linear(in_features=4096, out_features=config['num_classes'], bias=True)\n",
    "# )\n",
    "model.load_state_dict(torch.load(config['model_path']))"
   ]
  },
  {
   "cell_type": "markdown",
   "metadata": {},
   "source": [
    "## Freeze the layers up to the last layer"
   ]
  },
  {
   "cell_type": "code",
   "execution_count": 32,
   "metadata": {},
   "outputs": [],
   "source": [
    "for i, param in enumerate(model.parameters()):\n",
    "    param.requires_grad = False"
   ]
  },
  {
   "cell_type": "markdown",
   "metadata": {},
   "source": [
    "## Preparation for fine-tuning"
   ]
  },
  {
   "cell_type": "code",
   "execution_count": 34,
   "metadata": {},
   "outputs": [],
   "source": [
    "num_classes=config['num_classes']\n",
    "feature_size=4096\n",
    "\n",
    "# replace the last layer\n",
    "model[20] = nn.Linear(feature_size, num_classes)\n",
    "\n",
    "\n",
    "criterion = nn.CrossEntropyLoss()\n",
    "optimizer = optim.SGD(model.parameters(), lr=config['ft_learning_rate'],\n",
    "                      momentum=config['momentum'],\n",
    "                      weight_decay=config['weight_decay'])\n",
    "\n",
    "classifier = PyTorchClassifier(\n",
    "    model=model,\n",
    "    clip_values=(0, 1),\n",
    "    loss=criterion,\n",
    "    optimizer=optimizer,\n",
    "    input_shape=(3, 32, 32),\n",
    "    nb_classes=config['num_classes'],\n",
    "    preprocessing=(mean, std)\n",
    ")"
   ]
  },
  {
   "cell_type": "markdown",
   "metadata": {},
   "source": [
    "# Final Evaluation "
   ]
  },
  {
   "cell_type": "code",
   "execution_count": 35,
   "metadata": {},
   "outputs": [
    {
     "name": "stdout",
     "output_type": "stream",
     "text": [
      "Training Epoch 0\n",
      "Accuracy on benign test examples: 9.375%\n",
      "Accuracy on benign trigger test examples: 100.0%\n",
      "Accuracy on poison trigger test examples: 100.0%\n",
      "Success on poison trigger test examples: 0.0%\n",
      "\n",
      "Training Epoch 5\n",
      "Accuracy on benign test examples: 90.10416666666666%\n",
      "Accuracy on benign trigger test examples: 86.22222222222223%\n",
      "Accuracy on poison trigger test examples: 86.22222222222223%\n",
      "Success on poison trigger test examples: 2.888888888888889%\n",
      "\n",
      "Training Epoch 10\n",
      "Accuracy on benign test examples: 89.41666666666667%\n",
      "Accuracy on benign trigger test examples: 80.44444444444444%\n",
      "Accuracy on poison trigger test examples: 79.55555555555556%\n",
      "Success on poison trigger test examples: 9.333333333333334%\n",
      "\n",
      "Training Epoch 15\n",
      "Accuracy on benign test examples: 89.39583333333333%\n",
      "Accuracy on benign trigger test examples: 80.44444444444444%\n",
      "Accuracy on poison trigger test examples: 79.55555555555556%\n",
      "Success on poison trigger test examples: 9.333333333333334%\n",
      "\n"
     ]
    }
   ],
   "source": [
    "# get the indices of the test samples belonging to the source class\n",
    "# these samples will be stamped with the trigger\n",
    "# note: source+trigger = target\n",
    "trigger_test_inds = np.where(np.all(y_test == source, axis=1))[0] \n",
    "\n",
    "lr_factor = .1\n",
    "lr_schedule = [5, 10, 15]\n",
    "\n",
    "# generate poisoned test samples (source+triggers where triggers can be seen!)\n",
    "test_poisoned_samples, test_poisoned_labels  = backdoor.poison(x_test[trigger_test_inds],\n",
    "                                                               y_test[trigger_test_inds])\n",
    "\n",
    "# fine-tune for 20 epochs, after each 5 epochs, report the evaluation results\n",
    "for i in range(4):\n",
    "    print(\"Training Epoch\", i*5)\n",
    "    predictions = classifier.predict(x_test)\n",
    "    accuracy = np.sum(np.argmax(predictions, axis=1) == np.argmax(y_test, axis=1)) / len(y_test)\n",
    "    print(\"Accuracy on benign test examples: {}%\".format(accuracy * 100))\n",
    "    \n",
    "    predictions = classifier.predict(x_test[trigger_test_inds])\n",
    "    b_accuracy = np.sum(np.argmax(predictions, axis=1) == np.argmax(y_test[trigger_test_inds], axis=1)) / len(trigger_test_inds)\n",
    "    print(\"Accuracy on benign trigger test examples: {}%\".format(b_accuracy * 100))\n",
    "    \n",
    "    predictions = classifier.predict(test_poisoned_samples)\n",
    "    p_accuracy = np.sum(np.argmax(predictions, axis=1) == np.argmax(test_poisoned_labels,axis=1)) / len(test_poisoned_labels)\n",
    "    print(\"Accuracy on poison trigger test examples: {}%\".format(p_accuracy * 100))\n",
    "    p_success = np.sum(np.argmax(predictions, axis=1) == np.argmax(target)) / len(test_poisoned_labels)\n",
    "    print(\"Success on poison trigger test examples: {}%\".format(p_success * 100))\n",
    "    print()\n",
    "    if i != 0:\n",
    "        # for all epochs expect the first one,\n",
    "        # lower the learning rate by multiplying it by .1\n",
    "        for param_group in classifier.optimizer.param_groups:\n",
    "            param_group[\"lr\"] *= lr_factor\n",
    "    classifier.fit(poison_x, poison_y, epochs=5, training_mode=False)"
   ]
  },
  {
   "cell_type": "code",
   "execution_count": 36,
   "metadata": {},
   "outputs": [
    {
     "name": "stdout",
     "output_type": "stream",
     "text": [
      "Final Performance\n",
      "Accuracy on benign test examples: 89.375%\n",
      "Accuracy on benign trigger test examples: 80.44444444444444%\n",
      "Accuracy on poison trigger test examples: 79.55555555555556%\n",
      "Success on poison trigger test examples: 9.333333333333334%\n"
     ]
    }
   ],
   "source": [
    "# print the final evaluation results\n",
    "print(\"Final Performance\")\n",
    "predictions = classifier.predict(x_test)\n",
    "accuracy = np.sum(np.argmax(predictions, axis=1) == np.argmax(y_test, axis=1)) / len(y_test)\n",
    "print(\"Accuracy on benign test examples: {}%\".format(accuracy * 100))\n",
    "\n",
    "predictions = classifier.predict(x_test[trigger_test_inds])\n",
    "b_accuracy = np.sum(np.argmax(predictions, axis=1) == np.argmax(y_test[trigger_test_inds], axis=1)) / len(trigger_test_inds)\n",
    "print(\"Accuracy on benign trigger test examples: {}%\".format(b_accuracy * 100))\n",
    "\n",
    "predictions = classifier.predict(test_poisoned_samples)\n",
    "p_accuracy = np.sum(np.argmax(predictions, axis=1) == np.argmax(y_test[trigger_test_inds],axis=1)) / len(trigger_test_inds)\n",
    "print(\"Accuracy on poison trigger test examples: {}%\".format(p_accuracy * 100))\n",
    "p_success = np.sum(np.argmax(predictions, axis=1) == np.argmax(target)) / len(trigger_test_inds)\n",
    "print(\"Success on poison trigger test examples: {}%\".format(p_success * 100))"
   ]
  }
 ],
 "metadata": {
  "kernelspec": {
   "display_name": "Python 3 (ipykernel)",
   "language": "python",
   "name": "python3"
  },
  "language_info": {
   "codemirror_mode": {
    "name": "ipython",
    "version": 3
   },
   "file_extension": ".py",
   "mimetype": "text/x-python",
   "name": "python",
   "nbconvert_exporter": "python",
   "pygments_lexer": "ipython3",
   "version": "3.9.13"
  }
 },
 "nbformat": 4,
 "nbformat_minor": 2
}
