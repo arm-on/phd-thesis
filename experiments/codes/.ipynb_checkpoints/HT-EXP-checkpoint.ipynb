{
 "cells": [
  {
   "cell_type": "code",
   "execution_count": 73,
   "id": "b814cd14",
   "metadata": {},
   "outputs": [],
   "source": [
    "import pickle\n",
    "from torchvision.models.feature_extraction import create_feature_extractor, get_graph_node_names\n",
    "import torch\n",
    "import numpy as np\n",
    "from scipy.spatial.distance import pdist, cdist\n",
    "import random\n",
    "from sklearn.metrics import pairwise_distances\n",
    "from cv2 import resize\n",
    "from PIL import Image"
   ]
  },
  {
   "cell_type": "markdown",
   "id": "8833f38b",
   "metadata": {},
   "source": [
    "# Preliminaries"
   ]
  },
  {
   "cell_type": "code",
   "execution_count": 91,
   "id": "c50dd2d6",
   "metadata": {},
   "outputs": [],
   "source": [
    "def resize_np_img(img, size=(15,15)):\n",
    "    return resize(img.transpose(2,1,0), size).transpose(2,1,0)"
   ]
  },
  {
   "cell_type": "code",
   "execution_count": 92,
   "id": "d20fdb1a",
   "metadata": {},
   "outputs": [],
   "source": [
    "def show_img(img):\n",
    "    img = np.uint8(img.transpose(2,1,0)*255)\n",
    "    return Image.fromarray(img)"
   ]
  },
  {
   "cell_type": "code",
   "execution_count": 2,
   "id": "cd22fea5",
   "metadata": {},
   "outputs": [],
   "source": [
    "with open('result.pkl', 'rb') as file:\n",
    "    data = pickle.load(file)"
   ]
  },
  {
   "cell_type": "code",
   "execution_count": 3,
   "id": "d6a6f84b",
   "metadata": {},
   "outputs": [],
   "source": [
    "x = data['poison_x']\n",
    "y = data['poison_y']\n",
    "poison_idxs = data['poison_idxs']"
   ]
  },
  {
   "cell_type": "code",
   "execution_count": 4,
   "id": "f1b76e6f",
   "metadata": {},
   "outputs": [
    {
     "data": {
      "text/plain": [
       "[1000,\n",
       " 1001,\n",
       " 1002,\n",
       " 1003,\n",
       " 1004,\n",
       " 1005,\n",
       " 1006,\n",
       " 1007,\n",
       " 1008,\n",
       " 1009,\n",
       " 1010,\n",
       " 1011,\n",
       " 1012,\n",
       " 1013,\n",
       " 1014,\n",
       " 1015,\n",
       " 1016,\n",
       " 1017,\n",
       " 1018,\n",
       " 1019,\n",
       " 1020,\n",
       " 1021,\n",
       " 1022,\n",
       " 1023,\n",
       " 1024,\n",
       " 1025,\n",
       " 1026,\n",
       " 1027,\n",
       " 1028,\n",
       " 1029,\n",
       " 1030,\n",
       " 1031,\n",
       " 1032,\n",
       " 1033,\n",
       " 1034,\n",
       " 1035,\n",
       " 1036,\n",
       " 1037,\n",
       " 1038,\n",
       " 1039,\n",
       " 1040,\n",
       " 1041,\n",
       " 1042,\n",
       " 1043,\n",
       " 1044,\n",
       " 1045,\n",
       " 1046,\n",
       " 1047,\n",
       " 1048,\n",
       " 1049]"
      ]
     },
     "execution_count": 4,
     "metadata": {},
     "output_type": "execute_result"
    }
   ],
   "source": [
    "poison_idxs"
   ]
  },
  {
   "cell_type": "code",
   "execution_count": 5,
   "id": "2e98a2db",
   "metadata": {},
   "outputs": [],
   "source": [
    "model = torch.load('result.pt')"
   ]
  },
  {
   "cell_type": "code",
   "execution_count": 6,
   "id": "dc848c52",
   "metadata": {},
   "outputs": [
    {
     "data": {
      "text/plain": [
       "Sequential(\n",
       "  (0): Conv2d(3, 64, kernel_size=(3, 3), stride=(2, 2), padding=(1, 1))\n",
       "  (1): ReLU(inplace=True)\n",
       "  (2): MaxPool2d(kernel_size=3, stride=2, padding=0, dilation=1, ceil_mode=False)\n",
       "  (3): Conv2d(64, 192, kernel_size=(3, 3), stride=(1, 1), padding=(1, 1))\n",
       "  (4): ReLU(inplace=True)\n",
       "  (5): MaxPool2d(kernel_size=3, stride=2, padding=0, dilation=1, ceil_mode=False)\n",
       "  (6): Conv2d(192, 384, kernel_size=(3, 3), stride=(1, 1), padding=(1, 1))\n",
       "  (7): ReLU(inplace=True)\n",
       "  (8): Conv2d(384, 256, kernel_size=(3, 3), stride=(1, 1), padding=(1, 1))\n",
       "  (9): ReLU(inplace=True)\n",
       "  (10): Conv2d(256, 256, kernel_size=(3, 3), stride=(1, 1), padding=(1, 1))\n",
       "  (11): ReLU(inplace=True)\n",
       "  (12): MaxPool2d(kernel_size=3, stride=2, padding=0, dilation=1, ceil_mode=False)\n",
       "  (13): Flatten(start_dim=1, end_dim=-1)\n",
       "  (14): Dropout(p=0.5, inplace=False)\n",
       "  (15): Linear(in_features=256, out_features=4096, bias=True)\n",
       "  (16): ReLU(inplace=True)\n",
       "  (17): Dropout(p=0.5, inplace=False)\n",
       "  (18): Linear(in_features=4096, out_features=4096, bias=True)\n",
       "  (19): ReLU(inplace=True)\n",
       "  (20): Linear(in_features=4096, out_features=10, bias=True)\n",
       ")"
      ]
     },
     "execution_count": 6,
     "metadata": {},
     "output_type": "execute_result"
    }
   ],
   "source": [
    "model"
   ]
  },
  {
   "cell_type": "code",
   "execution_count": 7,
   "id": "e291ae92",
   "metadata": {},
   "outputs": [
    {
     "name": "stdout",
     "output_type": "stream",
     "text": [
      "0:Conv2d(3, 64, kernel_size=(3, 3), stride=(2, 2), padding=(1, 1))\n",
      "1:ReLU(inplace=True)\n",
      "2:MaxPool2d(kernel_size=3, stride=2, padding=0, dilation=1, ceil_mode=False)\n",
      "3:Conv2d(64, 192, kernel_size=(3, 3), stride=(1, 1), padding=(1, 1))\n",
      "4:ReLU(inplace=True)\n",
      "5:MaxPool2d(kernel_size=3, stride=2, padding=0, dilation=1, ceil_mode=False)\n",
      "6:Conv2d(192, 384, kernel_size=(3, 3), stride=(1, 1), padding=(1, 1))\n",
      "7:ReLU(inplace=True)\n",
      "8:Conv2d(384, 256, kernel_size=(3, 3), stride=(1, 1), padding=(1, 1))\n",
      "9:ReLU(inplace=True)\n",
      "10:Conv2d(256, 256, kernel_size=(3, 3), stride=(1, 1), padding=(1, 1))\n",
      "11:ReLU(inplace=True)\n",
      "12:MaxPool2d(kernel_size=3, stride=2, padding=0, dilation=1, ceil_mode=False)\n",
      "13:Flatten(start_dim=1, end_dim=-1)\n",
      "14:Dropout(p=0.5, inplace=False)\n",
      "15:Linear(in_features=256, out_features=4096, bias=True)\n",
      "16:ReLU(inplace=True)\n",
      "17:Dropout(p=0.5, inplace=False)\n",
      "18:Linear(in_features=4096, out_features=4096, bias=True)\n",
      "19:ReLU(inplace=True)\n",
      "20:Linear(in_features=4096, out_features=10, bias=True)\n"
     ]
    }
   ],
   "source": [
    "for idx, child in enumerate(model.children()):\n",
    "    print(f'{idx}:{child}')"
   ]
  },
  {
   "cell_type": "code",
   "execution_count": 8,
   "id": "1be0df41",
   "metadata": {},
   "outputs": [
    {
     "data": {
      "text/plain": [
       "(['input',\n",
       "  '0',\n",
       "  '1',\n",
       "  '2',\n",
       "  '3',\n",
       "  '4',\n",
       "  '5',\n",
       "  '6',\n",
       "  '7',\n",
       "  '8',\n",
       "  '9',\n",
       "  '10',\n",
       "  '11',\n",
       "  '12',\n",
       "  '13',\n",
       "  '14',\n",
       "  '15',\n",
       "  '16',\n",
       "  '17',\n",
       "  '18',\n",
       "  '19',\n",
       "  '20'],\n",
       " ['input',\n",
       "  '0',\n",
       "  '1',\n",
       "  '2',\n",
       "  '3',\n",
       "  '4',\n",
       "  '5',\n",
       "  '6',\n",
       "  '7',\n",
       "  '8',\n",
       "  '9',\n",
       "  '10',\n",
       "  '11',\n",
       "  '12',\n",
       "  '13',\n",
       "  '14',\n",
       "  '15',\n",
       "  '16',\n",
       "  '17',\n",
       "  '18',\n",
       "  '19',\n",
       "  '20'])"
      ]
     },
     "execution_count": 8,
     "metadata": {},
     "output_type": "execute_result"
    }
   ],
   "source": [
    "get_graph_node_names(model)"
   ]
  },
  {
   "cell_type": "code",
   "execution_count": 9,
   "id": "8b502ea0",
   "metadata": {},
   "outputs": [],
   "source": [
    "# return_nodes = {\n",
    "#     \"avgpool\": \"avgpool\"\n",
    "# }\n",
    "model2 = create_feature_extractor(model, return_nodes={'18':'18'})\n",
    "model2 = model2.to('cuda')"
   ]
  },
  {
   "cell_type": "code",
   "execution_count": 10,
   "id": "fd592aba",
   "metadata": {},
   "outputs": [
    {
     "data": {
      "text/plain": [
       "torch.Size([1, 4096])"
      ]
     },
     "execution_count": 10,
     "metadata": {},
     "output_type": "execute_result"
    }
   ],
   "source": [
    "rnd = np.random.rand(1,3,32,32)\n",
    "model2(torch.Tensor(rnd.astype('float32')).to('cuda'))['18'].shape"
   ]
  },
  {
   "cell_type": "code",
   "execution_count": 11,
   "id": "75c8b1ec",
   "metadata": {},
   "outputs": [],
   "source": [
    "def get_repr(x):\n",
    "    return model2(torch.Tensor(x.astype('float32')).reshape(-1,3,32,32).to('cuda'))['18'].squeeze().cpu().numpy()"
   ]
  },
  {
   "cell_type": "code",
   "execution_count": 12,
   "id": "ec37ed8a",
   "metadata": {},
   "outputs": [
    {
     "data": {
      "text/plain": [
       "array([ 0.09014574, -0.00540234,  0.05021276, ...,  0.20983142,\n",
       "        0.13595536,  0.2339743 ], dtype=float32)"
      ]
     },
     "execution_count": 12,
     "metadata": {},
     "output_type": "execute_result"
    }
   ],
   "source": [
    "get_repr(rnd)"
   ]
  },
  {
   "cell_type": "markdown",
   "id": "33586124",
   "metadata": {},
   "source": [
    "# Real deal"
   ]
  },
  {
   "cell_type": "code",
   "execution_count": 13,
   "id": "6c07e94a",
   "metadata": {},
   "outputs": [
    {
     "data": {
      "text/plain": [
       "array([0, 1, 2, 3, 4, 5, 6, 7, 8, 9])"
      ]
     },
     "execution_count": 13,
     "metadata": {},
     "output_type": "execute_result"
    }
   ],
   "source": [
    "np.unique(y.argmax(axis=1))"
   ]
  },
  {
   "cell_type": "code",
   "execution_count": 14,
   "id": "8dbc51df",
   "metadata": {},
   "outputs": [
    {
     "data": {
      "text/plain": [
       "(array([  0,   1,   2,   3,   4,   5,   6,   7,   8,   9,  10,  11,  12,\n",
       "         13,  14,  15,  16,  17,  18,  19,  20,  21,  22,  23,  24,  25,\n",
       "         26,  27,  28,  29,  30,  31,  32,  33,  34,  35,  36,  37,  38,\n",
       "         39,  40,  41,  42,  43,  44,  45,  46,  47,  48,  49,  50,  51,\n",
       "         52,  53,  54,  55,  56,  57,  58,  59,  60,  61,  62,  63,  64,\n",
       "         65,  66,  67,  68,  69,  70,  71,  72,  73,  74,  75,  76,  77,\n",
       "         78,  79,  80,  81,  82,  83,  84,  85,  86,  87,  88,  89,  90,\n",
       "         91,  92,  93,  94,  95,  96,  97,  98,  99, 100, 101, 102, 103,\n",
       "        104, 105, 106, 107, 108, 109, 110, 111, 112, 113, 114, 115, 116,\n",
       "        117, 118, 119, 120, 121, 122, 123, 124, 125, 126, 127, 128, 129,\n",
       "        130, 131, 132, 133, 134, 135, 136, 137, 138, 139, 140, 141, 142,\n",
       "        143, 144, 145, 146, 147, 148, 149, 150, 151, 152, 153, 154, 155,\n",
       "        156, 157, 158, 159, 160, 161, 162, 163, 164, 165, 166, 167, 168,\n",
       "        169, 170, 171, 172, 173, 174, 175, 176, 177, 178, 179, 180, 181,\n",
       "        182, 183, 184, 185, 186, 187, 188, 189, 190, 191, 192, 193, 194,\n",
       "        195, 196, 197, 198, 199, 200, 201, 202, 203, 204, 205, 206, 207,\n",
       "        208, 209, 210, 211, 212, 213, 214, 215, 216, 217, 218, 219, 220,\n",
       "        221, 222, 223, 224, 225, 226, 227, 228, 229, 230, 231, 232, 233,\n",
       "        234, 235, 236, 237, 238, 239, 240, 241, 242, 243, 244, 245, 246,\n",
       "        247, 248, 249]),)"
      ]
     },
     "execution_count": 14,
     "metadata": {},
     "output_type": "execute_result"
    }
   ],
   "source": [
    "np.where(y.argmax(axis=1)==0)"
   ]
  },
  {
   "cell_type": "code",
   "execution_count": 15,
   "id": "6c140906",
   "metadata": {},
   "outputs": [],
   "source": [
    "centers = {i:get_repr(x[np.where(y.argmax(axis=1)==i)]).mean(axis=0) for i in range(10)}"
   ]
  },
  {
   "cell_type": "code",
   "execution_count": 16,
   "id": "97236617",
   "metadata": {},
   "outputs": [],
   "source": [
    "centers_arr = np.array([centers[i] for i in range(10)])"
   ]
  },
  {
   "cell_type": "code",
   "execution_count": 17,
   "id": "37ebc20f",
   "metadata": {},
   "outputs": [
    {
     "data": {
      "text/plain": [
       "(10, 4096)"
      ]
     },
     "execution_count": 17,
     "metadata": {},
     "output_type": "execute_result"
    }
   ],
   "source": [
    "centers_arr.shape"
   ]
  },
  {
   "cell_type": "code",
   "execution_count": 18,
   "id": "0a5ae643",
   "metadata": {},
   "outputs": [],
   "source": [
    "repr_arr = get_repr(x)"
   ]
  },
  {
   "cell_type": "code",
   "execution_count": 19,
   "id": "efa25704",
   "metadata": {},
   "outputs": [
    {
     "data": {
      "text/plain": [
       "(2500, 4096)"
      ]
     },
     "execution_count": 19,
     "metadata": {},
     "output_type": "execute_result"
    }
   ],
   "source": [
    "repr_arr.shape"
   ]
  },
  {
   "cell_type": "code",
   "execution_count": 20,
   "id": "39a2ee9f",
   "metadata": {},
   "outputs": [],
   "source": [
    "distances = cdist(repr_arr,centers_arr)"
   ]
  },
  {
   "cell_type": "code",
   "execution_count": 21,
   "id": "0f93437f",
   "metadata": {},
   "outputs": [
    {
     "data": {
      "text/plain": [
       "(2500, 10)"
      ]
     },
     "execution_count": 21,
     "metadata": {},
     "output_type": "execute_result"
    }
   ],
   "source": [
    "distances.shape"
   ]
  },
  {
   "cell_type": "code",
   "execution_count": 22,
   "id": "f952bfec",
   "metadata": {},
   "outputs": [],
   "source": [
    "clean_distances = np.delete(distances, poison_idxs,axis=0)\n",
    "poison_distances = distances[poison_idxs, :]"
   ]
  },
  {
   "cell_type": "code",
   "execution_count": 23,
   "id": "0a1f30df",
   "metadata": {},
   "outputs": [
    {
     "data": {
      "text/plain": [
       "(2450, 10)"
      ]
     },
     "execution_count": 23,
     "metadata": {},
     "output_type": "execute_result"
    }
   ],
   "source": [
    "clean_distances.shape"
   ]
  },
  {
   "cell_type": "code",
   "execution_count": 24,
   "id": "3e89e00a",
   "metadata": {},
   "outputs": [
    {
     "data": {
      "text/plain": [
       "(50, 10)"
      ]
     },
     "execution_count": 24,
     "metadata": {},
     "output_type": "execute_result"
    }
   ],
   "source": [
    "poison_distances.shape"
   ]
  },
  {
   "cell_type": "code",
   "execution_count": 25,
   "id": "70ba4789",
   "metadata": {},
   "outputs": [
    {
     "data": {
      "text/plain": [
       "1.5011720760773772"
      ]
     },
     "execution_count": 25,
     "metadata": {},
     "output_type": "execute_result"
    }
   ],
   "source": [
    "clean_distances[0][y[0].argmax(axis=0)]"
   ]
  },
  {
   "cell_type": "code",
   "execution_count": 26,
   "id": "6201a180",
   "metadata": {},
   "outputs": [
    {
     "data": {
      "text/plain": [
       "array([1.50117208, 1.08054309, 0.89856453, 0.61843166, 1.46153795,\n",
       "       0.6945936 , 1.16608748, 0.82008687, 2.15096817, 1.50009699])"
      ]
     },
     "execution_count": 26,
     "metadata": {},
     "output_type": "execute_result"
    }
   ],
   "source": [
    "clean_distances[0]"
   ]
  },
  {
   "cell_type": "code",
   "execution_count": 27,
   "id": "7a347f3a",
   "metadata": {},
   "outputs": [
    {
     "data": {
      "text/plain": [
       "array([1.83343947, 1.33143404, 1.49455453, 0.98013768, 1.77884233,\n",
       "       1.0905715 , 1.60226633, 1.09066659, 2.33353175, 1.63354673])"
      ]
     },
     "execution_count": 27,
     "metadata": {},
     "output_type": "execute_result"
    }
   ],
   "source": [
    "poison_distances[0]"
   ]
  },
  {
   "cell_type": "code",
   "execution_count": 28,
   "id": "58c1381a",
   "metadata": {},
   "outputs": [],
   "source": [
    "dist_from_center = np.array([dists[y[idx].argmax(axis=0)] for idx, dists in enumerate(distances)])"
   ]
  },
  {
   "cell_type": "code",
   "execution_count": 29,
   "id": "0dd8d858",
   "metadata": {},
   "outputs": [
    {
     "data": {
      "text/plain": [
       "(2500,)"
      ]
     },
     "execution_count": 29,
     "metadata": {},
     "output_type": "execute_result"
    }
   ],
   "source": [
    "dist_from_center.shape"
   ]
  },
  {
   "cell_type": "code",
   "execution_count": 30,
   "id": "dd840ccf",
   "metadata": {},
   "outputs": [],
   "source": [
    "clean_dist_fc = np.delete(dist_from_center, poison_idxs,axis=0)"
   ]
  },
  {
   "cell_type": "code",
   "execution_count": 31,
   "id": "a4305f4c",
   "metadata": {},
   "outputs": [],
   "source": [
    "poison_dist_fc = dist_from_center[poison_idxs]"
   ]
  },
  {
   "cell_type": "code",
   "execution_count": 32,
   "id": "76c4351b",
   "metadata": {},
   "outputs": [
    {
     "data": {
      "text/plain": [
       "(2450,)"
      ]
     },
     "execution_count": 32,
     "metadata": {},
     "output_type": "execute_result"
    }
   ],
   "source": [
    "clean_dist_fc.shape"
   ]
  },
  {
   "cell_type": "code",
   "execution_count": 33,
   "id": "f62bfc84",
   "metadata": {},
   "outputs": [
    {
     "data": {
      "text/plain": [
       "(50,)"
      ]
     },
     "execution_count": 33,
     "metadata": {},
     "output_type": "execute_result"
    }
   ],
   "source": [
    "poison_dist_fc.shape"
   ]
  },
  {
   "cell_type": "code",
   "execution_count": 34,
   "id": "613ee14c",
   "metadata": {},
   "outputs": [
    {
     "data": {
      "text/plain": [
       "1.7435927679330914"
      ]
     },
     "execution_count": 34,
     "metadata": {},
     "output_type": "execute_result"
    }
   ],
   "source": [
    "clean_dist_fc.mean()"
   ]
  },
  {
   "cell_type": "code",
   "execution_count": 35,
   "id": "39a85564",
   "metadata": {},
   "outputs": [
    {
     "data": {
      "text/plain": [
       "1.3778437407604498"
      ]
     },
     "execution_count": 35,
     "metadata": {},
     "output_type": "execute_result"
    }
   ],
   "source": [
    "poison_dist_fc.mean()"
   ]
  },
  {
   "cell_type": "code",
   "execution_count": 36,
   "id": "c07e4387",
   "metadata": {},
   "outputs": [
    {
     "data": {
      "text/plain": [
       "(3072,)"
      ]
     },
     "execution_count": 36,
     "metadata": {},
     "output_type": "execute_result"
    }
   ],
   "source": [
    "x[0].reshape(3*32*32).shape"
   ]
  },
  {
   "cell_type": "code",
   "execution_count": 37,
   "id": "319f5836",
   "metadata": {},
   "outputs": [],
   "source": [
    "tmp_x = x.reshape(2500,3*32*32)"
   ]
  },
  {
   "cell_type": "code",
   "execution_count": 38,
   "id": "0c2b50db",
   "metadata": {},
   "outputs": [],
   "source": [
    "pw_distances = pairwise_distances(tmp_x)"
   ]
  },
  {
   "cell_type": "code",
   "execution_count": 39,
   "id": "771854e1",
   "metadata": {},
   "outputs": [],
   "source": [
    "for idx, dists in enumerate(pw_distances):\n",
    "    pw_distances[idx][idx] = 10000000"
   ]
  },
  {
   "cell_type": "code",
   "execution_count": 40,
   "id": "960481ff",
   "metadata": {},
   "outputs": [
    {
     "data": {
      "text/plain": [
       "(2500, 2500)"
      ]
     },
     "execution_count": 40,
     "metadata": {},
     "output_type": "execute_result"
    }
   ],
   "source": [
    "pw_distances.shape"
   ]
  },
  {
   "cell_type": "code",
   "execution_count": 41,
   "id": "82625c2c",
   "metadata": {},
   "outputs": [],
   "source": [
    "nearest_neighbors_input_space = pw_distances.argsort(axis=1)[:,:9]"
   ]
  },
  {
   "cell_type": "code",
   "execution_count": 42,
   "id": "64b3e915",
   "metadata": {},
   "outputs": [],
   "source": [
    "pw_distances_feature_space = pairwise_distances(repr_arr)"
   ]
  },
  {
   "cell_type": "code",
   "execution_count": 43,
   "id": "81dad7a8",
   "metadata": {},
   "outputs": [
    {
     "data": {
      "text/plain": [
       "(2500, 2500)"
      ]
     },
     "execution_count": 43,
     "metadata": {},
     "output_type": "execute_result"
    }
   ],
   "source": [
    "pw_distances_feature_space.shape"
   ]
  },
  {
   "cell_type": "code",
   "execution_count": 44,
   "id": "ab32841b",
   "metadata": {},
   "outputs": [],
   "source": [
    "for idx, dists in enumerate(pw_distances_feature_space):\n",
    "    pw_distances_feature_space[idx][idx] = 10000000"
   ]
  },
  {
   "cell_type": "code",
   "execution_count": 45,
   "id": "ca3e78e0",
   "metadata": {},
   "outputs": [],
   "source": [
    "nearest_neighbors_feature_space = pw_distances_feature_space.argsort(axis=1)[:,:9]"
   ]
  },
  {
   "cell_type": "code",
   "execution_count": 113,
   "id": "9d26fee2",
   "metadata": {},
   "outputs": [],
   "source": [
    "def get_model_output(model, inp):\n",
    "    return model(torch.Tensor(inp.astype('float32')).reshape(-1,3,32,32).to('cuda')).detach().squeeze().cpu().numpy().argmax(axis=-1)"
   ]
  },
  {
   "cell_type": "code",
   "execution_count": 116,
   "id": "15e2bad2",
   "metadata": {},
   "outputs": [],
   "source": [
    "def get_model_scores(model, inp):\n",
    "    return model(torch.Tensor(inp.astype('float32')).reshape(-1,3,32,32).to('cuda')).detach().squeeze().cpu().numpy()"
   ]
  },
  {
   "cell_type": "code",
   "execution_count": 127,
   "id": "8758c58f",
   "metadata": {},
   "outputs": [],
   "source": [
    "def get_resized_model_outputs(model, inp, size_lst):\n",
    "    outputs = []\n",
    "    for size in size_lst:\n",
    "        resized_img = resize_np_img(inp, size)\n",
    "        comp_img = resize_np_img(inp, (32,32))\n",
    "        out = get_model_output(model, inp)\n",
    "        outputs.append(out)\n",
    "    return outputs"
   ]
  },
  {
   "cell_type": "code",
   "execution_count": 134,
   "id": "6b1d4505",
   "metadata": {},
   "outputs": [],
   "source": [
    "def get_resized_model_scores(model, inp, size_lst):\n",
    "    scores_lst = []\n",
    "    for size in size_lst:\n",
    "        resized_img = resize_np_img(inp, size)\n",
    "        comp_img = resize_np_img(inp, (32,32))\n",
    "        scores = get_model_scores(model, inp)\n",
    "        scores_lst.append(scores)\n",
    "    return np.array(scores_lst)"
   ]
  },
  {
   "cell_type": "code",
   "execution_count": 137,
   "id": "785e98fd",
   "metadata": {},
   "outputs": [
    {
     "data": {
      "text/plain": [
       "(5, 10)"
      ]
     },
     "execution_count": 137,
     "metadata": {},
     "output_type": "execute_result"
    }
   ],
   "source": [
    "get_resized_model_scores(model, x[2], [(30,30),(25,25),(20,20),(15,15),(10,10)]).shape"
   ]
  },
  {
   "cell_type": "code",
   "execution_count": 128,
   "id": "82b76cb2",
   "metadata": {},
   "outputs": [
    {
     "data": {
      "text/plain": [
       "[3, 3, 3, 3, 3]"
      ]
     },
     "execution_count": 128,
     "metadata": {},
     "output_type": "execute_result"
    }
   ],
   "source": [
    "get_resized_model_outputs(model, x[2], [(30,30),(25,25),(20,20),(15,15),(10,10)])"
   ]
  },
  {
   "cell_type": "code",
   "execution_count": 129,
   "id": "1c1d8cb1",
   "metadata": {},
   "outputs": [
    {
     "data": {
      "text/plain": [
       "array([1., 0., 0., 0., 0., 0., 0., 0., 0., 0.], dtype=float32)"
      ]
     },
     "execution_count": 129,
     "metadata": {},
     "output_type": "execute_result"
    }
   ],
   "source": [
    "y[2]"
   ]
  },
  {
   "cell_type": "code",
   "execution_count": 123,
   "id": "29373359",
   "metadata": {},
   "outputs": [
    {
     "data": {
      "text/plain": [
       "array([3, 3])"
      ]
     },
     "execution_count": 123,
     "metadata": {},
     "output_type": "execute_result"
    }
   ],
   "source": [
    "get_model_output(model, x[:2])"
   ]
  },
  {
   "cell_type": "code",
   "execution_count": 126,
   "id": "75c21f48",
   "metadata": {},
   "outputs": [
    {
     "data": {
      "text/plain": [
       "(2, 3, 32, 32)"
      ]
     },
     "execution_count": 126,
     "metadata": {},
     "output_type": "execute_result"
    }
   ],
   "source": [
    "x[:2].shape"
   ]
  },
  {
   "cell_type": "code",
   "execution_count": 125,
   "id": "b27d2f4a",
   "metadata": {},
   "outputs": [
    {
     "data": {
      "text/plain": [
       "(3, 20, 20)"
      ]
     },
     "execution_count": 125,
     "metadata": {},
     "output_type": "execute_result"
    }
   ],
   "source": [
    "resize_np_img(x[2], (20,20)).shape"
   ]
  },
  {
   "cell_type": "code",
   "execution_count": 122,
   "id": "63e15189",
   "metadata": {},
   "outputs": [
    {
     "ename": "RuntimeError",
     "evalue": "shape '[-1, 3, 32, 32]' is invalid for input of size 1200",
     "output_type": "error",
     "traceback": [
      "\u001b[0;31m---------------------------------------------------------------------------\u001b[0m",
      "\u001b[0;31mRuntimeError\u001b[0m                              Traceback (most recent call last)",
      "\u001b[0;32m/tmp/ipykernel_2542948/2731331048.py\u001b[0m in \u001b[0;36m<module>\u001b[0;34m\u001b[0m\n\u001b[0;32m----> 1\u001b[0;31m \u001b[0mget_model_scores\u001b[0m\u001b[0;34m(\u001b[0m\u001b[0mmodel\u001b[0m\u001b[0;34m,\u001b[0m \u001b[0mresize_np_img\u001b[0m\u001b[0;34m(\u001b[0m\u001b[0mx\u001b[0m\u001b[0;34m[\u001b[0m\u001b[0;36m2\u001b[0m\u001b[0;34m]\u001b[0m\u001b[0;34m,\u001b[0m \u001b[0;34m(\u001b[0m\u001b[0;36m20\u001b[0m\u001b[0;34m,\u001b[0m\u001b[0;36m20\u001b[0m\u001b[0;34m)\u001b[0m\u001b[0;34m)\u001b[0m\u001b[0;34m)\u001b[0m\u001b[0;34m\u001b[0m\u001b[0;34m\u001b[0m\u001b[0m\n\u001b[0m",
      "\u001b[0;32m/tmp/ipykernel_2542948/1584435476.py\u001b[0m in \u001b[0;36mget_model_scores\u001b[0;34m(model, inp)\u001b[0m\n\u001b[1;32m      1\u001b[0m \u001b[0;32mdef\u001b[0m \u001b[0mget_model_scores\u001b[0m\u001b[0;34m(\u001b[0m\u001b[0mmodel\u001b[0m\u001b[0;34m,\u001b[0m \u001b[0minp\u001b[0m\u001b[0;34m)\u001b[0m\u001b[0;34m:\u001b[0m\u001b[0;34m\u001b[0m\u001b[0;34m\u001b[0m\u001b[0m\n\u001b[0;32m----> 2\u001b[0;31m     \u001b[0;32mreturn\u001b[0m \u001b[0mmodel\u001b[0m\u001b[0;34m(\u001b[0m\u001b[0mtorch\u001b[0m\u001b[0;34m.\u001b[0m\u001b[0mTensor\u001b[0m\u001b[0;34m(\u001b[0m\u001b[0minp\u001b[0m\u001b[0;34m.\u001b[0m\u001b[0mastype\u001b[0m\u001b[0;34m(\u001b[0m\u001b[0;34m'float32'\u001b[0m\u001b[0;34m)\u001b[0m\u001b[0;34m)\u001b[0m\u001b[0;34m.\u001b[0m\u001b[0mreshape\u001b[0m\u001b[0;34m(\u001b[0m\u001b[0;34m-\u001b[0m\u001b[0;36m1\u001b[0m\u001b[0;34m,\u001b[0m\u001b[0;36m3\u001b[0m\u001b[0;34m,\u001b[0m\u001b[0;36m32\u001b[0m\u001b[0;34m,\u001b[0m\u001b[0;36m32\u001b[0m\u001b[0;34m)\u001b[0m\u001b[0;34m.\u001b[0m\u001b[0mto\u001b[0m\u001b[0;34m(\u001b[0m\u001b[0;34m'cuda'\u001b[0m\u001b[0;34m)\u001b[0m\u001b[0;34m)\u001b[0m\u001b[0;34m.\u001b[0m\u001b[0mdetach\u001b[0m\u001b[0;34m(\u001b[0m\u001b[0;34m)\u001b[0m\u001b[0;34m.\u001b[0m\u001b[0msqueeze\u001b[0m\u001b[0;34m(\u001b[0m\u001b[0;34m)\u001b[0m\u001b[0;34m.\u001b[0m\u001b[0mcpu\u001b[0m\u001b[0;34m(\u001b[0m\u001b[0;34m)\u001b[0m\u001b[0;34m.\u001b[0m\u001b[0mnumpy\u001b[0m\u001b[0;34m(\u001b[0m\u001b[0;34m)\u001b[0m\u001b[0;34m\u001b[0m\u001b[0;34m\u001b[0m\u001b[0m\n\u001b[0m",
      "\u001b[0;31mRuntimeError\u001b[0m: shape '[-1, 3, 32, 32]' is invalid for input of size 1200"
     ]
    }
   ],
   "source": [
    "get_model_scores(model, resize_np_img(x[2], (20,20)))"
   ]
  },
  {
   "cell_type": "code",
   "execution_count": 186,
   "id": "e132b9f7",
   "metadata": {},
   "outputs": [
    {
     "name": "stdout",
     "output_type": "stream",
     "text": [
      "idx: 2002 (clean) | label: 8\n",
      "in feature space: distance from label center: 0.9495010526063606 | min distance from all label centers: 0.9495010526063606\n",
      "the nearest label in input space: 8\n",
      "the nearest neighbors labels (input space): [8 8 8 0 8 8 8 0 8]\n",
      "the nearest neighbors labels (feature space): [8 8 2 4 8 0 0 0 9]\n",
      "output of compressed versions: [4, 4, 4, 4, 4]\n"
     ]
    }
   ],
   "source": [
    "n = 1000\n",
    "rnd_cidx = random.choice(list(range(1,n)) + list(range(n+50, 2500)))\n",
    "print(f'idx: {rnd_cidx} (clean) | label: {y[rnd_cidx].argmax(axis=0)}')\n",
    "print(f'in feature space: distance from label center: {distances[rnd_cidx][y[rnd_cidx].argmax(axis=0)]} | min distance from all label centers: {distances[rnd_cidx].min()}')\n",
    "print(f'the nearest label in input space: {y[pw_distances[rnd_cidx].argmin()].argmax(axis=0)}')\n",
    "print(f'the nearest neighbors labels (input space): {y[nearest_neighbors_input_space[rnd_cidx]].argmax(axis=1)}')\n",
    "print(f'the nearest neighbors labels (feature space): {y[nearest_neighbors_feature_space[rnd_cidx]].argmax(axis=1)}')\n",
    "print(f'output of compressed versions: {get_resized_model_outputs(model, x[rnd_cidx], [(30,30),(25,25),(20,20),(15,15),(10,10)])}')"
   ]
  },
  {
   "cell_type": "code",
   "execution_count": 185,
   "id": "2f06e52a",
   "metadata": {},
   "outputs": [
    {
     "name": "stdout",
     "output_type": "stream",
     "text": [
      "idx: 1000 (poison) | label: 4 | true label: 3\n",
      "in feature space: min distance from label center: 1.778842327719738\n",
      "in feature space: min distance from true label center: 0.9801376754024346\n",
      "in feature space: min distance from all label centers: 0.9801376754024346\n",
      "the nearest label in input space: 5\n",
      "the nearest neighbors labels (input space): [5 4 2 9 6 5 7 3 3]\n",
      "the nearest neighbors labels (feature space): [5 3 9 7 6 4 3 3 4]\n",
      "output of compressed versions: [3, 3, 3, 3, 3]\n"
     ]
    }
   ],
   "source": [
    "rnd_pidx = random.choice(list(range(1000,1050)))\n",
    "print(f'idx: {rnd_pidx} (poison) | label: {y[rnd_pidx].argmax(axis=0)} | true label: 3')\n",
    "print(f'in feature space: min distance from label center: {distances[rnd_pidx][y[rnd_pidx].argmax(axis=0)]}')\n",
    "print(f'in feature space: min distance from true label center: {distances[rnd_pidx][3]}')\n",
    "print(f'in feature space: min distance from all label centers: {distances[rnd_pidx].min()}')\n",
    "print(f'the nearest label in input space: {y[pw_distances[rnd_pidx].argmin()].argmax(axis=0)}')\n",
    "print(f'the nearest neighbors labels (input space): {y[nearest_neighbors_input_space[rnd_pidx]].argmax(axis=1)}')\n",
    "print(f'the nearest neighbors labels (feature space): {y[nearest_neighbors_feature_space[rnd_pidx]].argmax(axis=1)}')\n",
    "print(f'output of compressed versions: {get_resized_model_outputs(model, x[rnd_pidx], [(30,30),(25,25),(20,20),(15,15),(10,10)])}')"
   ]
  },
  {
   "cell_type": "code",
   "execution_count": 64,
   "id": "79776f85",
   "metadata": {},
   "outputs": [
    {
     "data": {
      "text/plain": [
       "(32, 32, 3)"
      ]
     },
     "execution_count": 64,
     "metadata": {},
     "output_type": "execute_result"
    }
   ],
   "source": [
    "x[0].transpose(2,1,0).shape"
   ]
  },
  {
   "cell_type": "code",
   "execution_count": 69,
   "id": "96bd4b45",
   "metadata": {},
   "outputs": [
    {
     "data": {
      "text/plain": [
       "(3, 32, 32)"
      ]
     },
     "execution_count": 69,
     "metadata": {},
     "output_type": "execute_result"
    }
   ],
   "source": [
    "x[0].shape"
   ]
  },
  {
   "cell_type": "code",
   "execution_count": 70,
   "id": "4095eb0a",
   "metadata": {},
   "outputs": [],
   "source": []
  },
  {
   "cell_type": "code",
   "execution_count": 87,
   "id": "6f2866b4",
   "metadata": {},
   "outputs": [],
   "source": []
  },
  {
   "cell_type": "code",
   "execution_count": 88,
   "id": "07242466",
   "metadata": {},
   "outputs": [
    {
     "data": {
      "image/png": "[encoded data removed]",
      "text/plain": [
       "<PIL.Image.Image image mode=RGB size=32x32>"
      ]
     },
     "execution_count": 88,
     "metadata": {},
     "output_type": "execute_result"
    }
   ],
   "source": [
    "show_img(x[2])"
   ]
  }
 ],
 "metadata": {
  "kernelspec": {
   "display_name": "Python 3 (ipykernel)",
   "language": "python",
   "name": "python3"
  },
  "language_info": {
   "codemirror_mode": {
    "name": "ipython",
    "version": 3
   },
   "file_extension": ".py",
   "mimetype": "text/x-python",
   "name": "python",
   "nbconvert_exporter": "python",
   "pygments_lexer": "ipython3",
   "version": "3.9.13"
  }
 },
 "nbformat": 4,
 "nbformat_minor": 5
}
