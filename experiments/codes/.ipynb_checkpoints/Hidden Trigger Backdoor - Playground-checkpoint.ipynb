{
 "cells": [
  {
   "cell_type": "markdown",
   "metadata": {},
   "source": [
    "# Libraries"
   ]
  },
  {
   "cell_type": "code",
   "execution_count": 28,
   "metadata": {},
   "outputs": [],
   "source": [
    "import os, sys\n",
    "from os.path import abspath\n",
    "import numpy as np\n",
    "from art.utils import load_dataset\n",
    "from art.estimators.classification import PyTorchClassifier\n",
    "import torch\n",
    "import torch.nn as nn\n",
    "import torch.optim as optim\n",
    "from art.attacks.poisoning.backdoor_attack import PoisoningAttackBackdoor\n",
    "from art.attacks.poisoning import perturbations\n",
    "from art.attacks.poisoning import HiddenTriggerBackdoor\n",
    "import pickle\n",
    "from tensorflow.keras.utils import to_categorical"
   ]
  },
  {
   "cell_type": "markdown",
   "metadata": {},
   "source": [
    "# Config"
   ]
  },
  {
   "cell_type": "code",
   "execution_count": 29,
   "metadata": {},
   "outputs": [
    {
     "data": {
      "text/plain": [
       "<torch._C.Generator at 0x7febe980a290>"
      ]
     },
     "execution_count": 29,
     "metadata": {},
     "output_type": "execute_result"
    }
   ],
   "source": [
    "config = {\n",
    "    'learning_rate':0.01,\n",
    "    'momentum':0.9,\n",
    "    'weight_decay':2e-4,\n",
    "    'min_':0.0,\n",
    "    'max_':1.0,\n",
    "    'num_classes':10,\n",
    "    'batch_size':128,\n",
    "    'ft_batch_size':25,\n",
    "    'ft_learning_rate':0.5,\n",
    "    'poison_percent':.01,\n",
    "    'epsilon':16/255,\n",
    "    'model_path':'poisoned_model.pth',\n",
    "    'backdoor_pic_path':'/home/user01/htbd-new.png',\n",
    "    'ft_dataset_size':2500,\n",
    "    'feature_layer':19\n",
    "}\n",
    "np.random.seed(20)\n",
    "torch.random.manual_seed(20)"
   ]
  },
  {
   "cell_type": "markdown",
   "metadata": {},
   "source": [
    "# Dataset"
   ]
  },
  {
   "cell_type": "code",
   "execution_count": null,
   "metadata": {},
   "outputs": [],
   "source": [
    "# with open('/home/user01/tsign/data0.pickle', 'rb') as f:\n",
    "#     data = pickle.load(f)\n",
    "# mean = (0.29014438, 0.2551004, 0.2595679) \n",
    "# std = (0.2551004, 0.23698236, 0.23829155)\n",
    "# x_train = data['x_train'].astype(np.float32)\n",
    "# y_train = data['y_train'].astype(np.float32)\n",
    "# x_test = data['x_test']\n",
    "# y_test = data['y_test']\n",
    "# chosen_tr_ids = [idx for idx, (_x, _y) in enumerate(zip(x_train, y_train)) if _y in set([i for i in range(10)])]\n",
    "# chosen_te_ids = [idx for idx, (_x, _y) in enumerate(zip(x_test, y_test)) if _y in set([i for i in range(10)])]\n",
    "# x_train = x_train[chosen_tr_ids]/255\n",
    "# y_train = y_train[chosen_tr_ids]\n",
    "# x_test = x_test[chosen_te_ids]/255\n",
    "# y_test = y_test[chosen_te_ids]\n",
    "# y_train = to_categorical(y_train)\n",
    "# y_test = to_categorical(y_test)"
   ]
  },
  {
   "cell_type": "code",
   "execution_count": 30,
   "metadata": {},
   "outputs": [],
   "source": [
    "(x_train, y_train), (x_test, y_test), min_, max_ = load_dataset('cifar10')\n",
    "# Step 1a: Swap axes to PyTorch's NCHW format\n",
    "\n",
    "x_train = np.transpose(x_train, (0, 3, 1, 2)).astype(np.float32)\n",
    "x_test = np.transpose(x_test, (0, 3, 1, 2)).astype(np.float32)\n",
    "mean = (0.4914, 0.4822, 0.4465) \n",
    "std = (0.2023, 0.1994, 0.201)"
   ]
  },
  {
   "cell_type": "code",
   "execution_count": 31,
   "metadata": {},
   "outputs": [
    {
     "data": {
      "text/plain": [
       "(50000, 3, 32, 32)"
      ]
     },
     "execution_count": 31,
     "metadata": {},
     "output_type": "execute_result"
    }
   ],
   "source": [
    "x_train.shape"
   ]
  },
  {
   "cell_type": "code",
   "execution_count": 32,
   "metadata": {},
   "outputs": [
    {
     "data": {
      "text/plain": [
       "0.49139968"
      ]
     },
     "execution_count": 32,
     "metadata": {},
     "output_type": "execute_result"
    }
   ],
   "source": [
    "x_train[:,0,:,:].mean()"
   ]
  },
  {
   "cell_type": "code",
   "execution_count": 33,
   "metadata": {},
   "outputs": [
    {
     "data": {
      "text/plain": [
       "0.24703233"
      ]
     },
     "execution_count": 33,
     "metadata": {},
     "output_type": "execute_result"
    }
   ],
   "source": [
    "x_train[:,0,:,:].std()"
   ]
  },
  {
   "cell_type": "code",
   "execution_count": 34,
   "metadata": {},
   "outputs": [
    {
     "data": {
      "text/plain": [
       "0.48215827"
      ]
     },
     "execution_count": 34,
     "metadata": {},
     "output_type": "execute_result"
    }
   ],
   "source": [
    "x_train[:,1,:,:].mean()"
   ]
  },
  {
   "cell_type": "code",
   "execution_count": 35,
   "metadata": {},
   "outputs": [
    {
     "data": {
      "text/plain": [
       "0.24348505"
      ]
     },
     "execution_count": 35,
     "metadata": {},
     "output_type": "execute_result"
    }
   ],
   "source": [
    "x_train[:,1,:,:].std()"
   ]
  },
  {
   "cell_type": "code",
   "execution_count": 36,
   "metadata": {},
   "outputs": [
    {
     "data": {
      "text/plain": [
       "0.44653124"
      ]
     },
     "execution_count": 36,
     "metadata": {},
     "output_type": "execute_result"
    }
   ],
   "source": [
    "x_train[:,2,:,:].mean()"
   ]
  },
  {
   "cell_type": "code",
   "execution_count": 37,
   "metadata": {},
   "outputs": [
    {
     "data": {
      "text/plain": [
       "0.26158768"
      ]
     },
     "execution_count": 37,
     "metadata": {},
     "output_type": "execute_result"
    }
   ],
   "source": [
    "x_train[:,2,:,:].std()"
   ]
  },
  {
   "cell_type": "code",
   "execution_count": 38,
   "metadata": {},
   "outputs": [
    {
     "data": {
      "text/plain": [
       "(10000, 10)"
      ]
     },
     "execution_count": 38,
     "metadata": {},
     "output_type": "execute_result"
    }
   ],
   "source": [
    "y_test.shape"
   ]
  },
  {
   "cell_type": "markdown",
   "metadata": {},
   "source": [
    "# Model Definition"
   ]
  },
  {
   "cell_type": "code",
   "execution_count": 39,
   "metadata": {},
   "outputs": [],
   "source": [
    "num_classes=config['num_classes']\n",
    "feature_size=4096\n",
    "model=nn.Sequential(\n",
    "        nn.Conv2d(3, 64, kernel_size=3, stride=2, padding=1),\n",
    "        nn.ReLU(inplace=True),\n",
    "        nn.MaxPool2d(kernel_size=3, stride=2),\n",
    "        nn.Conv2d(64, 192, kernel_size=3, stride=1, padding=1),\n",
    "        nn.ReLU(inplace=True),\n",
    "        nn.MaxPool2d(kernel_size=3, stride=2),\n",
    "        nn.Conv2d(192, 384, kernel_size=3, stride=1, padding=1),\n",
    "        nn.ReLU(inplace=True),\n",
    "        nn.Conv2d(384, 256, kernel_size=3, stride=1, padding=1),\n",
    "        nn.ReLU(inplace=True),\n",
    "        nn.Conv2d(256, 256, kernel_size=3, stride=1, padding=1),\n",
    "        nn.ReLU(inplace=True),\n",
    "        nn.MaxPool2d(kernel_size=3, stride=2),\n",
    "        nn.Flatten(),\n",
    "        nn.Dropout(),\n",
    "        nn.Linear(256 * 1 * 1, 4096),\n",
    "        nn.ReLU(inplace=True),\n",
    "        nn.Dropout(),\n",
    "        nn.Linear(4096, feature_size),\n",
    "        nn.ReLU(inplace=True),\n",
    "        nn.Linear(feature_size, num_classes)\n",
    ")"
   ]
  },
  {
   "cell_type": "markdown",
   "metadata": {},
   "source": [
    "# Model Training"
   ]
  },
  {
   "cell_type": "code",
   "execution_count": 40,
   "metadata": {},
   "outputs": [],
   "source": [
    "\n",
    "# Define the ART Estimator\n",
    "criterion = nn.CrossEntropyLoss()\n",
    "optimizer = optim.SGD(model.parameters(), lr=config['learning_rate'],\n",
    "                      momentum=config['momentum'], weight_decay=config['weight_decay'])\n",
    "classifier = PyTorchClassifier(\n",
    "    model=model,\n",
    "    clip_values=(config['min_'], config['max_']),\n",
    "    loss=criterion,\n",
    "    optimizer=optimizer,\n",
    "    input_shape=(3, 32, 32),\n",
    "    nb_classes=config['num_classes'],\n",
    "    preprocessing=(mean, std)\n",
    ")"
   ]
  },
  {
   "cell_type": "code",
   "execution_count": 41,
   "metadata": {},
   "outputs": [
    {
     "name": "stdout",
     "output_type": "stream",
     "text": [
      "0.001\n"
     ]
    }
   ],
   "source": [
    "# Train the model \n",
    "# (100 epochs with lr=0.01, then 50 with 0.001)\n",
    "# (then 50 with 0.0001)\n",
    "# (then save the model)\n",
    "classifier.fit(x_train, y_train, nb_epochs=100, batch_size=config['batch_size'], verbose=True)\n",
    "for param_group in classifier.optimizer.param_groups:\n",
    "    print(param_group[\"lr\"])\n",
    "    param_group[\"lr\"] *= 0.1\n",
    "classifier.fit(x_train, y_train, nb_epochs=50, batch_size=config['batch_size'], verbose=True)\n",
    "for param_group in classifier.optimizer.param_groups:\n",
    "    print(param_group[\"lr\"])\n",
    "    param_group[\"lr\"] *= 0.1\n",
    "classifier.fit(x_train, y_train, nb_epochs=50, batch_size=config['batch_size'], verbose=True)\n",
    "torch.save(model.state_dict(), config['model_path']) # Write the checkpoint to a temporary directory"
   ]
  },
  {
   "cell_type": "markdown",
   "metadata": {},
   "source": [
    "# Evaluation (Benign Test Accuracy)"
   ]
  },
  {
   "cell_type": "code",
   "execution_count": 42,
   "metadata": {},
   "outputs": [
    {
     "name": "stdout",
     "output_type": "stream",
     "text": [
      "Accuracy on benign test examples: 77.25999999999999%\n"
     ]
    }
   ],
   "source": [
    "predictions = classifier.predict(x_test)\n",
    "accuracy = np.sum(np.argmax(predictions, axis=1) == np.argmax(y_test, axis=1)) / len(y_test)\n",
    "print(\"Accuracy on benign test examples: {}%\".format(accuracy * 100))"
   ]
  },
  {
   "cell_type": "markdown",
   "metadata": {},
   "source": [
    "# Hidden Backdoor Attack"
   ]
  },
  {
   "cell_type": "code",
   "execution_count": 43,
   "metadata": {},
   "outputs": [],
   "source": [
    "# Backdoor Trigger Parameters\n",
    "patch_size = 8\n",
    "x_shift = 32 - patch_size - 5\n",
    "y_shift = 32 - patch_size - 5"
   ]
  },
  {
   "cell_type": "code",
   "execution_count": 44,
   "metadata": {},
   "outputs": [],
   "source": [
    "# Define the backdoor poisoning object. Calling backdoor.poison(x) will insert the trigger into x.\n",
    "\n",
    "def mod(x):\n",
    "    original_dtype = x.dtype\n",
    "    x = perturbations.insert_image(x, backdoor_path=config['backdoor_pic_path'],\n",
    "                                   channels_first=True, random=False, x_shift=x_shift, y_shift=y_shift,\n",
    "                                   size=(patch_size,patch_size), mode='RGB', blend=1)\n",
    "    return x.astype(original_dtype)\n",
    "backdoor = PoisoningAttackBackdoor(mod)"
   ]
  },
  {
   "cell_type": "markdown",
   "metadata": {},
   "source": [
    "Generating the poisons"
   ]
  },
  {
   "cell_type": "code",
   "execution_count": 46,
   "metadata": {},
   "outputs": [],
   "source": [
    "with open('/home/user01/tsign/data0.pickle', 'rb') as f:\n",
    "    data = pickle.load(f)\n",
    "mean = (0.29014438, 0.2551004, 0.2595679) \n",
    "std = (0.2551004, 0.23698236, 0.23829155)\n",
    "x_train = data['x_train'].astype(np.float32)\n",
    "y_train = data['y_train'].astype(np.float32)\n",
    "x_test = data['x_test']\n",
    "y_test = data['y_test']\n",
    "chosen_tr_ids = [idx for idx, (_x, _y) in enumerate(zip(x_train, y_train)) if _y in set([i for i in range(10)])]\n",
    "chosen_te_ids = [idx for idx, (_x, _y) in enumerate(zip(x_test, y_test)) if _y in set([i for i in range(10)])]\n",
    "x_train = x_train[chosen_tr_ids]/255\n",
    "y_train = y_train[chosen_tr_ids]\n",
    "x_test = x_test[chosen_te_ids]/255\n",
    "y_test = y_test[chosen_te_ids]\n",
    "y_train = to_categorical(y_train)\n",
    "y_test = to_categorical(y_test)"
   ]
  },
  {
   "cell_type": "code",
   "execution_count": 47,
   "metadata": {},
   "outputs": [
    {
     "data": {
      "application/vnd.jupyter.widget-view+json": {
       "model_id": "3ff39350b710414a8deed07e44d40b8b",
       "version_major": 2,
       "version_minor": 0
      },
      "text/plain": [
       "Hidden Trigger:   0%|          | 0/1 [00:00<?, ?it/s]"
      ]
     },
     "metadata": {},
     "output_type": "display_data"
    },
    {
     "name": "stdout",
     "output_type": "stream",
     "text": [
      "Batch: 0 | i:     0 |                         LR: 0.00100 |                         Loss Val: 1663.001 | Loss Avg: 1663.001\n",
      "Max_Loss: 9.730560302734375\n",
      "Number of poison samples generated: 21\n"
     ]
    }
   ],
   "source": [
    "target = np.array([0,0,0,0,1,0,0,0,0,0])\n",
    "source = np.array([0,0,0,1,0,0,0,0,0,0])\n",
    "\n",
    "poison_attack = HiddenTriggerBackdoor(classifier, eps=config['epsilon'], target=target, source=source, feature_layer=config['feature_layer'], backdoor=backdoor, decay_coeff = .95, decay_iter = 2000, max_iter=5000, batch_size=config['ft_batch_size'], poison_percent=config['poison_percent'])\n",
    "poison_data, poison_indices = poison_attack.poison(x_train, y_train)\n",
    "print(\"Number of poison samples generated:\", len(poison_data))"
   ]
  },
  {
   "cell_type": "code",
   "execution_count": 48,
   "metadata": {},
   "outputs": [
    {
     "data": {
      "text/plain": [
       "(21, 3, 32, 32)"
      ]
     },
     "execution_count": 48,
     "metadata": {},
     "output_type": "execute_result"
    }
   ],
   "source": [
    "poison_data.shape"
   ]
  },
  {
   "cell_type": "code",
   "execution_count": 49,
   "metadata": {},
   "outputs": [
    {
     "data": {
      "text/plain": [
       "(21,)"
      ]
     },
     "execution_count": 49,
     "metadata": {},
     "output_type": "execute_result"
    }
   ],
   "source": [
    "poison_indices.shape"
   ]
  },
  {
   "cell_type": "code",
   "execution_count": 50,
   "metadata": {},
   "outputs": [
    {
     "data": {
      "text/plain": [
       "array([17910,  9144,  8719, 17859, 14232, 16950,  6844,  2779,  3892,\n",
       "       10095, 16691,  4456,  3123,  7094, 12755,  7555,   129, 16554,\n",
       "        9907, 12029, 19262])"
      ]
     },
     "execution_count": 50,
     "metadata": {},
     "output_type": "execute_result"
    }
   ],
   "source": [
    "# the set of training samples used to generate poisons\n",
    "# the poisons look like these samples in the pixel space\n",
    "poison_indices"
   ]
  },
  {
   "cell_type": "markdown",
   "metadata": {},
   "source": [
    "# Fine-tuning"
   ]
  },
  {
   "cell_type": "markdown",
   "metadata": {},
   "source": [
    "## Prepare the fine-tuning dataset"
   ]
  },
  {
   "cell_type": "code",
   "execution_count": 51,
   "metadata": {},
   "outputs": [],
   "source": [
    "# Create finetuning dataset\n",
    "dataset_size = config['ft_dataset_size']\n",
    "num_classes = config['num_classes']\n",
    "num_per_class = dataset_size/num_classes\n",
    "\n",
    "poison_dataset_inds = []"
   ]
  },
  {
   "cell_type": "code",
   "execution_count": 52,
   "metadata": {},
   "outputs": [],
   "source": [
    "# we combine the poisons with some benign samples from all of the classes\n",
    "for i in range(num_classes): # for each class\n",
    "    class_inds = np.where(np.argmax(y_train,axis=1) == i)[0] # find class indices\n",
    "    num_select = int(num_per_class) # number of samples to select from the class\n",
    "    if np.argmax(target) == i: # if current_class == target_class\n",
    "        num_select = int(num_select - len(poison_data)) # for this class, select the remaining\n",
    "        poison_dataset_inds.append(poison_indices) # add the poisons' indices to the final indices we have to choose from\n",
    "    poison_dataset_inds.append(np.random.choice(class_inds, num_select, replace=False))\n",
    "    \n",
    "poison_dataset_inds = np.concatenate(poison_dataset_inds)"
   ]
  },
  {
   "cell_type": "code",
   "execution_count": 53,
   "metadata": {},
   "outputs": [],
   "source": [
    "# make the poisoned fine-tuning dataset\n",
    "poison_x = np.copy(x_train)\n",
    "\n",
    "# replace samples having 'poison_indices' with their poisoned versions\n",
    "poison_x[poison_indices] = poison_data \n",
    "\n",
    "# from the whole `x_train`, choose the ones we selected in the above cell for fine-tuning\n",
    "poison_x = poison_x[poison_dataset_inds] \n",
    "\n",
    "# from the whole 'y_train', choose the ones we selected in the above cell for fine-tuning\n",
    "poison_y = np.copy(y_train)[poison_dataset_inds] "
   ]
  },
  {
   "cell_type": "markdown",
   "metadata": {},
   "source": [
    "## Loading the Model Again"
   ]
  },
  {
   "cell_type": "code",
   "execution_count": 60,
   "metadata": {},
   "outputs": [
    {
     "data": {
      "text/plain": [
       "<All keys matched successfully>"
      ]
     },
     "execution_count": 60,
     "metadata": {},
     "output_type": "execute_result"
    }
   ],
   "source": [
    "# Load model again\n",
    "num_classes=config['num_classes']\n",
    "feature_size=4096\n",
    "model=nn.Sequential(\n",
    "        nn.Conv2d(3, 64, kernel_size=3, stride=2, padding=1),\n",
    "        nn.ReLU(inplace=True),\n",
    "        nn.MaxPool2d(kernel_size=3, stride=2),\n",
    "        nn.Conv2d(64, 192, kernel_size=3, stride=1, padding=1),\n",
    "        nn.ReLU(inplace=True),\n",
    "        nn.MaxPool2d(kernel_size=3, stride=2),\n",
    "        nn.Conv2d(192, 384, kernel_size=3, stride=1, padding=1),\n",
    "        nn.ReLU(inplace=True),\n",
    "        nn.Conv2d(384, 256, kernel_size=3, stride=1, padding=1),\n",
    "        nn.ReLU(inplace=True),\n",
    "        nn.Conv2d(256, 256, kernel_size=3, stride=1, padding=1),\n",
    "        nn.ReLU(inplace=True),\n",
    "        nn.MaxPool2d(kernel_size=3, stride=2),\n",
    "        nn.Flatten(),\n",
    "        nn.Dropout(),\n",
    "        nn.Linear(256 * 1 * 1, 4096),\n",
    "        nn.ReLU(inplace=True),\n",
    "        nn.Dropout(),\n",
    "        nn.Linear(4096, feature_size),\n",
    "        nn.ReLU(inplace=True),\n",
    "        nn.Linear(feature_size, num_classes)\n",
    ")\n",
    "model.load_state_dict(torch.load(config['model_path']))"
   ]
  },
  {
   "cell_type": "markdown",
   "metadata": {},
   "source": [
    "## Freeze the layers up to the last layer"
   ]
  },
  {
   "cell_type": "code",
   "execution_count": 61,
   "metadata": {},
   "outputs": [],
   "source": [
    "for i, param in enumerate(model.parameters()):\n",
    "    param.requires_grad = False"
   ]
  },
  {
   "cell_type": "markdown",
   "metadata": {},
   "source": [
    "## Preparation for fine-tuning"
   ]
  },
  {
   "cell_type": "code",
   "execution_count": 62,
   "metadata": {},
   "outputs": [],
   "source": [
    "num_classes=config['num_classes']\n",
    "feature_size=4096\n",
    "\n",
    "# replace the last layer\n",
    "model[20] = nn.Linear(feature_size, num_classes)\n",
    "\n",
    "\n",
    "criterion = nn.CrossEntropyLoss()\n",
    "optimizer = optim.SGD(model.parameters(), lr=config['ft_learning_rate'],\n",
    "                      momentum=config['momentum'],\n",
    "                      weight_decay=config['weight_decay'])\n",
    "\n",
    "classifier = PyTorchClassifier(\n",
    "    model=model,\n",
    "    clip_values=(min_, max_),\n",
    "    loss=criterion,\n",
    "    optimizer=optimizer,\n",
    "    input_shape=(3, 32, 32),\n",
    "    nb_classes=config['num_classes'],\n",
    "    preprocessing=(mean, std)\n",
    ")"
   ]
  },
  {
   "cell_type": "markdown",
   "metadata": {},
   "source": [
    "# Final Evaluation "
   ]
  },
  {
   "cell_type": "code",
   "execution_count": 63,
   "metadata": {},
   "outputs": [
    {
     "name": "stdout",
     "output_type": "stream",
     "text": [
      "Training Epoch 0\n",
      "Accuracy on benign test examples: 9.25%\n",
      "Accuracy on benign trigger test examples: 16.22222222222222%\n",
      "Accuracy on poison trigger test examples: 10.222222222222223%\n",
      "Success on poison trigger test examples: 0.0%\n",
      "\n",
      "Training Epoch 5\n",
      "Accuracy on benign test examples: 15.375%\n",
      "Accuracy on benign trigger test examples: 0.0%\n",
      "Accuracy on poison trigger test examples: 0.0%\n",
      "Success on poison trigger test examples: 8.0%\n",
      "\n",
      "Training Epoch 10\n",
      "Accuracy on benign test examples: 10.854166666666666%\n",
      "Accuracy on benign trigger test examples: 64.44444444444444%\n",
      "Accuracy on poison trigger test examples: 65.11111111111111%\n",
      "Success on poison trigger test examples: 3.7777777777777777%\n",
      "\n",
      "Training Epoch 15\n",
      "Accuracy on benign test examples: 10.770833333333334%\n",
      "Accuracy on benign trigger test examples: 0.0%\n",
      "Accuracy on poison trigger test examples: 0.0%\n",
      "Success on poison trigger test examples: 0.0%\n",
      "\n",
      "Training Epoch 20\n",
      "Accuracy on benign test examples: 17.5%\n",
      "Accuracy on benign trigger test examples: 4.888888888888889%\n",
      "Accuracy on poison trigger test examples: 1.3333333333333335%\n",
      "Success on poison trigger test examples: 11.11111111111111%\n",
      "\n",
      "Training Epoch 25\n",
      "Accuracy on benign test examples: 19.479166666666668%\n",
      "Accuracy on benign trigger test examples: 0.4444444444444444%\n",
      "Accuracy on poison trigger test examples: 1.5555555555555556%\n",
      "Success on poison trigger test examples: 32.44444444444444%\n",
      "\n",
      "Training Epoch 30\n",
      "Accuracy on benign test examples: 14.3125%\n",
      "Accuracy on benign trigger test examples: 4.666666666666667%\n",
      "Accuracy on poison trigger test examples: 4.222222222222222%\n",
      "Success on poison trigger test examples: 89.77777777777777%\n",
      "\n",
      "Training Epoch 35\n",
      "Accuracy on benign test examples: 14.374999999999998%\n",
      "Accuracy on benign trigger test examples: 0.0%\n",
      "Accuracy on poison trigger test examples: 0.0%\n",
      "Success on poison trigger test examples: 97.55555555555556%\n",
      "\n",
      "Training Epoch 40\n",
      "Accuracy on benign test examples: 16.479166666666668%\n",
      "Accuracy on benign trigger test examples: 22.444444444444443%\n",
      "Accuracy on poison trigger test examples: 40.0%\n",
      "Success on poison trigger test examples: 3.7777777777777777%\n",
      "\n",
      "Training Epoch 45\n",
      "Accuracy on benign test examples: 12.666666666666668%\n",
      "Accuracy on benign trigger test examples: 1.1111111111111112%\n",
      "Accuracy on poison trigger test examples: 0.0%\n",
      "Success on poison trigger test examples: 94.88888888888889%\n",
      "\n"
     ]
    }
   ],
   "source": [
    "# get the indices of the test samples belonging to the source class\n",
    "# these samples will be stamped with the trigger\n",
    "# note: source+trigger = target\n",
    "trigger_test_inds = np.where(np.all(y_test == source, axis=1))[0] \n",
    "\n",
    "lr_factor = .1\n",
    "lr_schedule = [5, 10, 15]\n",
    "\n",
    "# generate poisoned test samples (source+triggers where triggers can be seen!)\n",
    "test_poisoned_samples, test_poisoned_labels  = backdoor.poison(x_test[trigger_test_inds],\n",
    "                                                               y_test[trigger_test_inds])\n",
    "\n",
    "# fine-tune for 20 epochs, after each 5 epochs, report the evaluation results\n",
    "for i in range(10):\n",
    "    print(\"Training Epoch\", i*5)\n",
    "    predictions = classifier.predict(x_test)\n",
    "    accuracy = np.sum(np.argmax(predictions, axis=1) == np.argmax(y_test, axis=1)) / len(y_test)\n",
    "    print(\"Accuracy on benign test examples: {}%\".format(accuracy * 100))\n",
    "    \n",
    "    predictions = classifier.predict(x_test[trigger_test_inds])\n",
    "    b_accuracy = np.sum(np.argmax(predictions, axis=1) == np.argmax(y_test[trigger_test_inds], axis=1)) / len(trigger_test_inds)\n",
    "    print(\"Accuracy on benign trigger test examples: {}%\".format(b_accuracy * 100))\n",
    "    \n",
    "    predictions = classifier.predict(test_poisoned_samples)\n",
    "    p_accuracy = np.sum(np.argmax(predictions, axis=1) == np.argmax(test_poisoned_labels,axis=1)) / len(test_poisoned_labels)\n",
    "    print(\"Accuracy on poison trigger test examples: {}%\".format(p_accuracy * 100))\n",
    "    p_success = np.sum(np.argmax(predictions, axis=1) == np.argmax(target)) / len(test_poisoned_labels)\n",
    "    print(\"Success on poison trigger test examples: {}%\".format(p_success * 100))\n",
    "    print()\n",
    "#     if i != 0:\n",
    "#         # for all epochs expect the first one,\n",
    "#         # lower the learning rate by multiplying it by .1\n",
    "#         for param_group in classifier.optimizer.param_groups:\n",
    "#             param_group[\"lr\"] *= lr_factor\n",
    "    classifier.fit(poison_x, poison_y, epochs=5, training_mode=False)"
   ]
  },
  {
   "cell_type": "code",
   "execution_count": 64,
   "metadata": {},
   "outputs": [
    {
     "name": "stdout",
     "output_type": "stream",
     "text": [
      "Final Performance\n",
      "Accuracy on benign test examples: 19.1875%\n",
      "Accuracy on benign trigger test examples: 0.2222222222222222%\n",
      "Accuracy on poison trigger test examples: 0.0%\n",
      "Success on poison trigger test examples: 0.0%\n"
     ]
    }
   ],
   "source": [
    "# print the final evaluation results\n",
    "print(\"Final Performance\")\n",
    "predictions = classifier.predict(x_test)\n",
    "accuracy = np.sum(np.argmax(predictions, axis=1) == np.argmax(y_test, axis=1)) / len(y_test)\n",
    "print(\"Accuracy on benign test examples: {}%\".format(accuracy * 100))\n",
    "\n",
    "predictions = classifier.predict(x_test[trigger_test_inds])\n",
    "b_accuracy = np.sum(np.argmax(predictions, axis=1) == np.argmax(y_test[trigger_test_inds], axis=1)) / len(trigger_test_inds)\n",
    "print(\"Accuracy on benign trigger test examples: {}%\".format(b_accuracy * 100))\n",
    "\n",
    "predictions = classifier.predict(test_poisoned_samples)\n",
    "p_accuracy = np.sum(np.argmax(predictions, axis=1) == np.argmax(y_test[trigger_test_inds],axis=1)) / len(trigger_test_inds)\n",
    "print(\"Accuracy on poison trigger test examples: {}%\".format(p_accuracy * 100))\n",
    "p_success = np.sum(np.argmax(predictions, axis=1) == np.argmax(target)) / len(trigger_test_inds)\n",
    "print(\"Success on poison trigger test examples: {}%\".format(p_success * 100))"
   ]
  }
 ],
 "metadata": {
  "kernelspec": {
   "display_name": "Python 3 (ipykernel)",
   "language": "python",
   "name": "python3"
  },
  "language_info": {
   "codemirror_mode": {
    "name": "ipython",
    "version": 3
   },
   "file_extension": ".py",
   "mimetype": "text/x-python",
   "name": "python",
   "nbconvert_exporter": "python",
   "pygments_lexer": "ipython3",
   "version": "3.9.13"
  }
 },
 "nbformat": 4,
 "nbformat_minor": 2
}
