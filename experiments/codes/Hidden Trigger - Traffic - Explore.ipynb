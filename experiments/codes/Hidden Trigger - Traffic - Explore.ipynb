{
 "cells": [
  {
   "cell_type": "code",
   "execution_count": 1,
   "id": "86a518d7",
   "metadata": {},
   "outputs": [],
   "source": [
    "import pickle\n",
    "from torchvision.models.feature_extraction import create_feature_extractor, get_graph_node_names\n",
    "import torch\n",
    "import numpy as np\n",
    "from scipy.spatial.distance import pdist, cdist\n",
    "import random\n",
    "from sklearn.metrics import pairwise_distances\n",
    "from cv2 import resize\n",
    "from PIL import Image\n",
    "from scipy.special import softmax"
   ]
  },
  {
   "cell_type": "code",
   "execution_count": 2,
   "id": "7bbb6c2f",
   "metadata": {},
   "outputs": [],
   "source": [
    "torch.cuda.empty_cache()"
   ]
  },
  {
   "cell_type": "markdown",
   "id": "fd481e00",
   "metadata": {},
   "source": [
    "# Config"
   ]
  },
  {
   "cell_type": "code",
   "execution_count": 3,
   "id": "a62acd2e",
   "metadata": {},
   "outputs": [],
   "source": [
    "config = {\n",
    "    'model_path':'hidden-traffic-model.pt',\n",
    "    'data_path':'hidden-traffic-data.pkl'\n",
    "}"
   ]
  },
  {
   "cell_type": "markdown",
   "id": "1de83064",
   "metadata": {},
   "source": [
    "# Load Model"
   ]
  },
  {
   "cell_type": "code",
   "execution_count": 4,
   "id": "67906664",
   "metadata": {},
   "outputs": [],
   "source": [
    "# for idx, child in enumerate(model.children()):\n",
    "#     print(f'{idx}:{child}')"
   ]
  },
  {
   "cell_type": "code",
   "execution_count": 5,
   "id": "abd12087",
   "metadata": {},
   "outputs": [],
   "source": [
    "# get_graph_node_names(model)"
   ]
  },
  {
   "cell_type": "code",
   "execution_count": 6,
   "id": "277b7998",
   "metadata": {},
   "outputs": [],
   "source": [
    "model = torch.load(config['model_path'])\n",
    "model_feats = create_feature_extractor(model, return_nodes={'avgpool':'avgpool'})\n",
    "model_feats = model_feats.to('cuda')"
   ]
  },
  {
   "cell_type": "markdown",
   "id": "b3b2d77b",
   "metadata": {},
   "source": [
    "# Definitions"
   ]
  },
  {
   "cell_type": "code",
   "execution_count": 7,
   "id": "b764e184",
   "metadata": {},
   "outputs": [],
   "source": [
    "def resize_np_img(img, size=(15,15)):\n",
    "    return resize(img.transpose(2,1,0), size).transpose(2,1,0)\n",
    "def show_img(img):\n",
    "    img = np.uint8(img.transpose(2,1,0)*255)\n",
    "    return Image.fromarray(img)\n",
    "def get_repr(x, feat_model=model_feats):\n",
    "    return feat_model(torch.Tensor(x.astype('float32')).reshape(-1,3,32,32).to('cuda'))['avgpool'].squeeze().cpu().numpy()"
   ]
  },
  {
   "cell_type": "markdown",
   "id": "96c5349f",
   "metadata": {},
   "source": [
    "# Load Data"
   ]
  },
  {
   "cell_type": "code",
   "execution_count": 8,
   "id": "5c7fb294",
   "metadata": {},
   "outputs": [],
   "source": [
    "with open(config['data_path'], 'rb') as file:\n",
    "    data = pickle.load(file)"
   ]
  },
  {
   "cell_type": "code",
   "execution_count": 9,
   "id": "f801ff1b",
   "metadata": {},
   "outputs": [],
   "source": [
    "x = data['x']\n",
    "y = data['y']\n",
    "poison_idxs = data['poison_idxs']"
   ]
  },
  {
   "cell_type": "code",
   "execution_count": 10,
   "id": "0b9631d7",
   "metadata": {},
   "outputs": [
    {
     "data": {
      "text/plain": [
       "(21, 3, 32, 32)"
      ]
     },
     "execution_count": 10,
     "metadata": {},
     "output_type": "execute_result"
    }
   ],
   "source": [
    "x[poison_idxs].shape"
   ]
  },
  {
   "cell_type": "code",
   "execution_count": 11,
   "id": "689eb65e",
   "metadata": {},
   "outputs": [
    {
     "data": {
      "text/plain": [
       "[1000,\n",
       " 1001,\n",
       " 1002,\n",
       " 1003,\n",
       " 1004,\n",
       " 1005,\n",
       " 1006,\n",
       " 1007,\n",
       " 1008,\n",
       " 1009,\n",
       " 1010,\n",
       " 1011,\n",
       " 1012,\n",
       " 1013,\n",
       " 1014,\n",
       " 1015,\n",
       " 1016,\n",
       " 1017,\n",
       " 1018,\n",
       " 1019,\n",
       " 1020]"
      ]
     },
     "execution_count": 11,
     "metadata": {},
     "output_type": "execute_result"
    }
   ],
   "source": [
    "poison_idxs"
   ]
  },
  {
   "cell_type": "markdown",
   "id": "920ac08e",
   "metadata": {},
   "source": [
    "# Hypothesis"
   ]
  },
  {
   "cell_type": "markdown",
   "id": "94d7c9a8",
   "metadata": {},
   "source": [
    "It seems like the poisoned samples form a community! Shall we verify this hypothesis?"
   ]
  },
  {
   "cell_type": "code",
   "execution_count": 12,
   "id": "1b97f180",
   "metadata": {},
   "outputs": [],
   "source": [
    "rnd_clean_idxs = np.array(random.sample([i for i in range(2500) if i not in set(poison_idxs)], 21*2))\n",
    "rnd_clean1 = rnd_clean_idxs[:21]\n",
    "rnd_clean2 = rnd_clean_idxs[21:]\n",
    "tmp_reps = get_repr(np.concatenate((x[poison_idxs], x[rnd_clean1], x[rnd_clean2]), axis=0))"
   ]
  },
  {
   "cell_type": "code",
   "execution_count": 13,
   "id": "ef62363d",
   "metadata": {},
   "outputs": [
    {
     "data": {
      "text/plain": [
       "(63, 63)"
      ]
     },
     "execution_count": 13,
     "metadata": {},
     "output_type": "execute_result"
    }
   ],
   "source": [
    "tmp_dists = pairwise_distances(tmp_reps)\n",
    "tmp_dists.shape"
   ]
  },
  {
   "cell_type": "markdown",
   "id": "871660dd",
   "metadata": {},
   "source": [
    "## Do clean samples form a community?"
   ]
  },
  {
   "cell_type": "code",
   "execution_count": 14,
   "id": "000986f4",
   "metadata": {},
   "outputs": [
    {
     "name": "stdout",
     "output_type": "stream",
     "text": [
      "hypothesis verified (5.985919645854405 vs. 6.482186612628755)\n",
      "hypothesis rejected (10.838820139567057 vs. 9.79655469031561)\n",
      "hypothesis verified (7.0899757998330255 vs. 8.003521419706798)\n",
      "hypothesis rejected (10.806356611705962 vs. 10.186224437895275)\n",
      "hypothesis rejected (15.866987228393555 vs. 12.97595637185233)\n",
      "hypothesis verified (6.3998790582021075 vs. 7.153549761999221)\n",
      "hypothesis rejected (11.987869966597785 vs. 11.280711446489606)\n",
      "hypothesis verified (9.74599570319766 vs. 11.259796051752)\n",
      "hypothesis verified (6.130121651149931 vs. 6.928236711592901)\n",
      "hypothesis verified (6.6302211965833395 vs. 7.167184171222505)\n",
      "hypothesis rejected (13.222424643380302 vs. 12.740245728265672)\n",
      "hypothesis verified (7.217192241123745 vs. 7.718701442082723)\n",
      "hypothesis verified (5.714627975509281 vs. 6.071032104038057)\n",
      "hypothesis verified (5.547915708451044 vs. 6.476976008642287)\n",
      "hypothesis rejected (8.914159320649647 vs. 8.509169465019589)\n",
      "hypothesis rejected (12.573854083106632 vs. 10.603888988494873)\n",
      "hypothesis rejected (11.234109378996349 vs. 8.724050907861619)\n",
      "hypothesis verified (8.349466198966617 vs. 9.922091007232666)\n",
      "hypothesis verified (8.76511778150286 vs. 8.800542717888241)\n",
      "hypothesis verified (5.740284306662423 vs. 6.5329093138376875)\n",
      "hypothesis verified (6.43205189704895 vs. 6.893166150365557)\n"
     ]
    }
   ],
   "source": [
    "# distance between (clean1 and clean2) vs. (clean1 and poison)\n",
    "for idx in range(21,2*21):\n",
    "    d1 = sum(tmp_dists[idx][2*21:])/21 # clean1 and clean2\n",
    "    d2 = sum(tmp_dists[idx][:21])/21 # clean1 and poison\n",
    "    if d1<d2:\n",
    "        print(f'hypothesis verified ({d1} vs. {d2})')\n",
    "    else:\n",
    "        print(f'hypothesis rejected ({d1} vs. {d2})')"
   ]
  },
  {
   "cell_type": "code",
   "execution_count": 15,
   "id": "4385c777",
   "metadata": {},
   "outputs": [
    {
     "name": "stdout",
     "output_type": "stream",
     "text": [
      "hypothesis rejected (11.347708293369838 vs. 10.85244673774356)\n",
      "hypothesis rejected (8.887254669552757 vs. 6.488815534682501)\n",
      "hypothesis verified (11.845002356029692 vs. 13.092715740203857)\n",
      "hypothesis rejected (8.262970935730706 vs. 6.5582350095113116)\n",
      "hypothesis rejected (7.270038411730812 vs. 6.151383865447271)\n",
      "hypothesis rejected (7.572230838593983 vs. 7.357316369102115)\n",
      "hypothesis rejected (6.823827618644351 vs. 5.835076990581694)\n",
      "hypothesis rejected (7.1220387163616365 vs. 6.144032115028018)\n",
      "hypothesis rejected (6.95884002390362 vs. 5.853497130530221)\n",
      "hypothesis rejected (6.781593617938814 vs. 6.0859697092147105)\n",
      "hypothesis verified (6.850406794320969 vs. 7.108740704400199)\n",
      "hypothesis verified (10.099616209665934 vs. 10.466326986040388)\n",
      "hypothesis rejected (6.756713696888515 vs. 6.342675436110723)\n",
      "hypothesis verified (8.624172165280296 vs. 9.044156551361084)\n",
      "hypothesis rejected (8.076130844297863 vs. 7.8588184629167825)\n",
      "hypothesis rejected (7.377989150228954 vs. 6.540816942850749)\n",
      "hypothesis verified (8.773054259163994 vs. 8.89880321139381)\n",
      "hypothesis rejected (8.673777239663261 vs. 8.335715066818963)\n",
      "hypothesis verified (14.50540592556908 vs. 14.833900905790783)\n",
      "hypothesis verified (15.908413841610862 vs. 16.76601568857829)\n",
      "hypothesis rejected (6.676164927936735 vs. 6.6073582626524425)\n"
     ]
    }
   ],
   "source": [
    "# distance between (clean2 and clean1) vs. (clean2 and poison)\n",
    "for idx in range(21*2,3*21):\n",
    "    d1 = sum(tmp_dists[idx][21:21*2])/21 # clean2 and clean1\n",
    "    d2 = sum(tmp_dists[idx][:21])/21 # clean2 and poison\n",
    "    if d1<d2:\n",
    "        print(f'hypothesis verified ({d1} vs. {d2})')\n",
    "    else:\n",
    "        print(f'hypothesis rejected ({d1} vs. {d2})')"
   ]
  },
  {
   "cell_type": "code",
   "execution_count": 16,
   "id": "1faf7803",
   "metadata": {},
   "outputs": [
    {
     "name": "stdout",
     "output_type": "stream",
     "text": [
      "hypothesis rejected (7.459713268280029 vs. 5.985919645854405)\n",
      "hypothesis verified (9.213393223285674 vs. 10.838820139567057)\n",
      "hypothesis rejected (8.724886739253998 vs. 7.0899757998330255)\n",
      "hypothesis verified (9.20039323568344 vs. 10.806356611705962)\n",
      "hypothesis verified (15.067568349838258 vs. 15.866987228393555)\n",
      "hypothesis rejected (7.495388078689575 vs. 6.3998790582021075)\n",
      "hypothesis verified (10.334129321575166 vs. 11.987869966597785)\n",
      "hypothesis rejected (11.0765230178833 vs. 9.74599570319766)\n",
      "hypothesis rejected (7.441756498813629 vs. 6.130121651149931)\n",
      "hypothesis rejected (7.213806056976319 vs. 6.6302211965833395)\n",
      "hypothesis verified (11.572033214569093 vs. 13.222424643380302)\n",
      "hypothesis rejected (8.300498461723327 vs. 7.217192241123745)\n",
      "hypothesis rejected (7.277470493316651 vs. 5.714627975509281)\n",
      "hypothesis rejected (7.163462072610855 vs. 5.547915708451044)\n",
      "hypothesis verified (7.951358234882354 vs. 8.914159320649647)\n",
      "hypothesis verified (11.477436017990112 vs. 12.573854083106632)\n",
      "hypothesis verified (10.08464207649231 vs. 11.234109378996349)\n",
      "hypothesis rejected (10.155067145824432 vs. 8.349466198966617)\n",
      "hypothesis verified (7.929027104377747 vs. 8.76511778150286)\n",
      "hypothesis rejected (7.220617920160294 vs. 5.740284306662423)\n",
      "hypothesis rejected (7.469462406635285 vs. 6.43205189704895)\n"
     ]
    }
   ],
   "source": [
    "# distance between (clean1 and clean1) vs. (clean1 and clean2)\n",
    "for idx in range(21,2*21):\n",
    "    d1 = sum(tmp_dists[idx][21:21*2])/20 # clean1 and clean1\n",
    "    d2 = sum(tmp_dists[idx][21*2:21*3])/21 # clean1 and clean2\n",
    "    if d1<d2:\n",
    "        print(f'hypothesis verified ({d1} vs. {d2})')\n",
    "    else:\n",
    "        print(f'hypothesis rejected ({d1} vs. {d2})')"
   ]
  },
  {
   "cell_type": "markdown",
   "id": "ac8b7546",
   "metadata": {},
   "source": [
    "## Do poisons form a community?"
   ]
  },
  {
   "cell_type": "code",
   "execution_count": 17,
   "id": "9e5e391b",
   "metadata": {},
   "outputs": [
    {
     "name": "stdout",
     "output_type": "stream",
     "text": [
      "hypothesis verified (6.741297745704651 vs. 9.433049111139207)\n",
      "hypothesis verified (5.506799519062042 vs. 7.29467172849746)\n",
      "hypothesis verified (5.379599219560623 vs. 7.115746747879755)\n",
      "hypothesis verified (5.906105577945709 vs. 6.99356476465861)\n",
      "hypothesis verified (5.83699551820755 vs. 8.50161836260841)\n",
      "hypothesis verified (5.865005660057068 vs. 7.922751120158604)\n",
      "hypothesis verified (7.8595959663391115 vs. 9.521442685808454)\n",
      "hypothesis verified (5.989570736885071 vs. 9.109483650752477)\n",
      "hypothesis verified (7.372375464439392 vs. 8.29576461655753)\n",
      "hypothesis verified (7.219706237316132 vs. 9.463535513196673)\n",
      "hypothesis verified (7.12750426530838 vs. 8.173052310943604)\n",
      "hypothesis verified (7.775047135353089 vs. 10.36363581248692)\n",
      "hypothesis verified (5.875677430629731 vs. 8.228496823992048)\n",
      "hypothesis verified (5.305626732110977 vs. 6.988332861945743)\n",
      "hypothesis verified (11.77174253463745 vs. 12.929266793387276)\n",
      "hypothesis verified (5.58603732585907 vs. 7.618625254858108)\n",
      "hypothesis verified (7.64570289850235 vs. 10.048369384947277)\n",
      "hypothesis verified (6.78282904624939 vs. 7.303914291518075)\n",
      "hypothesis verified (6.045962023735046 vs. 8.130662940797352)\n",
      "hypothesis verified (10.09383590221405 vs. 12.136334714435396)\n",
      "hypothesis rejected (8.707473647594451 vs. 8.654376018614997)\n"
     ]
    }
   ],
   "source": [
    "# distance between (poison and poison) vs. (poison and clean1)\n",
    "for idx in range(0,21):\n",
    "    d1 = sum(tmp_dists[idx][:21])/20 # poison and poison\n",
    "    d2 = sum(tmp_dists[idx][21:21*2])/21 # poison and clean1\n",
    "    if d1<d2:\n",
    "        print(f'hypothesis verified ({d1} vs. {d2})')\n",
    "    else:\n",
    "        print(f'hypothesis rejected ({d1} vs. {d2})')"
   ]
  },
  {
   "cell_type": "markdown",
   "id": "871bedc6",
   "metadata": {},
   "source": [
    "# Graph Formation"
   ]
  },
  {
   "cell_type": "code",
   "execution_count": 18,
   "id": "d5c72885",
   "metadata": {},
   "outputs": [],
   "source": [
    "all_reps = get_repr(x)"
   ]
  },
  {
   "cell_type": "code",
   "execution_count": 19,
   "id": "53223e34",
   "metadata": {},
   "outputs": [],
   "source": [
    "all_dists = pairwise_distances(all_reps)"
   ]
  },
  {
   "cell_type": "code",
   "execution_count": 20,
   "id": "14ed5b79",
   "metadata": {},
   "outputs": [],
   "source": [
    "all_adjacency = np.zeros(all_dists.shape)\n",
    "all_adjacency[np.where(all_dists<6)] = 1"
   ]
  },
  {
   "cell_type": "code",
   "execution_count": 21,
   "id": "d6140391",
   "metadata": {},
   "outputs": [],
   "source": [
    "nodes_start = 700\n",
    "nodes_end = 1200\n",
    "all_adjacency = all_adjacency[nodes_start:nodes_end, nodes_start:nodes_end]"
   ]
  },
  {
   "cell_type": "code",
   "execution_count": 22,
   "id": "32b0a5e3",
   "metadata": {},
   "outputs": [],
   "source": [
    "degree = {i:all_adjacency[i].sum() for i in range(all_adjacency.shape[0])}"
   ]
  },
  {
   "cell_type": "code",
   "execution_count": 23,
   "id": "daf171de",
   "metadata": {},
   "outputs": [
    {
     "data": {
      "text/plain": [
       "(500, 500)"
      ]
     },
     "execution_count": 23,
     "metadata": {},
     "output_type": "execute_result"
    }
   ],
   "source": [
    "all_adjacency.shape"
   ]
  },
  {
   "cell_type": "code",
   "execution_count": 24,
   "id": "672173b3",
   "metadata": {},
   "outputs": [],
   "source": [
    "new = np.zeros(all_adjacency.shape)\n",
    "m = all_adjacency.sum()/2\n",
    "for i in range(all_adjacency.shape[0]):\n",
    "    for j in range(all_adjacency.shape[1]):\n",
    "        new[i][j] = all_adjacency[i][j]-(degree[i]*degree[j]/m)"
   ]
  },
  {
   "cell_type": "markdown",
   "id": "86c81882",
   "metadata": {},
   "source": [
    "# CVXPY"
   ]
  },
  {
   "cell_type": "code",
   "execution_count": 25,
   "id": "b94ccf8f",
   "metadata": {},
   "outputs": [],
   "source": [
    "import cvxpy as cp"
   ]
  },
  {
   "cell_type": "code",
   "execution_count": 26,
   "id": "511409af",
   "metadata": {},
   "outputs": [],
   "source": [
    "B = new.copy()"
   ]
  },
  {
   "cell_type": "code",
   "execution_count": 27,
   "id": "9296d705",
   "metadata": {},
   "outputs": [],
   "source": [
    "num_nodes = nodes_end - nodes_start"
   ]
  },
  {
   "cell_type": "code",
   "execution_count": 28,
   "id": "bbfecd7c",
   "metadata": {},
   "outputs": [],
   "source": [
    "X = cp.Variable((num_nodes,num_nodes), symmetric=True)"
   ]
  },
  {
   "cell_type": "code",
   "execution_count": 29,
   "id": "7b2535f0",
   "metadata": {},
   "outputs": [],
   "source": [
    "constraints = [X >> 0]"
   ]
  },
  {
   "cell_type": "code",
   "execution_count": 30,
   "id": "fdf17d75",
   "metadata": {},
   "outputs": [],
   "source": [
    "constraints += [\n",
    "    cp.trace(X) == 1\n",
    "]"
   ]
  },
  {
   "cell_type": "code",
   "execution_count": 31,
   "id": "2a308241",
   "metadata": {},
   "outputs": [],
   "source": [
    "one_vec = np.ones((num_nodes,1))"
   ]
  },
  {
   "cell_type": "code",
   "execution_count": 32,
   "id": "29729f03",
   "metadata": {},
   "outputs": [],
   "source": [
    "prob = cp.Problem(\n",
    "    cp.Maximize(cp.trace(B @ X)-0.001*one_vec.T@cp.abs(X)@one_vec),\n",
    "                  constraints)"
   ]
  },
  {
   "cell_type": "code",
   "execution_count": 33,
   "id": "bb61d53a",
   "metadata": {},
   "outputs": [
    {
     "name": "stdout",
     "output_type": "stream",
     "text": [
      "CPU times: user 1h 49min 40s, sys: 36.5 s, total: 1h 50min 16s\n",
      "Wall time: 22min 7s\n"
     ]
    },
    {
     "data": {
      "text/plain": [
       "126.08005726082153"
      ]
     },
     "execution_count": 33,
     "metadata": {},
     "output_type": "execute_result"
    }
   ],
   "source": [
    "%%time\n",
    "prob.solve()"
   ]
  },
  {
   "cell_type": "code",
   "execution_count": 34,
   "id": "015909b6",
   "metadata": {},
   "outputs": [
    {
     "data": {
      "text/plain": [
       "array([[ 1.79483614e-07, -5.13106481e-06,  7.75974786e-07, ...,\n",
       "         2.90418636e-05,  2.10746626e-05,  1.39778172e-05],\n",
       "       [-5.13106481e-06,  6.13223356e-05, -9.27570812e-06, ...,\n",
       "        -3.46558582e-04, -2.51483576e-04, -1.66798058e-04],\n",
       "       [ 7.75974786e-07, -9.27570812e-06,  5.04839872e-07, ...,\n",
       "         5.25139155e-05,  3.81073498e-05,  2.52748722e-05],\n",
       "       ...,\n",
       "       [ 2.90418636e-05, -3.46558582e-04,  5.25139155e-05, ...,\n",
       "         1.96212198e-03,  1.42375624e-03,  9.44312815e-04],\n",
       "       [ 2.10746626e-05, -2.51483576e-04,  3.81073498e-05, ...,\n",
       "         1.42375624e-03,  1.03327254e-03,  6.85251678e-04],\n",
       "       [ 1.39778172e-05, -1.66798058e-04,  2.52748722e-05, ...,\n",
       "         9.44312815e-04,  6.85251678e-04,  4.54604976e-04]])"
      ]
     },
     "execution_count": 34,
     "metadata": {},
     "output_type": "execute_result"
    }
   ],
   "source": [
    "X.value"
   ]
  },
  {
   "cell_type": "code",
   "execution_count": 35,
   "id": "add1a251",
   "metadata": {},
   "outputs": [
    {
     "data": {
      "text/plain": [
       "1.000000000419006"
      ]
     },
     "execution_count": 35,
     "metadata": {},
     "output_type": "execute_result"
    }
   ],
   "source": [
    "X.value.trace()"
   ]
  },
  {
   "cell_type": "code",
   "execution_count": 36,
   "id": "4e28ae6a",
   "metadata": {},
   "outputs": [],
   "source": [
    "from numpy import linalg as LA"
   ]
  },
  {
   "cell_type": "code",
   "execution_count": 37,
   "id": "04425af5",
   "metadata": {},
   "outputs": [],
   "source": [
    "w, v = LA.eig(X.value)"
   ]
  },
  {
   "cell_type": "code",
   "execution_count": 38,
   "id": "cee25cbd",
   "metadata": {},
   "outputs": [
    {
     "data": {
      "text/plain": [
       "(500,)"
      ]
     },
     "execution_count": 38,
     "metadata": {},
     "output_type": "execute_result"
    }
   ],
   "source": [
    "w.shape"
   ]
  },
  {
   "cell_type": "code",
   "execution_count": 39,
   "id": "abf0eba0",
   "metadata": {},
   "outputs": [
    {
     "data": {
      "text/plain": [
       "(500, 500)"
      ]
     },
     "execution_count": 39,
     "metadata": {},
     "output_type": "execute_result"
    }
   ],
   "source": [
    "v.shape"
   ]
  },
  {
   "cell_type": "code",
   "execution_count": 40,
   "id": "063e55a4",
   "metadata": {},
   "outputs": [
    {
     "data": {
      "text/plain": [
       "array([ 9.99998600e-01,  1.01066114e-05,  9.12195727e-06, -1.01641728e-05,\n",
       "       -9.36051313e-06,  6.25454537e-06,  5.28329643e-06,  5.12235667e-06,\n",
       "       -7.22166468e-06, -6.47745607e-06, -6.23328148e-06, -5.79386345e-06,\n",
       "       -4.95568577e-06,  3.87193435e-06,  3.68087482e-06, -5.01848755e-06,\n",
       "        3.37154688e-06, -4.37985423e-06, -4.49038265e-06, -4.09109420e-06,\n",
       "        2.82456476e-06,  2.75539780e-06,  2.69980520e-06,  2.56083814e-06,\n",
       "        2.50456918e-06, -3.62420890e-06, -3.48842979e-06, -3.35457726e-06,\n",
       "        1.85823567e-06, -2.86300925e-06, -2.70648341e-06, -2.71388165e-06,\n",
       "       -2.33864547e-06, -2.53779577e-06, -2.45843532e-06, -2.51540303e-06,\n",
       "       -2.50342335e-06, -2.09749037e-06, -2.00997373e-06,  1.41400948e-06,\n",
       "       -1.58087327e-06,  1.24411987e-06, -1.33048192e-06,  9.95627725e-07,\n",
       "       -9.31033122e-07, -8.40590113e-07, -8.71231045e-07, -7.70585822e-07,\n",
       "       -7.04009253e-07, -6.32663600e-07, -7.14562158e-07, -5.36125178e-07,\n",
       "       -3.58469154e-07, -4.11246100e-07, -2.47092594e-07,  4.35508017e-07,\n",
       "        3.71820898e-07,  2.49719731e-07, -2.92019405e-08, -2.18292615e-08,\n",
       "        2.02891665e-07,  3.87309196e-08,  4.88080682e-08,  5.25540612e-08,\n",
       "        6.39675788e-08,  1.35818409e-07,  1.35112102e-07,  8.65000688e-08,\n",
       "        8.75107884e-08,  8.96219234e-08,  1.30633256e-07,  1.29535111e-07,\n",
       "        1.26439089e-07,  1.25473290e-07,  9.32218746e-08,  9.31797557e-08,\n",
       "        1.23019052e-07,  9.53606086e-08,  1.21667524e-07,  9.65661696e-08,\n",
       "        9.73626681e-08,  9.75467631e-08,  9.77614868e-08,  1.20497371e-07,\n",
       "        9.84814311e-08,  1.19700613e-07,  1.19643668e-07,  1.19378045e-07,\n",
       "        1.19213181e-07,  1.18808190e-07,  9.92176767e-08,  9.98037010e-08,\n",
       "        9.98797924e-08,  1.00551828e-07,  1.00625681e-07,  1.18035411e-07,\n",
       "        1.01195469e-07,  1.01230660e-07,  1.01526849e-07,  1.01749675e-07,\n",
       "        1.17813346e-07,  1.01922491e-07,  1.17654794e-07,  1.02147331e-07,\n",
       "        1.17279244e-07,  1.17187673e-07,  1.02682028e-07,  1.02783354e-07,\n",
       "        1.02994419e-07,  1.03032238e-07,  1.03088885e-07,  1.03225722e-07,\n",
       "        1.03473460e-07,  1.03510526e-07,  1.03651626e-07,  1.03779842e-07,\n",
       "        1.03824324e-07,  1.03867908e-07,  1.04028926e-07,  1.04016921e-07,\n",
       "        1.04178309e-07,  1.04421847e-07,  1.16835352e-07,  1.16751807e-07,\n",
       "        1.16535410e-07,  1.16501507e-07,  1.16275366e-07,  1.16195843e-07,\n",
       "        1.16042586e-07,  1.15943666e-07,  1.15767850e-07,  1.15715764e-07,\n",
       "        1.15579261e-07,  1.15452184e-07,  1.15273387e-07,  1.15175992e-07,\n",
       "        1.15121579e-07,  1.15024848e-07,  1.14976102e-07,  1.14823181e-07,\n",
       "        1.14761165e-07,  1.14735358e-07,  1.14621147e-07,  1.14501393e-07,\n",
       "        1.14380665e-07,  1.14319520e-07,  1.14244880e-07,  1.14166256e-07,\n",
       "        1.14059855e-07,  1.13990771e-07,  1.13901547e-07,  1.13889369e-07,\n",
       "        1.13791803e-07,  1.13780425e-07,  1.13704228e-07,  1.13590520e-07,\n",
       "        1.13551896e-07,  1.04365498e-07,  1.04473347e-07,  1.04621399e-07,\n",
       "        1.04650136e-07,  1.04755318e-07,  1.04821052e-07,  1.04898059e-07,\n",
       "        1.05027273e-07,  1.05049772e-07,  1.05099128e-07,  1.05199433e-07,\n",
       "        1.05308029e-07,  1.05343859e-07,  1.05476564e-07,  1.05426000e-07,\n",
       "        1.05389225e-07,  1.13482160e-07,  1.13456840e-07,  1.13427691e-07,\n",
       "        1.13414951e-07,  1.13301686e-07,  1.13225337e-07,  1.13175811e-07,\n",
       "        1.13185145e-07,  1.13059615e-07,  1.12997133e-07,  1.12960008e-07,\n",
       "        1.12897710e-07,  1.12835888e-07,  1.05539169e-07,  1.05625443e-07,\n",
       "        1.05679601e-07,  1.05740210e-07,  1.05780175e-07,  1.05801977e-07,\n",
       "        1.05825085e-07,  1.05871531e-07,  1.05946848e-07,  1.05991277e-07,\n",
       "        1.06154685e-07,  1.06050904e-07,  1.06091658e-07,  1.06216010e-07,\n",
       "        1.06244959e-07,  1.06310129e-07,  1.06302542e-07,  1.06361273e-07,\n",
       "        1.06392166e-07,  1.06455327e-07,  1.06483307e-07,  1.06612798e-07,\n",
       "        1.06577584e-07,  1.06570184e-07,  1.12807413e-07,  1.12777345e-07,\n",
       "        1.12731190e-07,  1.12711258e-07,  1.12620982e-07,  1.12580631e-07,\n",
       "        1.12532006e-07,  1.12507810e-07,  1.12457399e-07,  1.12413660e-07,\n",
       "        1.12331596e-07,  1.12367792e-07,  1.12309304e-07,  1.12282581e-07,\n",
       "        1.12248524e-07,  1.12242528e-07,  1.12126812e-07,  1.12094048e-07,\n",
       "        1.12068120e-07,  1.12041033e-07,  1.12012394e-07,  1.11976659e-07,\n",
       "        1.06671292e-07,  1.06682331e-07,  1.06723566e-07,  1.06787660e-07,\n",
       "        1.06807948e-07,  1.06831956e-07,  1.06854989e-07,  1.06903039e-07,\n",
       "        1.06921694e-07,  1.06967682e-07,  1.06986140e-07,  1.07004024e-07,\n",
       "        1.11941133e-07,  1.11921257e-07,  1.11896916e-07,  1.11866549e-07,\n",
       "        1.11833820e-07,  1.11809927e-07,  1.11761362e-07,  1.11740716e-07,\n",
       "        1.11709101e-07,  1.11695927e-07,  1.11658190e-07,  1.11593976e-07,\n",
       "        1.11618055e-07,  1.07059871e-07,  1.07077299e-07,  1.07098433e-07,\n",
       "        1.07161826e-07,  1.07137045e-07,  1.07216542e-07,  1.07266351e-07,\n",
       "        1.07323544e-07,  1.07294118e-07,  1.07462310e-07,  1.07353529e-07,\n",
       "        1.07372742e-07,  1.07415603e-07,  1.07402352e-07,  1.07510859e-07,\n",
       "        1.07529522e-07,  1.07551864e-07,  1.07581483e-07,  1.07640879e-07,\n",
       "        1.07671910e-07,  1.07861246e-07,  1.07837821e-07,  1.07805175e-07,\n",
       "        1.07712392e-07,  1.07732815e-07,  1.07762634e-07,  1.07773287e-07,\n",
       "        1.11551976e-07,  1.11533859e-07,  1.11517333e-07,  1.11459377e-07,\n",
       "        1.11435488e-07,  1.11412506e-07,  1.11382258e-07,  1.11105543e-07,\n",
       "        1.11130612e-07,  1.11149842e-07,  1.11347665e-07,  1.11310672e-07,\n",
       "        1.11304937e-07,  1.11188246e-07,  1.11214616e-07,  1.11233071e-07,\n",
       "        1.11231362e-07,  1.11056393e-07,  1.11026942e-07,  1.07969712e-07,\n",
       "        1.07936129e-07,  1.07911784e-07,  1.07893709e-07,  1.07985194e-07,\n",
       "        1.08001947e-07,  1.08040537e-07,  1.10929462e-07,  1.10952590e-07,\n",
       "        1.10983010e-07,  1.11016598e-07,  1.11003266e-07,  1.08087163e-07,\n",
       "        1.08078164e-07,  1.08117421e-07,  1.08136770e-07,  1.08160871e-07,\n",
       "        1.08177595e-07,  1.10903528e-07,  1.10897792e-07,  1.10875128e-07,\n",
       "        1.10827295e-07,  1.10819708e-07,  1.10800325e-07,  1.08188684e-07,\n",
       "        1.08196645e-07,  1.08241958e-07,  1.08247773e-07,  1.08305660e-07,\n",
       "        1.08315488e-07,  1.08337780e-07,  1.08366270e-07,  1.08390241e-07,\n",
       "        1.10756309e-07,  1.10748833e-07,  1.10721592e-07,  1.10716507e-07,\n",
       "        1.10529212e-07,  1.10552492e-07,  1.10577979e-07,  1.10613276e-07,\n",
       "        1.10659322e-07,  1.10680227e-07,  1.10684125e-07,  1.10596160e-07,\n",
       "        1.10489037e-07,  1.10478842e-07,  1.10442186e-07,  1.10424631e-07,\n",
       "        1.10410850e-07,  1.10363376e-07,  1.10236415e-07,  1.10350322e-07,\n",
       "        1.10338245e-07,  1.10250887e-07,  1.10278116e-07,  1.10269082e-07,\n",
       "        1.10326445e-07,  1.08410797e-07,  1.08448929e-07,  1.08465673e-07,\n",
       "        1.08499246e-07,  1.08438228e-07,  1.08518289e-07,  1.08808824e-07,\n",
       "        1.08770640e-07,  1.08561819e-07,  1.08749122e-07,  1.08729581e-07,\n",
       "        1.08713280e-07,  1.08680876e-07,  1.08659684e-07,  1.08647558e-07,\n",
       "        1.08617279e-07,  1.08581510e-07,  1.08592358e-07,  1.08602915e-07,\n",
       "        1.10214938e-07,  1.10156024e-07,  1.10145946e-07,  1.10182859e-07,\n",
       "        1.08821179e-07,  1.08829826e-07,  1.08833133e-07,  1.08893323e-07,\n",
       "        1.08918477e-07,  1.08909198e-07,  1.08948801e-07,  1.09000692e-07,\n",
       "        1.08978966e-07,  1.10118842e-07,  1.10065956e-07,  1.10034540e-07,\n",
       "        1.10018479e-07,  1.10009389e-07,  1.10097933e-07,  1.10102046e-07,\n",
       "        1.09035448e-07,  1.09047124e-07,  1.09062861e-07,  1.09098969e-07,\n",
       "        1.09110716e-07,  1.09136735e-07,  1.09152878e-07,  1.09180103e-07,\n",
       "        1.09203818e-07,  1.09231206e-07,  1.09249011e-07,  1.09279241e-07,\n",
       "        1.09985246e-07,  1.09949396e-07,  1.09943780e-07,  1.09914537e-07,\n",
       "        1.09885522e-07,  1.09892567e-07,  1.09855445e-07,  1.09824331e-07,\n",
       "        1.09799238e-07,  1.09780534e-07,  1.09756214e-07,  1.09294417e-07,\n",
       "        1.09301572e-07,  1.09729017e-07,  1.09729743e-07,  1.09711792e-07,\n",
       "        1.09688835e-07,  1.09672378e-07,  1.09658858e-07,  1.09653619e-07,\n",
       "        1.09340327e-07,  1.09355175e-07,  1.09361586e-07,  1.09608328e-07,\n",
       "        1.09378790e-07,  1.09592777e-07,  1.09388107e-07,  1.09579827e-07,\n",
       "        1.09400276e-07,  1.09570417e-07,  1.09563617e-07,  1.09412796e-07,\n",
       "        1.09410514e-07,  1.09423321e-07,  1.09450430e-07,  1.09432335e-07,\n",
       "        1.09425006e-07,  1.09433277e-07,  1.09466187e-07,  1.09547521e-07,\n",
       "        1.09473565e-07,  1.09474260e-07,  1.09474141e-07,  1.09536289e-07,\n",
       "        1.09483163e-07,  1.09482607e-07,  1.09484320e-07,  1.09486220e-07,\n",
       "        1.09487435e-07,  1.09489753e-07,  1.09494717e-07,  1.09490296e-07,\n",
       "        1.09491173e-07,  1.09491321e-07,  1.09492709e-07,  1.09530917e-07,\n",
       "        1.09496888e-07,  1.09498368e-07,  1.09499846e-07,  1.09502195e-07,\n",
       "        1.09529743e-07,  1.09529055e-07,  1.09503442e-07,  1.09504104e-07,\n",
       "        1.09505476e-07,  1.09528367e-07,  1.09527771e-07,  1.09526883e-07,\n",
       "        1.09526562e-07,  1.09525568e-07,  1.09525472e-07,  1.09523410e-07,\n",
       "        1.09523735e-07,  1.09522358e-07,  1.09521529e-07,  1.09519779e-07,\n",
       "        1.09508008e-07,  1.09508757e-07,  1.09511139e-07,  1.09510210e-07,\n",
       "        1.09511994e-07,  1.09512909e-07,  1.09513789e-07,  1.09518724e-07,\n",
       "        1.09517947e-07,  1.09515791e-07,  1.09516893e-07,  1.09516502e-07])"
      ]
     },
     "execution_count": 40,
     "metadata": {},
     "output_type": "execute_result"
    }
   ],
   "source": [
    "w"
   ]
  },
  {
   "cell_type": "code",
   "execution_count": 41,
   "id": "9ffe732f",
   "metadata": {},
   "outputs": [
    {
     "data": {
      "text/plain": [
       "set()"
      ]
     },
     "execution_count": 41,
     "metadata": {},
     "output_type": "execute_result"
    }
   ],
   "source": [
    "set(v[0].argsort()[-50:]+nodes_start).intersection(set(poison_idxs))"
   ]
  },
  {
   "cell_type": "code",
   "execution_count": 50,
   "id": "0274dd76",
   "metadata": {},
   "outputs": [
    {
     "data": {
      "text/plain": [
       "array([759, 768, 740, 767, 758, 729, 701, 743, 744, 721, 702, 724, 706,\n",
       "       716, 731, 710, 754, 711, 705, 730, 752])"
      ]
     },
     "execution_count": 50,
     "metadata": {},
     "output_type": "execute_result"
    }
   ],
   "source": [
    "v[0].argsort()[-21:]+nodes_start"
   ]
  },
  {
   "cell_type": "code",
   "execution_count": 51,
   "id": "47567046",
   "metadata": {},
   "outputs": [],
   "source": [
    "lst = v[0].argsort()[-21:]+nodes_start"
   ]
  },
  {
   "cell_type": "code",
   "execution_count": 52,
   "id": "450438a6",
   "metadata": {},
   "outputs": [
    {
     "data": {
      "text/plain": [
       "(21, 512)"
      ]
     },
     "execution_count": 52,
     "metadata": {},
     "output_type": "execute_result"
    }
   ],
   "source": [
    "all_reps[lst].shape"
   ]
  },
  {
   "cell_type": "code",
   "execution_count": 54,
   "id": "39f2ab57",
   "metadata": {},
   "outputs": [
    {
     "data": {
      "text/plain": [
       "(21, 21)"
      ]
     },
     "execution_count": 54,
     "metadata": {},
     "output_type": "execute_result"
    }
   ],
   "source": [
    "pairwise_distances(all_reps[lst]).shape"
   ]
  },
  {
   "cell_type": "code",
   "execution_count": 56,
   "id": "324886e6",
   "metadata": {},
   "outputs": [
    {
     "data": {
      "text/plain": [
       "array([12.925809 ,  6.0093513,  6.149428 ,  6.094943 , 12.496682 ,\n",
       "        6.480083 ,  5.8615212,  7.4592814,  6.2678385,  7.617687 ,\n",
       "        8.837974 ,  6.0360193,  5.884468 ,  5.713069 ,  6.26149  ,\n",
       "        6.6658587,  8.389743 ,  5.6778603,  5.5249987,  9.604752 ,\n",
       "        7.111132 ], dtype=float32)"
      ]
     },
     "execution_count": 56,
     "metadata": {},
     "output_type": "execute_result"
    }
   ],
   "source": [
    "pairwise_distances(all_reps[lst]).sum(axis=1)/21"
   ]
  },
  {
   "cell_type": "code",
   "execution_count": null,
   "id": "17762076",
   "metadata": {},
   "outputs": [],
   "source": []
  }
 ],
 "metadata": {
  "kernelspec": {
   "display_name": "Python 3 (ipykernel)",
   "language": "python",
   "name": "python3"
  },
  "language_info": {
   "codemirror_mode": {
    "name": "ipython",
    "version": 3
   },
   "file_extension": ".py",
   "mimetype": "text/x-python",
   "name": "python",
   "nbconvert_exporter": "python",
   "pygments_lexer": "ipython3",
   "version": "3.9.13"
  }
 },
 "nbformat": 4,
 "nbformat_minor": 5
}
