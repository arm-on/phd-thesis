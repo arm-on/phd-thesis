{
 "cells": [
  {
   "cell_type": "code",
   "execution_count": 1,
   "metadata": {
    "collapsed": true,
    "ExecuteTime": {
     "end_time": "2023-06-22T19:13:45.851818027Z",
     "start_time": "2023-06-22T19:13:42.076156509Z"
    }
   },
   "outputs": [],
   "source": [
    "import torchvision.datasets as datasets\n",
    "import torchvision.models as models\n",
    "from PIL import Image\n",
    "import numpy as np\n",
    "import importlib\n",
    "import sys\n",
    "import torch\n",
    "from torchvision.models.feature_extraction import create_feature_extractor, get_graph_node_names\n",
    "from img_resize import bulk_resize\n",
    "import torch.nn as nn\n",
    "from trigger import *\n",
    "import cv2\n",
    "from sklearn.model_selection import train_test_split\n",
    "from torch.utils.data import Dataset\n",
    "from torch.utils.data import DataLoader"
   ]
  },
  {
   "cell_type": "code",
   "execution_count": 2,
   "outputs": [],
   "source": [
    "config = {\n",
    "    'random_seed':50,\n",
    "    'path':'/home/user01/repo/experiments/codes/hb/',\n",
    "    'data_path':'../../../../temp-data',\n",
    "    'trigger_shape':(4,4,3),\n",
    "    'return_nodes':{'features.7':'features.7'},\n",
    "    'feature_layer':'features.7',\n",
    "    'num_poisons':100,\n",
    "    'num_triggers':10,\n",
    "    'pois_learning_rate':1e-2,\n",
    "    'pois_epochs':100000,\n",
    "    'pois_lr_decay':0.95,\n",
    "    'pois_decay_step':2000,\n",
    "    'pois_min_loss':1.5,\n",
    "    'pois_epsilon':16/255,\n",
    "    'pois_source_class':4,\n",
    "    'pois_target_class':5,\n",
    "    'pois_image_shape':(32, 32),\n",
    "    'ft_batch_size':32,\n",
    "    'ft_learning_rate':0.1,\n",
    "    'ft_num_epochs':150\n",
    "}"
   ],
   "metadata": {
    "collapsed": false,
    "ExecuteTime": {
     "end_time": "2023-06-22T19:13:45.862868632Z",
     "start_time": "2023-06-22T19:13:44.061197736Z"
    }
   }
  },
  {
   "cell_type": "code",
   "execution_count": 3,
   "outputs": [
    {
     "data": {
      "text/plain": "<torch._C.Generator at 0x7f739407da30>"
     },
     "execution_count": 3,
     "metadata": {},
     "output_type": "execute_result"
    }
   ],
   "source": [
    "seed = config['random_seed']\n",
    "np.random.seed(seed)\n",
    "torch.random.manual_seed(seed)"
   ],
   "metadata": {
    "collapsed": false,
    "ExecuteTime": {
     "end_time": "2023-06-22T19:13:45.863255007Z",
     "start_time": "2023-06-22T19:13:44.066143613Z"
    }
   }
  },
  {
   "cell_type": "code",
   "execution_count": 4,
   "outputs": [],
   "source": [
    "def _reload(fn):\n",
    "  return importlib.reload(fn)"
   ],
   "metadata": {
    "collapsed": false,
    "ExecuteTime": {
     "end_time": "2023-06-22T19:13:45.863380209Z",
     "start_time": "2023-06-22T19:13:44.081119529Z"
    }
   }
  },
  {
   "cell_type": "code",
   "execution_count": 5,
   "outputs": [],
   "source": [
    "sys.path.append(config['path'])"
   ],
   "metadata": {
    "collapsed": false,
    "ExecuteTime": {
     "end_time": "2023-06-22T19:13:45.863484344Z",
     "start_time": "2023-06-22T19:13:44.086191575Z"
    }
   }
  },
  {
   "cell_type": "code",
   "execution_count": 6,
   "outputs": [
    {
     "data": {
      "text/plain": "'cuda'"
     },
     "execution_count": 6,
     "metadata": {},
     "output_type": "execute_result"
    }
   ],
   "source": [
    "device = 'cuda' if torch.cuda.is_available() else 'cpu'\n",
    "device"
   ],
   "metadata": {
    "collapsed": false,
    "ExecuteTime": {
     "end_time": "2023-06-22T19:13:45.863705819Z",
     "start_time": "2023-06-22T19:13:44.129602070Z"
    }
   }
  },
  {
   "cell_type": "markdown",
   "source": [
    "# Loading the Dataset"
   ],
   "metadata": {
    "collapsed": false
   }
  },
  {
   "cell_type": "code",
   "execution_count": 7,
   "outputs": [
    {
     "name": "stdout",
     "output_type": "stream",
     "text": [
      "Files already downloaded and verified\n"
     ]
    }
   ],
   "source": [
    "trainset = datasets.CIFAR10(root=config['data_path'], train=True, download=True, transform=None)"
   ],
   "metadata": {
    "collapsed": false,
    "ExecuteTime": {
     "end_time": "2023-06-22T19:13:45.866284246Z",
     "start_time": "2023-06-22T19:13:44.129809316Z"
    }
   }
  },
  {
   "cell_type": "code",
   "execution_count": 8,
   "outputs": [],
   "source": [
    "data_x = trainset.data.copy()\n",
    "data_x = np.array([cv2.resize(np.uint8(img), config['pois_image_shape']) for img in data_x])\n",
    "data_y = trainset.targets[:]"
   ],
   "metadata": {
    "collapsed": false,
    "ExecuteTime": {
     "end_time": "2023-06-22T19:13:46.278541359Z",
     "start_time": "2023-06-22T19:13:45.380780058Z"
    }
   }
  },
  {
   "cell_type": "code",
   "execution_count": 9,
   "outputs": [],
   "source": [
    "del trainset"
   ],
   "metadata": {
    "collapsed": false,
    "ExecuteTime": {
     "end_time": "2023-06-22T19:13:46.278863782Z",
     "start_time": "2023-06-22T19:13:46.141750390Z"
    }
   }
  },
  {
   "cell_type": "markdown",
   "source": [
    "# Generating some Triggers"
   ],
   "metadata": {
    "collapsed": false
   }
  },
  {
   "cell_type": "code",
   "execution_count": 12,
   "outputs": [],
   "source": [
    "gen = TriggerGenerator(config['trigger_shape'])\n",
    "triggers = gen.generate(config['num_triggers'])\n",
    "#triggers = [cv2.resize(np.uint8(trigger*255), (10,10)) for trigger in triggers]"
   ],
   "metadata": {
    "collapsed": false,
    "ExecuteTime": {
     "end_time": "2023-06-22T19:13:46.279540136Z",
     "start_time": "2023-06-22T19:13:46.165698149Z"
    }
   }
  },
  {
   "cell_type": "markdown",
   "source": [
    "# Model"
   ],
   "metadata": {
    "collapsed": false
   }
  },
  {
   "cell_type": "code",
   "execution_count": 13,
   "outputs": [
    {
     "name": "stderr",
     "output_type": "stream",
     "text": [
      "Using cache found in /home/user01/.cache/torch/hub/pytorch_vision_v0.10.0\n"
     ]
    }
   ],
   "source": [
    "model = torch.hub.load('pytorch/vision:v0.10.0', 'alexnet', weights='AlexNet_Weights.IMAGENET1K_V1')"
   ],
   "metadata": {
    "collapsed": false,
    "ExecuteTime": {
     "end_time": "2023-06-22T19:13:47.338488412Z",
     "start_time": "2023-06-22T19:13:46.209660789Z"
    }
   }
  },
  {
   "cell_type": "code",
   "execution_count": 14,
   "outputs": [],
   "source": [
    "# fixing the weights of the model\n",
    "for param in model.parameters():\n",
    "    param.requires_grad = False"
   ],
   "metadata": {
    "collapsed": false,
    "ExecuteTime": {
     "end_time": "2023-06-22T19:13:47.338871032Z",
     "start_time": "2023-06-22T19:13:47.115961322Z"
    }
   }
  },
  {
   "cell_type": "code",
   "execution_count": 15,
   "outputs": [
    {
     "data": {
      "text/plain": "AlexNet(\n  (features): Sequential(\n    (0): Conv2d(3, 64, kernel_size=(11, 11), stride=(4, 4), padding=(2, 2))\n    (1): ReLU(inplace=True)\n    (2): MaxPool2d(kernel_size=3, stride=2, padding=0, dilation=1, ceil_mode=False)\n    (3): Conv2d(64, 192, kernel_size=(5, 5), stride=(1, 1), padding=(2, 2))\n    (4): ReLU(inplace=True)\n    (5): MaxPool2d(kernel_size=3, stride=2, padding=0, dilation=1, ceil_mode=False)\n    (6): Conv2d(192, 384, kernel_size=(3, 3), stride=(1, 1), padding=(1, 1))\n    (7): ReLU(inplace=True)\n    (8): Conv2d(384, 256, kernel_size=(3, 3), stride=(1, 1), padding=(1, 1))\n    (9): ReLU(inplace=True)\n    (10): Conv2d(256, 256, kernel_size=(3, 3), stride=(1, 1), padding=(1, 1))\n    (11): ReLU(inplace=True)\n    (12): MaxPool2d(kernel_size=3, stride=2, padding=0, dilation=1, ceil_mode=False)\n  )\n  (avgpool): AdaptiveAvgPool2d(output_size=(6, 6))\n  (classifier): Sequential(\n    (0): Dropout(p=0.5, inplace=False)\n    (1): Linear(in_features=9216, out_features=4096, bias=True)\n    (2): ReLU(inplace=True)\n    (3): Dropout(p=0.5, inplace=False)\n    (4): Linear(in_features=4096, out_features=4096, bias=True)\n    (5): ReLU(inplace=True)\n    (6): Linear(in_features=4096, out_features=1000, bias=True)\n  )\n)"
     },
     "execution_count": 15,
     "metadata": {},
     "output_type": "execute_result"
    }
   ],
   "source": [
    "model"
   ],
   "metadata": {
    "collapsed": false,
    "ExecuteTime": {
     "end_time": "2023-06-22T19:13:47.339196599Z",
     "start_time": "2023-06-22T19:13:47.120527239Z"
    }
   }
  },
  {
   "cell_type": "code",
   "execution_count": 16,
   "outputs": [
    {
     "data": {
      "text/plain": "(['x',\n  'features.0',\n  'features.1',\n  'features.2',\n  'features.3',\n  'features.4',\n  'features.5',\n  'features.6',\n  'features.7',\n  'features.8',\n  'features.9',\n  'features.10',\n  'features.11',\n  'features.12',\n  'avgpool',\n  'flatten',\n  'classifier.0',\n  'classifier.1',\n  'classifier.2',\n  'classifier.3',\n  'classifier.4',\n  'classifier.5',\n  'classifier.6'],\n ['x',\n  'features.0',\n  'features.1',\n  'features.2',\n  'features.3',\n  'features.4',\n  'features.5',\n  'features.6',\n  'features.7',\n  'features.8',\n  'features.9',\n  'features.10',\n  'features.11',\n  'features.12',\n  'avgpool',\n  'flatten',\n  'classifier.0',\n  'classifier.1',\n  'classifier.2',\n  'classifier.3',\n  'classifier.4',\n  'classifier.5',\n  'classifier.6'])"
     },
     "execution_count": 16,
     "metadata": {},
     "output_type": "execute_result"
    }
   ],
   "source": [
    "get_graph_node_names(model)"
   ],
   "metadata": {
    "collapsed": false,
    "ExecuteTime": {
     "end_time": "2023-06-22T19:13:47.339419268Z",
     "start_time": "2023-06-22T19:13:47.140061330Z"
    }
   }
  },
  {
   "cell_type": "code",
   "execution_count": 17,
   "outputs": [],
   "source": [
    "feature_ext = create_feature_extractor(model, return_nodes=config['return_nodes'])"
   ],
   "metadata": {
    "collapsed": false,
    "ExecuteTime": {
     "end_time": "2023-06-22T19:13:47.339530009Z",
     "start_time": "2023-06-22T19:13:47.181497344Z"
    }
   }
  },
  {
   "cell_type": "code",
   "execution_count": 18,
   "outputs": [],
   "source": [
    "def feature_extractor(x: torch.Tensor):\n",
    "  return feature_ext(torch.Tensor(x.transpose(0,3,1,2)))[config['feature_layer']]"
   ],
   "metadata": {
    "collapsed": false,
    "ExecuteTime": {
     "end_time": "2023-06-22T19:13:47.339655669Z",
     "start_time": "2023-06-22T19:13:47.229568392Z"
    }
   }
  },
  {
   "cell_type": "markdown",
   "source": [
    "# Launching the Attack"
   ],
   "metadata": {
    "collapsed": false
   }
  },
  {
   "cell_type": "code",
   "execution_count": 19,
   "outputs": [],
   "source": [
    "from hiddenbackdoor import *"
   ],
   "metadata": {
    "collapsed": false,
    "ExecuteTime": {
     "end_time": "2023-06-22T19:13:47.339759040Z",
     "start_time": "2023-06-22T19:13:47.229841018Z"
    }
   }
  },
  {
   "cell_type": "code",
   "execution_count": 20,
   "outputs": [],
   "source": [
    "hb = HiddenBackdoor(data_x/255, data_y, config['pois_source_class'], config['pois_target_class'],\n",
    "                    triggers[0]/255, feature_ext,\n",
    "                    config['feature_layer'], config['pois_epsilon'])"
   ],
   "metadata": {
    "collapsed": false,
    "ExecuteTime": {
     "end_time": "2023-06-22T19:13:47.947044904Z",
     "start_time": "2023-06-22T19:13:47.229946768Z"
    }
   }
  },
  {
   "cell_type": "code",
   "execution_count": 21,
   "outputs": [
    {
     "name": "stdout",
     "output_type": "stream",
     "text": [
      " epoch 99999 - loss: 1.4795019626617432CPU times: user 35min 33s, sys: 19.9 s, total: 35min 53s\n",
      "Wall time: 8min 3s\n"
     ]
    }
   ],
   "source": [
    "poison = hb.run(num_poisons=config['num_poisons'], learning_rate=config['pois_learning_rate'],\n",
    "                epochs=config['pois_epochs'], lr_decay=config['pois_lr_decay'],\n",
    "                lr_decay_step=config['pois_decay_step'], min_loss=config['pois_min_loss'])"
   ],
   "metadata": {
    "collapsed": false,
    "ExecuteTime": {
     "end_time": "2023-06-22T19:21:51.766324546Z",
     "start_time": "2023-06-22T19:13:47.932872494Z"
    }
   }
  },
  {
   "cell_type": "markdown",
   "source": [
    "Generated Poison"
   ],
   "metadata": {
    "collapsed": false
   }
  },
  {
   "cell_type": "code",
   "execution_count": 22,
   "outputs": [
    {
     "data": {
      "text/plain": "<PIL.Image.Image image mode=RGB size=150x150>",
      "image/png": "[encoded data removed]"
     },
     "metadata": {},
     "output_type": "display_data"
    }
   ],
   "source": [
    "Image.fromarray(cv2.resize(np.uint8(poison[2]*255), (150,150))).show()"
   ],
   "metadata": {
    "collapsed": false,
    "ExecuteTime": {
     "end_time": "2023-06-22T19:21:51.809645596Z",
     "start_time": "2023-06-22T19:21:51.768471687Z"
    }
   }
  },
  {
   "cell_type": "markdown",
   "source": [
    "The corresponding target"
   ],
   "metadata": {
    "collapsed": false
   }
  },
  {
   "cell_type": "code",
   "execution_count": 23,
   "outputs": [
    {
     "data": {
      "text/plain": "<PIL.Image.Image image mode=RGB size=150x150>",
      "image/png": "[encoded data removed]"
     },
     "metadata": {},
     "output_type": "display_data"
    }
   ],
   "source": [
    "Image.fromarray(cv2.resize(np.uint8(hb.target_images[2]*255), (150,150))).show()"
   ],
   "metadata": {
    "collapsed": false,
    "ExecuteTime": {
     "end_time": "2023-06-22T19:21:51.810197176Z",
     "start_time": "2023-06-22T19:21:51.793236540Z"
    }
   }
  },
  {
   "cell_type": "markdown",
   "source": [
    "The stamped (triggered) source"
   ],
   "metadata": {
    "collapsed": false
   }
  },
  {
   "cell_type": "code",
   "execution_count": 24,
   "outputs": [
    {
     "data": {
      "text/plain": "<PIL.Image.Image image mode=RGB size=150x150>",
      "image/png": "[encoded data removed]"
     },
     "metadata": {},
     "output_type": "display_data"
    }
   ],
   "source": [
    "Image.fromarray(cv2.resize(np.uint8(hb.patched_source_images[2]*255), (150,150))).show()"
   ],
   "metadata": {
    "collapsed": false,
    "ExecuteTime": {
     "end_time": "2023-06-22T19:21:51.896524245Z",
     "start_time": "2023-06-22T19:21:51.811766298Z"
    }
   }
  },
  {
   "cell_type": "markdown",
   "source": [
    "# New Model"
   ],
   "metadata": {
    "collapsed": false
   }
  },
  {
   "cell_type": "code",
   "execution_count": 51,
   "outputs": [],
   "source": [
    "class TransferModel(nn.Module):\n",
    "    def __init__(self, base_model, layer_name: str):\n",
    "        super().__init__()\n",
    "        self.layer_name = layer_name\n",
    "        self.base_model = base_model\n",
    "        self.classifier = nn.Linear(in_features=384, out_features=1)\n",
    "        self.sigmoid = nn.Sigmoid()\n",
    "    def forward(self, x):\n",
    "        out = self.base_model(x)[self.layer_name].squeeze()\n",
    "        out = self.classifier(out)\n",
    "        out = self.sigmoid(out)\n",
    "        return out"
   ],
   "metadata": {
    "collapsed": false,
    "ExecuteTime": {
     "end_time": "2023-06-22T19:30:50.667173211Z",
     "start_time": "2023-06-22T19:30:50.313323901Z"
    }
   }
  },
  {
   "cell_type": "code",
   "execution_count": 52,
   "outputs": [],
   "source": [
    "transfer_model = TransferModel(feature_ext, config['feature_layer']).to(device)"
   ],
   "metadata": {
    "collapsed": false,
    "ExecuteTime": {
     "end_time": "2023-06-22T19:30:52.619650693Z",
     "start_time": "2023-06-22T19:30:50.316449695Z"
    }
   }
  },
  {
   "cell_type": "code",
   "execution_count": 53,
   "outputs": [
    {
     "data": {
      "text/plain": "torch.Size([5, 1])"
     },
     "execution_count": 53,
     "metadata": {},
     "output_type": "execute_result"
    }
   ],
   "source": [
    "transfer_model(torch.Tensor(poison[:5].transpose(0, 3, 1, 2)).to(device)).shape"
   ],
   "metadata": {
    "collapsed": false,
    "ExecuteTime": {
     "end_time": "2023-06-22T19:30:52.620738687Z",
     "start_time": "2023-06-22T19:30:50.425571962Z"
    }
   }
  },
  {
   "cell_type": "markdown",
   "source": [
    "# Fine-tuning Dataset"
   ],
   "metadata": {
    "collapsed": false
   }
  },
  {
   "cell_type": "code",
   "execution_count": 54,
   "outputs": [],
   "source": [
    "finetune_ids = []\n",
    "for idx, _y in enumerate(data_y):\n",
    "    if _y in {config['pois_source_class'], config['pois_target_class']}:\n",
    "        finetune_ids.append(idx)"
   ],
   "metadata": {
    "collapsed": false,
    "ExecuteTime": {
     "end_time": "2023-06-22T19:30:52.620873161Z",
     "start_time": "2023-06-22T19:30:50.425810194Z"
    }
   }
  },
  {
   "cell_type": "code",
   "execution_count": 56,
   "outputs": [],
   "source": [
    "ft_x = data_x[finetune_ids].transpose(0, 3, 1, 2)\n",
    "ft_y = np.array(data_y)[finetune_ids]\n",
    "ft_x = np.concatenate((ft_x, poison.transpose(0, 3, 1, 2)), axis=0)\n",
    "ft_y = np.concatenate((ft_y,\n",
    "                       np.array([config['pois_target_class'] for i in range(config['num_poisons'])])), axis=0)"
   ],
   "metadata": {
    "collapsed": false,
    "ExecuteTime": {
     "end_time": "2023-06-22T19:30:52.621755770Z",
     "start_time": "2023-06-22T19:30:50.469514495Z"
    }
   }
  },
  {
   "cell_type": "code",
   "execution_count": 58,
   "outputs": [
    {
     "data": {
      "text/plain": "(10100, 3, 32, 32)"
     },
     "execution_count": 58,
     "metadata": {},
     "output_type": "execute_result"
    }
   ],
   "source": [
    "ft_x.shape"
   ],
   "metadata": {
    "collapsed": false,
    "ExecuteTime": {
     "end_time": "2023-06-22T19:30:52.622298324Z",
     "start_time": "2023-06-22T19:30:50.585594786Z"
    }
   }
  },
  {
   "cell_type": "code",
   "execution_count": 59,
   "outputs": [],
   "source": [
    "label_mapping = {\n",
    "    config['pois_source_class']:0,\n",
    "    config['pois_target_class']:1\n",
    "}\n",
    "ft_y = np.array([label_mapping[label] for label in ft_y])"
   ],
   "metadata": {
    "collapsed": false,
    "ExecuteTime": {
     "end_time": "2023-06-22T19:30:52.622416299Z",
     "start_time": "2023-06-22T19:30:50.585820805Z"
    }
   }
  },
  {
   "cell_type": "markdown",
   "source": [
    "# Fine-tuning the Model"
   ],
   "metadata": {
    "collapsed": false
   }
  },
  {
   "cell_type": "code",
   "execution_count": 62,
   "outputs": [],
   "source": [
    "class MyVectorDataset(Dataset):\n",
    "    def __init__(self, features, labels):\n",
    "        self.features = features\n",
    "        self.labels = np.array(labels).reshape(-1, 1)\n",
    "    def __len__(self):\n",
    "        return self.features.shape[0]\n",
    "    def __getitem__(self, idx):\n",
    "        return torch.Tensor(self.features[idx]).to(device), torch.Tensor(self.labels[idx]).to(device)"
   ],
   "metadata": {
    "collapsed": false,
    "ExecuteTime": {
     "end_time": "2023-06-22T19:30:52.622948749Z",
     "start_time": "2023-06-22T19:30:50.629653641Z"
    }
   }
  },
  {
   "cell_type": "code",
   "execution_count": 63,
   "outputs": [],
   "source": [
    "train_dataset = MyVectorDataset(ft_x, ft_y)"
   ],
   "metadata": {
    "collapsed": false,
    "ExecuteTime": {
     "end_time": "2023-06-22T19:30:52.623057472Z",
     "start_time": "2023-06-22T19:30:50.629923260Z"
    }
   }
  },
  {
   "cell_type": "code",
   "execution_count": 64,
   "outputs": [],
   "source": [
    "train_dataloader = DataLoader(train_dataset, batch_size=config['ft_batch_size'], shuffle=True)"
   ],
   "metadata": {
    "collapsed": false,
    "ExecuteTime": {
     "end_time": "2023-06-22T19:30:52.623202049Z",
     "start_time": "2023-06-22T19:30:50.630177707Z"
    }
   }
  },
  {
   "cell_type": "code",
   "execution_count": 65,
   "outputs": [],
   "source": [
    "loss_fn = nn.BCELoss()\n",
    "# optimizer = torch.optim.SGD(transfer_model.parameters(), lr=config['ft_learning_rate'])\n",
    "optimizer = torch.optim.Adam(transfer_model.parameters(),lr=config['ft_learning_rate'],betas=(0.9,0.999),eps=1e-08,weight_decay=0,amsgrad=False)"
   ],
   "metadata": {
    "collapsed": false,
    "ExecuteTime": {
     "end_time": "2023-06-22T19:30:52.623342722Z",
     "start_time": "2023-06-22T19:30:50.673856364Z"
    }
   }
  },
  {
   "cell_type": "code",
   "execution_count": 66,
   "outputs": [],
   "source": [
    "def output_to_label(out):\n",
    "    out = out.squeeze()\n",
    "    dist_to_0 = abs(out)\n",
    "    dist_to_1 = abs(out-1)\n",
    "    if dist_to_0 <= dist_to_1:\n",
    "        return 0\n",
    "    else:\n",
    "        return 1"
   ],
   "metadata": {
    "collapsed": false,
    "ExecuteTime": {
     "end_time": "2023-06-22T19:30:52.623473788Z",
     "start_time": "2023-06-22T19:30:50.674118051Z"
    }
   }
  },
  {
   "cell_type": "code",
   "execution_count": 67,
   "outputs": [],
   "source": [
    "def train_loop(dataloader, model, loss_fn, optimizer, epoch_num):\n",
    "    num_points = len(dataloader.dataset)\n",
    "    for batch, (features, labels) in enumerate(dataloader):\n",
    "        # Compute prediction and loss\n",
    "        pred = model(features)\n",
    "        loss = loss_fn(pred, labels)\n",
    "\n",
    "        # Backpropagation\n",
    "        optimizer.zero_grad() # sets gradients of all model parameters to zero\n",
    "        loss.backward() # calculate the gradients again\n",
    "        optimizer.step() # w = w - learning_rate * grad(loss)_with_respect_to_w\n",
    "\n",
    "        if batch % 100 == 0:\n",
    "            loss, current = loss.item(), batch * len(features)\n",
    "            print(f\"\\r Epoch {epoch_num} - loss: {loss:>7f}  [{current:>5d}/{num_points:>5d}]\", end=\" \")\n",
    "\n",
    "\n",
    "def test_loop(dataloader, model, loss_fn, epoch_num, name):\n",
    "    num_points = len(dataloader.dataset)\n",
    "    sum_test_loss, correct = 0, 0\n",
    "\n",
    "    with torch.no_grad():\n",
    "        for batch, (features, labels) in enumerate(dataloader):\n",
    "            pred = model(features)\n",
    "            sum_test_loss += loss_fn(pred, labels).item() # add the current loss to the sum of the losses\n",
    "            # convert the outputs of the model on the current batch to a numpy array\n",
    "            pred_lst = list(pred.cpu().detach().numpy().squeeze())\n",
    "            pred_lst = [output_to_label(item) for item in pred_lst]\n",
    "            # convert the original labels corresponding to the current batch to a numpy array\n",
    "            output_lst = list(labels.cpu().detach().numpy().squeeze())\n",
    "            # determine the points for which the model is correctly predicting the label (add a 1 for each)\n",
    "            match_lst = [1 if p==o else 0 for (p, o) in zip(pred_lst, output_lst)]\n",
    "            # count how many points are labeled correctly in this batch and add the number to the overall count of the correct labeled points\n",
    "            correct += sum(match_lst)\n",
    "\n",
    "    sum_test_loss /= num_points\n",
    "    correct /= num_points\n",
    "    print(f\"\\r Epoch {epoch_num} - {name} Error: Accuracy: {(100*correct):>0.1f}%, Avg loss: {sum_test_loss:>8f}\")"
   ],
   "metadata": {
    "collapsed": false,
    "ExecuteTime": {
     "end_time": "2023-06-22T19:30:52.623588216Z",
     "start_time": "2023-06-22T19:30:50.674301431Z"
    }
   }
  },
  {
   "cell_type": "code",
   "execution_count": 68,
   "outputs": [
    {
     "name": "stdout",
     "output_type": "stream",
     "text": [
      " Epoch 150 - loss: 59.375000  [ 9600/10100] "
     ]
    }
   ],
   "source": [
    "for epoch_num in range(1, config['ft_num_epochs']+1):\n",
    "    train_loop(train_dataloader, transfer_model, loss_fn, optimizer, epoch_num)"
   ],
   "metadata": {
    "collapsed": false,
    "ExecuteTime": {
     "end_time": "2023-06-22T19:34:41.061813148Z",
     "start_time": "2023-06-22T19:30:50.674516745Z"
    }
   }
  },
  {
   "cell_type": "code",
   "execution_count": 69,
   "outputs": [],
   "source": [
    "model_out = transfer_model(torch.Tensor(ft_x).to(device)).squeeze().cpu().detach().numpy()"
   ],
   "metadata": {
    "collapsed": false,
    "ExecuteTime": {
     "end_time": "2023-06-22T19:34:41.424128057Z",
     "start_time": "2023-06-22T19:34:41.061229816Z"
    }
   }
  },
  {
   "cell_type": "code",
   "execution_count": 70,
   "outputs": [
    {
     "data": {
      "text/plain": "(10100,)"
     },
     "execution_count": 70,
     "metadata": {},
     "output_type": "execute_result"
    }
   ],
   "source": [
    "model_out.shape"
   ],
   "metadata": {
    "collapsed": false,
    "ExecuteTime": {
     "end_time": "2023-06-22T19:34:41.424555283Z",
     "start_time": "2023-06-22T19:34:41.142779608Z"
    }
   }
  },
  {
   "cell_type": "code",
   "execution_count": 77,
   "outputs": [
    {
     "data": {
      "text/plain": "5000"
     },
     "execution_count": 77,
     "metadata": {},
     "output_type": "execute_result"
    }
   ],
   "source": [
    "pred_labels = [output_to_label(pred) for pred in model_out]\n",
    "(pred_labels==ft_y).sum()"
   ],
   "metadata": {
    "collapsed": false,
    "ExecuteTime": {
     "end_time": "2023-06-22T19:37:23.961291752Z",
     "start_time": "2023-06-22T19:37:23.839679127Z"
    }
   }
  },
  {
   "cell_type": "code",
   "execution_count": 78,
   "outputs": [
    {
     "data": {
      "text/plain": "array([0.0000000e+00, 3.1779908e-39, 3.3145109e-39, 5.2018217e-39,\n       5.9745299e-39, 9.0578139e-39, 9.4652442e-39, 1.7020500e-38,\n       1.9414012e-38, 2.1735693e-38, 3.6296167e-38, 6.3298199e-38,\n       7.2265102e-38, 2.7843161e-37, 3.3395929e-37, 1.0948767e-36,\n       3.2512879e-36, 3.6404089e-36, 8.0348684e-36, 2.6833798e-35],\n      dtype=float32)"
     },
     "execution_count": 78,
     "metadata": {},
     "output_type": "execute_result"
    }
   ],
   "source": [
    "np.unique(model_out[:])"
   ],
   "metadata": {
    "collapsed": false,
    "ExecuteTime": {
     "end_time": "2023-06-22T19:37:38.914112079Z",
     "start_time": "2023-06-22T19:37:38.842574812Z"
    }
   }
  },
  {
   "cell_type": "code",
   "execution_count": 80,
   "outputs": [
    {
     "data": {
      "text/plain": "(10100,)"
     },
     "execution_count": 80,
     "metadata": {},
     "output_type": "execute_result"
    }
   ],
   "source": [
    "ft_y.shape"
   ],
   "metadata": {
    "collapsed": false,
    "ExecuteTime": {
     "end_time": "2023-06-22T19:37:46.956850175Z",
     "start_time": "2023-06-22T19:37:46.886585683Z"
    }
   }
  },
  {
   "cell_type": "code",
   "execution_count": null,
   "outputs": [],
   "source": [],
   "metadata": {
    "collapsed": false
   }
  }
 ],
 "metadata": {
  "kernelspec": {
   "display_name": "Python 3",
   "language": "python",
   "name": "python3"
  },
  "language_info": {
   "codemirror_mode": {
    "name": "ipython",
    "version": 2
   },
   "file_extension": ".py",
   "mimetype": "text/x-python",
   "name": "python",
   "nbconvert_exporter": "python",
   "pygments_lexer": "ipython2",
   "version": "2.7.6"
  }
 },
 "nbformat": 4,
 "nbformat_minor": 0
}
