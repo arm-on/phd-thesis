{
 "cells": [
  {
   "cell_type": "code",
   "execution_count": 47,
   "metadata": {
    "collapsed": true
   },
   "outputs": [],
   "source": [
    "import torchvision.datasets as datasets\n",
    "import torchvision.models as models\n",
    "from PIL import Image\n",
    "import numpy as np\n",
    "import importlib\n",
    "import sys\n",
    "import torch\n",
    "from torchvision.models.feature_extraction import create_feature_extractor, get_graph_node_names\n",
    "from img_resize import bulk_resize\n",
    "import torch.nn as nn\n",
    "from trigger import *\n",
    "import cv2\n",
    "from sklearn.model_selection import train_test_split\n",
    "from torch.utils.data import Dataset\n",
    "from torch.utils.data import DataLoader"
   ]
  },
  {
   "cell_type": "code",
   "execution_count": 48,
   "metadata": {
    "collapsed": false
   },
   "outputs": [],
   "source": [
    "config = {\n",
    "    'random_seed':50,\n",
    "    'path':'/home/user01/repo/experiments/codes/hb/',\n",
    "    'data_path':'../../../../temp-data',\n",
    "    'trigger_shape':(4,4,3),\n",
    "    'return_nodes':{'features.7':'features.7'},\n",
    "    'feature_layer':'features.7',\n",
    "    'num_poisons':100,\n",
    "    'num_triggers':10,\n",
    "    'pois_learning_rate':1.0,\n",
    "    'pois_epochs':100000,\n",
    "    'pois_lr_decay':0.95,\n",
    "    'pois_decay_step':2000,\n",
    "    'pois_min_loss':1.5,\n",
    "    'pois_epsilon':16/255,\n",
    "    'pois_source_class':4,\n",
    "    'pois_target_class':5,\n",
    "    'pois_image_shape':(32, 32),\n",
    "    'ft_batch_size':32,\n",
    "    'ft_learning_rate':0.1,\n",
    "    'ft_num_epochs':150\n",
    "}"
   ]
  },
  {
   "cell_type": "code",
   "execution_count": 49,
   "metadata": {
    "collapsed": false
   },
   "outputs": [
    {
     "data": {
      "text/plain": [
       "<torch._C.Generator at 0x7f6878336a30>"
      ]
     },
     "execution_count": 3,
     "metadata": {},
     "output_type": "execute_result"
    },
    {
     "data": {
      "text/plain": [
       "<torch._C.Generator at 0x7f6878336a30>"
      ]
     },
     "execution_count": 49,
     "metadata": {},
     "output_type": "execute_result"
    }
   ],
   "source": [
    "seed = config['random_seed']\n",
    "np.random.seed(seed)\n",
    "torch.random.manual_seed(seed)"
   ]
  },
  {
   "cell_type": "code",
   "execution_count": 50,
   "metadata": {
    "collapsed": false
   },
   "outputs": [],
   "source": [
    "def _reload(fn):\n",
    "  return importlib.reload(fn)"
   ]
  },
  {
   "cell_type": "code",
   "execution_count": 51,
   "metadata": {
    "collapsed": false
   },
   "outputs": [],
   "source": [
    "sys.path.append(config['path'])"
   ]
  },
  {
   "cell_type": "code",
   "execution_count": 52,
   "metadata": {
    "collapsed": false
   },
   "outputs": [
    {
     "data": {
      "text/plain": [
       "'cuda'"
      ]
     },
     "execution_count": 6,
     "metadata": {},
     "output_type": "execute_result"
    },
    {
     "data": {
      "text/plain": [
       "'cuda'"
      ]
     },
     "execution_count": 52,
     "metadata": {},
     "output_type": "execute_result"
    }
   ],
   "source": [
    "device = 'cuda' if torch.cuda.is_available() else 'cpu'\n",
    "device"
   ]
  },
  {
   "cell_type": "markdown",
   "metadata": {
    "collapsed": false
   },
   "source": [
    "# Loading the Dataset"
   ]
  },
  {
   "cell_type": "code",
   "execution_count": 53,
   "metadata": {
    "collapsed": false
   },
   "outputs": [
    {
     "name": "stdout",
     "output_type": "stream",
     "text": [
      "Files already downloaded and verified\n",
      "Files already downloaded and verified\n"
     ]
    }
   ],
   "source": [
    "trainset = datasets.CIFAR10(root=config['data_path'], train=True, download=True, transform=None)"
   ]
  },
  {
   "cell_type": "code",
   "execution_count": 54,
   "metadata": {
    "ExecuteTime": {
     "end_time": "2023-06-22T21:37:30.949247958Z",
     "start_time": "2023-06-22T21:37:25.043003823Z"
    },
    "collapsed": false
   },
   "outputs": [],
   "source": [
    "data_x = trainset.data.copy()\n",
    "data_x = np.array([cv2.resize(np.uint8(img), config['pois_image_shape']) for img in data_x])\n",
    "data_y = trainset.targets[:]"
   ]
  },
  {
   "cell_type": "code",
   "execution_count": 55,
   "metadata": {
    "ExecuteTime": {
     "end_time": "2023-06-22T21:37:30.949754977Z",
     "start_time": "2023-06-22T21:37:25.804833704Z"
    },
    "collapsed": false
   },
   "outputs": [],
   "source": [
    "del trainset"
   ]
  },
  {
   "cell_type": "markdown",
   "metadata": {
    "collapsed": false
   },
   "source": [
    "# Generating some Triggers"
   ]
  },
  {
   "cell_type": "code",
   "execution_count": 56,
   "metadata": {
    "ExecuteTime": {
     "end_time": "2023-06-22T21:37:30.950017400Z",
     "start_time": "2023-06-22T21:37:25.812532303Z"
    },
    "collapsed": false
   },
   "outputs": [],
   "source": [
    "gen = TriggerGenerator(config['trigger_shape'])\n",
    "triggers = gen.generate(config['num_triggers'])\n",
    "#triggers = [cv2.resize(np.uint8(trigger*255), (10,10)) for trigger in triggers]"
   ]
  },
  {
   "cell_type": "code",
   "execution_count": 57,
   "metadata": {
    "ExecuteTime": {
     "end_time": "2023-06-22T21:37:30.950198900Z",
     "start_time": "2023-06-22T21:37:25.822633722Z"
    },
    "collapsed": false
   },
   "outputs": [],
   "source": [
    "triggers[0] = np.ones((4,4,3))*255"
   ]
  },
  {
   "cell_type": "code",
   "execution_count": 58,
   "metadata": {
    "ExecuteTime": {
     "end_time": "2023-06-22T21:37:30.950398676Z",
     "start_time": "2023-06-22T21:37:25.828744766Z"
    },
    "collapsed": false
   },
   "outputs": [],
   "source": [
    "triggers[0][0:2, 0:2, :] = 0"
   ]
  },
  {
   "cell_type": "code",
   "execution_count": 59,
   "metadata": {
    "ExecuteTime": {
     "end_time": "2023-06-22T21:37:30.950944381Z",
     "start_time": "2023-06-22T21:37:25.877456993Z"
    },
    "collapsed": false
   },
   "outputs": [
    {
     "data": {
      "text/plain": [
       "array([[[  0,   0,   0],\n",
       "        [  0,   0,   0],\n",
       "        [255, 255, 255],\n",
       "        [255, 255, 255]],\n",
       "\n",
       "       [[  0,   0,   0],\n",
       "        [  0,   0,   0],\n",
       "        [255, 255, 255],\n",
       "        [255, 255, 255]],\n",
       "\n",
       "       [[255, 255, 255],\n",
       "        [255, 255, 255],\n",
       "        [255, 255, 255],\n",
       "        [255, 255, 255]],\n",
       "\n",
       "       [[255, 255, 255],\n",
       "        [255, 255, 255],\n",
       "        [255, 255, 255],\n",
       "        [255, 255, 255]]])"
      ]
     },
     "execution_count": 13,
     "metadata": {},
     "output_type": "execute_result"
    },
    {
     "data": {
      "text/plain": [
       "array([[[  0,   0,   0],\n",
       "        [  0,   0,   0],\n",
       "        [255, 255, 255],\n",
       "        [255, 255, 255]],\n",
       "\n",
       "       [[  0,   0,   0],\n",
       "        [  0,   0,   0],\n",
       "        [255, 255, 255],\n",
       "        [255, 255, 255]],\n",
       "\n",
       "       [[255, 255, 255],\n",
       "        [255, 255, 255],\n",
       "        [255, 255, 255],\n",
       "        [255, 255, 255]],\n",
       "\n",
       "       [[255, 255, 255],\n",
       "        [255, 255, 255],\n",
       "        [255, 255, 255],\n",
       "        [255, 255, 255]]])"
      ]
     },
     "execution_count": 59,
     "metadata": {},
     "output_type": "execute_result"
    }
   ],
   "source": [
    "triggers[0]"
   ]
  },
  {
   "cell_type": "markdown",
   "metadata": {
    "collapsed": false
   },
   "source": [
    "# Model"
   ]
  },
  {
   "cell_type": "code",
   "execution_count": 60,
   "metadata": {
    "ExecuteTime": {
     "end_time": "2023-06-22T21:37:31.190303912Z",
     "start_time": "2023-06-22T21:37:25.877705112Z"
    },
    "collapsed": false
   },
   "outputs": [
    {
     "name": "stderr",
     "output_type": "stream",
     "text": [
      "Using cache found in /home/user01/.cache/torch/hub/pytorch_vision_v0.10.0\n",
      "Using cache found in /home/user01/.cache/torch/hub/pytorch_vision_v0.10.0\n"
     ]
    }
   ],
   "source": [
    "model = torch.hub.load('pytorch/vision:v0.10.0', 'alexnet', weights='AlexNet_Weights.IMAGENET1K_V1')"
   ]
  },
  {
   "cell_type": "code",
   "execution_count": 61,
   "metadata": {
    "ExecuteTime": {
     "end_time": "2023-06-22T21:37:31.190600317Z",
     "start_time": "2023-06-22T21:37:26.975137742Z"
    },
    "collapsed": false
   },
   "outputs": [],
   "source": [
    "# # fixing the weights of the model\n",
    "for param in model.parameters():\n",
    "    param.requires_grad = False"
   ]
  },
  {
   "cell_type": "code",
   "execution_count": 62,
   "metadata": {
    "ExecuteTime": {
     "end_time": "2023-06-22T21:37:31.202968142Z",
     "start_time": "2023-06-22T21:37:26.983013511Z"
    },
    "collapsed": false
   },
   "outputs": [
    {
     "data": {
      "text/plain": [
       "AlexNet(\n",
       "  (features): Sequential(\n",
       "    (0): Conv2d(3, 64, kernel_size=(11, 11), stride=(4, 4), padding=(2, 2))\n",
       "    (1): ReLU(inplace=True)\n",
       "    (2): MaxPool2d(kernel_size=3, stride=2, padding=0, dilation=1, ceil_mode=False)\n",
       "    (3): Conv2d(64, 192, kernel_size=(5, 5), stride=(1, 1), padding=(2, 2))\n",
       "    (4): ReLU(inplace=True)\n",
       "    (5): MaxPool2d(kernel_size=3, stride=2, padding=0, dilation=1, ceil_mode=False)\n",
       "    (6): Conv2d(192, 384, kernel_size=(3, 3), stride=(1, 1), padding=(1, 1))\n",
       "    (7): ReLU(inplace=True)\n",
       "    (8): Conv2d(384, 256, kernel_size=(3, 3), stride=(1, 1), padding=(1, 1))\n",
       "    (9): ReLU(inplace=True)\n",
       "    (10): Conv2d(256, 256, kernel_size=(3, 3), stride=(1, 1), padding=(1, 1))\n",
       "    (11): ReLU(inplace=True)\n",
       "    (12): MaxPool2d(kernel_size=3, stride=2, padding=0, dilation=1, ceil_mode=False)\n",
       "  )\n",
       "  (avgpool): AdaptiveAvgPool2d(output_size=(6, 6))\n",
       "  (classifier): Sequential(\n",
       "    (0): Dropout(p=0.5, inplace=False)\n",
       "    (1): Linear(in_features=9216, out_features=4096, bias=True)\n",
       "    (2): ReLU(inplace=True)\n",
       "    (3): Dropout(p=0.5, inplace=False)\n",
       "    (4): Linear(in_features=4096, out_features=4096, bias=True)\n",
       "    (5): ReLU(inplace=True)\n",
       "    (6): Linear(in_features=4096, out_features=1000, bias=True)\n",
       "  )\n",
       ")"
      ]
     },
     "execution_count": 16,
     "metadata": {},
     "output_type": "execute_result"
    },
    {
     "data": {
      "text/plain": [
       "AlexNet(\n",
       "  (features): Sequential(\n",
       "    (0): Conv2d(3, 64, kernel_size=(11, 11), stride=(4, 4), padding=(2, 2))\n",
       "    (1): ReLU(inplace=True)\n",
       "    (2): MaxPool2d(kernel_size=3, stride=2, padding=0, dilation=1, ceil_mode=False)\n",
       "    (3): Conv2d(64, 192, kernel_size=(5, 5), stride=(1, 1), padding=(2, 2))\n",
       "    (4): ReLU(inplace=True)\n",
       "    (5): MaxPool2d(kernel_size=3, stride=2, padding=0, dilation=1, ceil_mode=False)\n",
       "    (6): Conv2d(192, 384, kernel_size=(3, 3), stride=(1, 1), padding=(1, 1))\n",
       "    (7): ReLU(inplace=True)\n",
       "    (8): Conv2d(384, 256, kernel_size=(3, 3), stride=(1, 1), padding=(1, 1))\n",
       "    (9): ReLU(inplace=True)\n",
       "    (10): Conv2d(256, 256, kernel_size=(3, 3), stride=(1, 1), padding=(1, 1))\n",
       "    (11): ReLU(inplace=True)\n",
       "    (12): MaxPool2d(kernel_size=3, stride=2, padding=0, dilation=1, ceil_mode=False)\n",
       "  )\n",
       "  (avgpool): AdaptiveAvgPool2d(output_size=(6, 6))\n",
       "  (classifier): Sequential(\n",
       "    (0): Dropout(p=0.5, inplace=False)\n",
       "    (1): Linear(in_features=9216, out_features=4096, bias=True)\n",
       "    (2): ReLU(inplace=True)\n",
       "    (3): Dropout(p=0.5, inplace=False)\n",
       "    (4): Linear(in_features=4096, out_features=4096, bias=True)\n",
       "    (5): ReLU(inplace=True)\n",
       "    (6): Linear(in_features=4096, out_features=1000, bias=True)\n",
       "  )\n",
       ")"
      ]
     },
     "execution_count": 62,
     "metadata": {},
     "output_type": "execute_result"
    }
   ],
   "source": [
    "model"
   ]
  },
  {
   "cell_type": "code",
   "execution_count": 63,
   "metadata": {
    "ExecuteTime": {
     "end_time": "2023-06-22T21:37:31.203396310Z",
     "start_time": "2023-06-22T21:37:27.029624340Z"
    },
    "collapsed": false
   },
   "outputs": [
    {
     "data": {
      "text/plain": [
       "(['x',\n",
       "  'features.0',\n",
       "  'features.1',\n",
       "  'features.2',\n",
       "  'features.3',\n",
       "  'features.4',\n",
       "  'features.5',\n",
       "  'features.6',\n",
       "  'features.7',\n",
       "  'features.8',\n",
       "  'features.9',\n",
       "  'features.10',\n",
       "  'features.11',\n",
       "  'features.12',\n",
       "  'avgpool',\n",
       "  'flatten',\n",
       "  'classifier.0',\n",
       "  'classifier.1',\n",
       "  'classifier.2',\n",
       "  'classifier.3',\n",
       "  'classifier.4',\n",
       "  'classifier.5',\n",
       "  'classifier.6'],\n",
       " ['x',\n",
       "  'features.0',\n",
       "  'features.1',\n",
       "  'features.2',\n",
       "  'features.3',\n",
       "  'features.4',\n",
       "  'features.5',\n",
       "  'features.6',\n",
       "  'features.7',\n",
       "  'features.8',\n",
       "  'features.9',\n",
       "  'features.10',\n",
       "  'features.11',\n",
       "  'features.12',\n",
       "  'avgpool',\n",
       "  'flatten',\n",
       "  'classifier.0',\n",
       "  'classifier.1',\n",
       "  'classifier.2',\n",
       "  'classifier.3',\n",
       "  'classifier.4',\n",
       "  'classifier.5',\n",
       "  'classifier.6'])"
      ]
     },
     "execution_count": 17,
     "metadata": {},
     "output_type": "execute_result"
    },
    {
     "data": {
      "text/plain": [
       "(['x',\n",
       "  'features.0',\n",
       "  'features.1',\n",
       "  'features.2',\n",
       "  'features.3',\n",
       "  'features.4',\n",
       "  'features.5',\n",
       "  'features.6',\n",
       "  'features.7',\n",
       "  'features.8',\n",
       "  'features.9',\n",
       "  'features.10',\n",
       "  'features.11',\n",
       "  'features.12',\n",
       "  'avgpool',\n",
       "  'flatten',\n",
       "  'classifier.0',\n",
       "  'classifier.1',\n",
       "  'classifier.2',\n",
       "  'classifier.3',\n",
       "  'classifier.4',\n",
       "  'classifier.5',\n",
       "  'classifier.6'],\n",
       " ['x',\n",
       "  'features.0',\n",
       "  'features.1',\n",
       "  'features.2',\n",
       "  'features.3',\n",
       "  'features.4',\n",
       "  'features.5',\n",
       "  'features.6',\n",
       "  'features.7',\n",
       "  'features.8',\n",
       "  'features.9',\n",
       "  'features.10',\n",
       "  'features.11',\n",
       "  'features.12',\n",
       "  'avgpool',\n",
       "  'flatten',\n",
       "  'classifier.0',\n",
       "  'classifier.1',\n",
       "  'classifier.2',\n",
       "  'classifier.3',\n",
       "  'classifier.4',\n",
       "  'classifier.5',\n",
       "  'classifier.6'])"
      ]
     },
     "execution_count": 63,
     "metadata": {},
     "output_type": "execute_result"
    }
   ],
   "source": [
    "get_graph_node_names(model)"
   ]
  },
  {
   "cell_type": "code",
   "execution_count": 64,
   "metadata": {
    "ExecuteTime": {
     "end_time": "2023-06-22T21:37:31.203531464Z",
     "start_time": "2023-06-22T21:37:27.077372955Z"
    },
    "collapsed": false
   },
   "outputs": [],
   "source": [
    "feature_ext = create_feature_extractor(model, return_nodes=config['return_nodes'])"
   ]
  },
  {
   "cell_type": "code",
   "execution_count": 65,
   "metadata": {
    "ExecuteTime": {
     "end_time": "2023-06-22T21:37:31.203663184Z",
     "start_time": "2023-06-22T21:37:27.077539713Z"
    },
    "collapsed": false
   },
   "outputs": [],
   "source": [
    "def feature_extractor(x: torch.Tensor):\n",
    "  return feature_ext(torch.Tensor(x.transpose(0,3,1,2)))[config['feature_layer']]"
   ]
  },
  {
   "cell_type": "markdown",
   "metadata": {
    "collapsed": false
   },
   "source": [
    "# Launching the Attack"
   ]
  },
  {
   "cell_type": "code",
   "execution_count": 66,
   "metadata": {
    "ExecuteTime": {
     "end_time": "2023-06-22T21:37:31.203771836Z",
     "start_time": "2023-06-22T21:37:27.077630229Z"
    },
    "collapsed": false
   },
   "outputs": [],
   "source": [
    "from hiddenbackdoor import *"
   ]
  },
  {
   "cell_type": "code",
   "execution_count": 67,
   "metadata": {
    "ExecuteTime": {
     "end_time": "2023-06-22T21:37:31.206369125Z",
     "start_time": "2023-06-22T21:37:27.077707529Z"
    },
    "collapsed": false
   },
   "outputs": [],
   "source": [
    "hb = HiddenBackdoor(data_x/255, data_y, config['pois_source_class'], config['pois_target_class'],\n",
    "                    triggers[0]/255, feature_ext,\n",
    "                    config['feature_layer'], config['pois_epsilon'])"
   ]
  },
  {
   "cell_type": "code",
   "execution_count": 68,
   "metadata": {
    "ExecuteTime": {
     "end_time": "2023-06-22T21:45:57.165214593Z",
     "start_time": "2023-06-22T21:37:27.869450427Z"
    },
    "collapsed": false
   },
   "outputs": [
    {
     "name": "stdout",
     "output_type": "stream",
     "text": [
      " epoch 99999 - loss: 0.7748306393623352"
     ]
    }
   ],
   "source": [
    "poison = hb.run(num_poisons=config['num_poisons'], learning_rate=config['pois_learning_rate'],\n",
    "                epochs=config['pois_epochs'], lr_decay=config['pois_lr_decay'],\n",
    "                lr_decay_step=config['pois_decay_step'], min_loss=config['pois_min_loss'])"
   ]
  },
  {
   "cell_type": "markdown",
   "metadata": {
    "collapsed": false
   },
   "source": [
    "Generated Poison"
   ]
  },
  {
   "cell_type": "code",
   "execution_count": 69,
   "metadata": {
    "ExecuteTime": {
     "end_time": "2023-06-22T21:45:57.204978753Z",
     "start_time": "2023-06-22T21:45:57.166537119Z"
    },
    "collapsed": false
   },
   "outputs": [
    {
     "data": {
      "image/png": "[encoded data removed]",
      "text/plain": [
       "<PIL.Image.Image image mode=RGB size=150x150>"
      ]
     },
     "metadata": {},
     "output_type": "display_data"
    },
    {
     "data": {
      "image/png": "[encoded data removed]",
      "text/plain": [
       "<PIL.Image.Image image mode=RGB size=150x150>"
      ]
     },
     "metadata": {},
     "output_type": "display_data"
    }
   ],
   "source": [
    "Image.fromarray(cv2.resize(np.uint8(poison[2]*255), (150,150))).show()"
   ]
  },
  {
   "cell_type": "markdown",
   "metadata": {
    "collapsed": false
   },
   "source": [
    "The corresponding target"
   ]
  },
  {
   "cell_type": "code",
   "execution_count": 70,
   "metadata": {
    "ExecuteTime": {
     "end_time": "2023-06-22T21:45:57.205224715Z",
     "start_time": "2023-06-22T21:45:57.192042621Z"
    },
    "collapsed": false
   },
   "outputs": [
    {
     "data": {
      "image/png": "[encoded data removed]",
      "text/plain": [
       "<PIL.Image.Image image mode=RGB size=150x150>"
      ]
     },
     "metadata": {},
     "output_type": "display_data"
    },
    {
     "data": {
      "image/png": "[encoded data removed]",
      "text/plain": [
       "<PIL.Image.Image image mode=RGB size=150x150>"
      ]
     },
     "metadata": {},
     "output_type": "display_data"
    }
   ],
   "source": [
    "Image.fromarray(cv2.resize(np.uint8(hb.target_images[2]*255), (150,150))).show()"
   ]
  },
  {
   "cell_type": "markdown",
   "metadata": {
    "collapsed": false
   },
   "source": [
    "The stamped (triggered) source"
   ]
  },
  {
   "cell_type": "code",
   "execution_count": 71,
   "metadata": {
    "ExecuteTime": {
     "end_time": "2023-06-22T21:45:57.221973866Z",
     "start_time": "2023-06-22T21:45:57.205724985Z"
    },
    "collapsed": false
   },
   "outputs": [
    {
     "data": {
      "image/png": "[encoded data removed]",
      "text/plain": [
       "<PIL.Image.Image image mode=RGB size=150x150>"
      ]
     },
     "metadata": {},
     "output_type": "display_data"
    },
    {
     "data": {
      "image/png": "[encoded data removed]",
      "text/plain": [
       "<PIL.Image.Image image mode=RGB size=150x150>"
      ]
     },
     "metadata": {},
     "output_type": "display_data"
    }
   ],
   "source": [
    "Image.fromarray(cv2.resize(np.uint8(hb.patched_source_images[2]*255), (150,150))).show()"
   ]
  },
  {
   "cell_type": "markdown",
   "metadata": {
    "collapsed": false
   },
   "source": [
    "# New Model"
   ]
  },
  {
   "cell_type": "code",
   "execution_count": 72,
   "metadata": {
    "ExecuteTime": {
     "end_time": "2023-06-22T21:45:57.279903913Z",
     "start_time": "2023-06-22T21:45:57.223195162Z"
    },
    "collapsed": false
   },
   "outputs": [],
   "source": [
    "class TransferModel(nn.Module):\n",
    "    def __init__(self, base_model, layer_name: str):\n",
    "        super().__init__()\n",
    "        self.layer_name = layer_name\n",
    "        self.base_model = base_model\n",
    "        self.classifier = nn.Linear(in_features=384, out_features=1)\n",
    "        self.sigmoid = nn.Sigmoid()\n",
    "    def forward(self, x):\n",
    "        out = self.base_model(x)[self.layer_name].squeeze()\n",
    "        out = self.classifier(out)\n",
    "        out = self.sigmoid(out)\n",
    "        return out"
   ]
  },
  {
   "cell_type": "code",
   "execution_count": 73,
   "metadata": {
    "ExecuteTime": {
     "end_time": "2023-06-22T21:45:57.280753295Z",
     "start_time": "2023-06-22T21:45:57.229622780Z"
    },
    "collapsed": false
   },
   "outputs": [],
   "source": [
    "transfer_model = TransferModel(feature_ext, config['feature_layer']).to(device)"
   ]
  },
  {
   "cell_type": "code",
   "execution_count": 74,
   "metadata": {
    "ExecuteTime": {
     "end_time": "2023-06-22T21:45:57.280962149Z",
     "start_time": "2023-06-22T21:45:57.234277664Z"
    },
    "collapsed": false
   },
   "outputs": [],
   "source": [
    "for param in transfer_model.parameters():\n",
    "    param.requires_grad = True"
   ]
  },
  {
   "cell_type": "code",
   "execution_count": 75,
   "metadata": {
    "ExecuteTime": {
     "end_time": "2023-06-22T21:45:57.281400094Z",
     "start_time": "2023-06-22T21:45:57.238165137Z"
    },
    "collapsed": false
   },
   "outputs": [
    {
     "data": {
      "text/plain": [
       "torch.Size([5, 1])"
      ]
     },
     "execution_count": 29,
     "metadata": {},
     "output_type": "execute_result"
    },
    {
     "data": {
      "text/plain": [
       "torch.Size([5, 1])"
      ]
     },
     "execution_count": 75,
     "metadata": {},
     "output_type": "execute_result"
    }
   ],
   "source": [
    "transfer_model(torch.Tensor(poison[:5].transpose(0, 3, 1, 2)).to(device)).shape"
   ]
  },
  {
   "cell_type": "markdown",
   "metadata": {
    "collapsed": false
   },
   "source": [
    "# Fine-tuning Dataset"
   ]
  },
  {
   "cell_type": "code",
   "execution_count": 76,
   "metadata": {
    "ExecuteTime": {
     "end_time": "2023-06-22T21:45:57.281587825Z",
     "start_time": "2023-06-22T21:45:57.257268426Z"
    },
    "collapsed": false
   },
   "outputs": [],
   "source": [
    "finetune_ids = []\n",
    "for idx, _y in enumerate(data_y):\n",
    "    if _y in {config['pois_source_class'], config['pois_target_class']}:\n",
    "        finetune_ids.append(idx)"
   ]
  },
  {
   "cell_type": "code",
   "execution_count": 77,
   "metadata": {
    "ExecuteTime": {
     "end_time": "2023-06-22T21:45:57.368817636Z",
     "start_time": "2023-06-22T21:45:57.269046458Z"
    },
    "collapsed": false
   },
   "outputs": [],
   "source": [
    "ft_x = data_x[finetune_ids].transpose(0, 3, 1, 2)\n",
    "ft_y = np.array(data_y)[finetune_ids]\n",
    "ft_x = np.concatenate((ft_x, poison.transpose(0, 3, 1, 2)), axis=0)\n",
    "ft_y = np.concatenate((ft_y,\n",
    "                       np.array([config['pois_target_class'] for i in range(config['num_poisons'])])), axis=0)"
   ]
  },
  {
   "cell_type": "code",
   "execution_count": 78,
   "metadata": {
    "ExecuteTime": {
     "end_time": "2023-06-22T21:45:57.385418887Z",
     "start_time": "2023-06-22T21:45:57.358340060Z"
    },
    "collapsed": false
   },
   "outputs": [
    {
     "data": {
      "text/plain": [
       "(10100, 3, 32, 32)"
      ]
     },
     "execution_count": 32,
     "metadata": {},
     "output_type": "execute_result"
    },
    {
     "data": {
      "text/plain": [
       "(10100, 3, 32, 32)"
      ]
     },
     "execution_count": 78,
     "metadata": {},
     "output_type": "execute_result"
    }
   ],
   "source": [
    "ft_x.shape"
   ]
  },
  {
   "cell_type": "code",
   "execution_count": 79,
   "metadata": {
    "ExecuteTime": {
     "end_time": "2023-06-22T21:45:57.385558949Z",
     "start_time": "2023-06-22T21:45:57.369030400Z"
    },
    "collapsed": false
   },
   "outputs": [],
   "source": [
    "label_mapping = {\n",
    "    config['pois_source_class']:0,\n",
    "    config['pois_target_class']:1\n",
    "}\n",
    "ft_y = np.array([label_mapping[label] for label in ft_y])"
   ]
  },
  {
   "cell_type": "markdown",
   "metadata": {
    "collapsed": false
   },
   "source": [
    "# Fine-tuning the Model"
   ]
  },
  {
   "cell_type": "code",
   "execution_count": 80,
   "metadata": {
    "ExecuteTime": {
     "end_time": "2023-06-22T21:45:57.385968767Z",
     "start_time": "2023-06-22T21:45:57.372681225Z"
    },
    "collapsed": false
   },
   "outputs": [],
   "source": [
    "class MyVectorDataset(Dataset):\n",
    "    def __init__(self, features, labels):\n",
    "        self.features = features\n",
    "        self.labels = np.array(labels).reshape(-1, 1)\n",
    "    def __len__(self):\n",
    "        return self.features.shape[0]\n",
    "    def __getitem__(self, idx):\n",
    "        return torch.Tensor(self.features[idx]).to(device), torch.Tensor(self.labels[idx]).to(device)"
   ]
  },
  {
   "cell_type": "code",
   "execution_count": 81,
   "metadata": {
    "ExecuteTime": {
     "end_time": "2023-06-22T21:45:57.386074733Z",
     "start_time": "2023-06-22T21:45:57.378930548Z"
    },
    "collapsed": false
   },
   "outputs": [],
   "source": [
    "train_dataset = MyVectorDataset(ft_x, ft_y)"
   ]
  },
  {
   "cell_type": "code",
   "execution_count": 82,
   "metadata": {
    "ExecuteTime": {
     "end_time": "2023-06-22T21:45:57.391398134Z",
     "start_time": "2023-06-22T21:45:57.383785498Z"
    },
    "collapsed": false
   },
   "outputs": [],
   "source": [
    "train_dataloader = DataLoader(train_dataset, batch_size=config['ft_batch_size'], shuffle=True)"
   ]
  },
  {
   "cell_type": "code",
   "execution_count": 83,
   "metadata": {
    "ExecuteTime": {
     "end_time": "2023-06-22T21:45:57.431012068Z",
     "start_time": "2023-06-22T21:45:57.388863107Z"
    },
    "collapsed": false
   },
   "outputs": [],
   "source": [
    "loss_fn = nn.BCELoss()\n",
    "# optimizer = torch.optim.SGD(transfer_model.parameters(), lr=config['ft_learning_rate'])\n",
    "optimizer = torch.optim.Adam(transfer_model.parameters(),lr=config['ft_learning_rate'],betas=(0.9,0.999),eps=1e-08,weight_decay=0,amsgrad=False)"
   ]
  },
  {
   "cell_type": "code",
   "execution_count": 84,
   "metadata": {
    "ExecuteTime": {
     "end_time": "2023-06-22T21:45:57.431548468Z",
     "start_time": "2023-06-22T21:45:57.395549815Z"
    },
    "collapsed": false
   },
   "outputs": [],
   "source": [
    "def output_to_label(out):\n",
    "    out = out.squeeze()\n",
    "    dist_to_0 = abs(out)\n",
    "    dist_to_1 = abs(out-1)\n",
    "    if dist_to_0 <= dist_to_1:\n",
    "        return 0\n",
    "    else:\n",
    "        return 1"
   ]
  },
  {
   "cell_type": "code",
   "execution_count": 85,
   "metadata": {
    "ExecuteTime": {
     "end_time": "2023-06-22T21:45:57.431764527Z",
     "start_time": "2023-06-22T21:45:57.403700208Z"
    },
    "collapsed": false
   },
   "outputs": [],
   "source": [
    "def train_loop(dataloader, model, loss_fn, optimizer, epoch_num):\n",
    "    num_points = len(dataloader.dataset)\n",
    "    for batch, (features, labels) in enumerate(dataloader):\n",
    "        # Compute prediction and loss\n",
    "        pred = model(features)\n",
    "        loss = loss_fn(pred, labels)\n",
    "\n",
    "        # Backpropagation\n",
    "        optimizer.zero_grad() # sets gradients of all model parameters to zero\n",
    "        loss.backward() # calculate the gradients again\n",
    "        optimizer.step() # w = w - learning_rate * grad(loss)_with_respect_to_w\n",
    "\n",
    "        if batch % 100 == 0:\n",
    "            loss, current = loss.item(), batch * len(features)\n",
    "            print(f\"\\r Epoch {epoch_num} - loss: {loss:>7f}  [{current:>5d}/{num_points:>5d}]\", end=\" \")\n",
    "\n",
    "\n",
    "def test_loop(dataloader, model, loss_fn, epoch_num, name):\n",
    "    num_points = len(dataloader.dataset)\n",
    "    sum_test_loss, correct = 0, 0\n",
    "\n",
    "    with torch.no_grad():\n",
    "        for batch, (features, labels) in enumerate(dataloader):\n",
    "            pred = model(features)\n",
    "            sum_test_loss += loss_fn(pred, labels).item() # add the current loss to the sum of the losses\n",
    "            # convert the outputs of the model on the current batch to a numpy array\n",
    "            pred_lst = list(pred.cpu().detach().numpy().squeeze())\n",
    "            pred_lst = [output_to_label(item) for item in pred_lst]\n",
    "            # convert the original labels corresponding to the current batch to a numpy array\n",
    "            output_lst = list(labels.cpu().detach().numpy().squeeze())\n",
    "            # determine the points for which the model is correctly predicting the label (add a 1 for each)\n",
    "            match_lst = [1 if p==o else 0 for (p, o) in zip(pred_lst, output_lst)]\n",
    "            # count how many points are labeled correctly in this batch and add the number to the overall count of the correct labeled points\n",
    "            correct += sum(match_lst)\n",
    "\n",
    "    sum_test_loss /= num_points\n",
    "    correct /= num_points\n",
    "    print(f\"\\r Epoch {epoch_num} - {name} Error: Accuracy: {(100*correct):>0.1f}%, Avg loss: {sum_test_loss:>8f}\")"
   ]
  },
  {
   "cell_type": "markdown",
   "metadata": {
    "collapsed": false
   },
   "source": []
  },
  {
   "cell_type": "code",
   "execution_count": 86,
   "metadata": {
    "ExecuteTime": {
     "start_time": "2023-06-22T21:59:45.597754593Z"
    },
    "collapsed": false
   },
   "outputs": [
    {
     "name": "stdout",
     "output_type": "stream",
     "text": [
      " Epoch 150 - loss: 46.875000  [ 9600/10100] "
     ]
    }
   ],
   "source": [
    "for epoch_num in range(1, config['ft_num_epochs']+1):\n",
    "    train_loop(train_dataloader, transfer_model, loss_fn, optimizer, epoch_num)"
   ]
  },
  {
   "cell_type": "code",
   "execution_count": 87,
   "metadata": {
    "ExecuteTime": {
     "start_time": "2023-06-22T22:05:43.270724255Z"
    },
    "collapsed": false
   },
   "outputs": [],
   "source": [
    "model_out = transfer_model(torch.Tensor(ft_x).to(device)).squeeze().cpu().detach().numpy()"
   ]
  },
  {
   "cell_type": "code",
   "execution_count": 88,
   "metadata": {
    "ExecuteTime": {
     "start_time": "2023-06-22T22:05:43.354496368Z"
    },
    "collapsed": false
   },
   "outputs": [
    {
     "data": {
      "text/plain": [
       "(10100,)"
      ]
     },
     "execution_count": 42,
     "metadata": {},
     "output_type": "execute_result"
    },
    {
     "data": {
      "text/plain": [
       "(10100,)"
      ]
     },
     "execution_count": 88,
     "metadata": {},
     "output_type": "execute_result"
    }
   ],
   "source": [
    "model_out.shape"
   ]
  },
  {
   "cell_type": "code",
   "execution_count": 89,
   "metadata": {
    "ExecuteTime": {
     "start_time": "2023-06-22T22:05:43.362289126Z"
    },
    "collapsed": false
   },
   "outputs": [
    {
     "data": {
      "text/plain": [
       "5100"
      ]
     },
     "execution_count": 43,
     "metadata": {},
     "output_type": "execute_result"
    },
    {
     "data": {
      "text/plain": [
       "5100"
      ]
     },
     "execution_count": 89,
     "metadata": {},
     "output_type": "execute_result"
    }
   ],
   "source": [
    "pred_labels = [output_to_label(pred) for pred in model_out]\n",
    "(pred_labels==ft_y).sum()"
   ]
  },
  {
   "cell_type": "code",
   "execution_count": 90,
   "metadata": {
    "ExecuteTime": {
     "start_time": "2023-06-22T22:05:43.426094356Z"
    },
    "collapsed": false
   },
   "outputs": [
    {
     "data": {
      "text/plain": [
       "array([1.], dtype=float32)"
      ]
     },
     "execution_count": 44,
     "metadata": {},
     "output_type": "execute_result"
    },
    {
     "data": {
      "text/plain": [
       "array([1.], dtype=float32)"
      ]
     },
     "execution_count": 90,
     "metadata": {},
     "output_type": "execute_result"
    }
   ],
   "source": [
    "np.unique(model_out[:])"
   ]
  },
  {
   "cell_type": "code",
   "execution_count": 91,
   "metadata": {
    "ExecuteTime": {
     "start_time": "2023-06-22T22:05:43.469857287Z"
    },
    "collapsed": false
   },
   "outputs": [
    {
     "data": {
      "text/plain": [
       "(10100,)"
      ]
     },
     "execution_count": 45,
     "metadata": {},
     "output_type": "execute_result"
    },
    {
     "data": {
      "text/plain": [
       "(10100,)"
      ]
     },
     "execution_count": 91,
     "metadata": {},
     "output_type": "execute_result"
    }
   ],
   "source": [
    "ft_y.shape"
   ]
  },
  {
   "cell_type": "code",
   "execution_count": 92,
   "metadata": {
    "ExecuteTime": {
     "start_time": "2023-06-22T22:05:43.470214546Z"
    },
    "collapsed": false
   },
   "outputs": [
    {
     "data": {
      "text/plain": [
       "0"
      ]
     },
     "execution_count": 46,
     "metadata": {},
     "output_type": "execute_result"
    },
    {
     "data": {
      "text/plain": [
       "0"
      ]
     },
     "execution_count": 92,
     "metadata": {},
     "output_type": "execute_result"
    }
   ],
   "source": [
    "output_to_label(np.array([0.2]))"
   ]
  },
  {
   "cell_type": "code",
   "execution_count": 92,
   "metadata": {
    "ExecuteTime": {
     "start_time": "2023-06-22T22:05:43.470496463Z"
    },
    "collapsed": false
   },
   "outputs": [],
   "source": []
  }
 ],
 "metadata": {
  "kernelspec": {
   "display_name": "Python 3",
   "language": "python",
   "name": "python3"
  },
  "language_info": {
   "codemirror_mode": {
    "name": "ipython",
    "version": 2
   },
   "file_extension": ".py",
   "mimetype": "text/x-python",
   "name": "python",
   "nbconvert_exporter": "python",
   "pygments_lexer": "ipython2",
   "version": "3.9.13"
  }
 },
 "nbformat": 4,
 "nbformat_minor": 0
}
