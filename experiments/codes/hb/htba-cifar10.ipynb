{
 "cells": [
  {
   "cell_type": "code",
   "execution_count": 1,
   "metadata": {
    "collapsed": true,
    "ExecuteTime": {
     "end_time": "2023-06-22T04:07:14.783256151Z",
     "start_time": "2023-06-22T04:07:12.786581728Z"
    }
   },
   "outputs": [],
   "source": [
    "import torchvision.datasets as datasets\n",
    "import torchvision.models as models\n",
    "from PIL import Image\n",
    "import numpy as np\n",
    "import importlib\n",
    "import sys\n",
    "import torch\n",
    "from torchvision.models.feature_extraction import create_feature_extractor, get_graph_node_names\n",
    "from img_resize import bulk_resize\n",
    "import torch.nn as nn\n",
    "from trigger import *\n",
    "import cv2\n",
    "from sklearn.model_selection import train_test_split"
   ]
  },
  {
   "cell_type": "code",
   "execution_count": 2,
   "outputs": [],
   "source": [
    "config = {\n",
    "    'random_seed':50,\n",
    "    'path':'/home/user01/repo/experiments/codes/hb/',\n",
    "    'data_path':'../../../../temp-data',\n",
    "    'trigger_shape':(4,4,3),\n",
    "    'return_nodes':{'features.7':'features.7'},\n",
    "    'feature_layer':'features.7',\n",
    "    'num_poisons':100,\n",
    "    'num_triggers':10,\n",
    "    'pois_learning_rate':1e-2,\n",
    "    'pois_epochs':100000,\n",
    "    'pois_lr_decay':0.95,\n",
    "    'pois_decay_step':2000,\n",
    "    'pois_min_loss':1.5,\n",
    "    'pois_epsilon':16/255,\n",
    "    'pois_source_class':4,\n",
    "    'pois_target_class':5,\n",
    "    'pois_image_shape':(32, 32)\n",
    "}"
   ],
   "metadata": {
    "collapsed": false,
    "ExecuteTime": {
     "end_time": "2023-06-22T04:07:14.783688590Z",
     "start_time": "2023-06-22T04:07:14.774152636Z"
    }
   }
  },
  {
   "cell_type": "code",
   "execution_count": 3,
   "outputs": [
    {
     "data": {
      "text/plain": "<torch._C.Generator at 0x7fc07c0b2a30>"
     },
     "execution_count": 3,
     "metadata": {},
     "output_type": "execute_result"
    }
   ],
   "source": [
    "seed = config['random_seed']\n",
    "np.random.seed(seed)\n",
    "torch.random.manual_seed(seed)"
   ],
   "metadata": {
    "collapsed": false,
    "ExecuteTime": {
     "end_time": "2023-06-22T04:07:14.784408324Z",
     "start_time": "2023-06-22T04:07:14.779204592Z"
    }
   }
  },
  {
   "cell_type": "code",
   "execution_count": 4,
   "outputs": [],
   "source": [
    "def _reload(fn):\n",
    "  return importlib.reload(fn)"
   ],
   "metadata": {
    "collapsed": false,
    "ExecuteTime": {
     "end_time": "2023-06-22T04:07:14.824440784Z",
     "start_time": "2023-06-22T04:07:14.787320173Z"
    }
   }
  },
  {
   "cell_type": "code",
   "execution_count": 5,
   "outputs": [],
   "source": [
    "sys.path.append(config['path'])"
   ],
   "metadata": {
    "collapsed": false,
    "ExecuteTime": {
     "end_time": "2023-06-22T04:07:14.824742473Z",
     "start_time": "2023-06-22T04:07:14.797869344Z"
    }
   }
  },
  {
   "cell_type": "code",
   "execution_count": 6,
   "outputs": [
    {
     "data": {
      "text/plain": "'cuda'"
     },
     "execution_count": 6,
     "metadata": {},
     "output_type": "execute_result"
    }
   ],
   "source": [
    "device = 'cuda' if torch.cuda.is_available() else 'cpu'\n",
    "device"
   ],
   "metadata": {
    "collapsed": false,
    "ExecuteTime": {
     "end_time": "2023-06-22T04:07:14.916698028Z",
     "start_time": "2023-06-22T04:07:14.845392589Z"
    }
   }
  },
  {
   "cell_type": "markdown",
   "source": [
    "# Loading the Dataset"
   ],
   "metadata": {
    "collapsed": false
   }
  },
  {
   "cell_type": "code",
   "execution_count": 7,
   "outputs": [
    {
     "name": "stdout",
     "output_type": "stream",
     "text": [
      "Files already downloaded and verified\n"
     ]
    }
   ],
   "source": [
    "trainset = datasets.CIFAR10(root=config['data_path'], train=True, download=True, transform=None)"
   ],
   "metadata": {
    "collapsed": false,
    "ExecuteTime": {
     "end_time": "2023-06-22T04:07:16.277519178Z",
     "start_time": "2023-06-22T04:07:14.845509205Z"
    }
   }
  },
  {
   "cell_type": "code",
   "execution_count": 8,
   "outputs": [],
   "source": [
    "_, data_x, _, data_y = train_test_split(trainset.data, trainset.targets, test_size=0.1, random_state=seed, stratify=trainset.targets)"
   ],
   "metadata": {
    "collapsed": false,
    "ExecuteTime": {
     "end_time": "2023-06-22T04:07:16.277840400Z",
     "start_time": "2023-06-22T04:07:16.100948289Z"
    }
   }
  },
  {
   "cell_type": "code",
   "execution_count": 9,
   "outputs": [],
   "source": [
    "data_x = np.array([cv2.resize(np.uint8(img), config['pois_image_shape']) for img in data_x])"
   ],
   "metadata": {
    "collapsed": false,
    "ExecuteTime": {
     "end_time": "2023-06-22T04:07:16.361116483Z",
     "start_time": "2023-06-22T04:07:16.218907759Z"
    }
   }
  },
  {
   "cell_type": "code",
   "execution_count": 10,
   "outputs": [],
   "source": [
    "del trainset"
   ],
   "metadata": {
    "collapsed": false,
    "ExecuteTime": {
     "end_time": "2023-06-22T04:07:16.361815751Z",
     "start_time": "2023-06-22T04:07:16.353468517Z"
    }
   }
  },
  {
   "cell_type": "code",
   "execution_count": 11,
   "outputs": [
    {
     "data": {
      "text/plain": "(5000, 32, 32, 3)"
     },
     "execution_count": 11,
     "metadata": {},
     "output_type": "execute_result"
    }
   ],
   "source": [
    "data_x.shape"
   ],
   "metadata": {
    "collapsed": false,
    "ExecuteTime": {
     "end_time": "2023-06-22T04:07:16.362243951Z",
     "start_time": "2023-06-22T04:07:16.353661390Z"
    }
   }
  },
  {
   "cell_type": "code",
   "execution_count": 12,
   "outputs": [
    {
     "data": {
      "text/plain": "5000"
     },
     "execution_count": 12,
     "metadata": {},
     "output_type": "execute_result"
    }
   ],
   "source": [
    "len(data_y)"
   ],
   "metadata": {
    "collapsed": false,
    "ExecuteTime": {
     "end_time": "2023-06-22T04:07:16.362596397Z",
     "start_time": "2023-06-22T04:07:16.353767620Z"
    }
   }
  },
  {
   "cell_type": "markdown",
   "source": [
    "# Generating some Triggers"
   ],
   "metadata": {
    "collapsed": false
   }
  },
  {
   "cell_type": "code",
   "execution_count": 13,
   "outputs": [],
   "source": [
    "gen = TriggerGenerator(config['trigger_shape'])\n",
    "triggers = gen.generate(config['num_triggers'])\n",
    "#triggers = [cv2.resize(np.uint8(trigger*255), (10,10)) for trigger in triggers]"
   ],
   "metadata": {
    "collapsed": false,
    "ExecuteTime": {
     "end_time": "2023-06-22T04:07:16.417769140Z",
     "start_time": "2023-06-22T04:07:16.397417988Z"
    }
   }
  },
  {
   "cell_type": "markdown",
   "source": [
    "# Model"
   ],
   "metadata": {
    "collapsed": false
   }
  },
  {
   "cell_type": "code",
   "execution_count": 14,
   "outputs": [
    {
     "name": "stderr",
     "output_type": "stream",
     "text": [
      "Using cache found in /home/user01/.cache/torch/hub/pytorch_vision_v0.10.0\n"
     ]
    }
   ],
   "source": [
    "model = torch.hub.load('pytorch/vision:v0.10.0', 'alexnet', weights='AlexNet_Weights.IMAGENET1K_V1')"
   ],
   "metadata": {
    "collapsed": false,
    "ExecuteTime": {
     "end_time": "2023-06-22T04:07:17.399940024Z",
     "start_time": "2023-06-22T04:07:16.397577194Z"
    }
   }
  },
  {
   "cell_type": "code",
   "execution_count": 15,
   "outputs": [],
   "source": [
    "# fixing the weights of the model\n",
    "for param in model.parameters():\n",
    "    param.requires_grad = False"
   ],
   "metadata": {
    "collapsed": false,
    "ExecuteTime": {
     "end_time": "2023-06-22T04:07:17.804678660Z",
     "start_time": "2023-06-22T04:07:17.404923649Z"
    }
   }
  },
  {
   "cell_type": "code",
   "execution_count": 16,
   "outputs": [
    {
     "data": {
      "text/plain": "AlexNet(\n  (features): Sequential(\n    (0): Conv2d(3, 64, kernel_size=(11, 11), stride=(4, 4), padding=(2, 2))\n    (1): ReLU(inplace=True)\n    (2): MaxPool2d(kernel_size=3, stride=2, padding=0, dilation=1, ceil_mode=False)\n    (3): Conv2d(64, 192, kernel_size=(5, 5), stride=(1, 1), padding=(2, 2))\n    (4): ReLU(inplace=True)\n    (5): MaxPool2d(kernel_size=3, stride=2, padding=0, dilation=1, ceil_mode=False)\n    (6): Conv2d(192, 384, kernel_size=(3, 3), stride=(1, 1), padding=(1, 1))\n    (7): ReLU(inplace=True)\n    (8): Conv2d(384, 256, kernel_size=(3, 3), stride=(1, 1), padding=(1, 1))\n    (9): ReLU(inplace=True)\n    (10): Conv2d(256, 256, kernel_size=(3, 3), stride=(1, 1), padding=(1, 1))\n    (11): ReLU(inplace=True)\n    (12): MaxPool2d(kernel_size=3, stride=2, padding=0, dilation=1, ceil_mode=False)\n  )\n  (avgpool): AdaptiveAvgPool2d(output_size=(6, 6))\n  (classifier): Sequential(\n    (0): Dropout(p=0.5, inplace=False)\n    (1): Linear(in_features=9216, out_features=4096, bias=True)\n    (2): ReLU(inplace=True)\n    (3): Dropout(p=0.5, inplace=False)\n    (4): Linear(in_features=4096, out_features=4096, bias=True)\n    (5): ReLU(inplace=True)\n    (6): Linear(in_features=4096, out_features=1000, bias=True)\n  )\n)"
     },
     "execution_count": 16,
     "metadata": {},
     "output_type": "execute_result"
    }
   ],
   "source": [
    "model"
   ],
   "metadata": {
    "collapsed": false,
    "ExecuteTime": {
     "end_time": "2023-06-22T04:07:17.805469315Z",
     "start_time": "2023-06-22T04:07:17.449602554Z"
    }
   }
  },
  {
   "cell_type": "code",
   "execution_count": 17,
   "outputs": [
    {
     "data": {
      "text/plain": "(['x',\n  'features.0',\n  'features.1',\n  'features.2',\n  'features.3',\n  'features.4',\n  'features.5',\n  'features.6',\n  'features.7',\n  'features.8',\n  'features.9',\n  'features.10',\n  'features.11',\n  'features.12',\n  'avgpool',\n  'flatten',\n  'classifier.0',\n  'classifier.1',\n  'classifier.2',\n  'classifier.3',\n  'classifier.4',\n  'classifier.5',\n  'classifier.6'],\n ['x',\n  'features.0',\n  'features.1',\n  'features.2',\n  'features.3',\n  'features.4',\n  'features.5',\n  'features.6',\n  'features.7',\n  'features.8',\n  'features.9',\n  'features.10',\n  'features.11',\n  'features.12',\n  'avgpool',\n  'flatten',\n  'classifier.0',\n  'classifier.1',\n  'classifier.2',\n  'classifier.3',\n  'classifier.4',\n  'classifier.5',\n  'classifier.6'])"
     },
     "execution_count": 17,
     "metadata": {},
     "output_type": "execute_result"
    }
   ],
   "source": [
    "get_graph_node_names(model)"
   ],
   "metadata": {
    "collapsed": false,
    "ExecuteTime": {
     "end_time": "2023-06-22T04:07:17.805917377Z",
     "start_time": "2023-06-22T04:07:17.449806743Z"
    }
   }
  },
  {
   "cell_type": "code",
   "execution_count": 18,
   "outputs": [],
   "source": [
    "feature_ext = create_feature_extractor(model, return_nodes=config['return_nodes'])"
   ],
   "metadata": {
    "collapsed": false,
    "ExecuteTime": {
     "end_time": "2023-06-22T04:07:17.806996098Z",
     "start_time": "2023-06-22T04:07:17.493525242Z"
    }
   }
  },
  {
   "cell_type": "code",
   "execution_count": 19,
   "outputs": [],
   "source": [
    "def feature_extractor(x: torch.Tensor):\n",
    "  return feature_ext(torch.Tensor(x.transpose(0,3,1,2)))[config['feature_layer']]"
   ],
   "metadata": {
    "collapsed": false,
    "ExecuteTime": {
     "end_time": "2023-06-22T04:07:17.807221758Z",
     "start_time": "2023-06-22T04:07:17.493792948Z"
    }
   }
  },
  {
   "cell_type": "markdown",
   "source": [
    "# Launching the Attack"
   ],
   "metadata": {
    "collapsed": false
   }
  },
  {
   "cell_type": "code",
   "execution_count": 20,
   "outputs": [],
   "source": [
    "from hiddenbackdoor import *"
   ],
   "metadata": {
    "collapsed": false,
    "ExecuteTime": {
     "end_time": "2023-06-22T04:07:17.807392511Z",
     "start_time": "2023-06-22T04:07:17.493903907Z"
    }
   }
  },
  {
   "cell_type": "code",
   "execution_count": 21,
   "outputs": [],
   "source": [
    "hb = HiddenBackdoor(data_x/255, data_y, config['pois_source_class'], config['pois_target_class'],\n",
    "                    triggers[0]/255, feature_ext,\n",
    "                    config['feature_layer'], config['pois_epsilon'])"
   ],
   "metadata": {
    "collapsed": false,
    "ExecuteTime": {
     "end_time": "2023-06-22T04:07:17.808520842Z",
     "start_time": "2023-06-22T04:07:17.497694119Z"
    }
   }
  },
  {
   "cell_type": "code",
   "execution_count": 22,
   "outputs": [
    {
     "name": "stdout",
     "output_type": "stream",
     "text": [
      " epoch 99999 - loss:1.468019962310791CPU times: user 38min 44s, sys: 22.2 s, total: 39min 6s\n",
      "Wall time: 8min 54s\n"
     ]
    }
   ],
   "source": [
    "%%time\n",
    "poison = hb.run(num_poisons=config['num_poisons'], learning_rate=config['pois_learning_rate'],\n",
    "                epochs=config['pois_epochs'], lr_decay=config['pois_lr_decay'],\n",
    "                lr_decay_step=config['pois_decay_step'], min_loss=config['pois_min_loss'])"
   ],
   "metadata": {
    "collapsed": false,
    "ExecuteTime": {
     "end_time": "2023-06-22T04:16:12.175125844Z",
     "start_time": "2023-06-22T04:07:17.594562573Z"
    }
   }
  },
  {
   "cell_type": "markdown",
   "source": [
    "Generated Poison"
   ],
   "metadata": {
    "collapsed": false
   }
  },
  {
   "cell_type": "code",
   "execution_count": 23,
   "outputs": [
    {
     "data": {
      "text/plain": "<PIL.Image.Image image mode=RGB size=150x150>",
      "image/png": "[encoded data removed]"
     },
     "metadata": {},
     "output_type": "display_data"
    }
   ],
   "source": [
    "Image.fromarray(cv2.resize(np.uint8(poison[2]*255), (150,150))).show()"
   ],
   "metadata": {
    "collapsed": false,
    "ExecuteTime": {
     "end_time": "2023-06-22T04:16:12.175601849Z",
     "start_time": "2023-06-22T04:16:12.150874804Z"
    }
   }
  },
  {
   "cell_type": "markdown",
   "source": [
    "The corresponding target"
   ],
   "metadata": {
    "collapsed": false
   }
  },
  {
   "cell_type": "code",
   "execution_count": 24,
   "outputs": [
    {
     "data": {
      "text/plain": "<PIL.Image.Image image mode=RGB size=150x150>",
      "image/png": "[encoded data removed]"
     },
     "metadata": {},
     "output_type": "display_data"
    }
   ],
   "source": [
    "Image.fromarray(cv2.resize(np.uint8(hb.target_images[2]*255), (150,150))).show()"
   ],
   "metadata": {
    "collapsed": false,
    "ExecuteTime": {
     "end_time": "2023-06-22T04:16:12.214958853Z",
     "start_time": "2023-06-22T04:16:12.178635270Z"
    }
   }
  },
  {
   "cell_type": "markdown",
   "source": [
    "The stamped (triggered) source"
   ],
   "metadata": {
    "collapsed": false
   }
  },
  {
   "cell_type": "code",
   "execution_count": 25,
   "outputs": [
    {
     "data": {
      "text/plain": "<PIL.Image.Image image mode=RGB size=150x150>",
      "image/png": "[encoded data removed]"
     },
     "metadata": {},
     "output_type": "display_data"
    }
   ],
   "source": [
    "Image.fromarray(cv2.resize(np.uint8(hb.patched_source_images[2]*255), (150,150))).show()"
   ],
   "metadata": {
    "collapsed": false,
    "ExecuteTime": {
     "end_time": "2023-06-22T04:16:12.215203012Z",
     "start_time": "2023-06-22T04:16:12.203371904Z"
    }
   }
  },
  {
   "cell_type": "markdown",
   "source": [
    "# New Model"
   ],
   "metadata": {
    "collapsed": false
   }
  },
  {
   "cell_type": "code",
   "execution_count": 43,
   "outputs": [],
   "source": [
    "class TransferModel(nn.Module):\n",
    "    def __init__(self, base_model, layer_name: str):\n",
    "        super().__init__()\n",
    "        self.layer_name = layer_name\n",
    "        self.base_model = base_model\n",
    "        self.classifier = nn.Linear(in_features=384, out_features=2)\n",
    "    def forward(self, x):\n",
    "        out = self.base_model(x)[self.layer_name].squeeze()\n",
    "        out = self.classifier(out)\n",
    "        return out"
   ],
   "metadata": {
    "collapsed": false,
    "ExecuteTime": {
     "end_time": "2023-06-22T04:31:45.509623156Z",
     "start_time": "2023-06-22T04:31:45.457753056Z"
    }
   }
  },
  {
   "cell_type": "code",
   "execution_count": 46,
   "outputs": [],
   "source": [
    "transfer_model = TransferModel(feature_ext, config['feature_layer']).to(device)"
   ],
   "metadata": {
    "collapsed": false,
    "ExecuteTime": {
     "end_time": "2023-06-22T04:32:06.912547531Z",
     "start_time": "2023-06-22T04:32:06.816247972Z"
    }
   }
  },
  {
   "cell_type": "code",
   "execution_count": 47,
   "outputs": [
    {
     "data": {
      "text/plain": "torch.Size([5, 2])"
     },
     "execution_count": 47,
     "metadata": {},
     "output_type": "execute_result"
    }
   ],
   "source": [
    "transfer_model(torch.Tensor(poison[:5].transpose(0, 3, 1, 2)).to(device)).shape"
   ],
   "metadata": {
    "collapsed": false,
    "ExecuteTime": {
     "end_time": "2023-06-22T04:32:07.510499853Z",
     "start_time": "2023-06-22T04:32:07.432887565Z"
    }
   }
  },
  {
   "cell_type": "markdown",
   "source": [
    "# Fine-tuning Dataset"
   ],
   "metadata": {
    "collapsed": false
   }
  },
  {
   "cell_type": "code",
   "execution_count": 48,
   "outputs": [],
   "source": [
    "finetune_ids = []\n",
    "for idx, _y in enumerate(data_y):\n",
    "    if _y in {4, 5}:\n",
    "        finetune_ids.append(idx)"
   ],
   "metadata": {
    "collapsed": false,
    "ExecuteTime": {
     "end_time": "2023-06-22T04:37:25.732431159Z",
     "start_time": "2023-06-22T04:37:25.562542539Z"
    }
   }
  },
  {
   "cell_type": "code",
   "execution_count": 49,
   "outputs": [
    {
     "data": {
      "text/plain": "[2, 14, 23, 28, 48, 63, 66, 69, 82, 83]"
     },
     "execution_count": 49,
     "metadata": {},
     "output_type": "execute_result"
    }
   ],
   "source": [
    "finetune_ids[:10]"
   ],
   "metadata": {
    "collapsed": false,
    "ExecuteTime": {
     "end_time": "2023-06-22T04:37:41.162614347Z",
     "start_time": "2023-06-22T04:37:41.072144036Z"
    }
   }
  },
  {
   "cell_type": "code",
   "execution_count": 63,
   "outputs": [],
   "source": [
    "ft_x = data_x[finetune_ids].transpose(0, 3, 1, 2)\n",
    "ft_y = np.array(data_y)[finetune_ids]\n",
    "ft_x = np.concatenate((ft_x, poison.transpose(0, 3, 1, 2)), axis=0)\n",
    "ft_y = np.concatenate((ft_y,\n",
    "                       np.array([config['pois_target_class'] for i in range(config['num_poisons'])])), axis=0)"
   ],
   "metadata": {
    "collapsed": false,
    "ExecuteTime": {
     "end_time": "2023-06-22T04:48:02.201375966Z",
     "start_time": "2023-06-22T04:48:02.064052711Z"
    }
   }
  },
  {
   "cell_type": "code",
   "execution_count": 64,
   "outputs": [
    {
     "data": {
      "text/plain": "(1100,)"
     },
     "execution_count": 64,
     "metadata": {},
     "output_type": "execute_result"
    }
   ],
   "source": [
    "ft_y.shape"
   ],
   "metadata": {
    "collapsed": false,
    "ExecuteTime": {
     "end_time": "2023-06-22T04:48:04.728218198Z",
     "start_time": "2023-06-22T04:48:04.600759433Z"
    }
   }
  },
  {
   "cell_type": "code",
   "execution_count": 61,
   "outputs": [
    {
     "data": {
      "text/plain": "(1100, 3, 32, 32)"
     },
     "execution_count": 61,
     "metadata": {},
     "output_type": "execute_result"
    }
   ],
   "source": [
    "ft_x.shape"
   ],
   "metadata": {
    "collapsed": false,
    "ExecuteTime": {
     "end_time": "2023-06-22T04:45:33.053506369Z",
     "start_time": "2023-06-22T04:45:32.921848015Z"
    }
   }
  },
  {
   "cell_type": "code",
   "execution_count": 62,
   "outputs": [
    {
     "data": {
      "text/plain": "tensor([[   5.9793,  151.5406],\n        [ 135.2336,   65.4918],\n        [ 265.6915, -132.4451],\n        [  72.6252,  -11.7670],\n        [ 117.4621,  -44.0838]], device='cuda:0', grad_fn=<AddmmBackward0>)"
     },
     "execution_count": 62,
     "metadata": {},
     "output_type": "execute_result"
    }
   ],
   "source": [
    "transfer_model(torch.Tensor(ft_x[:5]).to(device))"
   ],
   "metadata": {
    "collapsed": false,
    "ExecuteTime": {
     "end_time": "2023-06-22T04:45:36.759075948Z",
     "start_time": "2023-06-22T04:45:36.583849761Z"
    }
   }
  },
  {
   "cell_type": "code",
   "execution_count": null,
   "outputs": [],
   "source": [],
   "metadata": {
    "collapsed": false
   }
  }
 ],
 "metadata": {
  "kernelspec": {
   "display_name": "Python 3",
   "language": "python",
   "name": "python3"
  },
  "language_info": {
   "codemirror_mode": {
    "name": "ipython",
    "version": 2
   },
   "file_extension": ".py",
   "mimetype": "text/x-python",
   "name": "python",
   "nbconvert_exporter": "python",
   "pygments_lexer": "ipython2",
   "version": "2.7.6"
  }
 },
 "nbformat": 4,
 "nbformat_minor": 0
}
