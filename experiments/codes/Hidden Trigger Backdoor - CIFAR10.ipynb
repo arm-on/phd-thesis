{
 "cells": [
  {
   "cell_type": "markdown",
   "metadata": {},
   "source": [
    "# Libraries"
   ]
  },
  {
   "cell_type": "code",
   "execution_count": 9,
   "metadata": {},
   "outputs": [],
   "source": [
    "import os, sys\n",
    "from os.path import abspath\n",
    "import numpy as np\n",
    "from art.utils import load_dataset\n",
    "from art.estimators.classification import PyTorchClassifier\n",
    "import torchvision.datasets as datasets\n",
    "import torch\n",
    "import torch.nn as nn\n",
    "import torch.optim as optim\n",
    "from torchvision import transforms\n",
    "from art.attacks.poisoning.backdoor_attack import PoisoningAttackBackdoor\n",
    "from art.attacks.poisoning import perturbations\n",
    "from art.attacks.poisoning import HiddenTriggerBackdoor\n",
    "import pickle\n",
    "from torchvision import models\n",
    "from torch.utils.data import Subset"
   ]
  },
  {
   "cell_type": "markdown",
   "metadata": {},
   "source": [
    "# Config"
   ]
  },
  {
   "cell_type": "code",
   "execution_count": 18,
   "metadata": {},
   "outputs": [
    {
     "data": {
      "text/plain": [
       "<torch._C.Generator at 0x7fbb2d309370>"
      ]
     },
     "execution_count": 18,
     "metadata": {},
     "output_type": "execute_result"
    }
   ],
   "source": [
    "config = {\n",
    "    'learning_rate':0.01,\n",
    "    'momentum':0.9,\n",
    "    'weight_decay':2e-4,\n",
    "    'min_':0.0,\n",
    "    'max_':1.0,\n",
    "    'num_classes':10,\n",
    "    'batch_size':128,\n",
    "    'ft_batch_size':25,\n",
    "    'ft_learning_rate':0.5,\n",
    "    'poison_percent':.01,\n",
    "    'epsilon':16/255,\n",
    "    'model_path':'tmp.pth',\n",
    "    'backdoor_pic_path':'/home/user01/htbd.png',\n",
    "    'ft_dataset_size':2500,\n",
    "    'feature_layer':6\n",
    "}\n",
    "np.random.seed(50)\n",
    "torch.random.manual_seed(50)"
   ]
  },
  {
   "cell_type": "markdown",
   "metadata": {},
   "source": [
    "# Dataset"
   ]
  },
  {
   "cell_type": "code",
   "execution_count": 11,
   "metadata": {},
   "outputs": [],
   "source": [
    "transform_train = transforms.Compose([\n",
    "    transforms.RandomCrop(32, padding=4),\n",
    "    transforms.RandomHorizontalFlip(),\n",
    "    transforms.ToTensor(),\n",
    "    transforms.Normalize((0.4914, 0.4822, 0.4465), (0.2023, 0.1994, 0.2010)),\n",
    "])\n",
    "transform_test = transforms.Compose([\n",
    "    transforms.ToTensor(),\n",
    "    transforms.Normalize((0.4914, 0.4822, 0.4465), (0.2023, 0.1994, 0.2010)),\n",
    "])\n",
    "class_nums = {i for i in range(config['num_classes'])}\n",
    "cifar10_trainset = datasets.CIFAR10(root='/home/user01/cifar10/train/', train=True,\n",
    "                                    download=False, transform=transform_train)\n",
    "train_subset_idxs = [idx for idx, label in enumerate(cifar10_trainset.targets) if label in class_nums]\n",
    "trainloader = torch.utils.data.DataLoader(\n",
    "    Subset(cifar10_trainset, train_subset_idxs), batch_size=config['batch_size'], shuffle=True, num_workers=7)\n",
    "cifar10_testset = datasets.CIFAR10(root='/home/user01/cifar10/test/', train=False,\n",
    "                                   download=False, transform=transform_test)\n",
    "test_subset_idxs = [idx for idx, label in enumerate(cifar10_testset.targets) if label in class_nums]\n",
    "testloader = torch.utils.data.DataLoader(\n",
    "    Subset(cifar10_testset, test_subset_idxs), batch_size=config['batch_size'], shuffle=False, num_workers=7)"
   ]
  },
  {
   "cell_type": "markdown",
   "metadata": {},
   "source": [
    "# Model Definition"
   ]
  },
  {
   "cell_type": "code",
   "execution_count": 12,
   "metadata": {},
   "outputs": [],
   "source": [
    "num_classes=config['num_classes']\n",
    "model = torch.load('cifar100.pth')\n",
    "model.fc = torch.nn.Linear(in_features=512,out_features=10,bias=True)"
   ]
  },
  {
   "cell_type": "markdown",
   "metadata": {},
   "source": [
    "# Model Training"
   ]
  },
  {
   "cell_type": "code",
   "execution_count": 20,
   "metadata": {},
   "outputs": [],
   "source": [
    "# Define the ART Estimator\n",
    "criterion = nn.CrossEntropyLoss()\n",
    "optimizer = optim.SGD(model.parameters(), lr=config['learning_rate'],\n",
    "                      momentum=config['momentum'], weight_decay=config['weight_decay'])\n",
    "classifier = PyTorchClassifier(\n",
    "    model=model,\n",
    "    clip_values=(config['min_'], config['max_']),\n",
    "    loss=criterion,\n",
    "    optimizer=optimizer,\n",
    "    input_shape=(3, 32, 32),\n",
    "    nb_classes=config['num_classes'],\n",
    "    preprocessing=((0.4914, 0.4822, 0.4465), (0.2023, 0.1994, 0.2010))\n",
    ")"
   ]
  },
  {
   "cell_type": "markdown",
   "metadata": {},
   "source": [
    "# Hidden Backdoor Attack"
   ]
  },
  {
   "cell_type": "code",
   "execution_count": 21,
   "metadata": {},
   "outputs": [],
   "source": [
    "# Backdoor Trigger Parameters\n",
    "patch_size = 8\n",
    "x_shift = 32 - patch_size - 5\n",
    "y_shift = 32 - patch_size - 5"
   ]
  },
  {
   "cell_type": "code",
   "execution_count": 22,
   "metadata": {},
   "outputs": [],
   "source": [
    "# Define the backdoor poisoning object. Calling backdoor.poison(x) will insert the trigger into x.\n",
    "\n",
    "def mod(x):\n",
    "    original_dtype = x.dtype\n",
    "    x = perturbations.insert_image(x, backdoor_path=config['backdoor_pic_path'],\n",
    "                                   channels_first=True, random=False, x_shift=x_shift, y_shift=y_shift,\n",
    "                                   size=(patch_size,patch_size), mode='RGB', blend=1)\n",
    "    return x.astype(original_dtype)\n",
    "backdoor = PoisoningAttackBackdoor(mod)"
   ]
  },
  {
   "cell_type": "markdown",
   "metadata": {},
   "source": [
    "Generating the poisons"
   ]
  },
  {
   "cell_type": "code",
   "execution_count": 17,
   "metadata": {},
   "outputs": [
    {
     "name": "stdout",
     "output_type": "stream",
     "text": [
      "0\n",
      "conv1\n",
      "-----------\n",
      "1\n",
      "bn1\n",
      "-----------\n",
      "2\n",
      "relu\n",
      "-----------\n",
      "3\n",
      "maxpool\n",
      "-----------\n",
      "4\n",
      "layer1\n",
      "-----------\n",
      "5\n",
      "layer2\n",
      "-----------\n",
      "6\n",
      "layer3\n",
      "-----------\n",
      "7\n",
      "layer4\n",
      "-----------\n",
      "8\n",
      "avgpool\n",
      "-----------\n",
      "9\n",
      "fc\n",
      "-----------\n"
     ]
    }
   ],
   "source": [
    "for idx, (name, _) in enumerate(model.named_children()):\n",
    "    print(idx)\n",
    "    print(name)\n",
    "    print('-----------')"
   ]
  },
  {
   "cell_type": "code",
   "execution_count": 23,
   "metadata": {},
   "outputs": [],
   "source": [
    "target = np.array([0,0,0,0,1,0,0,0,0,0])\n",
    "source = np.array([0,0,0,1,0,0,0,0,0,0])\n",
    "\n",
    "poison_attack = HiddenTriggerBackdoor(classifier, eps=config['epsilon'], target=target, source=source, feature_layer=config['feature_layer'], backdoor=backdoor, decay_coeff = .95, decay_iter = 2000, max_iter=5000, batch_size=config['ft_batch_size'], poison_percent=config['poison_percent'])"
   ]
  },
  {
   "cell_type": "code",
   "execution_count": 27,
   "metadata": {},
   "outputs": [],
   "source": [
    "y_test = np.array([[0 if i!=item else 1 for i in range(10)] for item in cifar10_trainset.targets])"
   ]
  },
  {
   "cell_type": "code",
   "execution_count": 28,
   "metadata": {},
   "outputs": [
    {
     "data": {
      "application/vnd.jupyter.widget-view+json": {
       "model_id": "455db05419dc4c7198bb5c87f48c70ec",
       "version_major": 2,
       "version_minor": 0
      },
      "text/plain": [
       "Hidden Trigger:   0%|          | 0/2 [00:00<?, ?it/s]"
      ]
     },
     "metadata": {},
     "output_type": "display_data"
    },
    {
     "ename": "ValueError",
     "evalue": "Backdoor does not fit inside original image",
     "output_type": "error",
     "traceback": [
      "\u001b[0;31m---------------------------------------------------------------------------\u001b[0m",
      "\u001b[0;31mValueError\u001b[0m                                Traceback (most recent call last)",
      "\u001b[0;32m/tmp/ipykernel_3858956/841892729.py\u001b[0m in \u001b[0;36m<module>\u001b[0;34m\u001b[0m\n\u001b[0;32m----> 1\u001b[0;31m \u001b[0mpoison_data\u001b[0m\u001b[0;34m,\u001b[0m \u001b[0mpoison_indices\u001b[0m \u001b[0;34m=\u001b[0m \u001b[0mpoison_attack\u001b[0m\u001b[0;34m.\u001b[0m\u001b[0mpoison\u001b[0m\u001b[0;34m(\u001b[0m\u001b[0mcifar10_trainset\u001b[0m\u001b[0;34m.\u001b[0m\u001b[0mdata\u001b[0m\u001b[0;34m,\u001b[0m \u001b[0my_test\u001b[0m\u001b[0;34m)\u001b[0m\u001b[0;34m\u001b[0m\u001b[0;34m\u001b[0m\u001b[0m\n\u001b[0m\u001b[1;32m      2\u001b[0m \u001b[0mprint\u001b[0m\u001b[0;34m(\u001b[0m\u001b[0;34m\"Number of poison samples generated:\"\u001b[0m\u001b[0;34m,\u001b[0m \u001b[0mlen\u001b[0m\u001b[0;34m(\u001b[0m\u001b[0mpoison_data\u001b[0m\u001b[0;34m)\u001b[0m\u001b[0;34m)\u001b[0m\u001b[0;34m\u001b[0m\u001b[0;34m\u001b[0m\u001b[0m\n",
      "\u001b[0;32m~/anaconda3/lib/python3.9/site-packages/art/attacks/poisoning/hidden_trigger_backdoor/hidden_trigger_backdoor.py\u001b[0m in \u001b[0;36mpoison\u001b[0;34m(self, x, y, **kwargs)\u001b[0m\n\u001b[1;32m    196\u001b[0m         \"\"\"\n\u001b[1;32m    197\u001b[0m \u001b[0;34m\u001b[0m\u001b[0m\n\u001b[0;32m--> 198\u001b[0;31m         \u001b[0;32mreturn\u001b[0m \u001b[0mself\u001b[0m\u001b[0;34m.\u001b[0m\u001b[0m_attack\u001b[0m\u001b[0;34m.\u001b[0m\u001b[0mpoison\u001b[0m\u001b[0;34m(\u001b[0m\u001b[0mx\u001b[0m\u001b[0;34m,\u001b[0m \u001b[0my\u001b[0m\u001b[0;34m,\u001b[0m \u001b[0;34m**\u001b[0m\u001b[0mkwargs\u001b[0m\u001b[0;34m)\u001b[0m\u001b[0;34m\u001b[0m\u001b[0;34m\u001b[0m\u001b[0m\n\u001b[0m\u001b[1;32m    199\u001b[0m \u001b[0;34m\u001b[0m\u001b[0m\n\u001b[1;32m    200\u001b[0m     \u001b[0;32mdef\u001b[0m \u001b[0m_check_params\u001b[0m\u001b[0;34m(\u001b[0m\u001b[0mself\u001b[0m\u001b[0;34m)\u001b[0m \u001b[0;34m->\u001b[0m \u001b[0;32mNone\u001b[0m\u001b[0;34m:\u001b[0m\u001b[0;34m\u001b[0m\u001b[0;34m\u001b[0m\u001b[0m\n",
      "\u001b[0;32m~/anaconda3/lib/python3.9/site-packages/art/attacks/poisoning/hidden_trigger_backdoor/hidden_trigger_backdoor_pytorch.py\u001b[0m in \u001b[0;36mpoison\u001b[0;34m(self, x, y, **kwargs)\u001b[0m\n\u001b[1;32m    215\u001b[0m \u001b[0;34m\u001b[0m\u001b[0m\n\u001b[1;32m    216\u001b[0m             \u001b[0;31m# First, we add the backdoor to the source samples and get the feature representation\u001b[0m\u001b[0;34m\u001b[0m\u001b[0;34m\u001b[0m\u001b[0m\n\u001b[0;32m--> 217\u001b[0;31m             \u001b[0mtrigger_samples\u001b[0m\u001b[0;34m,\u001b[0m \u001b[0m_\u001b[0m \u001b[0;34m=\u001b[0m \u001b[0mself\u001b[0m\u001b[0;34m.\u001b[0m\u001b[0mbackdoor\u001b[0m\u001b[0;34m.\u001b[0m\u001b[0mpoison\u001b[0m\u001b[0;34m(\u001b[0m\u001b[0mdata\u001b[0m\u001b[0;34m[\u001b[0m\u001b[0mtrigger_batch_indices\u001b[0m\u001b[0;34m]\u001b[0m\u001b[0;34m,\u001b[0m \u001b[0mself\u001b[0m\u001b[0;34m.\u001b[0m\u001b[0mtarget\u001b[0m\u001b[0;34m,\u001b[0m \u001b[0mbroadcast\u001b[0m\u001b[0;34m=\u001b[0m\u001b[0;32mTrue\u001b[0m\u001b[0;34m)\u001b[0m\u001b[0;34m\u001b[0m\u001b[0;34m\u001b[0m\u001b[0m\n\u001b[0m\u001b[1;32m    218\u001b[0m             \u001b[0mtrigger_samples\u001b[0m \u001b[0;34m=\u001b[0m \u001b[0mtorch\u001b[0m\u001b[0;34m.\u001b[0m\u001b[0mfrom_numpy\u001b[0m\u001b[0;34m(\u001b[0m\u001b[0mtrigger_samples\u001b[0m\u001b[0;34m)\u001b[0m\u001b[0;34m.\u001b[0m\u001b[0mto\u001b[0m\u001b[0;34m(\u001b[0m\u001b[0mself\u001b[0m\u001b[0;34m.\u001b[0m\u001b[0mestimator\u001b[0m\u001b[0;34m.\u001b[0m\u001b[0mdevice\u001b[0m\u001b[0;34m)\u001b[0m  \u001b[0;31m# type: ignore\u001b[0m\u001b[0;34m\u001b[0m\u001b[0;34m\u001b[0m\u001b[0m\n\u001b[1;32m    219\u001b[0m \u001b[0;34m\u001b[0m\u001b[0m\n",
      "\u001b[0;32m~/anaconda3/lib/python3.9/site-packages/art/attacks/poisoning/backdoor_attack.py\u001b[0m in \u001b[0;36mpoison\u001b[0;34m(self, x, y, broadcast, **kwargs)\u001b[0m\n\u001b[1;32m     79\u001b[0m \u001b[0;34m\u001b[0m\u001b[0m\n\u001b[1;32m     80\u001b[0m         \u001b[0;32mif\u001b[0m \u001b[0mcallable\u001b[0m\u001b[0;34m(\u001b[0m\u001b[0mself\u001b[0m\u001b[0;34m.\u001b[0m\u001b[0mperturbation\u001b[0m\u001b[0;34m)\u001b[0m\u001b[0;34m:\u001b[0m\u001b[0;34m\u001b[0m\u001b[0;34m\u001b[0m\u001b[0m\n\u001b[0;32m---> 81\u001b[0;31m             \u001b[0;32mreturn\u001b[0m \u001b[0mself\u001b[0m\u001b[0;34m.\u001b[0m\u001b[0mperturbation\u001b[0m\u001b[0;34m(\u001b[0m\u001b[0mpoisoned\u001b[0m\u001b[0;34m)\u001b[0m\u001b[0;34m,\u001b[0m \u001b[0my_attack\u001b[0m\u001b[0;34m\u001b[0m\u001b[0;34m\u001b[0m\u001b[0m\n\u001b[0m\u001b[1;32m     82\u001b[0m \u001b[0;34m\u001b[0m\u001b[0m\n\u001b[1;32m     83\u001b[0m         \u001b[0;32mfor\u001b[0m \u001b[0mperturb\u001b[0m \u001b[0;32min\u001b[0m \u001b[0mself\u001b[0m\u001b[0;34m.\u001b[0m\u001b[0mperturbation\u001b[0m\u001b[0;34m:\u001b[0m\u001b[0;34m\u001b[0m\u001b[0;34m\u001b[0m\u001b[0m\n",
      "\u001b[0;32m/tmp/ipykernel_3858956/3134892900.py\u001b[0m in \u001b[0;36mmod\u001b[0;34m(x)\u001b[0m\n\u001b[1;32m      3\u001b[0m \u001b[0;32mdef\u001b[0m \u001b[0mmod\u001b[0m\u001b[0;34m(\u001b[0m\u001b[0mx\u001b[0m\u001b[0;34m)\u001b[0m\u001b[0;34m:\u001b[0m\u001b[0;34m\u001b[0m\u001b[0;34m\u001b[0m\u001b[0m\n\u001b[1;32m      4\u001b[0m     \u001b[0moriginal_dtype\u001b[0m \u001b[0;34m=\u001b[0m \u001b[0mx\u001b[0m\u001b[0;34m.\u001b[0m\u001b[0mdtype\u001b[0m\u001b[0;34m\u001b[0m\u001b[0;34m\u001b[0m\u001b[0m\n\u001b[0;32m----> 5\u001b[0;31m     x = perturbations.insert_image(x, backdoor_path=config['backdoor_pic_path'],\n\u001b[0m\u001b[1;32m      6\u001b[0m                                    \u001b[0mchannels_first\u001b[0m\u001b[0;34m=\u001b[0m\u001b[0;32mTrue\u001b[0m\u001b[0;34m,\u001b[0m \u001b[0mrandom\u001b[0m\u001b[0;34m=\u001b[0m\u001b[0;32mFalse\u001b[0m\u001b[0;34m,\u001b[0m \u001b[0mx_shift\u001b[0m\u001b[0;34m=\u001b[0m\u001b[0mx_shift\u001b[0m\u001b[0;34m,\u001b[0m \u001b[0my_shift\u001b[0m\u001b[0;34m=\u001b[0m\u001b[0my_shift\u001b[0m\u001b[0;34m,\u001b[0m\u001b[0;34m\u001b[0m\u001b[0;34m\u001b[0m\u001b[0m\n\u001b[1;32m      7\u001b[0m                                    size=(patch_size,patch_size), mode='RGB', blend=1)\n",
      "\u001b[0;32m~/anaconda3/lib/python3.9/site-packages/art/attacks/poisoning/perturbations/image_perturbations.py\u001b[0m in \u001b[0;36minsert_image\u001b[0;34m(x, backdoor_path, channels_first, random, x_shift, y_shift, size, mode, blend)\u001b[0m\n\u001b[1;32m    116\u001b[0m     \u001b[0;32mif\u001b[0m \u001b[0mn_dim\u001b[0m \u001b[0;34m==\u001b[0m \u001b[0;36m4\u001b[0m\u001b[0;34m:\u001b[0m\u001b[0;34m\u001b[0m\u001b[0;34m\u001b[0m\u001b[0m\n\u001b[1;32m    117\u001b[0m         return np.array(\n\u001b[0;32m--> 118\u001b[0;31m             [\n\u001b[0m\u001b[1;32m    119\u001b[0m                 \u001b[0minsert_image\u001b[0m\u001b[0;34m(\u001b[0m\u001b[0msingle_img\u001b[0m\u001b[0;34m,\u001b[0m \u001b[0mbackdoor_path\u001b[0m\u001b[0;34m,\u001b[0m \u001b[0mchannels_first\u001b[0m\u001b[0;34m,\u001b[0m \u001b[0mrandom\u001b[0m\u001b[0;34m,\u001b[0m \u001b[0mx_shift\u001b[0m\u001b[0;34m,\u001b[0m \u001b[0my_shift\u001b[0m\u001b[0;34m,\u001b[0m \u001b[0msize\u001b[0m\u001b[0;34m,\u001b[0m \u001b[0mmode\u001b[0m\u001b[0;34m,\u001b[0m \u001b[0mblend\u001b[0m\u001b[0;34m)\u001b[0m\u001b[0;34m\u001b[0m\u001b[0;34m\u001b[0m\u001b[0m\n\u001b[1;32m    120\u001b[0m                 \u001b[0;32mfor\u001b[0m \u001b[0msingle_img\u001b[0m \u001b[0;32min\u001b[0m \u001b[0mx\u001b[0m\u001b[0;34m\u001b[0m\u001b[0;34m\u001b[0m\u001b[0m\n",
      "\u001b[0;32m~/anaconda3/lib/python3.9/site-packages/art/attacks/poisoning/perturbations/image_perturbations.py\u001b[0m in \u001b[0;36m<listcomp>\u001b[0;34m(.0)\u001b[0m\n\u001b[1;32m    117\u001b[0m         return np.array(\n\u001b[1;32m    118\u001b[0m             [\n\u001b[0;32m--> 119\u001b[0;31m                 \u001b[0minsert_image\u001b[0m\u001b[0;34m(\u001b[0m\u001b[0msingle_img\u001b[0m\u001b[0;34m,\u001b[0m \u001b[0mbackdoor_path\u001b[0m\u001b[0;34m,\u001b[0m \u001b[0mchannels_first\u001b[0m\u001b[0;34m,\u001b[0m \u001b[0mrandom\u001b[0m\u001b[0;34m,\u001b[0m \u001b[0mx_shift\u001b[0m\u001b[0;34m,\u001b[0m \u001b[0my_shift\u001b[0m\u001b[0;34m,\u001b[0m \u001b[0msize\u001b[0m\u001b[0;34m,\u001b[0m \u001b[0mmode\u001b[0m\u001b[0;34m,\u001b[0m \u001b[0mblend\u001b[0m\u001b[0;34m)\u001b[0m\u001b[0;34m\u001b[0m\u001b[0;34m\u001b[0m\u001b[0m\n\u001b[0m\u001b[1;32m    120\u001b[0m                 \u001b[0;32mfor\u001b[0m \u001b[0msingle_img\u001b[0m \u001b[0;32min\u001b[0m \u001b[0mx\u001b[0m\u001b[0;34m\u001b[0m\u001b[0;34m\u001b[0m\u001b[0m\n\u001b[1;32m    121\u001b[0m             ]\n",
      "\u001b[0;32m~/anaconda3/lib/python3.9/site-packages/art/attacks/poisoning/perturbations/image_perturbations.py\u001b[0m in \u001b[0;36minsert_image\u001b[0;34m(x, backdoor_path, channels_first, random, x_shift, y_shift, size, mode, blend)\u001b[0m\n\u001b[1;32m    150\u001b[0m \u001b[0;34m\u001b[0m\u001b[0m\n\u001b[1;32m    151\u001b[0m     \u001b[0;32mif\u001b[0m \u001b[0mbackdoor_width\u001b[0m \u001b[0;34m>\u001b[0m \u001b[0mwidth\u001b[0m \u001b[0;32mor\u001b[0m \u001b[0mbackdoor_height\u001b[0m \u001b[0;34m>\u001b[0m \u001b[0mheight\u001b[0m\u001b[0;34m:\u001b[0m\u001b[0;34m\u001b[0m\u001b[0;34m\u001b[0m\u001b[0m\n\u001b[0;32m--> 152\u001b[0;31m         \u001b[0;32mraise\u001b[0m \u001b[0mValueError\u001b[0m\u001b[0;34m(\u001b[0m\u001b[0;34m\"Backdoor does not fit inside original image\"\u001b[0m\u001b[0;34m)\u001b[0m\u001b[0;34m\u001b[0m\u001b[0;34m\u001b[0m\u001b[0m\n\u001b[0m\u001b[1;32m    153\u001b[0m \u001b[0;34m\u001b[0m\u001b[0m\n\u001b[1;32m    154\u001b[0m     \u001b[0;32mif\u001b[0m \u001b[0mrandom\u001b[0m\u001b[0;34m:\u001b[0m\u001b[0;34m\u001b[0m\u001b[0;34m\u001b[0m\u001b[0m\n",
      "\u001b[0;31mValueError\u001b[0m: Backdoor does not fit inside original image"
     ]
    }
   ],
   "source": [
    "poison_data, poison_indices = poison_attack.poison(cifar10_trainset.data, y_test)\n",
    "print(\"Number of poison samples generated:\", len(poison_data))"
   ]
  },
  {
   "cell_type": "code",
   "execution_count": null,
   "metadata": {},
   "outputs": [],
   "source": [
    "poison_data.shape"
   ]
  },
  {
   "cell_type": "code",
   "execution_count": null,
   "metadata": {},
   "outputs": [],
   "source": [
    "poison_indices.shape"
   ]
  },
  {
   "cell_type": "code",
   "execution_count": null,
   "metadata": {},
   "outputs": [],
   "source": [
    "# the set of training samples used to generate poisons\n",
    "# the poisons look like these samples in the pixel space\n",
    "poison_indices"
   ]
  },
  {
   "cell_type": "markdown",
   "metadata": {},
   "source": [
    "# Fine-tuning"
   ]
  },
  {
   "cell_type": "markdown",
   "metadata": {},
   "source": [
    "## Prepare the fine-tuning dataset"
   ]
  },
  {
   "cell_type": "code",
   "execution_count": null,
   "metadata": {},
   "outputs": [],
   "source": [
    "# Create finetuning dataset\n",
    "dataset_size = config['ft_dataset_size']\n",
    "num_classes = config['num_classes']\n",
    "num_per_class = dataset_size/num_classes\n",
    "\n",
    "poison_dataset_inds = []"
   ]
  },
  {
   "cell_type": "code",
   "execution_count": null,
   "metadata": {},
   "outputs": [],
   "source": [
    "# we combine the poisons with some benign samples from all of the classes\n",
    "for i in range(num_classes): # for each class\n",
    "    class_inds = np.where(np.argmax(y_train,axis=1) == i)[0] # find class indices\n",
    "    num_select = int(num_per_class) # number of samples to select from the class\n",
    "    if np.argmax(target) == i: # if current_class == target_class\n",
    "        num_select = int(num_select - len(poison_data)) # for this class, select the remaining\n",
    "        poison_dataset_inds.append(poison_indices) # add the poisons' indices to the final indices we have to choose from\n",
    "    poison_dataset_inds.append(np.random.choice(class_inds, num_select, replace=False))\n",
    "    \n",
    "poison_dataset_inds = np.concatenate(poison_dataset_inds)"
   ]
  },
  {
   "cell_type": "code",
   "execution_count": null,
   "metadata": {},
   "outputs": [],
   "source": [
    "poison_dataset_inds"
   ]
  },
  {
   "cell_type": "code",
   "execution_count": null,
   "metadata": {},
   "outputs": [],
   "source": [
    "len(poison_dataset_inds)"
   ]
  },
  {
   "cell_type": "code",
   "execution_count": null,
   "metadata": {},
   "outputs": [],
   "source": [
    "poison_indices"
   ]
  },
  {
   "cell_type": "code",
   "execution_count": null,
   "metadata": {},
   "outputs": [],
   "source": [
    "list(poison_dataset_inds).index(693)"
   ]
  },
  {
   "cell_type": "code",
   "execution_count": null,
   "metadata": {},
   "outputs": [],
   "source": [
    "poison_dataset_inds[1000:1050]"
   ]
  },
  {
   "cell_type": "code",
   "execution_count": null,
   "metadata": {},
   "outputs": [],
   "source": [
    "num_poisons = len(poison_indices)\n",
    "first_poison_idx = list(poison_dataset_inds).index(poison_indices[0])\n",
    "poison_indices_in_ft = [i for i in range(first_poison_idx, first_poison_idx+num_poisons)]"
   ]
  },
  {
   "cell_type": "code",
   "execution_count": null,
   "metadata": {},
   "outputs": [],
   "source": [
    "poison_indices_in_ft"
   ]
  },
  {
   "cell_type": "code",
   "execution_count": null,
   "metadata": {},
   "outputs": [],
   "source": [
    "# make the poisoned fine-tuning dataset\n",
    "poison_x = np.copy(x_train)\n",
    "\n",
    "# replace samples having 'poison_indices' with their poisoned versions\n",
    "poison_x[poison_indices] = poison_data \n",
    "\n",
    "# from the whole `x_train`, choose the ones we selected in the above cell for fine-tuning\n",
    "poison_x = poison_x[poison_dataset_inds] \n",
    "\n",
    "# from the whole 'y_train', choose the ones we selected in the above cell for fine-tuning\n",
    "poison_y = np.copy(y_train)[poison_dataset_inds] "
   ]
  },
  {
   "cell_type": "markdown",
   "metadata": {},
   "source": [
    "## Loading the Model Again"
   ]
  },
  {
   "cell_type": "code",
   "execution_count": null,
   "metadata": {},
   "outputs": [],
   "source": [
    "# Load model again\n",
    "num_classes=config['num_classes']\n",
    "feature_size=4096\n",
    "model=nn.Sequential(\n",
    "        nn.Conv2d(3, 64, kernel_size=3, stride=2, padding=1),\n",
    "        nn.ReLU(inplace=True),\n",
    "        nn.MaxPool2d(kernel_size=3, stride=2),\n",
    "        nn.Conv2d(64, 192, kernel_size=3, stride=1, padding=1),\n",
    "        nn.ReLU(inplace=True),\n",
    "        nn.MaxPool2d(kernel_size=3, stride=2),\n",
    "        nn.Conv2d(192, 384, kernel_size=3, stride=1, padding=1),\n",
    "        nn.ReLU(inplace=True),\n",
    "        nn.Conv2d(384, 256, kernel_size=3, stride=1, padding=1),\n",
    "        nn.ReLU(inplace=True),\n",
    "        nn.Conv2d(256, 256, kernel_size=3, stride=1, padding=1),\n",
    "        nn.ReLU(inplace=True),\n",
    "        nn.MaxPool2d(kernel_size=3, stride=2),\n",
    "        nn.Flatten(),\n",
    "        nn.Dropout(),\n",
    "        nn.Linear(256 * 1 * 1, 4096),\n",
    "        nn.ReLU(inplace=True),\n",
    "        nn.Dropout(),\n",
    "        nn.Linear(4096, feature_size),\n",
    "        nn.ReLU(inplace=True),\n",
    "        nn.Linear(feature_size, num_classes)\n",
    ")\n",
    "model.load_state_dict(torch.load(config['model_path']))"
   ]
  },
  {
   "cell_type": "markdown",
   "metadata": {},
   "source": [
    "## Freeze the layers up to the last layer"
   ]
  },
  {
   "cell_type": "code",
   "execution_count": null,
   "metadata": {},
   "outputs": [],
   "source": [
    "for i, param in enumerate(model.parameters()):\n",
    "    param.requires_grad = False"
   ]
  },
  {
   "cell_type": "markdown",
   "metadata": {},
   "source": [
    "## Preparation for fine-tuning"
   ]
  },
  {
   "cell_type": "code",
   "execution_count": null,
   "metadata": {},
   "outputs": [],
   "source": [
    "num_classes=config['num_classes']\n",
    "feature_size=4096\n",
    "\n",
    "# replace the last layer\n",
    "model[20] = nn.Linear(feature_size, num_classes)\n",
    "\n",
    "\n",
    "criterion = nn.CrossEntropyLoss()\n",
    "optimizer = optim.SGD(model.parameters(), lr=config['ft_learning_rate'],\n",
    "                      momentum=config['momentum'],\n",
    "                      weight_decay=config['weight_decay'])\n",
    "\n",
    "classifier = PyTorchClassifier(\n",
    "    model=model,\n",
    "    clip_values=(min_, max_),\n",
    "    loss=criterion,\n",
    "    optimizer=optimizer,\n",
    "    input_shape=(3, 32, 32),\n",
    "    nb_classes=config['num_classes'],\n",
    "    preprocessing=(mean, std)\n",
    ")"
   ]
  },
  {
   "cell_type": "markdown",
   "metadata": {},
   "source": [
    "# Final Evaluation "
   ]
  },
  {
   "cell_type": "code",
   "execution_count": null,
   "metadata": {},
   "outputs": [],
   "source": [
    "# get the indices of the test samples belonging to the source class\n",
    "# these samples will be stamped with the trigger\n",
    "# note: source+trigger = target\n",
    "trigger_test_inds = np.where(np.all(y_test == source, axis=1))[0] \n",
    "\n",
    "lr_factor = .1\n",
    "lr_schedule = [5, 10, 15]\n",
    "\n",
    "# generate poisoned test samples (source+triggers where triggers can be seen!)\n",
    "test_poisoned_samples, test_poisoned_labels  = backdoor.poison(x_test[trigger_test_inds],\n",
    "                                                               y_test[trigger_test_inds])\n",
    "\n",
    "# fine-tune for 20 epochs, after each 5 epochs, report the evaluation results\n",
    "for i in range(4):\n",
    "    print(\"Training Epoch\", i*5)\n",
    "    predictions = classifier.predict(x_test)\n",
    "    accuracy = np.sum(np.argmax(predictions, axis=1) == np.argmax(y_test, axis=1)) / len(y_test)\n",
    "    print(\"Accuracy on benign test examples: {}%\".format(accuracy * 100))\n",
    "    \n",
    "    predictions = classifier.predict(x_test[trigger_test_inds])\n",
    "    b_accuracy = np.sum(np.argmax(predictions, axis=1) == np.argmax(y_test[trigger_test_inds], axis=1)) / len(trigger_test_inds)\n",
    "    print(\"Accuracy on benign trigger test examples: {}%\".format(b_accuracy * 100))\n",
    "    \n",
    "    predictions = classifier.predict(test_poisoned_samples)\n",
    "    p_accuracy = np.sum(np.argmax(predictions, axis=1) == np.argmax(test_poisoned_labels,axis=1)) / len(test_poisoned_labels)\n",
    "    print(\"Accuracy on poison trigger test examples: {}%\".format(p_accuracy * 100))\n",
    "    p_success = np.sum(np.argmax(predictions, axis=1) == np.argmax(target)) / len(test_poisoned_labels)\n",
    "    print(\"Success on poison trigger test examples: {}%\".format(p_success * 100))\n",
    "    print()\n",
    "    if i != 0:\n",
    "        # for all epochs expect the first one,\n",
    "        # lower the learning rate by multiplying it by .1\n",
    "        for param_group in classifier.optimizer.param_groups:\n",
    "            param_group[\"lr\"] *= lr_factor\n",
    "    classifier.fit(poison_x, poison_y, epochs=5, training_mode=False)"
   ]
  },
  {
   "cell_type": "code",
   "execution_count": null,
   "metadata": {},
   "outputs": [],
   "source": [
    "# print the final evaluation results\n",
    "print(\"Final Performance\")\n",
    "predictions = classifier.predict(x_test)\n",
    "accuracy = np.sum(np.argmax(predictions, axis=1) == np.argmax(y_test, axis=1)) / len(y_test)\n",
    "print(\"Accuracy on benign test examples: {}%\".format(accuracy * 100))\n",
    "\n",
    "predictions = classifier.predict(x_test[trigger_test_inds])\n",
    "b_accuracy = np.sum(np.argmax(predictions, axis=1) == np.argmax(y_test[trigger_test_inds], axis=1)) / len(trigger_test_inds)\n",
    "print(\"Accuracy on benign trigger test examples: {}%\".format(b_accuracy * 100))\n",
    "\n",
    "predictions = classifier.predict(test_poisoned_samples)\n",
    "p_accuracy = np.sum(np.argmax(predictions, axis=1) == np.argmax(y_test[trigger_test_inds],axis=1)) / len(trigger_test_inds)\n",
    "print(\"Accuracy on poison trigger test examples: {}%\".format(p_accuracy * 100))\n",
    "p_success = np.sum(np.argmax(predictions, axis=1) == np.argmax(target)) / len(trigger_test_inds)\n",
    "print(\"Success on poison trigger test examples: {}%\".format(p_success * 100))"
   ]
  }
 ],
 "metadata": {
  "kernelspec": {
   "display_name": "Python 3 (ipykernel)",
   "language": "python",
   "name": "python3"
  },
  "language_info": {
   "codemirror_mode": {
    "name": "ipython",
    "version": 3
   },
   "file_extension": ".py",
   "mimetype": "text/x-python",
   "name": "python",
   "nbconvert_exporter": "python",
   "pygments_lexer": "ipython3",
   "version": "3.9.13"
  }
 },
 "nbformat": 4,
 "nbformat_minor": 2
}
